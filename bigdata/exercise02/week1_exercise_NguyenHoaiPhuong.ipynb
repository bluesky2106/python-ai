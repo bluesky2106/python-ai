{
  "nbformat": 4,
  "nbformat_minor": 0,
  "metadata": {
    "colab": {
      "name": "week1-exercise_NguyenHoaiPhuong.ipynb",
      "provenance": [],
      "collapsed_sections": []
    },
    "kernelspec": {
      "name": "python3",
      "display_name": "Python 3"
    },
    "language_info": {
      "name": "python"
    }
  },
  "cells": [
    {
      "cell_type": "markdown",
      "metadata": {
        "id": "Hv7qWVkz6THJ"
      },
      "source": [
        "1) Using `bash` to clone the file `cat_to_name.json` from [here](https://github.com/udacity/pytorch_challenge/raw/master/cat_to_name.json) , check if it exists and print out content of this file in the notebook"
      ]
    },
    {
      "cell_type": "code",
      "metadata": {
        "id": "vk2hiRg264VU",
        "colab": {
          "base_uri": "https://localhost:8080/"
        },
        "outputId": "6c54d7a8-1f91-4eb8-f5c4-05292a92a5e0"
      },
      "source": [
        "from google.colab import drive\n",
        "drive.mount('/content/drive')"
      ],
      "execution_count": 1,
      "outputs": [
        {
          "output_type": "stream",
          "text": [
            "Mounted at /content/drive\n"
          ],
          "name": "stdout"
        }
      ]
    },
    {
      "cell_type": "code",
      "metadata": {
        "colab": {
          "base_uri": "https://localhost:8080/"
        },
        "id": "1EjzWWxxXCYO",
        "outputId": "a0ffb607-bd3e-44c7-ecd2-20258625f149"
      },
      "source": [
        "!wget https://github.com/udacity/pytorch_challenge/raw/master/cat_to_name.json\n",
        "!ls"
      ],
      "execution_count": 2,
      "outputs": [
        {
          "output_type": "stream",
          "text": [
            "--2021-08-12 12:36:36--  https://github.com/udacity/pytorch_challenge/raw/master/cat_to_name.json\n",
            "Resolving github.com (github.com)... 140.82.121.4\n",
            "Connecting to github.com (github.com)|140.82.121.4|:443... connected.\n",
            "HTTP request sent, awaiting response... 302 Found\n",
            "Location: https://raw.githubusercontent.com/udacity/pytorch_challenge/master/cat_to_name.json [following]\n",
            "--2021-08-12 12:36:36--  https://raw.githubusercontent.com/udacity/pytorch_challenge/master/cat_to_name.json\n",
            "Resolving raw.githubusercontent.com (raw.githubusercontent.com)... 185.199.108.133, 185.199.109.133, 185.199.110.133, ...\n",
            "Connecting to raw.githubusercontent.com (raw.githubusercontent.com)|185.199.108.133|:443... connected.\n",
            "HTTP request sent, awaiting response... 200 OK\n",
            "Length: 2218 (2.2K) [text/plain]\n",
            "Saving to: ‘cat_to_name.json’\n",
            "\n",
            "cat_to_name.json    100%[===================>]   2.17K  --.-KB/s    in 0s      \n",
            "\n",
            "2021-08-12 12:36:36 (30.0 MB/s) - ‘cat_to_name.json’ saved [2218/2218]\n",
            "\n",
            "cat_to_name.json  drive  sample_data\n"
          ],
          "name": "stdout"
        }
      ]
    },
    {
      "cell_type": "code",
      "metadata": {
        "colab": {
          "base_uri": "https://localhost:8080/"
        },
        "id": "btcu9wW_XZXT",
        "outputId": "9046cdbf-0c92-4c1c-c364-e8d17c70c278"
      },
      "source": [
        "!cat cat_to_name.json"
      ],
      "execution_count": 3,
      "outputs": [
        {
          "output_type": "stream",
          "text": [
            "{\"21\": \"fire lily\", \"3\": \"canterbury bells\", \"45\": \"bolero deep blue\", \"1\": \"pink primrose\", \"34\": \"mexican aster\", \"27\": \"prince of wales feathers\", \"7\": \"moon orchid\", \"16\": \"globe-flower\", \"25\": \"grape hyacinth\", \"26\": \"corn poppy\", \"79\": \"toad lily\", \"39\": \"siam tulip\", \"24\": \"red ginger\", \"67\": \"spring crocus\", \"35\": \"alpine sea holly\", \"32\": \"garden phlox\", \"10\": \"globe thistle\", \"6\": \"tiger lily\", \"93\": \"ball moss\", \"33\": \"love in the mist\", \"9\": \"monkshood\", \"102\": \"blackberry lily\", \"14\": \"spear thistle\", \"19\": \"balloon flower\", \"100\": \"blanket flower\", \"13\": \"king protea\", \"49\": \"oxeye daisy\", \"15\": \"yellow iris\", \"61\": \"cautleya spicata\", \"31\": \"carnation\", \"64\": \"silverbush\", \"68\": \"bearded iris\", \"63\": \"black-eyed susan\", \"69\": \"windflower\", \"62\": \"japanese anemone\", \"20\": \"giant white arum lily\", \"38\": \"great masterwort\", \"4\": \"sweet pea\", \"86\": \"tree mallow\", \"101\": \"trumpet creeper\", \"42\": \"daffodil\", \"22\": \"pincushion flower\", \"2\": \"hard-leaved pocket orchid\", \"54\": \"sunflower\", \"66\": \"osteospermum\", \"70\": \"tree poppy\", \"85\": \"desert-rose\", \"99\": \"bromelia\", \"87\": \"magnolia\", \"5\": \"english marigold\", \"92\": \"bee balm\", \"28\": \"stemless gentian\", \"97\": \"mallow\", \"57\": \"gaura\", \"40\": \"lenten rose\", \"47\": \"marigold\", \"59\": \"orange dahlia\", \"48\": \"buttercup\", \"55\": \"pelargonium\", \"36\": \"ruby-lipped cattleya\", \"91\": \"hippeastrum\", \"29\": \"artichoke\", \"71\": \"gazania\", \"90\": \"canna lily\", \"18\": \"peruvian lily\", \"98\": \"mexican petunia\", \"8\": \"bird of paradise\", \"30\": \"sweet william\", \"17\": \"purple coneflower\", \"52\": \"wild pansy\", \"84\": \"columbine\", \"12\": \"colt's foot\", \"11\": \"snapdragon\", \"96\": \"camellia\", \"23\": \"fritillary\", \"50\": \"common dandelion\", \"44\": \"poinsettia\", \"53\": \"primula\", \"72\": \"azalea\", \"65\": \"californian poppy\", \"80\": \"anthurium\", \"76\": \"morning glory\", \"37\": \"cape flower\", \"56\": \"bishop of llandaff\", \"60\": \"pink-yellow dahlia\", \"82\": \"clematis\", \"58\": \"geranium\", \"75\": \"thorn apple\", \"41\": \"barbeton daisy\", \"95\": \"bougainvillea\", \"43\": \"sword lily\", \"83\": \"hibiscus\", \"78\": \"lotus lotus\", \"88\": \"cyclamen\", \"94\": \"foxglove\", \"81\": \"frangipani\", \"74\": \"rose\", \"89\": \"watercress\", \"73\": \"water lily\", \"46\": \"wallflower\", \"77\": \"passion flower\", \"51\": \"petunia\"}"
          ],
          "name": "stdout"
        }
      ]
    },
    {
      "cell_type": "markdown",
      "metadata": {
        "id": "vlb8huNy7Mke"
      },
      "source": [
        "2) Clone the data from [here](https://s3.amazonaws.com/content.udacity-data.com/nd089/flower_data.tar.gz) , then upzip it and remove the original file"
      ]
    },
    {
      "cell_type": "code",
      "metadata": {
        "id": "ptvJK-jo8CMO",
        "colab": {
          "base_uri": "https://localhost:8080/"
        },
        "outputId": "ea7b7ae5-b661-42e5-b5fc-01e105ee0be7"
      },
      "source": [
        "!wget https://s3.amazonaws.com/content.udacity-data.com/nd089/flower_data.tar.gz"
      ],
      "execution_count": 4,
      "outputs": [
        {
          "output_type": "stream",
          "text": [
            "--2021-08-12 12:37:17--  https://s3.amazonaws.com/content.udacity-data.com/nd089/flower_data.tar.gz\n",
            "Resolving s3.amazonaws.com (s3.amazonaws.com)... 52.217.80.78\n",
            "Connecting to s3.amazonaws.com (s3.amazonaws.com)|52.217.80.78|:443... connected.\n",
            "HTTP request sent, awaiting response... 200 OK\n",
            "Length: 344873452 (329M) [application/x-gzip]\n",
            "Saving to: ‘flower_data.tar.gz’\n",
            "\n",
            "flower_data.tar.gz  100%[===================>] 328.90M  32.9MB/s    in 11s     \n",
            "\n",
            "2021-08-12 12:37:29 (29.4 MB/s) - ‘flower_data.tar.gz’ saved [344873452/344873452]\n",
            "\n"
          ],
          "name": "stdout"
        }
      ]
    },
    {
      "cell_type": "code",
      "metadata": {
        "id": "xN33rWY8XfIF"
      },
      "source": [
        "!tar -xzf flower_data.tar.gz"
      ],
      "execution_count": 9,
      "outputs": []
    },
    {
      "cell_type": "code",
      "metadata": {
        "colab": {
          "base_uri": "https://localhost:8080/"
        },
        "id": "gCXOEgR7XkSA",
        "outputId": "d7ffa8ea-3884-4a88-8d06-de3dcf560dca"
      },
      "source": [
        "!ls"
      ],
      "execution_count": 10,
      "outputs": [
        {
          "output_type": "stream",
          "text": [
            "cat_to_name.json  drive  flower_data.tar.gz  sample_data  test\ttrain  valid\n"
          ],
          "name": "stdout"
        }
      ]
    },
    {
      "cell_type": "code",
      "metadata": {
        "id": "jntAbFHDXyMi"
      },
      "source": [
        "!rm flower_data.tar.gz"
      ],
      "execution_count": 11,
      "outputs": []
    },
    {
      "cell_type": "markdown",
      "metadata": {
        "id": "rtkz6LWh8Nc0"
      },
      "source": [
        "3) Create a new folder named `newbie`, copy a file in `sample_data` to `newbie`. Then go to `newbie`, create a folder `next_newbie`, and copy the file in `newbie` to `next_newbie`. Jump into `next_newbie`, remove the file in `newbie`. Stand in `next_newbie`, list out the list of file in detail in `sample_data`"
      ]
    },
    {
      "cell_type": "code",
      "metadata": {
        "id": "iy_93Hdu9NcH"
      },
      "source": [
        "!mkdir newbie\n",
        "!cp sample_data/mnist_test.csv newbie/."
      ],
      "execution_count": 12,
      "outputs": []
    },
    {
      "cell_type": "code",
      "metadata": {
        "colab": {
          "base_uri": "https://localhost:8080/"
        },
        "id": "K3_1-JvYX-tA",
        "outputId": "4ec03c13-8b1c-4a58-a3b0-dbad102cf57b"
      },
      "source": [
        "%cd newbie\n",
        "!mkdir next_newbie\n",
        "!cp mnist_test.csv next_newbie/."
      ],
      "execution_count": 13,
      "outputs": [
        {
          "output_type": "stream",
          "text": [
            "/content/newbie\n"
          ],
          "name": "stdout"
        }
      ]
    },
    {
      "cell_type": "code",
      "metadata": {
        "colab": {
          "base_uri": "https://localhost:8080/"
        },
        "id": "QIr0hS7IYOIV",
        "outputId": "0807363f-368a-482b-dc87-fe3f02162c08"
      },
      "source": [
        "!ls"
      ],
      "execution_count": 14,
      "outputs": [
        {
          "output_type": "stream",
          "text": [
            "mnist_test.csv\tnext_newbie\n"
          ],
          "name": "stdout"
        }
      ]
    },
    {
      "cell_type": "code",
      "metadata": {
        "colab": {
          "base_uri": "https://localhost:8080/"
        },
        "id": "IFsyW3TuYQog",
        "outputId": "aac11b5a-12f4-4fa6-cbae-87732c38b78d"
      },
      "source": [
        "%cd next_newbie\n",
        "!rm ../mnist_test.csv"
      ],
      "execution_count": 15,
      "outputs": [
        {
          "output_type": "stream",
          "text": [
            "/content/newbie/next_newbie\n"
          ],
          "name": "stdout"
        }
      ]
    },
    {
      "cell_type": "code",
      "metadata": {
        "colab": {
          "base_uri": "https://localhost:8080/"
        },
        "id": "YMfhwKIIYUNo",
        "outputId": "713d5503-ae68-433b-f501-a3edfe71ecb4"
      },
      "source": [
        "!ls -lh ../../sample_data"
      ],
      "execution_count": 16,
      "outputs": [
        {
          "output_type": "stream",
          "text": [
            "total 55M\n",
            "-rwxr-xr-x 1 root root 1.7K Jan  1  2000 anscombe.json\n",
            "-rw-r--r-- 1 root root 295K Jul 16 13:20 california_housing_test.csv\n",
            "-rw-r--r-- 1 root root 1.7M Jul 16 13:20 california_housing_train.csv\n",
            "-rw-r--r-- 1 root root  18M Jul 16 13:20 mnist_test.csv\n",
            "-rw-r--r-- 1 root root  35M Jul 16 13:20 mnist_train_small.csv\n",
            "-rwxr-xr-x 1 root root  930 Jan  1  2000 README.md\n"
          ],
          "name": "stdout"
        }
      ]
    },
    {
      "cell_type": "markdown",
      "metadata": {
        "id": "-bKChdhzbgUF"
      },
      "source": [
        "4) Please write a Python function to sort (ascending and descending) a dictionary by key. For example, this below dictionary:\n",
        "```python\n",
        "alphabets = {\n",
        "    5: 'e',\n",
        "    4: 'd',\n",
        "    3: 'c',\n",
        "    2: 'b',\n",
        "    1: 'a',\n",
        "}\n",
        "```"
      ]
    },
    {
      "cell_type": "code",
      "metadata": {
        "id": "MST8InAfbhPe"
      },
      "source": [
        "def sort_dictionary(d, is_descending=False):\n",
        "  return sorted(d.items(), reverse=is_descending)"
      ],
      "execution_count": 23,
      "outputs": []
    },
    {
      "cell_type": "code",
      "metadata": {
        "colab": {
          "base_uri": "https://localhost:8080/"
        },
        "id": "THlvULyCYppn",
        "outputId": "c059ada4-369b-4d9e-da98-fab6e949df4b"
      },
      "source": [
        "alphabets = {\n",
        "    5: 'e',\n",
        "    4: 'd',\n",
        "    3: 'c',\n",
        "    2: 'b',\n",
        "    1: 'a',\n",
        "}\n",
        "\n",
        "asc_res = sort_dictionary(alphabets)\n",
        "print(asc_res)\n",
        "\n",
        "desc_res = sort_dictionary(alphabets, True)\n",
        "print(desc_res)"
      ],
      "execution_count": 24,
      "outputs": [
        {
          "output_type": "stream",
          "text": [
            "[(1, 'a'), (2, 'b'), (3, 'c'), (4, 'd'), (5, 'e')]\n",
            "[(5, 'e'), (4, 'd'), (3, 'c'), (2, 'b'), (1, 'a')]\n"
          ],
          "name": "stdout"
        }
      ]
    },
    {
      "cell_type": "markdown",
      "metadata": {
        "id": "7p6a0bCJeRGW"
      },
      "source": [
        "5) Given $n$ dictionaries, write a Python script to merge them all to a unique dictionary."
      ]
    },
    {
      "cell_type": "code",
      "metadata": {
        "id": "4fQo9fPMbijz"
      },
      "source": [
        "def merge_dictionaries(first, *args):\n",
        "  merge = dict(first)\n",
        "  [merge.update(value) for value in args]\n",
        "  return merge"
      ],
      "execution_count": 28,
      "outputs": []
    },
    {
      "cell_type": "code",
      "metadata": {
        "colab": {
          "base_uri": "https://localhost:8080/"
        },
        "id": "MpPPmv6abGjx",
        "outputId": "504f9684-333c-4518-d5e0-91ba5ebcc70d"
      },
      "source": [
        "first = {'a': 1, 'b': 2}\n",
        "second = {'c': 3, 'd': 4}\n",
        "res = merge_dictionaries(first, second)\n",
        "print(res)"
      ],
      "execution_count": 30,
      "outputs": [
        {
          "output_type": "stream",
          "text": [
            "{'a': 1, 'b': 2, 'c': 3, 'd': 4}\n"
          ],
          "name": "stdout"
        }
      ]
    },
    {
      "cell_type": "markdown",
      "metadata": {
        "id": "OqTInTOde4cb"
      },
      "source": [
        "6) Write a Python fuction to take a dictionary as input to remove duplicates from Dictionary."
      ]
    },
    {
      "cell_type": "code",
      "metadata": {
        "id": "K6qHtzm9e4mv"
      },
      "source": [
        "# Items in a dictionary cannot be duplicated. The keys are unique and there is no way to have 2 identical keys.\n",
        "# Therefore, I will make a function to remove duplicates from a list instead of a dictionary\n",
        "\n",
        "def remove_duplicate(input_list):\n",
        "  found = dict()\n",
        "  for input in input_list:\n",
        "    found[input] = True\n",
        "  return list(found.keys())"
      ],
      "execution_count": 53,
      "outputs": []
    },
    {
      "cell_type": "code",
      "metadata": {
        "colab": {
          "base_uri": "https://localhost:8080/"
        },
        "id": "wIIWzpEx4d5A",
        "outputId": "c3f4eac6-5b86-4dff-9761-63d77826a563"
      },
      "source": [
        "input_list = ['a', 'b', 1, 2, 3, 2, 'b']\n",
        "output_list = remove_duplicate(input_list)\n",
        "print(output_list)"
      ],
      "execution_count": 54,
      "outputs": [
        {
          "output_type": "stream",
          "text": [
            "['a', 'b', 1, 2, 3]\n"
          ],
          "name": "stdout"
        }
      ]
    },
    {
      "cell_type": "markdown",
      "metadata": {
        "id": "8j8C_GrViIht"
      },
      "source": [
        "7) Write a function to perform the Fibonacci series."
      ]
    },
    {
      "cell_type": "code",
      "metadata": {
        "id": "oSFrnugAiIsT"
      },
      "source": [
        "def fibonacci(n):\n",
        "  if n == 0 or n == 1:\n",
        "    return 1\n",
        "  return fibonacci(n - 1) + fibonacci(n-2)"
      ],
      "execution_count": 31,
      "outputs": []
    },
    {
      "cell_type": "code",
      "metadata": {
        "colab": {
          "base_uri": "https://localhost:8080/"
        },
        "id": "YvobRzhicf-9",
        "outputId": "d0433f42-3d72-4590-f1a0-beba2094a527"
      },
      "source": [
        "print(fibonacci(3))\n",
        "print(fibonacci(4))"
      ],
      "execution_count": 33,
      "outputs": [
        {
          "output_type": "stream",
          "text": [
            "3\n",
            "5\n"
          ],
          "name": "stdout"
        }
      ]
    },
    {
      "cell_type": "markdown",
      "metadata": {
        "id": "7kt_eamej9BK"
      },
      "source": [
        "8) Password Generator: Write a function for password generator in Python that can be workable to strong passwords (having a mix of lowercase letters, uppercase letters, numbers, and symbols). The passwords should be as random as possible, generating a new password every time the user asks for a new password."
      ]
    },
    {
      "cell_type": "code",
      "metadata": {
        "id": "4KbvHqwhj9MH"
      },
      "source": [
        "import random\n",
        "\n",
        "def password_generator(length):\n",
        "  '''\n",
        "  Input:\n",
        "    length - the length of the password, but not exceed max_len and greater than 4\n",
        "  Output: password string\n",
        "  '''\n",
        "  max_len = 12\n",
        "  if length > max_len:\n",
        "    length = max_len\n",
        "  if length < 4:\n",
        "    length = 4\n",
        "\n",
        "  digits = ['0', '1', '2', '3', '4', '5', '6', '7', '8', '9']\n",
        "  lowercase_letters = [ 'a', 'b', 'c', 'd', 'e', 'f', 'g', 'h', \n",
        "                        'i', 'j', 'k', 'm', 'n', 'o', 'p', 'q',\n",
        "                        'r', 's', 't', 'u', 'v', 'w', 'x', 'y',\n",
        "                        'z']\n",
        "  uppercase_letters = [ 'A', 'B', 'C', 'D', 'E', 'F', 'G', 'H', \n",
        "                        'I', 'J', 'K', 'M', 'N', 'O', 'p', 'Q',\n",
        "                        'R', 'S', 'T', 'U', 'V', 'W', 'X', 'Y',\n",
        "                        'Z']\n",
        "  symbols = [ '@', '#', '$', '%', '=', ':', '?', '.', '/', '|', '~', '>', \n",
        "              '*', '(', ')', '<']\n",
        "  combined_list = digits + lowercase_letters + uppercase_letters + symbols\n",
        "  rand_digit = random.choice(digits)\n",
        "  rand_upper = random.choice(uppercase_letters)\n",
        "  rand_lower = random.choice(lowercase_letters)\n",
        "  rand_symbol = random.choice(symbols)\n",
        "\n",
        "  temp_pass = rand_digit + rand_upper + rand_lower + rand_symbol\n",
        "  for x in range(length - 4):\n",
        "    temp_pass = temp_pass + random.choice(combined_list)\n",
        "    temp_pass_list = list(temp_pass)\n",
        "    random.shuffle(temp_pass_list)\n",
        "\n",
        "  while temp_pass_list[0] not in lowercase_letters:\n",
        "    random.shuffle(temp_pass_list)\n",
        "\n",
        "  password = \"\"\n",
        "  for x in temp_pass_list:\n",
        "    password = password + x\n",
        "\n",
        "  return password"
      ],
      "execution_count": 44,
      "outputs": []
    },
    {
      "cell_type": "code",
      "metadata": {
        "colab": {
          "base_uri": "https://localhost:8080/"
        },
        "id": "m5M_Lt1A1bD3",
        "outputId": "ebad5c53-6455-47d0-a22f-f830a9838a35"
      },
      "source": [
        "print(password_generator(5))\n",
        "print(password_generator(6))\n",
        "print(password_generator(8))\n",
        "print(password_generator(12))"
      ],
      "execution_count": 45,
      "outputs": [
        {
          "output_type": "stream",
          "text": [
            "sY=2R\n",
            "p9<6FE\n",
            "pyeR6w?9\n",
            "vS|D5ZI4Dq?Z\n"
          ],
          "name": "stdout"
        }
      ]
    },
    {
      "cell_type": "code",
      "metadata": {
        "id": "7u0vyDDS3AlZ"
      },
      "source": [
        ""
      ],
      "execution_count": null,
      "outputs": []
    }
  ]
}