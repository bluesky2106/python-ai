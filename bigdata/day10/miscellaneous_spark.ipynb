{
  "nbformat": 4,
  "nbformat_minor": 0,
  "metadata": {
    "colab": {
      "name": "miscellaneous_spark.ipynb",
      "provenance": [],
      "collapsed_sections": []
    },
    "kernelspec": {
      "name": "python3",
      "display_name": "Python 3"
    },
    "language_info": {
      "name": "python"
    }
  },
  "cells": [
    {
      "cell_type": "markdown",
      "metadata": {
        "id": "G5mV-RU1g08b"
      },
      "source": [
        "# Add python files to Spark cluster\n",
        "\n",
        "The `SparkContext.addPyFiles()` function can be used to add py files. We can define objects and variables in these files and make them available to the Spark cluster."
      ]
    },
    {
      "cell_type": "code",
      "metadata": {
        "id": "HqppemAWgrvZ"
      },
      "source": [
        "!apt-get install openjdk-8-jdk-headless -qq > /dev/null\n",
        "!wget -q http://archive.apache.org/dist/spark/spark-3.1.1/spark-3.1.1-bin-hadoop3.2.tgz\n",
        "!tar xf spark-3.1.1-bin-hadoop3.2.tgz\n",
        "!pip install -q findspark\n",
        "import os\n",
        "os.environ[\"JAVA_HOME\"] = \"/usr/lib/jvm/java-8-openjdk-amd64\"\n",
        "os.environ[\"SPARK_HOME\"] = \"/content/spark-3.1.1-bin-hadoop3.2\"\n",
        "import findspark\n",
        "findspark.init()"
      ],
      "execution_count": null,
      "outputs": []
    },
    {
      "cell_type": "code",
      "metadata": {
        "id": "GuDQGOOxgtqE"
      },
      "source": [
        "from pyspark import SparkConf, SparkContext, SparkFiles\n",
        "from pyspark.sql import SparkSession\n",
        "\n",
        "sc = SparkContext(conf=SparkConf())"
      ],
      "execution_count": null,
      "outputs": []
    },
    {
      "cell_type": "code",
      "metadata": {
        "colab": {
          "resources": {
            "http://localhost:8080/nbextensions/google.colab/files.js": {
              "data": "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",
              "ok": true,
              "headers": [
                [
                  "content-type",
                  "application/javascript"
                ]
              ],
              "status": 200,
              "status_text": ""
            }
          },
          "base_uri": "https://localhost:8080/",
          "height": 109
        },
        "id": "pTT94dwEguCe",
        "outputId": "4148db75-2666-40b5-cd3d-207d331343fe"
      },
      "source": [
        "from google.colab import files\n",
        "files.upload()"
      ],
      "execution_count": null,
      "outputs": [
        {
          "output_type": "display_data",
          "data": {
            "text/html": [
              "\n",
              "     <input type=\"file\" id=\"files-f05bf2e4-5b03-41b7-bb0a-9f64f79425cb\" name=\"files[]\" multiple disabled\n",
              "        style=\"border:none\" />\n",
              "     <output id=\"result-f05bf2e4-5b03-41b7-bb0a-9f64f79425cb\">\n",
              "      Upload widget is only available when the cell has been executed in the\n",
              "      current browser session. Please rerun this cell to enable.\n",
              "      </output>\n",
              "      <script src=\"/nbextensions/google.colab/files.js\"></script> "
            ],
            "text/plain": [
              "<IPython.core.display.HTML object>"
            ]
          },
          "metadata": {
            "tags": []
          }
        },
        {
          "output_type": "stream",
          "text": [
            "Saving my_module.py to my_module.py\n"
          ],
          "name": "stdout"
        },
        {
          "output_type": "execute_result",
          "data": {
            "text/plain": [
              "{'my_module.py': b'def addPyFiles_is_successfull():\\n    return(True)\\n\\ndef sum_two_variables(a, b):\\n    return(sum([a,b]))\\n    '}"
            ]
          },
          "metadata": {
            "tags": []
          },
          "execution_count": 3
        }
      ]
    },
    {
      "cell_type": "code",
      "metadata": {
        "id": "ZJn_0XaiguFI"
      },
      "source": [
        "sc.addPyFile('./my_module.py')"
      ],
      "execution_count": null,
      "outputs": []
    },
    {
      "cell_type": "code",
      "metadata": {
        "colab": {
          "base_uri": "https://localhost:8080/",
          "height": 35
        },
        "id": "BYnsSl9WguHn",
        "outputId": "557f39e2-bbb6-4fd0-b2a0-30311cdc2759"
      },
      "source": [
        "SparkFiles.get('my_module.py')"
      ],
      "execution_count": null,
      "outputs": [
        {
          "output_type": "execute_result",
          "data": {
            "application/vnd.google.colaboratory.intrinsic+json": {
              "type": "string"
            },
            "text/plain": [
              "'/tmp/spark-09d75cad-9a52-4eb1-a93f-a69df9bae9bd/userFiles-d941a784-a7c5-44fc-8f5b-faef3e3d6d63/my_module.py'"
            ]
          },
          "metadata": {
            "tags": []
          },
          "execution_count": 5
        }
      ]
    },
    {
      "cell_type": "markdown",
      "metadata": {
        "id": "h7dQT8EFhq4M"
      },
      "source": [
        "# Use **my_module.py**\n",
        "We can import `my_module` as a python module"
      ]
    },
    {
      "cell_type": "code",
      "metadata": {
        "id": "x1JEJRiEguJm"
      },
      "source": [
        "from my_module import *"
      ],
      "execution_count": null,
      "outputs": []
    },
    {
      "cell_type": "code",
      "metadata": {
        "colab": {
          "base_uri": "https://localhost:8080/"
        },
        "id": "7Z8MKV2NguMq",
        "outputId": "e94b64f8-6687-414f-b6a9-c49d0eb678f8"
      },
      "source": [
        "addPyFiles_is_successfull()"
      ],
      "execution_count": null,
      "outputs": [
        {
          "output_type": "execute_result",
          "data": {
            "text/plain": [
              "True"
            ]
          },
          "metadata": {
            "tags": []
          },
          "execution_count": 7
        }
      ]
    },
    {
      "cell_type": "code",
      "metadata": {
        "colab": {
          "base_uri": "https://localhost:8080/"
        },
        "id": "Kj16wRCrguOW",
        "outputId": "124ae257-15ae-4eee-db9a-ca8739c2f049"
      },
      "source": [
        "sum_two_variables(4,5)"
      ],
      "execution_count": null,
      "outputs": [
        {
          "output_type": "execute_result",
          "data": {
            "text/plain": [
              "9"
            ]
          },
          "metadata": {
            "tags": []
          },
          "execution_count": 8
        }
      ]
    },
    {
      "cell_type": "code",
      "metadata": {
        "id": "icgkn4qTguQd"
      },
      "source": [
        ""
      ],
      "execution_count": null,
      "outputs": []
    },
    {
      "cell_type": "markdown",
      "metadata": {
        "id": "U1HBZfOIh2QZ"
      },
      "source": [
        "# Dense and sparse vectors"
      ]
    },
    {
      "cell_type": "code",
      "metadata": {
        "id": "STLLe0bAguTM"
      },
      "source": [
        "spark = SparkSession(sparkContext=sc)"
      ],
      "execution_count": null,
      "outputs": []
    },
    {
      "cell_type": "code",
      "metadata": {
        "id": "63tcMUP4guWE"
      },
      "source": [
        "from pyspark.ml.linalg import Vector, DenseVector, SparseVector"
      ],
      "execution_count": null,
      "outputs": []
    },
    {
      "cell_type": "markdown",
      "metadata": {
        "id": "uxMjBrwbiIau"
      },
      "source": [
        "# Dense vector and sparse vector\n",
        "\n",
        "A vector can be represented in dense and sparse formats. A dense vector is a regular vector that has each elements printed. A sparse vector use three components to represent a vector but with less memory."
      ]
    },
    {
      "cell_type": "code",
      "metadata": {
        "colab": {
          "base_uri": "https://localhost:8080/"
        },
        "id": "9Qiavzo-iF7S",
        "outputId": "424d9111-d9a3-4a0d-e214-667a652be059"
      },
      "source": [
        "dv = DenseVector([1.0,0.,0.,0.,4.5,0])\n",
        "dv"
      ],
      "execution_count": null,
      "outputs": [
        {
          "output_type": "execute_result",
          "data": {
            "text/plain": [
              "DenseVector([1.0, 0.0, 0.0, 0.0, 4.5, 0.0])"
            ]
          },
          "metadata": {
            "tags": []
          },
          "execution_count": 11
        }
      ]
    },
    {
      "cell_type": "markdown",
      "metadata": {
        "id": "zTMm93t4iRVu"
      },
      "source": [
        "## Three components of a sparse vector\n",
        "\n",
        "* vector size\n",
        "* indices of active elements\n",
        "* values of active elements\n",
        "\n",
        "In the above dense vector:\n",
        "\n",
        "* vector size = 6\n",
        "* indices of active elements = [0, 4]\n",
        "* values of active elements = [1.0, 4.5]"
      ]
    },
    {
      "cell_type": "markdown",
      "metadata": {
        "id": "FvBS6duOiRZR"
      },
      "source": [
        "We can use the `SparseVector()` function to create a sparse vector. The first argument is the vector size, the second\n",
        "argument is a dictionary. The keys are indices of active elements and the values are values of active elements."
      ]
    },
    {
      "cell_type": "code",
      "metadata": {
        "colab": {
          "base_uri": "https://localhost:8080/"
        },
        "id": "8J6HVi9BiNnR",
        "outputId": "dfb5265c-8449-4ce2-9954-379e79556046"
      },
      "source": [
        "sv = SparseVector(6, {0:1.0, 4:4.5})\n",
        "sv"
      ],
      "execution_count": null,
      "outputs": [
        {
          "output_type": "execute_result",
          "data": {
            "text/plain": [
              "SparseVector(6, {0: 1.0, 4: 4.5})"
            ]
          },
          "metadata": {
            "tags": []
          },
          "execution_count": 12
        }
      ]
    },
    {
      "cell_type": "markdown",
      "metadata": {
        "id": "8ASur7t8iX4C"
      },
      "source": [
        "## Convert sparse vector to dense vector"
      ]
    },
    {
      "cell_type": "code",
      "metadata": {
        "colab": {
          "base_uri": "https://localhost:8080/"
        },
        "id": "UwbbZ9eliOM3",
        "outputId": "4578e0cc-50b3-4ed0-a136-33ed263d254e"
      },
      "source": [
        "DenseVector(sv.toArray())"
      ],
      "execution_count": null,
      "outputs": [
        {
          "output_type": "execute_result",
          "data": {
            "text/plain": [
              "DenseVector([1.0, 0.0, 0.0, 0.0, 4.5, 0.0])"
            ]
          },
          "metadata": {
            "tags": []
          },
          "execution_count": 13
        }
      ]
    },
    {
      "cell_type": "markdown",
      "metadata": {
        "id": "gqQ7fSaOieL8"
      },
      "source": [
        "## Convert dense vector to sparse vector"
      ]
    },
    {
      "cell_type": "code",
      "metadata": {
        "colab": {
          "base_uri": "https://localhost:8080/"
        },
        "id": "-677xd_EiOPN",
        "outputId": "89888b1c-5486-4f21-9396-cdf079225873"
      },
      "source": [
        "active_elements_dict = {index: value for index, value in enumerate(dv) if value != 0}\n",
        "active_elements_dict"
      ],
      "execution_count": null,
      "outputs": [
        {
          "output_type": "execute_result",
          "data": {
            "text/plain": [
              "{0: 1.0, 4: 4.5}"
            ]
          },
          "metadata": {
            "tags": []
          },
          "execution_count": 14
        }
      ]
    },
    {
      "cell_type": "code",
      "metadata": {
        "colab": {
          "base_uri": "https://localhost:8080/"
        },
        "id": "gEenVpmbiORi",
        "outputId": "9477220b-c9ed-4e20-c978-1dba9690241e"
      },
      "source": [
        "SparseVector(len(dv), active_elements_dict)"
      ],
      "execution_count": null,
      "outputs": [
        {
          "output_type": "execute_result",
          "data": {
            "text/plain": [
              "SparseVector(6, {0: 1.0, 4: 4.5})"
            ]
          },
          "metadata": {
            "tags": []
          },
          "execution_count": 15
        }
      ]
    },
    {
      "cell_type": "code",
      "metadata": {
        "id": "Lj0eE5MCiOUK"
      },
      "source": [
        ""
      ],
      "execution_count": null,
      "outputs": []
    },
    {
      "cell_type": "markdown",
      "metadata": {
        "id": "gRfq1XOVL0yc"
      },
      "source": [
        "# Pipeline\n",
        "\n",
        "Pipeline is a sequence of stages which consists of **Estimators** and/or **Transformers**. **Estimator** has **`fit`** method and **Transformer** has **`transform`** method. Therefore, we can say, **a pipeline is a sequence of `fit` and `transform` methods**. When it is a **`fit`** method, it applies to the input data and turns into a **`transform`** method. Then the **`transform`** method applies to the **fitted** data and output **transformed** data. **The transformed data output from previous stage has to be an acceptable input to the next stage's fit/transform method**.\n",
        "\n",
        "## Example"
      ]
    },
    {
      "cell_type": "code",
      "metadata": {
        "colab": {
          "base_uri": "https://localhost:8080/"
        },
        "id": "0qR2B169iOV-",
        "outputId": "969219bd-7a09-4f86-d7f8-2c6089763961"
      },
      "source": [
        "import pandas as pd\n",
        "pdf = pd.DataFrame({\n",
        "        'x1': ['a','a','b','b', 'b', 'c'],\n",
        "        'x2': ['apple', 'orange', 'orange','orange', 'peach', 'peach'],\n",
        "        'x3': [1, 1, 2, 2, 2, 4],\n",
        "        'x4': [2.4, 2.5, 3.5, 1.4, 2.1,1.5],\n",
        "        'y1': [1, 0, 1, 0, 0, 1],\n",
        "        'y2': ['yes', 'no', 'no', 'yes', 'yes', 'yes']\n",
        "    })\n",
        "df = spark.createDataFrame(pdf)\n",
        "df.show()"
      ],
      "execution_count": null,
      "outputs": [
        {
          "output_type": "stream",
          "text": [
            "+---+------+---+---+---+---+\n",
            "| x1|    x2| x3| x4| y1| y2|\n",
            "+---+------+---+---+---+---+\n",
            "|  a| apple|  1|2.4|  1|yes|\n",
            "|  a|orange|  1|2.5|  0| no|\n",
            "|  b|orange|  2|3.5|  1| no|\n",
            "|  b|orange|  2|1.4|  0|yes|\n",
            "|  b| peach|  2|2.1|  0|yes|\n",
            "|  c| peach|  4|1.5|  1|yes|\n",
            "+---+------+---+---+---+---+\n",
            "\n"
          ],
          "name": "stdout"
        }
      ]
    },
    {
      "cell_type": "code",
      "metadata": {
        "id": "2gsJEcdGiOYy"
      },
      "source": [
        "from pyspark.ml import Pipeline\n",
        "from pyspark.ml.feature import StringIndexer, OneHotEncoder"
      ],
      "execution_count": null,
      "outputs": []
    },
    {
      "cell_type": "markdown",
      "metadata": {
        "id": "WF_qJcEMMIwo"
      },
      "source": [
        "## Example\n",
        "\n",
        "We are going to use pipeline to `StringIndex` columns x1, x2, y1, and y2. Then we `OneHotEncode` the resulting `StringIdexed` columns."
      ]
    },
    {
      "cell_type": "code",
      "metadata": {
        "colab": {
          "base_uri": "https://localhost:8080/"
        },
        "id": "HC_QocTrMI9T",
        "outputId": "00197c66-82be-4781-bcbb-237eef1d5a84"
      },
      "source": [
        "stringindex_stages = [StringIndexer(inputCol=c, outputCol='idx_' + c) for c in ['x1', 'x2', 'y1', 'y2']]\n",
        "stringindex_stages"
      ],
      "execution_count": null,
      "outputs": [
        {
          "output_type": "execute_result",
          "data": {
            "text/plain": [
              "[StringIndexer_20308115fa85,\n",
              " StringIndexer_270b63e99714,\n",
              " StringIndexer_380f33f97f43,\n",
              " StringIndexer_2a71e923f205]"
            ]
          },
          "metadata": {
            "tags": []
          },
          "execution_count": 19
        }
      ]
    },
    {
      "cell_type": "code",
      "metadata": {
        "colab": {
          "base_uri": "https://localhost:8080/"
        },
        "id": "HpX03F3TMJAC",
        "outputId": "fe8435e9-7a1e-40fe-e5ea-78e19872456d"
      },
      "source": [
        "onehotencode_stages = [OneHotEncoder(inputCol='idx_' + c, outputCol='ohe_' + c) for c in ['x1', 'x2', 'y1', 'y2']]\n",
        "onehotencode_stages"
      ],
      "execution_count": null,
      "outputs": [
        {
          "output_type": "execute_result",
          "data": {
            "text/plain": [
              "[OneHotEncoder_a3db621a9ae5,\n",
              " OneHotEncoder_f61b84f56031,\n",
              " OneHotEncoder_018356ce9a29,\n",
              " OneHotEncoder_8111d6f84e20]"
            ]
          },
          "metadata": {
            "tags": []
          },
          "execution_count": 20
        }
      ]
    },
    {
      "cell_type": "markdown",
      "metadata": {
        "id": "n6_TQztEMSxb"
      },
      "source": [
        "Note that the **outputCol label** in StringIndex stages is the same as the **inputCol label** in the OneHotEncode stages."
      ]
    },
    {
      "cell_type": "markdown",
      "metadata": {
        "id": "YB4pnh95MS1g"
      },
      "source": [
        "## Elements in the stage list"
      ]
    },
    {
      "cell_type": "code",
      "metadata": {
        "colab": {
          "base_uri": "https://localhost:8080/"
        },
        "id": "G0W4tKFUMJC2",
        "outputId": "a4f23ba7-2ea4-484c-9b5c-e93d78debbbd"
      },
      "source": [
        "all_stages = stringindex_stages + onehotencode_stages\n",
        "[type(x) for x in all_stages]"
      ],
      "execution_count": null,
      "outputs": [
        {
          "output_type": "execute_result",
          "data": {
            "text/plain": [
              "[pyspark.ml.feature.StringIndexer,\n",
              " pyspark.ml.feature.StringIndexer,\n",
              " pyspark.ml.feature.StringIndexer,\n",
              " pyspark.ml.feature.StringIndexer,\n",
              " pyspark.ml.feature.OneHotEncoder,\n",
              " pyspark.ml.feature.OneHotEncoder,\n",
              " pyspark.ml.feature.OneHotEncoder,\n",
              " pyspark.ml.feature.OneHotEncoder]"
            ]
          },
          "metadata": {
            "tags": []
          },
          "execution_count": 21
        }
      ]
    },
    {
      "cell_type": "markdown",
      "metadata": {
        "id": "jpNrOCiJMbOI"
      },
      "source": [
        "In the above list, **`pyspark.ml.feature.StringIndexer`** is an **Estimator**(has a fit method) and **`pyspark.ml.feature.OneHotEncoder`** is a **transformer**(has a transform method)."
      ]
    },
    {
      "cell_type": "markdown",
      "metadata": {
        "id": "ZP7LHVEoMbRV"
      },
      "source": [
        "## Build and run pipeline"
      ]
    },
    {
      "cell_type": "code",
      "metadata": {
        "colab": {
          "base_uri": "https://localhost:8080/"
        },
        "id": "60P5sM6CMJFL",
        "outputId": "a7037561-54ce-4e7d-fbba-379dca307fac"
      },
      "source": [
        "Pipeline(stages=all_stages).fit(df).transform(df).show()"
      ],
      "execution_count": null,
      "outputs": [
        {
          "output_type": "stream",
          "text": [
            "+---+------+---+---+---+---+------+------+------+------+-------------+-------------+-------------+-------------+\n",
            "| x1|    x2| x3| x4| y1| y2|idx_x1|idx_x2|idx_y1|idx_y2|       ohe_x1|       ohe_x2|       ohe_y1|       ohe_y2|\n",
            "+---+------+---+---+---+---+------+------+------+------+-------------+-------------+-------------+-------------+\n",
            "|  a| apple|  1|2.4|  1|yes|   1.0|   2.0|   1.0|   0.0|(2,[1],[1.0])|    (2,[],[])|    (1,[],[])|(1,[0],[1.0])|\n",
            "|  a|orange|  1|2.5|  0| no|   1.0|   0.0|   0.0|   1.0|(2,[1],[1.0])|(2,[0],[1.0])|(1,[0],[1.0])|    (1,[],[])|\n",
            "|  b|orange|  2|3.5|  1| no|   0.0|   0.0|   1.0|   1.0|(2,[0],[1.0])|(2,[0],[1.0])|    (1,[],[])|    (1,[],[])|\n",
            "|  b|orange|  2|1.4|  0|yes|   0.0|   0.0|   0.0|   0.0|(2,[0],[1.0])|(2,[0],[1.0])|(1,[0],[1.0])|(1,[0],[1.0])|\n",
            "|  b| peach|  2|2.1|  0|yes|   0.0|   1.0|   0.0|   0.0|(2,[0],[1.0])|(2,[1],[1.0])|(1,[0],[1.0])|(1,[0],[1.0])|\n",
            "|  c| peach|  4|1.5|  1|yes|   2.0|   1.0|   1.0|   0.0|    (2,[],[])|(2,[1],[1.0])|    (1,[],[])|(1,[0],[1.0])|\n",
            "+---+------+---+---+---+---+------+------+------+------+-------------+-------------+-------------+-------------+\n",
            "\n"
          ],
          "name": "stdout"
        }
      ]
    },
    {
      "cell_type": "markdown",
      "metadata": {
        "id": "4ED7WXzvMjJ2"
      },
      "source": [
        "## Reorder pipeline stages\n",
        "\n",
        "In the example above, our strategy is to **StringIndex** all four columns and then **OneHotEncode** them. Since each **OneHotEncode** stage only depends on the output of their corresponding **StringIndex** stage, our stages list could be **`[stringindexer on x1, onehotencoder on x1, stringindexer on x2, onehotencoder on x2, stringindexer on y1, onehotencoder on y1, stringindexer on y2, onehotencoder on y2]`**."
      ]
    },
    {
      "cell_type": "markdown",
      "metadata": {
        "id": "MeJf7tOaMnn5"
      },
      "source": [
        "### Old stages"
      ]
    },
    {
      "cell_type": "code",
      "metadata": {
        "colab": {
          "base_uri": "https://localhost:8080/"
        },
        "id": "DFIQfmsqMJHp",
        "outputId": "073ab358-81bc-4bbb-bcb6-28f32634b260"
      },
      "source": [
        "all_stages"
      ],
      "execution_count": null,
      "outputs": [
        {
          "output_type": "execute_result",
          "data": {
            "text/plain": [
              "[StringIndexer_20308115fa85,\n",
              " StringIndexer_270b63e99714,\n",
              " StringIndexer_380f33f97f43,\n",
              " StringIndexer_2a71e923f205,\n",
              " OneHotEncoder_a3db621a9ae5,\n",
              " OneHotEncoder_f61b84f56031,\n",
              " OneHotEncoder_018356ce9a29,\n",
              " OneHotEncoder_8111d6f84e20]"
            ]
          },
          "metadata": {
            "tags": []
          },
          "execution_count": 23
        }
      ]
    },
    {
      "cell_type": "markdown",
      "metadata": {
        "id": "s3iKrFitMyiG"
      },
      "source": [
        "### New stages"
      ]
    },
    {
      "cell_type": "code",
      "metadata": {
        "colab": {
          "base_uri": "https://localhost:8080/"
        },
        "id": "sMc6mOQ_Mysb",
        "outputId": "e963cbd9-ae1f-4582-94b2-6688b48d025b"
      },
      "source": [
        "new_all_stages = [all_stages[x] for x in [0,4,1,5,2,6,3,7]]\n",
        "new_all_stages"
      ],
      "execution_count": null,
      "outputs": [
        {
          "output_type": "execute_result",
          "data": {
            "text/plain": [
              "[StringIndexer_20308115fa85,\n",
              " OneHotEncoder_a3db621a9ae5,\n",
              " StringIndexer_270b63e99714,\n",
              " OneHotEncoder_f61b84f56031,\n",
              " StringIndexer_380f33f97f43,\n",
              " OneHotEncoder_018356ce9a29,\n",
              " StringIndexer_2a71e923f205,\n",
              " OneHotEncoder_8111d6f84e20]"
            ]
          },
          "metadata": {
            "tags": []
          },
          "execution_count": 24
        }
      ]
    },
    {
      "cell_type": "markdown",
      "metadata": {
        "id": "KM4qmwOBM4dj"
      },
      "source": [
        "## Build and run pipeline"
      ]
    },
    {
      "cell_type": "code",
      "metadata": {
        "colab": {
          "base_uri": "https://localhost:8080/"
        },
        "id": "YNWhUUS0Myv6",
        "outputId": "5604c831-6733-49cd-bf13-29cae170a81b"
      },
      "source": [
        "Pipeline(stages=new_all_stages).fit(df).transform(df).show()"
      ],
      "execution_count": null,
      "outputs": [
        {
          "output_type": "stream",
          "text": [
            "+---+------+---+---+---+---+------+-------------+------+-------------+------+-------------+------+-------------+\n",
            "| x1|    x2| x3| x4| y1| y2|idx_x1|       ohe_x1|idx_x2|       ohe_x2|idx_y1|       ohe_y1|idx_y2|       ohe_y2|\n",
            "+---+------+---+---+---+---+------+-------------+------+-------------+------+-------------+------+-------------+\n",
            "|  a| apple|  1|2.4|  1|yes|   1.0|(2,[1],[1.0])|   2.0|    (2,[],[])|   1.0|    (1,[],[])|   0.0|(1,[0],[1.0])|\n",
            "|  a|orange|  1|2.5|  0| no|   1.0|(2,[1],[1.0])|   0.0|(2,[0],[1.0])|   0.0|(1,[0],[1.0])|   1.0|    (1,[],[])|\n",
            "|  b|orange|  2|3.5|  1| no|   0.0|(2,[0],[1.0])|   0.0|(2,[0],[1.0])|   1.0|    (1,[],[])|   1.0|    (1,[],[])|\n",
            "|  b|orange|  2|1.4|  0|yes|   0.0|(2,[0],[1.0])|   0.0|(2,[0],[1.0])|   0.0|(1,[0],[1.0])|   0.0|(1,[0],[1.0])|\n",
            "|  b| peach|  2|2.1|  0|yes|   0.0|(2,[0],[1.0])|   1.0|(2,[1],[1.0])|   0.0|(1,[0],[1.0])|   0.0|(1,[0],[1.0])|\n",
            "|  c| peach|  4|1.5|  1|yes|   2.0|    (2,[],[])|   1.0|(2,[1],[1.0])|   1.0|    (1,[],[])|   0.0|(1,[0],[1.0])|\n",
            "+---+------+---+---+---+---+------+-------------+------+-------------+------+-------------+------+-------------+\n",
            "\n"
          ],
          "name": "stdout"
        }
      ]
    },
    {
      "cell_type": "code",
      "metadata": {
        "id": "I9XRMI1kMyxv"
      },
      "source": [
        ""
      ],
      "execution_count": null,
      "outputs": []
    },
    {
      "cell_type": "markdown",
      "metadata": {
        "id": "w2d7bXxdM8um"
      },
      "source": [
        "# SQL functions"
      ]
    },
    {
      "cell_type": "code",
      "metadata": {
        "colab": {
          "resources": {
            "http://localhost:8080/nbextensions/google.colab/files.js": {
              "data": "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",
              "ok": true,
              "headers": [
                [
                  "content-type",
                  "application/javascript"
                ]
              ],
              "status": 200,
              "status_text": ""
            }
          },
          "base_uri": "https://localhost:8080/",
          "height": 161
        },
        "id": "npazqtHmMy0W",
        "outputId": "bca4fa83-8cd2-4cd2-c0ac-cd82ca919d76"
      },
      "source": [
        "from google.colab import files\n",
        "files.upload()"
      ],
      "execution_count": null,
      "outputs": [
        {
          "output_type": "display_data",
          "data": {
            "text/html": [
              "\n",
              "     <input type=\"file\" id=\"files-473bd326-d3c8-4a2d-a20a-bf5b1ab110b6\" name=\"files[]\" multiple disabled\n",
              "        style=\"border:none\" />\n",
              "     <output id=\"result-473bd326-d3c8-4a2d-a20a-bf5b1ab110b6\">\n",
              "      Upload widget is only available when the cell has been executed in the\n",
              "      current browser session. Please rerun this cell to enable.\n",
              "      </output>\n",
              "      <script src=\"/nbextensions/google.colab/files.js\"></script> "
            ],
            "text/plain": [
              "<IPython.core.display.HTML object>"
            ]
          },
          "metadata": {
            "tags": []
          }
        },
        {
          "output_type": "stream",
          "text": [
            "Saving prostate.csv to prostate.csv\n",
            "Saving iris.csv to iris.csv\n"
          ],
          "name": "stdout"
        },
        {
          "output_type": "execute_result",
          "data": {
            "text/plain": [
              "{'iris.csv': b'sepal_length,sepal_width,petal_length,petal_width,species\\n5.1,3.5,1.4,0.2,setosa\\n4.9,3,1.4,0.2,setosa\\n4.7,3.2,1.3,0.2,setosa\\n4.6,3.1,1.5,0.2,setosa\\n5,3.6,1.4,0.2,setosa\\n5.4,3.9,1.7,0.4,setosa\\n4.6,3.4,1.4,0.3,setosa\\n5,3.4,1.5,0.2,setosa\\n4.4,2.9,1.4,0.2,setosa\\n4.9,3.1,1.5,0.1,setosa\\n5.4,3.7,1.5,0.2,setosa\\n4.8,3.4,1.6,0.2,setosa\\n4.8,3,1.4,0.1,setosa\\n4.3,3,1.1,0.1,setosa\\n5.8,4,1.2,0.2,setosa\\n5.7,4.4,1.5,0.4,setosa\\n5.4,3.9,1.3,0.4,setosa\\n5.1,3.5,1.4,0.3,setosa\\n5.7,3.8,1.7,0.3,setosa\\n5.1,3.8,1.5,0.3,setosa\\n5.4,3.4,1.7,0.2,setosa\\n5.1,3.7,1.5,0.4,setosa\\n4.6,3.6,1,0.2,setosa\\n5.1,3.3,1.7,0.5,setosa\\n4.8,3.4,1.9,0.2,setosa\\n5,3,1.6,0.2,setosa\\n5,3.4,1.6,0.4,setosa\\n5.2,3.5,1.5,0.2,setosa\\n5.2,3.4,1.4,0.2,setosa\\n4.7,3.2,1.6,0.2,setosa\\n4.8,3.1,1.6,0.2,setosa\\n5.4,3.4,1.5,0.4,setosa\\n5.2,4.1,1.5,0.1,setosa\\n5.5,4.2,1.4,0.2,setosa\\n4.9,3.1,1.5,0.1,setosa\\n5,3.2,1.2,0.2,setosa\\n5.5,3.5,1.3,0.2,setosa\\n4.9,3.1,1.5,0.1,setosa\\n4.4,3,1.3,0.2,setosa\\n5.1,3.4,1.5,0.2,setosa\\n5,3.5,1.3,0.3,setosa\\n4.5,2.3,1.3,0.3,setosa\\n4.4,3.2,1.3,0.2,setosa\\n5,3.5,1.6,0.6,setosa\\n5.1,3.8,1.9,0.4,setosa\\n4.8,3,1.4,0.3,setosa\\n5.1,3.8,1.6,0.2,setosa\\n4.6,3.2,1.4,0.2,setosa\\n5.3,3.7,1.5,0.2,setosa\\n5,3.3,1.4,0.2,setosa\\n7,3.2,4.7,1.4,versicolor\\n6.4,3.2,4.5,1.5,versicolor\\n6.9,3.1,4.9,1.5,versicolor\\n5.5,2.3,4,1.3,versicolor\\n6.5,2.8,4.6,1.5,versicolor\\n5.7,2.8,4.5,1.3,versicolor\\n6.3,3.3,4.7,1.6,versicolor\\n4.9,2.4,3.3,1,versicolor\\n6.6,2.9,4.6,1.3,versicolor\\n5.2,2.7,3.9,1.4,versicolor\\n5,2,3.5,1,versicolor\\n5.9,3,4.2,1.5,versicolor\\n6,2.2,4,1,versicolor\\n6.1,2.9,4.7,1.4,versicolor\\n5.6,2.9,3.6,1.3,versicolor\\n6.7,3.1,4.4,1.4,versicolor\\n5.6,3,4.5,1.5,versicolor\\n5.8,2.7,4.1,1,versicolor\\n6.2,2.2,4.5,1.5,versicolor\\n5.6,2.5,3.9,1.1,versicolor\\n5.9,3.2,4.8,1.8,versicolor\\n6.1,2.8,4,1.3,versicolor\\n6.3,2.5,4.9,1.5,versicolor\\n6.1,2.8,4.7,1.2,versicolor\\n6.4,2.9,4.3,1.3,versicolor\\n6.6,3,4.4,1.4,versicolor\\n6.8,2.8,4.8,1.4,versicolor\\n6.7,3,5,1.7,versicolor\\n6,2.9,4.5,1.5,versicolor\\n5.7,2.6,3.5,1,versicolor\\n5.5,2.4,3.8,1.1,versicolor\\n5.5,2.4,3.7,1,versicolor\\n5.8,2.7,3.9,1.2,versicolor\\n6,2.7,5.1,1.6,versicolor\\n5.4,3,4.5,1.5,versicolor\\n6,3.4,4.5,1.6,versicolor\\n6.7,3.1,4.7,1.5,versicolor\\n6.3,2.3,4.4,1.3,versicolor\\n5.6,3,4.1,1.3,versicolor\\n5.5,2.5,4,1.3,versicolor\\n5.5,2.6,4.4,1.2,versicolor\\n6.1,3,4.6,1.4,versicolor\\n5.8,2.6,4,1.2,versicolor\\n5,2.3,3.3,1,versicolor\\n5.6,2.7,4.2,1.3,versicolor\\n5.7,3,4.2,1.2,versicolor\\n5.7,2.9,4.2,1.3,versicolor\\n6.2,2.9,4.3,1.3,versicolor\\n5.1,2.5,3,1.1,versicolor\\n5.7,2.8,4.1,1.3,versicolor\\n6.3,3.3,6,2.5,virginica\\n5.8,2.7,5.1,1.9,virginica\\n7.1,3,5.9,2.1,virginica\\n6.3,2.9,5.6,1.8,virginica\\n6.5,3,5.8,2.2,virginica\\n7.6,3,6.6,2.1,virginica\\n4.9,2.5,4.5,1.7,virginica\\n7.3,2.9,6.3,1.8,virginica\\n6.7,2.5,5.8,1.8,virginica\\n7.2,3.6,6.1,2.5,virginica\\n6.5,3.2,5.1,2,virginica\\n6.4,2.7,5.3,1.9,virginica\\n6.8,3,5.5,2.1,virginica\\n5.7,2.5,5,2,virginica\\n5.8,2.8,5.1,2.4,virginica\\n6.4,3.2,5.3,2.3,virginica\\n6.5,3,5.5,1.8,virginica\\n7.7,3.8,6.7,2.2,virginica\\n7.7,2.6,6.9,2.3,virginica\\n6,2.2,5,1.5,virginica\\n6.9,3.2,5.7,2.3,virginica\\n5.6,2.8,4.9,2,virginica\\n7.7,2.8,6.7,2,virginica\\n6.3,2.7,4.9,1.8,virginica\\n6.7,3.3,5.7,2.1,virginica\\n7.2,3.2,6,1.8,virginica\\n6.2,2.8,4.8,1.8,virginica\\n6.1,3,4.9,1.8,virginica\\n6.4,2.8,5.6,2.1,virginica\\n7.2,3,5.8,1.6,virginica\\n7.4,2.8,6.1,1.9,virginica\\n7.9,3.8,6.4,2,virginica\\n6.4,2.8,5.6,2.2,virginica\\n6.3,2.8,5.1,1.5,virginica\\n6.1,2.6,5.6,1.4,virginica\\n7.7,3,6.1,2.3,virginica\\n6.3,3.4,5.6,2.4,virginica\\n6.4,3.1,5.5,1.8,virginica\\n6,3,4.8,1.8,virginica\\n6.9,3.1,5.4,2.1,virginica\\n6.7,3.1,5.6,2.4,virginica\\n6.9,3.1,5.1,2.3,virginica\\n5.8,2.7,5.1,1.9,virginica\\n6.8,3.2,5.9,2.3,virginica\\n6.7,3.3,5.7,2.5,virginica\\n6.7,3,5.2,2.3,virginica\\n6.3,2.5,5,1.9,virginica\\n6.5,3,5.2,2,virginica\\n6.2,3.4,5.4,2.3,virginica\\n5.9,3,5.1,1.8,virginica\\n',\n",
              " 'prostate.csv': b'lcavol,lweight,age,lbph,svi,lcp,gleason,pgg45,lpsa\\r-0.579818495,2.769458829,50,-1.386294361,0,-1.386294361,6,0,-0.430782916\\r-0.994252273,3.319625728,58,-1.386294361,0,-1.386294361,6,0,-0.162518929\\r-0.510825624,2.691243083,74,-1.386294361,0,-1.386294361,7,20,-0.162518929\\r-1.203972804,3.282789151,58,-1.386294361,0,-1.386294361,6,0,-0.162518929\\r0.751416089,3.432372999,62,-1.386294361,0,-1.386294361,6,0,0.371563556\\r-1.049822124,3.228826156,50,-1.386294361,0,-1.386294361,6,0,0.765467842\\r0.737164066,3.473518043,64,0.615185639,0,-1.386294361,6,0,0.765467842\\r0.693147181,3.539508997,58,1.53686722,0,-1.386294361,6,0,0.854415328\\r-0.776528789,3.539508997,47,-1.386294361,0,-1.386294361,6,0,1.047318994\\r0.223143551,3.244543572,63,-1.386294361,0,-1.386294361,6,0,1.047318994\\r0.254642218,3.604138226,65,-1.386294361,0,-1.386294361,6,0,1.266947603\\r-1.347073648,3.598681186,63,1.266947603,0,-1.386294361,6,0,1.266947603\\r1.613429934,3.022860941,63,-1.386294361,0,-0.597837001,7,30,1.266947603\\r1.477048724,2.998229154,67,-1.386294361,0,-1.386294361,7,5,1.348073148\\r1.205970807,3.442019376,57,-1.386294361,0,-0.430782916,7,5,1.398716881\\r1.541159072,3.06105174,66,-1.386294361,0,-1.386294361,6,0,1.446918983\\r-0.415515444,3.516013056,70,1.244154594,0,-0.597837001,7,30,1.470175845\\r2.288486169,3.649358696,66,-1.386294361,0,0.371563556,6,0,1.492904096\\r-0.562118918,3.267665989,41,-1.386294361,0,-1.386294361,6,0,1.558144618\\r0.182321557,3.825375199,70,1.658228077,0,-1.386294361,6,0,1.599387577\\r1.147402453,3.419364686,59,-1.386294361,0,-1.386294361,6,0,1.638996715\\r2.059238834,3.501042717,60,1.474763009,0,1.348073148,7,20,1.658228077\\r-0.544727175,3.375879574,59,-0.798507696,0,-1.386294361,6,0,1.695615609\\r1.781709133,3.451573589,63,0.438254931,0,1.178654996,7,60,1.713797928\\r0.385262401,3.667400422,69,1.599387577,0,-1.386294361,6,0,1.731655545\\r1.446918983,3.124565145,68,0.300104592,0,-1.386294361,6,0,1.766441661\\r0.512823626,3.719651113,65,-1.386294361,0,-0.798507696,7,70,1.800058272\\r-0.400477567,3.865979067,67,1.816452082,0,-1.386294361,7,20,1.816452082\\r1.040276712,3.128951117,67,0.223143551,0,0.048790164,7,80,1.848454813\\r2.409644165,3.375879574,65,-1.386294361,0,1.619388243,6,0,1.894616855\\r0.285178942,4.090169191,65,1.962907725,0,-0.798507696,6,0,1.924248652\\r0.182321557,6.107579526,65,1.704748092,0,-1.386294361,6,0,2.008214032\\r1.2753628,3.037353948,71,1.266947603,0,-1.386294361,6,0,2.008214032\\r0.009950331,3.267665989,54,-1.386294361,0,-1.386294361,6,0,2.021547563\\r-0.010050336,3.216873822,63,-1.386294361,0,-0.798507696,6,0,2.047692843\\r1.30833282,4.119849853,64,2.171336806,0,-1.386294361,7,5,2.085672091\\r1.423108334,3.657130756,73,-0.579818495,0,1.658228077,8,15,2.157559321\\r0.457424847,2.374905755,64,-1.386294361,0,-1.386294361,7,15,2.191653532\\r2.660958594,4.085135623,68,1.373715579,1,1.832581464,7,35,2.213753879\\r0.797507196,3.013080912,56,0.936093359,0,-0.162518929,7,5,2.277267285\\r0.620576488,3.141994781,60,-1.386294361,0,-1.386294361,9,80,2.297572551\\r1.442201993,3.682609841,68,-1.386294361,0,-1.386294361,7,10,2.307572635\\r0.58221562,3.865979067,62,1.713797928,0,-0.430782916,6,0,2.327277706\\r1.771556762,3.896909368,61,-1.386294361,0,0.810930216,7,6,2.374905755\\r1.486139696,3.409496184,66,1.749199855,0,-0.430782916,7,20,2.521720623\\r1.663926098,3.392829132,61,0.615185639,0,-1.386294361,7,15,2.553343811\\r2.727852828,3.995444614,79,1.87946505,1,2.656756907,9,100,2.568788134\\r1.16315081,4.035125203,68,1.713797928,0,-0.430782916,7,40,2.568788134\\r1.745715531,3.498021566,43,-1.386294361,0,-1.386294361,6,0,2.591516385\\r1.220829921,3.568123253,70,1.373715579,0,-0.798507696,6,0,2.591516385\\r1.091923301,3.993602992,68,-1.386294361,0,-1.386294361,7,50,2.656756907\\r1.660131027,4.23483088,64,2.073171929,0,-1.386294361,6,0,2.677590994\\r0.512823626,3.63363098,64,1.492904096,0,0.048790164,7,70,2.684440335\\r2.12704052,4.12147323,68,1.766441661,0,1.446918983,7,40,2.691243083\\r3.153590358,3.516013056,59,-1.386294361,0,-1.386294361,7,5,2.7047113\\r1.266947603,4.280132327,66,2.122261539,0,-1.386294361,7,15,2.718000532\\r0.97455964,2.86505395,47,-1.386294361,0,0.500775288,7,4,2.788092909\\r0.463734016,3.764682418,49,1.423108334,0,-1.386294361,6,0,2.794227897\\r0.542324291,4.178226046,70,0.438254931,0,-1.386294361,7,20,2.806386102\\r1.061256502,3.851210866,61,1.294727168,0,-1.386294361,7,40,2.812410216\\r0.457424847,4.524502283,73,2.32630162,0,-1.386294361,6,0,2.841998174\\r1.997417706,3.719651113,63,1.619388243,1,1.909542505,7,40,2.853592506\\r2.77570885,3.524888854,72,-1.386294361,0,1.558144618,9,95,2.853592506\\r2.034705648,3.917010547,66,2.008214032,1,2.1102132,7,60,2.882003508\\r2.073171929,3.62300671,64,-1.386294361,0,-1.386294361,6,0,2.882003508\\r1.458615023,3.836221292,61,1.32175584,0,-0.430782916,7,20,2.887590115\\r2.02287119,3.878466222,68,1.78339122,0,1.32175584,7,70,2.920469789\\r2.198335072,4.050915004,72,2.307572635,0,-0.430782916,7,10,2.962692419\\r-0.446287103,4.408546844,69,-1.386294361,0,-1.386294361,6,0,2.962692419\\r1.193922468,4.780383204,72,2.32630162,0,-0.798507696,7,5,2.972975286\\r1.864080131,3.593194204,60,-1.386294361,1,1.32175584,7,60,3.013080912\\r1.160020917,3.341093458,77,1.749199855,0,-1.386294361,7,25,3.037353948\\r1.214912744,3.825375199,69,-1.386294361,1,0.223143551,7,20,3.056356895\\r1.838961071,3.236715743,60,0.438254931,1,1.178654996,9,90,3.075005454\\r2.999226163,3.849083206,69,-1.386294361,1,1.909542505,7,20,3.275256158\\r3.141130476,3.263849191,68,-0.051293294,1,2.420368129,7,50,3.337547355\\r2.010894999,4.433788569,72,2.122261539,0,0.500775288,7,60,3.392829132\\r2.537657215,4.354783898,78,2.32630162,0,-1.386294361,7,10,3.435598808\\r2.648300197,3.582129084,69,-1.386294361,1,2.583997552,7,70,3.457892725\\r2.779440197,3.823191792,63,-1.386294361,0,0.371563556,7,50,3.513036863\\r1.467874348,3.070375817,66,0.559615788,0,0.223143551,7,40,3.516013056\\r2.513656063,3.473518043,57,0.438254931,0,2.327277706,7,60,3.530762586\\r2.613006652,3.888754378,77,-0.527632742,1,0.559615788,7,30,3.565298392\\r2.677590994,3.838376465,65,1.115141591,0,1.749199855,9,70,3.570940156\\r1.562346305,3.709906821,60,1.695615609,0,0.810930216,7,30,3.587676949\\r3.302849259,3.518980417,64,-1.386294361,1,2.327277706,7,60,3.630985476\\r2.024193067,3.731699451,58,1.638996715,0,-1.386294361,6,0,3.680090948\\r1.731655545,3.369018483,62,-1.386294361,1,0.300104592,7,30,3.71235181\\r2.807593831,4.718052343,65,-1.386294361,1,2.463853241,7,60,3.984343667\\r1.562346305,3.695110004,76,0.936093359,1,0.810930216,7,75,3.993602992\\r3.246490992,4.101816577,68,-1.386294361,0,-1.386294361,6,0,4.029806041\\r2.532902848,3.677565694,61,1.348073148,1,-1.386294361,7,15,4.129550818\\r2.830267834,3.876395828,68,-1.386294361,1,1.32175584,7,60,4.385146762\\r3.821003607,3.896909368,44,-1.386294361,1,2.1690537,7,40,4.684443367\\r2.907447359,3.39618484,52,-1.386294361,1,2.463853241,7,10,5.143124477\\r2.882563575,3.773909703,68,1.558144618,1,1.558144618,7,80,5.47750903\\r3.471966453,3.974997805,68,0.438254931,1,2.90416508,7,20,5.58293224'}"
            ]
          },
          "metadata": {
            "tags": []
          },
          "execution_count": 26
        }
      ]
    },
    {
      "cell_type": "code",
      "metadata": {
        "colab": {
          "base_uri": "https://localhost:8080/"
        },
        "id": "Dh97g-33My22",
        "outputId": "9623b44b-9e4f-4ad7-df07-55a76ba72394"
      },
      "source": [
        "iris = spark.read.csv('./iris.csv', header=True, inferSchema=True)\n",
        "iris.show(5)"
      ],
      "execution_count": null,
      "outputs": [
        {
          "output_type": "stream",
          "text": [
            "+------------+-----------+------------+-----------+-------+\n",
            "|sepal_length|sepal_width|petal_length|petal_width|species|\n",
            "+------------+-----------+------------+-----------+-------+\n",
            "|         5.1|        3.5|         1.4|        0.2| setosa|\n",
            "|         4.9|        3.0|         1.4|        0.2| setosa|\n",
            "|         4.7|        3.2|         1.3|        0.2| setosa|\n",
            "|         4.6|        3.1|         1.5|        0.2| setosa|\n",
            "|         5.0|        3.6|         1.4|        0.2| setosa|\n",
            "+------------+-----------+------------+-----------+-------+\n",
            "only showing top 5 rows\n",
            "\n"
          ],
          "name": "stdout"
        }
      ]
    },
    {
      "cell_type": "code",
      "metadata": {
        "colab": {
          "base_uri": "https://localhost:8080/"
        },
        "id": "5-5pwpJoMJKc",
        "outputId": "0c6d121b-095e-48bd-ee6b-1bf50801763f"
      },
      "source": [
        "prostate = spark.read.csv('./prostate.csv', header=True, inferSchema=True)\n",
        "prostate.show(5)"
      ],
      "execution_count": null,
      "outputs": [
        {
          "output_type": "stream",
          "text": [
            "+------------+-----------+---+------------+---+------------+-------+-----+------------+\n",
            "|      lcavol|    lweight|age|        lbph|svi|         lcp|gleason|pgg45|        lpsa|\n",
            "+------------+-----------+---+------------+---+------------+-------+-----+------------+\n",
            "|-0.579818495|2.769458829| 50|-1.386294361|  0|-1.386294361|      6|    0|-0.430782916|\n",
            "|-0.994252273|3.319625728| 58|-1.386294361|  0|-1.386294361|      6|    0|-0.162518929|\n",
            "|-0.510825624|2.691243083| 74|-1.386294361|  0|-1.386294361|      7|   20|-0.162518929|\n",
            "|-1.203972804|3.282789151| 58|-1.386294361|  0|-1.386294361|      6|    0|-0.162518929|\n",
            "| 0.751416089|3.432372999| 62|-1.386294361|  0|-1.386294361|      6|    0| 0.371563556|\n",
            "+------------+-----------+---+------------+---+------------+-------+-----+------------+\n",
            "only showing top 5 rows\n",
            "\n"
          ],
          "name": "stdout"
        }
      ]
    },
    {
      "cell_type": "code",
      "metadata": {
        "id": "7OT97szliOkd"
      },
      "source": [
        "from pyspark.sql.functions import *\n",
        "from pyspark.sql.types import *\n",
        "import numpy as np\n",
        "import pandas as pd"
      ],
      "execution_count": null,
      "outputs": []
    },
    {
      "cell_type": "code",
      "metadata": {
        "colab": {
          "base_uri": "https://localhost:8080/"
        },
        "id": "0l04z_YKNpND",
        "outputId": "a119fabd-6068-43bd-a6da-afc7bfa2c341"
      },
      "source": [
        "prostate.select('lpsa', abs(prostate.lpsa).alias('abs(lpsa)')).show(5)"
      ],
      "execution_count": null,
      "outputs": [
        {
          "output_type": "stream",
          "text": [
            "+------------+-----------+\n",
            "|        lpsa|  abs(lpsa)|\n",
            "+------------+-----------+\n",
            "|-0.430782916|0.430782916|\n",
            "|-0.162518929|0.162518929|\n",
            "|-0.162518929|0.162518929|\n",
            "|-0.162518929|0.162518929|\n",
            "| 0.371563556|0.371563556|\n",
            "+------------+-----------+\n",
            "only showing top 5 rows\n",
            "\n"
          ],
          "name": "stdout"
        }
      ]
    },
    {
      "cell_type": "markdown",
      "metadata": {
        "id": "P7Q25zvcNxRO"
      },
      "source": [
        "## `acos`"
      ]
    },
    {
      "cell_type": "code",
      "metadata": {
        "colab": {
          "base_uri": "https://localhost:8080/"
        },
        "id": "vA-SgI51NpXN",
        "outputId": "ae06f407-ad46-4bce-9970-2550685db5ab"
      },
      "source": [
        "pdf = pd.DataFrame({\n",
        "    'x': list(-np.random.rand(5)) + list(np.random.rand(5))\n",
        "})\n",
        "df = spark.createDataFrame(pdf)\n",
        "df.show(5)"
      ],
      "execution_count": null,
      "outputs": [
        {
          "output_type": "stream",
          "text": [
            "+--------------------+\n",
            "|                   x|\n",
            "+--------------------+\n",
            "|-0.01199609264953...|\n",
            "|-0.13330687931846052|\n",
            "| -0.1122903939149632|\n",
            "|-0.07051023465395978|\n",
            "|  -0.756023117253209|\n",
            "+--------------------+\n",
            "only showing top 5 rows\n",
            "\n"
          ],
          "name": "stdout"
        }
      ]
    },
    {
      "cell_type": "code",
      "metadata": {
        "colab": {
          "base_uri": "https://localhost:8080/"
        },
        "id": "Gwgy85FTNpZC",
        "outputId": "6fedf4c7-9833-4f77-d5f6-81832bcab49f"
      },
      "source": [
        "df.select('x', acos(df.x)).show(5)"
      ],
      "execution_count": null,
      "outputs": [
        {
          "output_type": "stream",
          "text": [
            "+--------------------+------------------+\n",
            "|                   x|           ACOS(x)|\n",
            "+--------------------+------------------+\n",
            "|-0.01199609264953...|1.5827927071818229|\n",
            "|-0.13330687931846052|1.7045012239086161|\n",
            "| -0.1122903939149632|1.6833240505709424|\n",
            "|-0.07051023465395978|1.6413651184265718|\n",
            "|  -0.756023117253209|2.4280121355315223|\n",
            "+--------------------+------------------+\n",
            "only showing top 5 rows\n",
            "\n"
          ],
          "name": "stdout"
        }
      ]
    },
    {
      "cell_type": "markdown",
      "metadata": {
        "id": "pZDuoQs4N-gM"
      },
      "source": [
        "## `add_months`"
      ]
    },
    {
      "cell_type": "code",
      "metadata": {
        "id": "RJv9b7GeNpb6"
      },
      "source": [
        "import datetime"
      ],
      "execution_count": null,
      "outputs": []
    },
    {
      "cell_type": "code",
      "metadata": {
        "colab": {
          "base_uri": "https://localhost:8080/"
        },
        "id": "f7UsSZEpN5nw",
        "outputId": "33e19e8d-e3e4-4dee-f42b-ea7f46f58685"
      },
      "source": [
        "base = datetime.date.today()\n",
        "date_list = [base + datetime.timedelta(days=x) for x in list(range(0, 10))*10]\n",
        "pdf = pd.DataFrame({\n",
        "    'dates': date_list\n",
        "})\n",
        "df = spark.createDataFrame(pdf)\n",
        "df.show(5)"
      ],
      "execution_count": null,
      "outputs": [
        {
          "output_type": "stream",
          "text": [
            "+----------+\n",
            "|     dates|\n",
            "+----------+\n",
            "|2021-08-07|\n",
            "|2021-08-08|\n",
            "|2021-08-09|\n",
            "|2021-08-10|\n",
            "|2021-08-11|\n",
            "+----------+\n",
            "only showing top 5 rows\n",
            "\n"
          ],
          "name": "stdout"
        }
      ]
    },
    {
      "cell_type": "code",
      "metadata": {
        "colab": {
          "base_uri": "https://localhost:8080/"
        },
        "id": "-LJ7gnfPN5rB",
        "outputId": "a118e5ee-9d86-445e-98d8-a65793d9496f"
      },
      "source": [
        "df.select('dates', add_months(df.dates, 2).alias('new_dates')).show(5)"
      ],
      "execution_count": null,
      "outputs": [
        {
          "output_type": "stream",
          "text": [
            "+----------+----------+\n",
            "|     dates| new_dates|\n",
            "+----------+----------+\n",
            "|2021-08-07|2021-10-07|\n",
            "|2021-08-08|2021-10-08|\n",
            "|2021-08-09|2021-10-09|\n",
            "|2021-08-10|2021-10-10|\n",
            "|2021-08-11|2021-10-11|\n",
            "+----------+----------+\n",
            "only showing top 5 rows\n",
            "\n"
          ],
          "name": "stdout"
        }
      ]
    },
    {
      "cell_type": "markdown",
      "metadata": {
        "id": "sXqPhs9aOILj"
      },
      "source": [
        "## `approx_count_distinct`"
      ]
    },
    {
      "cell_type": "code",
      "metadata": {
        "colab": {
          "base_uri": "https://localhost:8080/"
        },
        "id": "x5AmwDjwN5tX",
        "outputId": "73621ff5-f669-40e7-faf6-acd26f61e7f4"
      },
      "source": [
        "prostate.select(approx_count_distinct(prostate.gleason)).show(5)"
      ],
      "execution_count": null,
      "outputs": [
        {
          "output_type": "stream",
          "text": [
            "+------------------------------+\n",
            "|approx_count_distinct(gleason)|\n",
            "+------------------------------+\n",
            "|                             4|\n",
            "+------------------------------+\n",
            "\n"
          ],
          "name": "stdout"
        }
      ]
    },
    {
      "cell_type": "code",
      "metadata": {
        "colab": {
          "base_uri": "https://localhost:8080/"
        },
        "id": "Acz6w9vFN5vf",
        "outputId": "a6ba8d7f-b0dd-4cc7-c6e6-0a5b8a8fd19a"
      },
      "source": [
        "iris.select(approx_count_distinct(iris.species)).show(5)"
      ],
      "execution_count": null,
      "outputs": [
        {
          "output_type": "stream",
          "text": [
            "+------------------------------+\n",
            "|approx_count_distinct(species)|\n",
            "+------------------------------+\n",
            "|                             3|\n",
            "+------------------------------+\n",
            "\n"
          ],
          "name": "stdout"
        }
      ]
    },
    {
      "cell_type": "markdown",
      "metadata": {
        "id": "ex1L2dCGON1J"
      },
      "source": [
        "## `array`"
      ]
    },
    {
      "cell_type": "code",
      "metadata": {
        "colab": {
          "base_uri": "https://localhost:8080/"
        },
        "id": "pknyxcH1N5x4",
        "outputId": "2c561185-9a21-4022-e12d-87050672f5e1"
      },
      "source": [
        "iris.show(5)"
      ],
      "execution_count": null,
      "outputs": [
        {
          "output_type": "stream",
          "text": [
            "+------------+-----------+------------+-----------+-------+\n",
            "|sepal_length|sepal_width|petal_length|petal_width|species|\n",
            "+------------+-----------+------------+-----------+-------+\n",
            "|         5.1|        3.5|         1.4|        0.2| setosa|\n",
            "|         4.9|        3.0|         1.4|        0.2| setosa|\n",
            "|         4.7|        3.2|         1.3|        0.2| setosa|\n",
            "|         4.6|        3.1|         1.5|        0.2| setosa|\n",
            "|         5.0|        3.6|         1.4|        0.2| setosa|\n",
            "+------------+-----------+------------+-----------+-------+\n",
            "only showing top 5 rows\n",
            "\n"
          ],
          "name": "stdout"
        }
      ]
    },
    {
      "cell_type": "code",
      "metadata": {
        "colab": {
          "base_uri": "https://localhost:8080/"
        },
        "id": "s0BOxtLpN5zP",
        "outputId": "e0c3a7f5-1747-4348-dc10-8c6fc396f827"
      },
      "source": [
        "df_arr = iris.select('species', array(['sepal_length', 'sepal_width', 'petal_length', 'petal_width']).alias('features'))\n",
        "df_arr.show(5)"
      ],
      "execution_count": null,
      "outputs": [
        {
          "output_type": "stream",
          "text": [
            "+-------+--------------------+\n",
            "|species|            features|\n",
            "+-------+--------------------+\n",
            "| setosa|[5.1, 3.5, 1.4, 0.2]|\n",
            "| setosa|[4.9, 3.0, 1.4, 0.2]|\n",
            "| setosa|[4.7, 3.2, 1.3, 0.2]|\n",
            "| setosa|[4.6, 3.1, 1.5, 0.2]|\n",
            "| setosa|[5.0, 3.6, 1.4, 0.2]|\n",
            "+-------+--------------------+\n",
            "only showing top 5 rows\n",
            "\n"
          ],
          "name": "stdout"
        }
      ]
    },
    {
      "cell_type": "markdown",
      "metadata": {
        "id": "niNPQFS2OYR_"
      },
      "source": [
        "## `array_contains`"
      ]
    },
    {
      "cell_type": "code",
      "metadata": {
        "colab": {
          "base_uri": "https://localhost:8080/"
        },
        "id": "gaOqHASuN51i",
        "outputId": "067a8bf5-152c-431a-cbc0-455a69de8a75"
      },
      "source": [
        "df = df_arr.select('species', 'features', array_contains(df_arr.features, 1.4).alias('new_features'))\n",
        "df.show(5)"
      ],
      "execution_count": null,
      "outputs": [
        {
          "output_type": "stream",
          "text": [
            "+-------+--------------------+------------+\n",
            "|species|            features|new_features|\n",
            "+-------+--------------------+------------+\n",
            "| setosa|[5.1, 3.5, 1.4, 0.2]|        true|\n",
            "| setosa|[4.9, 3.0, 1.4, 0.2]|        true|\n",
            "| setosa|[4.7, 3.2, 1.3, 0.2]|       false|\n",
            "| setosa|[4.6, 3.1, 1.5, 0.2]|       false|\n",
            "| setosa|[5.0, 3.6, 1.4, 0.2]|        true|\n",
            "+-------+--------------------+------------+\n",
            "only showing top 5 rows\n",
            "\n"
          ],
          "name": "stdout"
        }
      ]
    },
    {
      "cell_type": "code",
      "metadata": {
        "colab": {
          "base_uri": "https://localhost:8080/"
        },
        "id": "7S42Ct00OVmV",
        "outputId": "b3fb0314-f316-40fa-9508-0fdbdcf6edfa"
      },
      "source": [
        "df.filter(df.new_features).show(5)"
      ],
      "execution_count": null,
      "outputs": [
        {
          "output_type": "stream",
          "text": [
            "+-------+--------------------+------------+\n",
            "|species|            features|new_features|\n",
            "+-------+--------------------+------------+\n",
            "| setosa|[5.1, 3.5, 1.4, 0.2]|        true|\n",
            "| setosa|[4.9, 3.0, 1.4, 0.2]|        true|\n",
            "| setosa|[5.0, 3.6, 1.4, 0.2]|        true|\n",
            "| setosa|[4.6, 3.4, 1.4, 0.3]|        true|\n",
            "| setosa|[4.4, 2.9, 1.4, 0.2]|        true|\n",
            "+-------+--------------------+------------+\n",
            "only showing top 5 rows\n",
            "\n"
          ],
          "name": "stdout"
        }
      ]
    },
    {
      "cell_type": "markdown",
      "metadata": {
        "id": "56lqfo9QOf9c"
      },
      "source": [
        "## `asc`\n",
        "\n",
        "`asc` returns a **sort expression**, which can be used as argument of sort functions such as `pyspark.sql.DataFrame.sort` and `pyspark.sql.DataFrame.orderBy`"
      ]
    },
    {
      "cell_type": "code",
      "metadata": {
        "colab": {
          "base_uri": "https://localhost:8080/"
        },
        "id": "UZGLIqx8OVpE",
        "outputId": "e75de5fe-aa50-40f3-d208-f3e1d97f298b"
      },
      "source": [
        "prostate.sort(prostate.lpsa.asc()).show(5)"
      ],
      "execution_count": null,
      "outputs": [
        {
          "output_type": "stream",
          "text": [
            "+------------+-----------+---+------------+---+------------+-------+-----+------------+\n",
            "|      lcavol|    lweight|age|        lbph|svi|         lcp|gleason|pgg45|        lpsa|\n",
            "+------------+-----------+---+------------+---+------------+-------+-----+------------+\n",
            "|-0.579818495|2.769458829| 50|-1.386294361|  0|-1.386294361|      6|    0|-0.430782916|\n",
            "|-0.994252273|3.319625728| 58|-1.386294361|  0|-1.386294361|      6|    0|-0.162518929|\n",
            "|-1.203972804|3.282789151| 58|-1.386294361|  0|-1.386294361|      6|    0|-0.162518929|\n",
            "|-0.510825624|2.691243083| 74|-1.386294361|  0|-1.386294361|      7|   20|-0.162518929|\n",
            "| 0.751416089|3.432372999| 62|-1.386294361|  0|-1.386294361|      6|    0| 0.371563556|\n",
            "+------------+-----------+---+------------+---+------------+-------+-----+------------+\n",
            "only showing top 5 rows\n",
            "\n"
          ],
          "name": "stdout"
        }
      ]
    },
    {
      "cell_type": "code",
      "metadata": {
        "colab": {
          "base_uri": "https://localhost:8080/"
        },
        "id": "UPlZy-ifOVsu",
        "outputId": "926f9238-3cec-4070-fa2e-fe5491570e71"
      },
      "source": [
        "prostate.orderBy(prostate.lpsa.asc()).show(5)"
      ],
      "execution_count": null,
      "outputs": [
        {
          "output_type": "stream",
          "text": [
            "+------------+-----------+---+------------+---+------------+-------+-----+------------+\n",
            "|      lcavol|    lweight|age|        lbph|svi|         lcp|gleason|pgg45|        lpsa|\n",
            "+------------+-----------+---+------------+---+------------+-------+-----+------------+\n",
            "|-0.579818495|2.769458829| 50|-1.386294361|  0|-1.386294361|      6|    0|-0.430782916|\n",
            "|-0.994252273|3.319625728| 58|-1.386294361|  0|-1.386294361|      6|    0|-0.162518929|\n",
            "|-1.203972804|3.282789151| 58|-1.386294361|  0|-1.386294361|      6|    0|-0.162518929|\n",
            "|-0.510825624|2.691243083| 74|-1.386294361|  0|-1.386294361|      7|   20|-0.162518929|\n",
            "| 0.751416089|3.432372999| 62|-1.386294361|  0|-1.386294361|      6|    0| 0.371563556|\n",
            "+------------+-----------+---+------------+---+------------+-------+-----+------------+\n",
            "only showing top 5 rows\n",
            "\n"
          ],
          "name": "stdout"
        }
      ]
    },
    {
      "cell_type": "markdown",
      "metadata": {
        "id": "wXpd0C7iOpYu"
      },
      "source": [
        "Find more:\n",
        "\n",
        "* `ascii`\n",
        "* `asin`\n",
        "* `atan`\n",
        "* `atan2`"
      ]
    },
    {
      "cell_type": "markdown",
      "metadata": {
        "id": "xDDhy_w3OvRg"
      },
      "source": [
        "## `avg`"
      ]
    },
    {
      "cell_type": "code",
      "metadata": {
        "colab": {
          "base_uri": "https://localhost:8080/"
        },
        "id": "-fly9s4vOVvC",
        "outputId": "1aff29e1-6ab6-4986-b060-ba9f62ce1dbe"
      },
      "source": [
        "prostate.select(avg(prostate.lpsa)).show()"
      ],
      "execution_count": null,
      "outputs": [
        {
          "output_type": "stream",
          "text": [
            "+------------------+\n",
            "|         avg(lpsa)|\n",
            "+------------------+\n",
            "|2.4783868787422683|\n",
            "+------------------+\n",
            "\n"
          ],
          "name": "stdout"
        }
      ]
    },
    {
      "cell_type": "code",
      "metadata": {
        "colab": {
          "base_uri": "https://localhost:8080/"
        },
        "id": "dX8ezoT2N54C",
        "outputId": "66b77f95-3482-4a6e-b205-c152492dba44"
      },
      "source": [
        "# `cbrt`\n",
        "\n",
        "prostate.select('lpsa', cbrt(prostate.lpsa)).show(5)"
      ],
      "execution_count": null,
      "outputs": [
        {
          "output_type": "stream",
          "text": [
            "+------------+-------------------+\n",
            "|        lpsa|         CBRT(lpsa)|\n",
            "+------------+-------------------+\n",
            "|-0.430782916|-0.7552420410177275|\n",
            "|-0.162518929|-0.5457176294010901|\n",
            "|-0.162518929|-0.5457176294010901|\n",
            "|-0.162518929|-0.5457176294010901|\n",
            "| 0.371563556| 0.7189152621521183|\n",
            "+------------+-------------------+\n",
            "only showing top 5 rows\n",
            "\n"
          ],
          "name": "stdout"
        }
      ]
    },
    {
      "cell_type": "code",
      "metadata": {
        "colab": {
          "base_uri": "https://localhost:8080/"
        },
        "id": "IqSHTUMdN58E",
        "outputId": "e4ef6494-6bda-435b-fd54-cc62fa10f75c"
      },
      "source": [
        "# `ceil`\n",
        "prostate.select('lpsa', ceil(prostate.lpsa)).show(5)"
      ],
      "execution_count": null,
      "outputs": [
        {
          "output_type": "stream",
          "text": [
            "+------------+----------+\n",
            "|        lpsa|CEIL(lpsa)|\n",
            "+------------+----------+\n",
            "|-0.430782916|         0|\n",
            "|-0.162518929|         0|\n",
            "|-0.162518929|         0|\n",
            "|-0.162518929|         0|\n",
            "| 0.371563556|         1|\n",
            "+------------+----------+\n",
            "only showing top 5 rows\n",
            "\n"
          ],
          "name": "stdout"
        }
      ]
    },
    {
      "cell_type": "markdown",
      "metadata": {
        "id": "JzlU8T_XPImZ"
      },
      "source": [
        "## `coalesce`\n",
        "\n",
        "Return the first column that is not null."
      ]
    },
    {
      "cell_type": "code",
      "metadata": {
        "colab": {
          "base_uri": "https://localhost:8080/"
        },
        "id": "xTdfjyt9PEn5",
        "outputId": "d581760a-9bae-42ba-a46e-01fba87266f8"
      },
      "source": [
        "df = spark.createDataFrame([(None, None), (1, None), (None, 2)], (\"a\", \"b\"))\n",
        "df.show()"
      ],
      "execution_count": null,
      "outputs": [
        {
          "output_type": "stream",
          "text": [
            "+----+----+\n",
            "|   a|   b|\n",
            "+----+----+\n",
            "|null|null|\n",
            "|   1|null|\n",
            "|null|   2|\n",
            "+----+----+\n",
            "\n"
          ],
          "name": "stdout"
        }
      ]
    },
    {
      "cell_type": "code",
      "metadata": {
        "colab": {
          "base_uri": "https://localhost:8080/"
        },
        "id": "6cCIc3tLPLEI",
        "outputId": "d27d8aaf-b618-40ed-eb33-61a78864c12a"
      },
      "source": [
        "df.select(coalesce(df.a, df.b)).show()"
      ],
      "execution_count": null,
      "outputs": [
        {
          "output_type": "stream",
          "text": [
            "+--------------+\n",
            "|coalesce(a, b)|\n",
            "+--------------+\n",
            "|          null|\n",
            "|             1|\n",
            "|             2|\n",
            "+--------------+\n",
            "\n"
          ],
          "name": "stdout"
        }
      ]
    },
    {
      "cell_type": "markdown",
      "metadata": {
        "id": "KWENJx02PNt4"
      },
      "source": [
        "## `col`\n",
        "\n",
        "Returns a **Column** based on the given column name. It can save your some typing when the dataframe is very long."
      ]
    },
    {
      "cell_type": "code",
      "metadata": {
        "colab": {
          "base_uri": "https://localhost:8080/"
        },
        "id": "iMZUkM7lPNDH",
        "outputId": "99a57a96-ef05-43e2-89a3-f63ea51adb28"
      },
      "source": [
        "prostate.show(5)"
      ],
      "execution_count": null,
      "outputs": [
        {
          "output_type": "stream",
          "text": [
            "+------------+-----------+---+------------+---+------------+-------+-----+------------+\n",
            "|      lcavol|    lweight|age|        lbph|svi|         lcp|gleason|pgg45|        lpsa|\n",
            "+------------+-----------+---+------------+---+------------+-------+-----+------------+\n",
            "|-0.579818495|2.769458829| 50|-1.386294361|  0|-1.386294361|      6|    0|-0.430782916|\n",
            "|-0.994252273|3.319625728| 58|-1.386294361|  0|-1.386294361|      6|    0|-0.162518929|\n",
            "|-0.510825624|2.691243083| 74|-1.386294361|  0|-1.386294361|      7|   20|-0.162518929|\n",
            "|-1.203972804|3.282789151| 58|-1.386294361|  0|-1.386294361|      6|    0|-0.162518929|\n",
            "| 0.751416089|3.432372999| 62|-1.386294361|  0|-1.386294361|      6|    0| 0.371563556|\n",
            "+------------+-----------+---+------------+---+------------+-------+-----+------------+\n",
            "only showing top 5 rows\n",
            "\n"
          ],
          "name": "stdout"
        }
      ]
    },
    {
      "cell_type": "code",
      "metadata": {
        "colab": {
          "base_uri": "https://localhost:8080/"
        },
        "id": "2KB317OxPSwX",
        "outputId": "cbc57305-19c6-4eac-db00-8f9a0841c724"
      },
      "source": [
        "prostate.select(col('lcavol'), col('age')).show(5)"
      ],
      "execution_count": null,
      "outputs": [
        {
          "output_type": "stream",
          "text": [
            "+------------+---+\n",
            "|      lcavol|age|\n",
            "+------------+---+\n",
            "|-0.579818495| 50|\n",
            "|-0.994252273| 58|\n",
            "|-0.510825624| 74|\n",
            "|-1.203972804| 58|\n",
            "| 0.751416089| 62|\n",
            "+------------+---+\n",
            "only showing top 5 rows\n",
            "\n"
          ],
          "name": "stdout"
        }
      ]
    },
    {
      "cell_type": "markdown",
      "metadata": {
        "id": "MeN6io0WPaOL"
      },
      "source": [
        "## `collect_list`"
      ]
    },
    {
      "cell_type": "code",
      "metadata": {
        "colab": {
          "base_uri": "https://localhost:8080/"
        },
        "id": "DJy3R3yGPVgQ",
        "outputId": "d3d57dcf-1dd2-4557-e3be-0315271d56a1"
      },
      "source": [
        "pdf = pd.DataFrame({\n",
        "    'x':[1, 2, 2, 3, 4,4,4,4]\n",
        "})\n",
        "df = spark.createDataFrame(pdf)\n",
        "df.show()"
      ],
      "execution_count": null,
      "outputs": [
        {
          "output_type": "stream",
          "text": [
            "+---+\n",
            "|  x|\n",
            "+---+\n",
            "|  1|\n",
            "|  2|\n",
            "|  2|\n",
            "|  3|\n",
            "|  4|\n",
            "|  4|\n",
            "|  4|\n",
            "|  4|\n",
            "+---+\n",
            "\n"
          ],
          "name": "stdout"
        }
      ]
    },
    {
      "cell_type": "code",
      "metadata": {
        "colab": {
          "base_uri": "https://localhost:8080/"
        },
        "id": "wWl8jqPRPcQQ",
        "outputId": "8b70f929-30bd-47f0-92c1-6666b63c4eed"
      },
      "source": [
        "df.select(collect_list(df.x)).show()"
      ],
      "execution_count": null,
      "outputs": [
        {
          "output_type": "stream",
          "text": [
            "+--------------------+\n",
            "|     collect_list(x)|\n",
            "+--------------------+\n",
            "|[1, 2, 2, 3, 4, 4...|\n",
            "+--------------------+\n",
            "\n"
          ],
          "name": "stdout"
        }
      ]
    },
    {
      "cell_type": "code",
      "metadata": {
        "colab": {
          "base_uri": "https://localhost:8080/"
        },
        "id": "cuGbEUySPecZ",
        "outputId": "c64ad935-6c1b-4dd7-d2c3-6cce100fe296"
      },
      "source": [
        "# `collect_set`\n",
        "df.select(collect_set(df.x)).show()"
      ],
      "execution_count": null,
      "outputs": [
        {
          "output_type": "stream",
          "text": [
            "+--------------+\n",
            "|collect_set(x)|\n",
            "+--------------+\n",
            "|  [1, 2, 3, 4]|\n",
            "+--------------+\n",
            "\n"
          ],
          "name": "stdout"
        }
      ]
    },
    {
      "cell_type": "markdown",
      "metadata": {
        "id": "zQeKwZRPPmAu"
      },
      "source": [
        "## `concat`"
      ]
    },
    {
      "cell_type": "code",
      "metadata": {
        "colab": {
          "base_uri": "https://localhost:8080/"
        },
        "id": "ckTTClJJPi5i",
        "outputId": "368bfe02-a5e6-4524-a3c1-b0f0c69c6289"
      },
      "source": [
        "df = spark.createDataFrame([['a', '1'], ['b', '2']], ['x', 'v'])\n",
        "df.show()"
      ],
      "execution_count": null,
      "outputs": [
        {
          "output_type": "stream",
          "text": [
            "+---+---+\n",
            "|  x|  v|\n",
            "+---+---+\n",
            "|  a|  1|\n",
            "|  b|  2|\n",
            "+---+---+\n",
            "\n"
          ],
          "name": "stdout"
        }
      ]
    },
    {
      "cell_type": "code",
      "metadata": {
        "colab": {
          "base_uri": "https://localhost:8080/"
        },
        "id": "p5SYPlocPnhq",
        "outputId": "9058fb41-4f41-4f82-873f-a36c35c0d1b5"
      },
      "source": [
        "df.select('x', 'v', concat(df.x, df.v).alias('concate(x,v)')).show()"
      ],
      "execution_count": null,
      "outputs": [
        {
          "output_type": "stream",
          "text": [
            "+---+---+------------+\n",
            "|  x|  v|concate(x,v)|\n",
            "+---+---+------------+\n",
            "|  a|  1|          a1|\n",
            "|  b|  2|          b2|\n",
            "+---+---+------------+\n",
            "\n"
          ],
          "name": "stdout"
        }
      ]
    },
    {
      "cell_type": "markdown",
      "metadata": {
        "id": "Da2lyFp_PqWG"
      },
      "source": [
        "## `concat_ws`"
      ]
    },
    {
      "cell_type": "code",
      "metadata": {
        "colab": {
          "base_uri": "https://localhost:8080/"
        },
        "id": "saYAbQRCPpq7",
        "outputId": "f923fb8a-fb47-4cc9-ebe0-b600e82ae824"
      },
      "source": [
        "df.select('x', 'v', concat_ws('_', df.x, df.v).alias('concate(x,v)')).show()"
      ],
      "execution_count": null,
      "outputs": [
        {
          "output_type": "stream",
          "text": [
            "+---+---+------------+\n",
            "|  x|  v|concate(x,v)|\n",
            "+---+---+------------+\n",
            "|  a|  1|         a_1|\n",
            "|  b|  2|         b_2|\n",
            "+---+---+------------+\n",
            "\n"
          ],
          "name": "stdout"
        }
      ]
    },
    {
      "cell_type": "markdown",
      "metadata": {
        "id": "DqWDeUv4P12-"
      },
      "source": [
        "## `corr`"
      ]
    },
    {
      "cell_type": "code",
      "metadata": {
        "colab": {
          "base_uri": "https://localhost:8080/"
        },
        "id": "ERU0h1h9Puxj",
        "outputId": "221b974f-f3a8-45b5-fc4a-d054f13abede"
      },
      "source": [
        "prostate.show(5)"
      ],
      "execution_count": null,
      "outputs": [
        {
          "output_type": "stream",
          "text": [
            "+------------+-----------+---+------------+---+------------+-------+-----+------------+\n",
            "|      lcavol|    lweight|age|        lbph|svi|         lcp|gleason|pgg45|        lpsa|\n",
            "+------------+-----------+---+------------+---+------------+-------+-----+------------+\n",
            "|-0.579818495|2.769458829| 50|-1.386294361|  0|-1.386294361|      6|    0|-0.430782916|\n",
            "|-0.994252273|3.319625728| 58|-1.386294361|  0|-1.386294361|      6|    0|-0.162518929|\n",
            "|-0.510825624|2.691243083| 74|-1.386294361|  0|-1.386294361|      7|   20|-0.162518929|\n",
            "|-1.203972804|3.282789151| 58|-1.386294361|  0|-1.386294361|      6|    0|-0.162518929|\n",
            "| 0.751416089|3.432372999| 62|-1.386294361|  0|-1.386294361|      6|    0| 0.371563556|\n",
            "+------------+-----------+---+------------+---+------------+-------+-----+------------+\n",
            "only showing top 5 rows\n",
            "\n"
          ],
          "name": "stdout"
        }
      ]
    },
    {
      "cell_type": "code",
      "metadata": {
        "colab": {
          "base_uri": "https://localhost:8080/"
        },
        "id": "fEt_g5dVPyn0",
        "outputId": "8f2d8e92-8005-4156-f63a-0dcaa142ea1e"
      },
      "source": [
        "prostate.select(corr(prostate.age, prostate.lpsa)).show(5)"
      ],
      "execution_count": null,
      "outputs": [
        {
          "output_type": "stream",
          "text": [
            "+-------------------+\n",
            "|    corr(age, lpsa)|\n",
            "+-------------------+\n",
            "|0.16959284228582772|\n",
            "+-------------------+\n",
            "\n"
          ],
          "name": "stdout"
        }
      ]
    },
    {
      "cell_type": "code",
      "metadata": {
        "id": "RqdJq502P3oc"
      },
      "source": [
        ""
      ],
      "execution_count": null,
      "outputs": []
    },
    {
      "cell_type": "code",
      "metadata": {
        "colab": {
          "base_uri": "https://localhost:8080/"
        },
        "id": "ig0tuOadP7ZG",
        "outputId": "98b545d7-5695-425b-b57d-a7da437069e2"
      },
      "source": [
        "# `count`\n",
        "prostate.select(count(prostate.lpsa)).show()"
      ],
      "execution_count": null,
      "outputs": [
        {
          "output_type": "stream",
          "text": [
            "+-----------+\n",
            "|count(lpsa)|\n",
            "+-----------+\n",
            "|         97|\n",
            "+-----------+\n",
            "\n"
          ],
          "name": "stdout"
        }
      ]
    },
    {
      "cell_type": "markdown",
      "metadata": {
        "id": "020ndR4zQGmy"
      },
      "source": [
        "## `covar_pop`\n",
        "\n",
        "**population covariance**: $\\frac{1}{n}\\sum_{i=1}^n(x_{i} - \\bar{x})(y_{i} - \\bar{y})$"
      ]
    },
    {
      "cell_type": "code",
      "metadata": {
        "colab": {
          "base_uri": "https://localhost:8080/"
        },
        "id": "t_5OvSodP7cn",
        "outputId": "86f4d6f5-0356-4776-ed25-e5be3e946706"
      },
      "source": [
        "prostate.select(covar_pop(prostate.age, prostate.lpsa)).show()"
      ],
      "execution_count": null,
      "outputs": [
        {
          "output_type": "stream",
          "text": [
            "+--------------------+\n",
            "|covar_pop(age, lpsa)|\n",
            "+--------------------+\n",
            "|  1.4424746293984458|\n",
            "+--------------------+\n",
            "\n"
          ],
          "name": "stdout"
        }
      ]
    },
    {
      "cell_type": "markdown",
      "metadata": {
        "id": "eq5c8JrzQKB9"
      },
      "source": [
        "## `covar_samp`\n",
        "**sample covariance**: $\\frac{1}{n-1}\\sum_{i=1}^n(x_{i} - \\bar{x})(y_{i} - \\bar{y})$"
      ]
    },
    {
      "cell_type": "code",
      "metadata": {
        "colab": {
          "base_uri": "https://localhost:8080/"
        },
        "id": "T-wD9TaSQKME",
        "outputId": "64b17702-d9fb-4da2-e438-6127c5212003"
      },
      "source": [
        "prostate.select(covar_samp(prostate.age, prostate.lpsa)).show()"
      ],
      "execution_count": null,
      "outputs": [
        {
          "output_type": "stream",
          "text": [
            "+---------------------+\n",
            "|covar_samp(age, lpsa)|\n",
            "+---------------------+\n",
            "|   1.4575004067880128|\n",
            "+---------------------+\n",
            "\n"
          ],
          "name": "stdout"
        }
      ]
    },
    {
      "cell_type": "markdown",
      "metadata": {
        "id": "4rlZ9MlpQRF7"
      },
      "source": [
        "## `create_map`"
      ]
    },
    {
      "cell_type": "code",
      "metadata": {
        "colab": {
          "base_uri": "https://localhost:8080/"
        },
        "id": "jFr7cMl4QJYr",
        "outputId": "48643297-fc60-44f0-a8eb-f74ecac9ee2b"
      },
      "source": [
        "iris.show(5)"
      ],
      "execution_count": null,
      "outputs": [
        {
          "output_type": "stream",
          "text": [
            "+------------+-----------+------------+-----------+-------+\n",
            "|sepal_length|sepal_width|petal_length|petal_width|species|\n",
            "+------------+-----------+------------+-----------+-------+\n",
            "|         5.1|        3.5|         1.4|        0.2| setosa|\n",
            "|         4.9|        3.0|         1.4|        0.2| setosa|\n",
            "|         4.7|        3.2|         1.3|        0.2| setosa|\n",
            "|         4.6|        3.1|         1.5|        0.2| setosa|\n",
            "|         5.0|        3.6|         1.4|        0.2| setosa|\n",
            "+------------+-----------+------------+-----------+-------+\n",
            "only showing top 5 rows\n",
            "\n"
          ],
          "name": "stdout"
        }
      ]
    },
    {
      "cell_type": "code",
      "metadata": {
        "colab": {
          "base_uri": "https://localhost:8080/"
        },
        "id": "eEVK5CHFQVX0",
        "outputId": "413e49c8-3500-48d0-b9db-aa8ba3424e7e"
      },
      "source": [
        "df = iris.select(create_map('species', 'sepal_length'))\n",
        "df.show(5)"
      ],
      "execution_count": null,
      "outputs": [
        {
          "output_type": "stream",
          "text": [
            "+--------------------------+\n",
            "|map(species, sepal_length)|\n",
            "+--------------------------+\n",
            "|           {setosa -> 5.1}|\n",
            "|           {setosa -> 4.9}|\n",
            "|           {setosa -> 4.7}|\n",
            "|           {setosa -> 4.6}|\n",
            "|           {setosa -> 5.0}|\n",
            "+--------------------------+\n",
            "only showing top 5 rows\n",
            "\n"
          ],
          "name": "stdout"
        }
      ]
    },
    {
      "cell_type": "code",
      "metadata": {
        "colab": {
          "base_uri": "https://localhost:8080/"
        },
        "id": "PKyRO48IQYU-",
        "outputId": "06d11b78-0781-4ab8-9a14-20281bd60b66"
      },
      "source": [
        "df.dtypes"
      ],
      "execution_count": null,
      "outputs": [
        {
          "output_type": "execute_result",
          "data": {
            "text/plain": [
              "[('map(species, sepal_length)', 'map<string,double>')]"
            ]
          },
          "metadata": {
            "tags": []
          },
          "execution_count": 64
        }
      ]
    },
    {
      "cell_type": "markdown",
      "metadata": {
        "id": "rPoMjLt-Qf-5"
      },
      "source": [
        "## `current_date`"
      ]
    },
    {
      "cell_type": "code",
      "metadata": {
        "colab": {
          "base_uri": "https://localhost:8080/"
        },
        "id": "pcnW6kopQaVl",
        "outputId": "54013c43-31e9-474f-a0ce-31cb1068f83e"
      },
      "source": [
        "df = spark.createDataFrame([[1],[2],[3],[4]], ['x'])\n",
        "df.show()"
      ],
      "execution_count": null,
      "outputs": [
        {
          "output_type": "stream",
          "text": [
            "+---+\n",
            "|  x|\n",
            "+---+\n",
            "|  1|\n",
            "|  2|\n",
            "|  3|\n",
            "|  4|\n",
            "+---+\n",
            "\n"
          ],
          "name": "stdout"
        }
      ]
    },
    {
      "cell_type": "code",
      "metadata": {
        "colab": {
          "base_uri": "https://localhost:8080/"
        },
        "id": "gOKLM4vOQiWe",
        "outputId": "12a7cbf2-1dfb-44c5-a454-7c442c120ba7"
      },
      "source": [
        "df.select('x', current_date()).show()"
      ],
      "execution_count": null,
      "outputs": [
        {
          "output_type": "stream",
          "text": [
            "+---+--------------+\n",
            "|  x|current_date()|\n",
            "+---+--------------+\n",
            "|  1|    2021-08-07|\n",
            "|  2|    2021-08-07|\n",
            "|  3|    2021-08-07|\n",
            "|  4|    2021-08-07|\n",
            "+---+--------------+\n",
            "\n"
          ],
          "name": "stdout"
        }
      ]
    },
    {
      "cell_type": "markdown",
      "metadata": {
        "id": "j9tKQJeJQohV"
      },
      "source": [
        "## `current_tmestamp`"
      ]
    },
    {
      "cell_type": "code",
      "metadata": {
        "colab": {
          "base_uri": "https://localhost:8080/"
        },
        "id": "3-juQGeTQkX9",
        "outputId": "271fbcac-88fa-4680-e7f6-51f1a8e0615c"
      },
      "source": [
        "df.select('x', current_timestamp()).show(truncate=False)"
      ],
      "execution_count": null,
      "outputs": [
        {
          "output_type": "stream",
          "text": [
            "+---+-----------------------+\n",
            "|x  |current_timestamp()    |\n",
            "+---+-----------------------+\n",
            "|1  |2021-08-07 15:37:01.946|\n",
            "|2  |2021-08-07 15:37:01.946|\n",
            "|3  |2021-08-07 15:37:01.946|\n",
            "|4  |2021-08-07 15:37:01.946|\n",
            "+---+-----------------------+\n",
            "\n"
          ],
          "name": "stdout"
        }
      ]
    },
    {
      "cell_type": "markdown",
      "metadata": {
        "id": "8XpersMsQrYO"
      },
      "source": [
        "## `date_add`"
      ]
    },
    {
      "cell_type": "code",
      "metadata": {
        "colab": {
          "base_uri": "https://localhost:8080/"
        },
        "id": "1_0N5yjPQqje",
        "outputId": "71680aff-0f18-45f4-ae72-8a5051ab8f02"
      },
      "source": [
        "df2 = df.select('x', current_date().alias('current_date'))\n",
        "df2.show(5)"
      ],
      "execution_count": null,
      "outputs": [
        {
          "output_type": "stream",
          "text": [
            "+---+------------+\n",
            "|  x|current_date|\n",
            "+---+------------+\n",
            "|  1|  2021-08-07|\n",
            "|  2|  2021-08-07|\n",
            "|  3|  2021-08-07|\n",
            "|  4|  2021-08-07|\n",
            "+---+------------+\n",
            "\n"
          ],
          "name": "stdout"
        }
      ]
    },
    {
      "cell_type": "code",
      "metadata": {
        "colab": {
          "base_uri": "https://localhost:8080/"
        },
        "id": "Z8CEHYMpQwtG",
        "outputId": "1282dcfc-b7eb-436b-ed54-a7a5b24456fc"
      },
      "source": [
        "df2.select('x', 'current_date', date_add(df2.current_date, 10)).show()"
      ],
      "execution_count": null,
      "outputs": [
        {
          "output_type": "stream",
          "text": [
            "+---+------------+--------------------------+\n",
            "|  x|current_date|date_add(current_date, 10)|\n",
            "+---+------------+--------------------------+\n",
            "|  1|  2021-08-07|                2021-08-17|\n",
            "|  2|  2021-08-07|                2021-08-17|\n",
            "|  3|  2021-08-07|                2021-08-17|\n",
            "|  4|  2021-08-07|                2021-08-17|\n",
            "+---+------------+--------------------------+\n",
            "\n"
          ],
          "name": "stdout"
        }
      ]
    },
    {
      "cell_type": "markdown",
      "metadata": {
        "id": "4vg8ZVRzQ2Cr"
      },
      "source": [
        "## `date_format`"
      ]
    },
    {
      "cell_type": "code",
      "metadata": {
        "colab": {
          "base_uri": "https://localhost:8080/"
        },
        "id": "RpKVJZgWQy23",
        "outputId": "81babd2e-63e5-4f28-8797-3aeb05b71425"
      },
      "source": [
        "df2.select('x', 'current_date', date_format('current_date', 'MM/dd/yyyy').alias('new_date')).show()"
      ],
      "execution_count": null,
      "outputs": [
        {
          "output_type": "stream",
          "text": [
            "+---+------------+----------+\n",
            "|  x|current_date|  new_date|\n",
            "+---+------------+----------+\n",
            "|  1|  2021-08-07|08/07/2021|\n",
            "|  2|  2021-08-07|08/07/2021|\n",
            "|  3|  2021-08-07|08/07/2021|\n",
            "|  4|  2021-08-07|08/07/2021|\n",
            "+---+------------+----------+\n",
            "\n"
          ],
          "name": "stdout"
        }
      ]
    },
    {
      "cell_type": "code",
      "metadata": {
        "id": "RT2xAOK0Q4cY"
      },
      "source": [
        ""
      ],
      "execution_count": null,
      "outputs": []
    },
    {
      "cell_type": "markdown",
      "metadata": {
        "id": "DQtNTJxdRHHE"
      },
      "source": [
        "# TF, IDF and TF-IDF"
      ]
    },
    {
      "cell_type": "markdown",
      "metadata": {
        "id": "f0w88PjdRI-g"
      },
      "source": [
        "* TF is short for **Term Frequency**. It is simply the frequency of a term in a document. The higher the TF is for a specific term, the more important that term is to that document.\n",
        "\n",
        "* IDF is short for **Inverse Document Frequency**. It is the frequency of documents that contain a specific term. If a term exists in every single document, then the Document Frequency is the largest and is 1. And the Inverse Document Frequency will be the smallest. In the situation, this term is non-informative for classifying the documents.The IDF is a measure of the relevance of a term. The higher the IDF is, the more relavant the term is.\n",
        "\n",
        "* TF-IDF is the product of TF and IDF. A high TF-IDF is obtained when the The Term Frequency is high and the Document Frequency is low (IDF is high).\n"
      ]
    },
    {
      "cell_type": "markdown",
      "metadata": {
        "id": "kda-kgG2RNgV"
      },
      "source": [
        "# Term Frequency, HashingTF and CountVectorizer"
      ]
    },
    {
      "cell_type": "markdown",
      "metadata": {
        "id": "7cGJ2mxORNcm"
      },
      "source": [
        "Pyspark has two functions to calculate term frequencies from documents: the **`HashingTF()`** and the **`CountVectorizer()`**. These two functions do two things:\n",
        "\n",
        "1. Indexing terms: converting words to numbers.\n",
        "2. Calculate term frequencies for each documents.\n",
        "\n",
        "The `HashingTF()` utilizes the Murmurhash 3 function to map a raw feature (a term) into an index (a number). Hashing is the process of transforming data of arbitrary size to size-fixed, usually shorter data. The term frequencies are calculated based on the generated indices. For the  HashingTF() method, the mapping process is very cheap. Because each term-to-index mapping is independent of other term-to-index mapping. The hashing function takes a unique input and gerenate a “unique result”. However, **hashing collision** may occur, which means different features (terms) may be hased to the same index.\n",
        "\n",
        "The **`CountVectorizer()`** indexes terms by descending order of term frequencies in the entire corpus, NOT the term frequencies in the document. After the indexing process, the term frequencies are calculated by documents."
      ]
    },
    {
      "cell_type": "code",
      "metadata": {
        "colab": {
          "base_uri": "https://localhost:8080/"
        },
        "id": "3Yq8EwwJRHS_",
        "outputId": "000c8bb8-9651-4cfb-c0a0-dc4255139f0f"
      },
      "source": [
        "import pandas as pd\n",
        "pdf = pd.DataFrame({\n",
        "        'terms': [\n",
        "            ['spark', 'spark', 'spark', 'is', 'awesome', 'awesome'],\n",
        "            ['I', 'love', 'spark', 'very', 'very', 'much'],\n",
        "            ['everyone', 'should', 'use', 'spark']\n",
        "        ]\n",
        "    })\n",
        "df = spark.createDataFrame(pdf)\n",
        "df.show(truncate=False)"
      ],
      "execution_count": null,
      "outputs": [
        {
          "output_type": "stream",
          "text": [
            "+-------------------------------------------+\n",
            "|terms                                      |\n",
            "+-------------------------------------------+\n",
            "|[spark, spark, spark, is, awesome, awesome]|\n",
            "|[I, love, spark, very, very, much]         |\n",
            "|[everyone, should, use, spark]             |\n",
            "+-------------------------------------------+\n",
            "\n"
          ],
          "name": "stdout"
        }
      ]
    },
    {
      "cell_type": "markdown",
      "metadata": {
        "id": "diYnMiQgRcpJ"
      },
      "source": [
        "## HashingTF\n",
        "\n",
        "The **numFeatures** paramter takes an integer, which should be larger than the total number of terms in the corpus. And it should be a power of two so that features are mapped evenly to columns.\n",
        "\n"
      ]
    },
    {
      "cell_type": "code",
      "metadata": {
        "id": "I4yqZ-HsRHVY"
      },
      "source": [
        "from pyspark.ml.feature import HashingTF\n",
        "from pyspark.ml import Pipeline\n",
        "\n",
        "hashtf = HashingTF(numFeatures=2**4, inputCol='terms', outputCol='features(numFeatures), [index], [term frequency]')\n",
        "stages = [hashtf]\n",
        "pipeline = Pipeline(stages=stages)"
      ],
      "execution_count": null,
      "outputs": []
    },
    {
      "cell_type": "code",
      "metadata": {
        "colab": {
          "base_uri": "https://localhost:8080/"
        },
        "id": "VUEbrkQbRHYS",
        "outputId": "78cab29d-e522-4cf1-c637-3f3a3b6a1d04"
      },
      "source": [
        "pipeline.fit(df).transform(df).show(truncate=False)"
      ],
      "execution_count": null,
      "outputs": [
        {
          "output_type": "stream",
          "text": [
            "+-------------------------------------------+------------------------------------------------+\n",
            "|terms                                      |features(numFeatures), [index], [term frequency]|\n",
            "+-------------------------------------------+------------------------------------------------+\n",
            "|[spark, spark, spark, is, awesome, awesome]|(16,[6,9],[3.0,3.0])                            |\n",
            "|[I, love, spark, very, very, much]         |(16,[0,6,8,12],[1.0,1.0,2.0,2.0])               |\n",
            "|[everyone, should, use, spark]             |(16,[5,6,13],[1.0,1.0,2.0])                     |\n",
            "+-------------------------------------------+------------------------------------------------+\n",
            "\n"
          ],
          "name": "stdout"
        }
      ]
    },
    {
      "cell_type": "markdown",
      "metadata": {
        "id": "fX-okJBsS8YI"
      },
      "source": [
        "You may note that the first document has three distinct terms, but only two term frequencies are obtained. This apparent discrepancy is due to a **hashing collision**: both `spark` and `is` are getting hashed to `1`. The term frequency for index `1` in the first document is `4.0` corresponding to the three counts of `spark` and the one count of `is`. The likelihood of a hashing collision can be reduced by increasing the `numFeatures` parameter passed to the `HashingTF` function (the default for example is $2^18 = 262,144$)."
      ]
    },
    {
      "cell_type": "markdown",
      "metadata": {
        "id": "74x6_GzOS8cq"
      },
      "source": [
        "## CountVectorizer\n",
        "\n",
        "The **`CountVectorizer()`** function has three parameters to control which terms will be kept as features.\n",
        "\n",
        "* minTF: features that has term frequency less than minTF will be removed. If minTF=1minTF=1, then no features will be removed.\n",
        "* minDF: features that has document frequency less than minDF will be removed. If minDF=1minDF=1, then no features will be removed.\n",
        "* vocabSize: keep terms of the top vocabSize frequencies.\n",
        "\n",
        "In the example below, the `minTF=1.0,minDF=1.0minTF=1.0,minDF=1.0` and `vocabSize=20vocabSize=20`, which is larger than the total number of terms. Therefore, all features (terms) will be kept."
      ]
    },
    {
      "cell_type": "code",
      "metadata": {
        "id": "UIBiOkTqRHau"
      },
      "source": [
        "from pyspark.ml.feature import CountVectorizer\n",
        "from pyspark.ml import Pipeline\n",
        "\n",
        "countvectorizer = CountVectorizer(minTF=1.0, minDF=1.0, vocabSize=20, \n",
        "                                  inputCol='terms', outputCol='features(vocabSize), [index], [term frequency]')\n",
        "stages = [countvectorizer]\n",
        "pipeline = Pipeline(stages=stages)\n"
      ],
      "execution_count": null,
      "outputs": []
    },
    {
      "cell_type": "code",
      "metadata": {
        "colab": {
          "base_uri": "https://localhost:8080/"
        },
        "id": "PHmHHtTBRHeB",
        "outputId": "ddfd6067-e147-4dfb-ca7a-75d819d621b5"
      },
      "source": [
        "pipeline.fit(df).transform(df).show(truncate=False)"
      ],
      "execution_count": null,
      "outputs": [
        {
          "output_type": "stream",
          "text": [
            "+-------------------------------------------+----------------------------------------------+\n",
            "|terms                                      |features(vocabSize), [index], [term frequency]|\n",
            "+-------------------------------------------+----------------------------------------------+\n",
            "|[spark, spark, spark, is, awesome, awesome]|(10,[0,2,3],[3.0,2.0,1.0])                    |\n",
            "|[I, love, spark, very, very, much]         |(10,[0,1,4,5,6],[1.0,2.0,1.0,1.0,1.0])        |\n",
            "|[everyone, should, use, spark]             |(10,[0,7,8,9],[1.0,1.0,1.0,1.0])              |\n",
            "+-------------------------------------------+----------------------------------------------+\n",
            "\n"
          ],
          "name": "stdout"
        }
      ]
    },
    {
      "cell_type": "markdown",
      "metadata": {
        "id": "OlPDGF3eTIaN"
      },
      "source": [
        "Now, lets use the StringIndexer() to index the corpus and see if the results is consistant with the CountVectorizer() method.\n",
        "\n",
        "### `flatMap` documents so that each row has a single term."
      ]
    },
    {
      "cell_type": "code",
      "metadata": {
        "colab": {
          "base_uri": "https://localhost:8080/"
        },
        "id": "LW3AQk8eRHgZ",
        "outputId": "2e4b491a-a51e-4386-b3b1-6f021d64a6c1"
      },
      "source": [
        "from pyspark.sql.types import StringType\n",
        "df_vocab = df.select('terms').rdd.\\\n",
        "            flatMap(lambda x: x[0]).\\\n",
        "            toDF(schema=StringType()).toDF('terms')\n",
        "df_vocab.show()"
      ],
      "execution_count": null,
      "outputs": [
        {
          "output_type": "stream",
          "text": [
            "+--------+\n",
            "|   terms|\n",
            "+--------+\n",
            "|   spark|\n",
            "|   spark|\n",
            "|   spark|\n",
            "|      is|\n",
            "| awesome|\n",
            "| awesome|\n",
            "|       I|\n",
            "|    love|\n",
            "|   spark|\n",
            "|    very|\n",
            "|    very|\n",
            "|    much|\n",
            "|everyone|\n",
            "|  should|\n",
            "|     use|\n",
            "|   spark|\n",
            "+--------+\n",
            "\n"
          ],
          "name": "stdout"
        }
      ]
    },
    {
      "cell_type": "markdown",
      "metadata": {
        "id": "tm8WmkvmTNQD"
      },
      "source": [
        "### Calculate term frequencies in the corpus"
      ]
    },
    {
      "cell_type": "code",
      "metadata": {
        "colab": {
          "base_uri": "https://localhost:8080/"
        },
        "id": "YmpjMHO8TNeq",
        "outputId": "2defbbd8-9eb2-4809-a00d-0d3e23d22ebe"
      },
      "source": [
        "vocab_freq = df_vocab.rdd.countByValue()\n",
        "pdf = pd.DataFrame({\n",
        "        'term': list(vocab_freq.keys()),\n",
        "        'frequency': list(vocab_freq.values())\n",
        "    })\n",
        "pdf\n",
        "tf = spark.createDataFrame(pdf).orderBy('frequency', ascending=False)\n",
        "tf.show()"
      ],
      "execution_count": null,
      "outputs": [
        {
          "output_type": "stream",
          "text": [
            "+----------+---------+\n",
            "|      term|frequency|\n",
            "+----------+---------+\n",
            "|   {spark}|        5|\n",
            "|    {very}|        2|\n",
            "| {awesome}|        2|\n",
            "|    {much}|        1|\n",
            "|  {should}|        1|\n",
            "|{everyone}|        1|\n",
            "|     {use}|        1|\n",
            "|      {is}|        1|\n",
            "|       {I}|        1|\n",
            "|    {love}|        1|\n",
            "+----------+---------+\n",
            "\n"
          ],
          "name": "stdout"
        }
      ]
    },
    {
      "cell_type": "markdown",
      "metadata": {
        "id": "pQ7ylGb0TTEa"
      },
      "source": [
        "## Apply `StringIndexer()` to df_vocab"
      ]
    },
    {
      "cell_type": "code",
      "metadata": {
        "id": "Z7D4f-22TNhp"
      },
      "source": [
        "from pyspark.ml.feature import StringIndexer\n",
        "stringindexer = StringIndexer(inputCol='terms', outputCol='StringIndexer(index)')"
      ],
      "execution_count": null,
      "outputs": []
    },
    {
      "cell_type": "code",
      "metadata": {
        "colab": {
          "base_uri": "https://localhost:8080/"
        },
        "id": "TOEwmTMLTNmB",
        "outputId": "06c5cd35-a9ed-494e-d4f8-c684aafe72d5"
      },
      "source": [
        "stringindexer.fit(df_vocab).transform(df_vocab).\\\n",
        "    distinct().\\\n",
        "    orderBy('StringIndexer(index)').show()"
      ],
      "execution_count": null,
      "outputs": [
        {
          "output_type": "stream",
          "text": [
            "+--------+--------------------+\n",
            "|   terms|StringIndexer(index)|\n",
            "+--------+--------------------+\n",
            "|   spark|                 0.0|\n",
            "| awesome|                 1.0|\n",
            "|    very|                 2.0|\n",
            "|       I|                 3.0|\n",
            "|everyone|                 4.0|\n",
            "|      is|                 5.0|\n",
            "|    love|                 6.0|\n",
            "|    much|                 7.0|\n",
            "|  should|                 8.0|\n",
            "|     use|                 9.0|\n",
            "+--------+--------------------+\n",
            "\n"
          ],
          "name": "stdout"
        }
      ]
    },
    {
      "cell_type": "markdown",
      "metadata": {
        "id": "LqED3qvhTbag"
      },
      "source": [
        "The indexing result is consistant for the first three terms. The rest of terms have the same frequency which is 1. These terms can not be sorted by frequency. This might be the reason that their indices don’t match the results from the CountVectorizer() method."
      ]
    },
    {
      "cell_type": "code",
      "metadata": {
        "id": "escWb1yDRHip"
      },
      "source": [
        ""
      ],
      "execution_count": null,
      "outputs": []
    },
    {
      "cell_type": "code",
      "metadata": {
        "id": "1aXpCFu5RHk0"
      },
      "source": [
        ""
      ],
      "execution_count": null,
      "outputs": []
    }
  ]
}