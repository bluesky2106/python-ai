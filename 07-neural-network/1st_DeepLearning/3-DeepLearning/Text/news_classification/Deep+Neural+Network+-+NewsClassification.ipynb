{
 "cells": [
  {
   "cell_type": "markdown",
   "metadata": {},
   "source": [
    "# Deep Neural Network for News Classification: Application\n",
    "\n",
    "You will use use the functions you'd implemented in the previous assignment to build a deep network, and apply it to politics-society news classification. Hopefully, you will see an improvement in accuracy relative to your previous logistic regression implementation.  \n",
    "\n",
    "**After this assignment you will be able to:**\n",
    "- Build and apply a deep neural network to supervised learning. \n",
    "\n",
    "Let's get started!"
   ]
  },
  {
   "cell_type": "markdown",
   "metadata": {},
   "source": [
    "## 1 - Packages"
   ]
  },
  {
   "cell_type": "markdown",
   "metadata": {},
   "source": [
    "Let's first import all the packages that you will need during this assignment. \n",
    "- dnn_app_utils provides the functions implemented in the \"Building your Deep Neural Network: Step by Step\" assignment to this notebook."
   ]
  },
  {
   "cell_type": "code",
   "execution_count": 1,
   "metadata": {},
   "outputs": [],
   "source": [
    "import time\n",
    "import numpy as np\n",
    "import matplotlib.pyplot as plt\n",
    "import pandas as pd\n",
    "from sklearn import model_selection, preprocessing\n",
    "from sklearn.feature_extraction.text import TfidfVectorizer\n",
    "from dnn_app_utils_v2 import *\n",
    "\n",
    "%matplotlib inline\n",
    "plt.rcParams['figure.figsize'] = (5.0, 4.0) # set default size of plots\n",
    "plt.rcParams['image.interpolation'] = 'nearest'\n",
    "plt.rcParams['image.cmap'] = 'gray'\n",
    "\n",
    "%load_ext autoreload\n",
    "%autoreload 2\n",
    "\n",
    "np.random.seed(1)"
   ]
  },
  {
   "cell_type": "markdown",
   "metadata": {},
   "source": [
    "## 2 - Dataset\n",
    "\n",
    "You will use the same dataset as in \"Logistic Regression as a Neural Network\". The model you had built had 84% test accuracy on classifying politics-society vs others news. Hopefully, your new model will perform a better!"
   ]
  },
  {
   "cell_type": "code",
   "execution_count": 2,
   "metadata": {},
   "outputs": [],
   "source": [
    "df = pd.read_csv('news_dataset.csv')"
   ]
  },
  {
   "cell_type": "code",
   "execution_count": 3,
   "metadata": {},
   "outputs": [
    {
     "data": {
      "text/html": [
       "<div>\n",
       "<style scoped>\n",
       "    .dataframe tbody tr th:only-of-type {\n",
       "        vertical-align: middle;\n",
       "    }\n",
       "\n",
       "    .dataframe tbody tr th {\n",
       "        vertical-align: top;\n",
       "    }\n",
       "\n",
       "    .dataframe thead th {\n",
       "        text-align: right;\n",
       "    }\n",
       "</style>\n",
       "<table border=\"1\" class=\"dataframe\">\n",
       "  <thead>\n",
       "    <tr style=\"text-align: right;\">\n",
       "      <th></th>\n",
       "      <th>text</th>\n",
       "      <th>label</th>\n",
       "    </tr>\n",
       "  </thead>\n",
       "  <tbody>\n",
       "    <tr>\n",
       "      <th>0</th>\n",
       "      <td>Nhân tài… đến rồi đi Trong cuộc khảo sát nhan...</td>\n",
       "      <td>Chinhtrixahoi</td>\n",
       "    </tr>\n",
       "    <tr>\n",
       "      <th>1</th>\n",
       "      <td>Tử hình Lâm Bích Thủy và Toàn '6 Ngón'  \\n Hôm...</td>\n",
       "      <td>Khac</td>\n",
       "    </tr>\n",
       "    <tr>\n",
       "      <th>2</th>\n",
       "      <td>Dùng ống chích tống tiền 1 tỉ đồng Tối 19-12,...</td>\n",
       "      <td>Khac</td>\n",
       "    </tr>\n",
       "    <tr>\n",
       "      <th>3</th>\n",
       "      <td>Mekong Capital tăng đầu tư vào VN \\n Ông Chris...</td>\n",
       "      <td>Khac</td>\n",
       "    </tr>\n",
       "    <tr>\n",
       "      <th>4</th>\n",
       "      <td>Tàu hoả húc xe tải gây ách tắc hơn 9 giờ \\n Đo...</td>\n",
       "      <td>Chinhtrixahoi</td>\n",
       "    </tr>\n",
       "  </tbody>\n",
       "</table>\n",
       "</div>"
      ],
      "text/plain": [
       "                                                text          label\n",
       "0   Nhân tài… đến rồi đi Trong cuộc khảo sát nhan...  Chinhtrixahoi\n",
       "1  Tử hình Lâm Bích Thủy và Toàn '6 Ngón'  \\n Hôm...           Khac\n",
       "2   Dùng ống chích tống tiền 1 tỉ đồng Tối 19-12,...           Khac\n",
       "3  Mekong Capital tăng đầu tư vào VN \\n Ông Chris...           Khac\n",
       "4  Tàu hoả húc xe tải gây ách tắc hơn 9 giờ \\n Đo...  Chinhtrixahoi"
      ]
     },
     "execution_count": 3,
     "metadata": {},
     "output_type": "execute_result"
    }
   ],
   "source": [
    "df.head()"
   ]
  },
  {
   "cell_type": "code",
   "execution_count": 4,
   "metadata": {},
   "outputs": [
    {
     "name": "stdout",
     "output_type": "stream",
     "text": [
      "Number of politics-society documents: 200\n",
      "Number of other documents: 200\n"
     ]
    }
   ],
   "source": [
    "size_politics_society = df[df['label'] == 'Chinhtrixahoi'].shape[0]\n",
    "size_others = df[df['label'] == 'Khac'].shape[0]\n",
    "print('Number of politics-society documents: %s' %size_politics_society)\n",
    "print('Number of other documents: %s' %size_others)"
   ]
  },
  {
   "cell_type": "code",
   "execution_count": 5,
   "metadata": {
    "scrolled": true
   },
   "outputs": [
    {
     "data": {
      "text/plain": [
       "\"Tàu hoả húc xe tải gây ách tắc hơn 9 giờ \\n Đoàn tàu D2 từ Sài Gòn ra Đà Nẵng đã húc phải một xe tải Kamaz tại Km 1264 trên đường sắt thuộc huyện Vạn Ninh, tỉnh Khánh Hòa. Xe tải hư hại nặng, đầu máy xe lửa trật đường ray. Tai nạn xảy ra vào 22h30' ngày 1/7 khiến nhiều đoàn tàu bị đình trệ. \\n Đến 7h30 ngày 2/7, giao thông trên đường sắt xuyên Việt mới trở lại bình thường. \\n Theo ông Nguyễn Đình Tân, Giám đốc Xí nghiệp vận tải đường sắt Phú Khánh, nguyên nhân tai nạn do xe tải chở vật liệu nặng băng qua đường sắt nhưng không vượt qua được và nằm chắn ngang trên đường ray. Tài xế xe tải đã bỏ trốn. \\n Tại ga Đà Nẵng, lúc 10h ngày 2/7 nhà ga mới thông báo về sự kiện này khiến hơn 500 hành khách đi trên 7 chuyến tàu E, S đã mua vé từ Đà Nẵng đi ra phía bắc rất bực mình vì phải đợi tàu nhiều giờ, nhất là hàng trăm thí sinh cùng người nhà đi thi đại học tại Vinh và Hà Nội. \\n  \\n \""
      ]
     },
     "execution_count": 5,
     "metadata": {},
     "output_type": "execute_result"
    }
   ],
   "source": [
    "# an example of a politics-society news\n",
    "df['text'][4]"
   ]
  },
  {
   "cell_type": "code",
   "execution_count": 6,
   "metadata": {},
   "outputs": [
    {
     "name": "stdout",
     "output_type": "stream",
     "text": [
      "[\"Chinhtrixahoi\" \"Khac\"] labels corresponds to [0 1] labels\n"
     ]
    }
   ],
   "source": [
    "# split the dataset into training and test datasets \n",
    "train_x, test_x, train_y, test_y = model_selection.train_test_split(df['text'], df['label'])\n",
    "\n",
    "# label encode the target variable, encode labels to 0 or 1\n",
    "encoder = preprocessing.LabelEncoder()\n",
    "train_y = encoder.fit_transform(train_y)\n",
    "test_y = encoder.fit_transform(test_y)\n",
    "print('[\"Chinhtrixahoi\" \"Khac\"] labels corresponds to %s labels' %encoder.transform([\"Chinhtrixahoi\", \"Khac\"]))"
   ]
  },
  {
   "cell_type": "markdown",
   "metadata": {},
   "source": [
    "#### TF-IDF Vectors as features"
   ]
  },
  {
   "cell_type": "code",
   "execution_count": 7,
   "metadata": {},
   "outputs": [],
   "source": [
    "# word level tf-idf\n",
    "tfidf_vect = TfidfVectorizer(analyzer='word', token_pattern=r'\\w{1,}', max_features=5000)\n",
    "tfidf_vect.fit(df['text'])\n",
    "xtrain_tfidf =  tfidf_vect.transform(train_x)\n",
    "xtest_tfidf =  tfidf_vect.transform(test_x)"
   ]
  },
  {
   "cell_type": "code",
   "execution_count": 8,
   "metadata": {},
   "outputs": [
    {
     "name": "stdout",
     "output_type": "stream",
     "text": [
      "Number of training documents: 300\n",
      "Number of testing documents: 100\n",
      "Number of features of each document: 5000\n",
      "xtrain_tfidf shape: (300, 5000)\n",
      "train_y shape: (300,)\n",
      "xtest_tfidf shape: (100, 5000)\n",
      "test_y shape: (100,)\n"
     ]
    }
   ],
   "source": [
    "# Getting transformed training and testing dataset\n",
    "print('Number of training documents: %s' %str(xtrain_tfidf.shape[0]))\n",
    "print('Number of testing documents: %s' %str(xtest_tfidf.shape[0]))\n",
    "print('Number of features of each document: %s' %str(xtrain_tfidf.shape[1]))\n",
    "print('xtrain_tfidf shape: %s' %str(xtrain_tfidf.shape))\n",
    "print('train_y shape: %s' %str(train_y.shape))\n",
    "print('xtest_tfidf shape: %s' %str(xtest_tfidf.shape))\n",
    "print('test_y shape: %s' %str(test_y.shape))"
   ]
  },
  {
   "cell_type": "code",
   "execution_count": 9,
   "metadata": {},
   "outputs": [],
   "source": [
    "# To have matrix/vector dimensions that fit out networks\n",
    "# you should now transpose the training and testing numpy-array, \n",
    "# and expand the shape of the lable arrays in the axis=0 position.train_y = np.expand_dims(train_y, axis=0)\n",
    "train_y = np.expand_dims(train_y, axis=0)\n",
    "test_y = np.expand_dims(test_y, axis=0)\n",
    "\n",
    "# for convenience in this exercise, we also use toarray() to convert sparse to dense matrix \n",
    "xtrain_tfidf =  xtrain_tfidf.T.toarray() \n",
    "xtest_tfidf =  xtest_tfidf.T.toarray()\n",
    "### END CODE HERE ###"
   ]
  },
  {
   "cell_type": "code",
   "execution_count": 10,
   "metadata": {},
   "outputs": [
    {
     "name": "stdout",
     "output_type": "stream",
     "text": [
      "xtrain_tfidf shape: (5000, 300)\n",
      "train_y shape: (1, 300)\n",
      "xtest_tfidf shape: (5000, 100)\n",
      "test_y shape: (1, 100)\n"
     ]
    }
   ],
   "source": [
    "# New shape \n",
    "print('xtrain_tfidf shape: %s' %str(xtrain_tfidf.shape))\n",
    "print('train_y shape: %s' %str(train_y.shape))\n",
    "print('xtest_tfidf shape: %s' %str(xtest_tfidf.shape))\n",
    "print('test_y shape: %s' %str(test_y.shape))"
   ]
  },
  {
   "cell_type": "markdown",
   "metadata": {},
   "source": [
    "## 3 - Architecture of your model"
   ]
  },
  {
   "cell_type": "markdown",
   "metadata": {},
   "source": [
    "Now that you are familiar with the dataset, it is time to build a deep neural network to distinguish politics-society news from other news.\n",
    "\n",
    "You will build two different models:\n",
    "- A 2-layer neural network\n",
    "- An L-layer deep neural network\n",
    "\n",
    "You will then compare the performance of these models, and also try out different values for $L$. \n",
    "\n",
    "Let's look at the two architectures.\n",
    "\n",
    "### 3.1 - 2-layer neural network\n",
    "#### An analogy between images and news classifcation\n",
    "\n",
    "<img src=\"images/2layerNN_kiank.png\" style=\"width:650px;height:400px;\">\n",
    "<caption><center> <u>Figure 2</u>: 2-layer neural network. <br> The model can be summarized as: ***INPUT -> LINEAR -> RELU -> LINEAR -> SIGMOID -> OUTPUT***. </center></caption>\n",
    "\n",
    "<u>Detailed Architecture of figure 2</u>:\n",
    "- The input is a (64,64,3) image which is flattened to a vector of size $(12288,1)$. \n",
    "- The corresponding vector: $[x_0,x_1,...,x_{12287}]^T$ is then multiplied by the weight matrix $W^{[1]}$ of size $(n^{[1]}, 12288)$.\n",
    "- You then add a bias term and take its relu to get the following vector: $[a_0^{[1]}, a_1^{[1]},..., a_{n^{[1]}-1}^{[1]}]^T$.\n",
    "- You then repeat the same process.\n",
    "- You multiply the resulting vector by $W^{[2]}$ and add your intercept (bias). \n",
    "- Finally, you take the sigmoid of the result. If it is greater than 0.5, you classify it to be a cat.\n",
    "\n",
    "### 3.2 - L-layer deep neural network\n",
    "#### An analogy between images and news classifcation\n",
    "\n",
    "It is hard to represent an L-layer deep neural network with the above representation. However, here is a simplified network representation:\n",
    "\n",
    "<img src=\"images/LlayerNN_kiank.png\" style=\"width:650px;height:400px;\">\n",
    "<caption><center> <u>Figure 3</u>: L-layer neural network. <br> The model can be summarized as: ***[LINEAR -> RELU] $\\times$ (L-1) -> LINEAR -> SIGMOID***</center></caption>\n",
    "\n",
    "<u>Detailed Architecture of figure 3</u>:\n",
    "- The input is a (64,64,3) image which is flattened to a vector of size (12288,1).\n",
    "- The corresponding vector: $[x_0,x_1,...,x_{12287}]^T$ is then multiplied by the weight matrix $W^{[1]}$ and then you add the intercept $b^{[1]}$. The result is called the linear unit.\n",
    "- Next, you take the relu of the linear unit. This process could be repeated several times for each $(W^{[l]}, b^{[l]})$ depending on the model architecture.\n",
    "- Finally, you take the sigmoid of the final linear unit. If it is greater than 0.5, you classify it to be a cat.\n",
    "\n",
    "### 3.3 - General methodology\n",
    "\n",
    "As usual you will follow the Deep Learning methodology to build the model:\n",
    "    1. Initialize parameters / Define hyperparameters\n",
    "    2. Loop for num_iterations:\n",
    "        a. Forward propagation\n",
    "        b. Compute cost function\n",
    "        c. Backward propagation\n",
    "        d. Update parameters (using parameters, and grads from backprop) \n",
    "    4. Use trained parameters to predict labels\n",
    "\n",
    "Let's now implement those two models!"
   ]
  },
  {
   "cell_type": "markdown",
   "metadata": {},
   "source": [
    "## 4 - Two-layer neural network\n",
    "\n",
    "**Question**:  Use the helper functions you have implemented in the previous assignment to build a 2-layer neural network with the following structure: *LINEAR -> RELU -> LINEAR -> SIGMOID*. The functions you may need and their inputs are:\n",
    "```python\n",
    "def initialize_parameters(n_x, n_h, n_y):\n",
    "    ...\n",
    "    return parameters \n",
    "def linear_activation_forward(A_prev, W, b, activation):\n",
    "    ...\n",
    "    return A, cache\n",
    "def compute_cost(AL, Y):\n",
    "    ...\n",
    "    return cost\n",
    "def linear_activation_backward(dA, cache, activation):\n",
    "    ...\n",
    "    return dA_prev, dW, db\n",
    "def update_parameters(parameters, grads, learning_rate):\n",
    "    ...\n",
    "    return parameters\n",
    "```"
   ]
  },
  {
   "cell_type": "code",
   "execution_count": 11,
   "metadata": {},
   "outputs": [],
   "source": [
    "### CONSTANTS DEFINING THE MODEL ####\n",
    "n_x = 5000\n",
    "n_h = 7\n",
    "n_y = 1\n",
    "layers_dims = (n_x, n_h, n_y)"
   ]
  },
  {
   "cell_type": "code",
   "execution_count": 12,
   "metadata": {},
   "outputs": [],
   "source": [
    "# GRADED FUNCTION: two_layer_model\n",
    "\n",
    "def two_layer_model(X, Y, layers_dims, learning_rate = 0.1, num_iterations = 2000, print_cost=False):\n",
    "    \"\"\"\n",
    "    Implements a two-layer neural network: LINEAR->RELU->LINEAR->SIGMOID.\n",
    "    \n",
    "    Arguments:\n",
    "    X -- input data, of shape (n_x, number of examples)\n",
    "    Y -- true \"label\" vector (containing 0 if cat, 1 if non-cat), of shape (1, number of examples)\n",
    "    layers_dims -- dimensions of the layers (n_x, n_h, n_y)\n",
    "    num_iterations -- number of iterations of the optimization loop\n",
    "    learning_rate -- learning rate of the gradient descent update rule\n",
    "    print_cost -- If set to True, this will print the cost every 100 iterations \n",
    "    \n",
    "    Returns:\n",
    "    parameters -- a dictionary containing W1, W2, b1, and b2\n",
    "    \"\"\"\n",
    "    \n",
    "    np.random.seed(1)\n",
    "    grads = {}\n",
    "    costs = []                              # to keep track of the cost\n",
    "    m = X.shape[1]                           # number of examples\n",
    "    (n_x, n_h, n_y) = layers_dims\n",
    "    \n",
    "    # Initialize parameters dictionary, by calling one of the functions you'd previously implemented\n",
    "    ### START CODE HERE ### (≈ 1 line of code)\n",
    "    parameters = initialize_parameters(n_x, n_h, n_y)\n",
    "    ### END CODE HERE ###\n",
    "    \n",
    "    # Get W1, b1, W2 and b2 from the dictionary parameters.\n",
    "    W1 = parameters[\"W1\"]\n",
    "    b1 = parameters[\"b1\"]\n",
    "    W2 = parameters[\"W2\"]\n",
    "    b2 = parameters[\"b2\"]\n",
    "    \n",
    "    # Loop (gradient descent)\n",
    "\n",
    "    for i in range(0, num_iterations):\n",
    "\n",
    "        # Forward propagation: LINEAR -> RELU -> LINEAR -> SIGMOID. Inputs: \"X, W1, b1, W2, b2\". Output: \"A1, cache1, A2, cache2\".\n",
    "        ### START CODE HERE ### (≈ 2 lines of code)\n",
    "        A1, cache1 = linear_activation_forward(X,W1,b1,activation='relu')\n",
    "        A2, cache2 = linear_activation_forward(A1,W2,b2,activation='sigmoid')\n",
    "        ### END CODE HERE ###\n",
    "        \n",
    "        # Compute cost\n",
    "        ### START CODE HERE ### (≈ 1 line of code)\n",
    "        cost = compute_cost(A2,Y)\n",
    "        ### END CODE HERE ###\n",
    "        \n",
    "        # Initializing backward propagation\n",
    "        dA2 = - (np.divide(Y, A2) - np.divide(1 - Y, 1 - A2))\n",
    "        \n",
    "        # Backward propagation. Inputs: \"dA2, cache2, cache1\". Outputs: \"dA1, dW2, db2; also dA0 (not used), dW1, db1\".\n",
    "        ### START CODE HERE ### (≈ 2 lines of code)\n",
    "        dA1, dW2, db2 = linear_activation_backward(dA2, cache2,activation='sigmoid')\n",
    "        dA0, dW1, db1 = linear_activation_backward(dA1, cache1,activation='relu') \n",
    "        ### END CODE HERE ###\n",
    "        \n",
    "        # Set grads['dWl'] to dW1, grads['db1'] to db1, grads['dW2'] to dW2, grads['db2'] to db2\n",
    "        grads['dW1'] = dW1\n",
    "        grads['db1'] = db1\n",
    "        grads['dW2'] = dW2\n",
    "        grads['db2'] = db2\n",
    "        \n",
    "        # Update parameters.\n",
    "        ### START CODE HERE ### (approx. 1 line of code)\n",
    "        parameters = update_parameters(parameters,grads,learning_rate)\n",
    "        ### END CODE HERE ###\n",
    "\n",
    "        # Retrieve W1, b1, W2, b2 from parameters\n",
    "        W1 = parameters[\"W1\"]\n",
    "        b1 = parameters[\"b1\"]\n",
    "        W2 = parameters[\"W2\"]\n",
    "        b2 = parameters[\"b2\"]\n",
    "        \n",
    "        # Print the cost every 100 training example\n",
    "        if print_cost and i % 100 == 0:\n",
    "            print(\"Cost after iteration {}: {}\".format(i, np.squeeze(cost)))\n",
    "        if print_cost and i % 100 == 0:\n",
    "            costs.append(cost)\n",
    "       \n",
    "    # plot the cost\n",
    "\n",
    "    plt.plot(np.squeeze(costs))\n",
    "    plt.ylabel('cost')\n",
    "    plt.xlabel('iterations (per tens)')\n",
    "    plt.title(\"Learning rate =\" + str(learning_rate))\n",
    "    plt.show()\n",
    "    \n",
    "    return parameters"
   ]
  },
  {
   "cell_type": "markdown",
   "metadata": {},
   "source": [
    "Run the cell below to train your parameters. See if your model runs. The cost should be decreasing."
   ]
  },
  {
   "cell_type": "code",
   "execution_count": 13,
   "metadata": {},
   "outputs": [
    {
     "name": "stdout",
     "output_type": "stream",
     "text": [
      "Cost after iteration 0: 0.6931475379427394\n",
      "Cost after iteration 100: 0.6931321574776348\n",
      "Cost after iteration 200: 0.6931064067560664\n",
      "Cost after iteration 300: 0.6930518851628301\n",
      "Cost after iteration 400: 0.692926173072435\n",
      "Cost after iteration 500: 0.6926336626751213\n",
      "Cost after iteration 600: 0.6919475739568351\n",
      "Cost after iteration 700: 0.6903564593439382\n",
      "Cost after iteration 800: 0.6866952341352913\n",
      "Cost after iteration 900: 0.6784391061234374\n",
      "Cost after iteration 1000: 0.6605496356627871\n",
      "Cost after iteration 1100: 0.6248107303348885\n",
      "Cost after iteration 1200: 0.5627344398361673\n",
      "Cost after iteration 1300: 0.47473821377770264\n",
      "Cost after iteration 1400: 0.376838128025999\n",
      "Cost after iteration 1500: 0.28860380548451836\n",
      "Cost after iteration 1600: 0.2189201279759746\n",
      "Cost after iteration 1700: 0.167212894583082\n",
      "Cost after iteration 1800: 0.1296663607934322\n",
      "Cost after iteration 1900: 0.10240758573940034\n",
      "Cost after iteration 2000: 0.08243792619729824\n",
      "Cost after iteration 2100: 0.06760549382398777\n",
      "Cost after iteration 2200: 0.05640959854509014\n",
      "Cost after iteration 2300: 0.047813225913031616\n",
      "Cost after iteration 2400: 0.04109940303209392\n"
     ]
    },
    {
     "data": {
      "image/png": "[encoded data removed]",
      "text/plain": [
       "<Figure size 432x288 with 1 Axes>"
      ]
     },
     "metadata": {},
     "output_type": "display_data"
    }
   ],
   "source": [
    "parameters = two_layer_model(xtrain_tfidf, train_y, layers_dims = (n_x, n_h, n_y), num_iterations = 2500, print_cost=True)"
   ]
  },
  {
   "cell_type": "markdown",
   "metadata": {},
   "source": [
    "Good thing you built a vectorized implementation! Otherwise it might have taken 10 times longer to train this.\n",
    "\n",
    "Now, you can use the trained parameters to classify news from the dataset. To see your predictions on the training and test sets, run the cell below."
   ]
  },
  {
   "cell_type": "code",
   "execution_count": 14,
   "metadata": {},
   "outputs": [
    {
     "name": "stdout",
     "output_type": "stream",
     "text": [
      "Accuracy: 1.0000000000000002\n"
     ]
    }
   ],
   "source": [
    "predictions_train = predict(xtrain_tfidf, train_y, parameters)"
   ]
  },
  {
   "cell_type": "code",
   "execution_count": 15,
   "metadata": {
    "scrolled": true
   },
   "outputs": [
    {
     "name": "stdout",
     "output_type": "stream",
     "text": [
      "Accuracy: 0.8699999999999999\n"
     ]
    }
   ],
   "source": [
    "predictions_test = predict(xtest_tfidf, test_y, parameters)"
   ]
  },
  {
   "cell_type": "markdown",
   "metadata": {},
   "source": [
    "**Note**: Running the model on fewer iterations may gives better accuracy on the test set. This is called \"early stopping\" and we will talk about it in the next course. Early stopping is a way to prevent overfitting. \n",
    "\n",
    "Congratulations! It seems that your 2-layer neural network has better performance than the logistic regression implementation. Let's see if you can do even better with an $L$-layer model."
   ]
  },
  {
   "cell_type": "markdown",
   "metadata": {},
   "source": [
    "## 5 - L-layer Neural Network\n",
    "\n",
    "**Question**: Use the helper functions you have implemented previously to build an $L$-layer neural network with the following structure: *[LINEAR -> RELU]$\\times$(L-1) -> LINEAR -> SIGMOID*. The functions you may need and their inputs are:\n",
    "```python\n",
    "def initialize_parameters_deep(layers_dims):\n",
    "    ...\n",
    "    return parameters \n",
    "def L_model_forward(X, parameters):\n",
    "    ...\n",
    "    return AL, caches\n",
    "def compute_cost(AL, Y):\n",
    "    ...\n",
    "    return cost\n",
    "def L_model_backward(AL, Y, caches):\n",
    "    ...\n",
    "    return grads\n",
    "def update_parameters(parameters, grads, learning_rate):\n",
    "    ...\n",
    "    return parameters\n",
    "```"
   ]
  },
  {
   "cell_type": "code",
   "execution_count": 16,
   "metadata": {},
   "outputs": [],
   "source": [
    "### CONSTANTS ###\n",
    "layers_dims = [5000, 20, 7, 5, 1] #  4-layer model"
   ]
  },
  {
   "cell_type": "code",
   "execution_count": 17,
   "metadata": {},
   "outputs": [],
   "source": [
    "# GRADED FUNCTION: L_layer_model\n",
    "\n",
    "def L_layer_model(X, Y, layers_dims, learning_rate = 0.1, num_iterations = 2000, print_cost=False):#lr was 0.009\n",
    "    \"\"\"\n",
    "    Implements a L-layer neural network: [LINEAR->RELU]*(L-1)->LINEAR->SIGMOID.\n",
    "    \n",
    "    Arguments:\n",
    "    X -- data, numpy array of shape (number of examples, num_px * num_px * 3)\n",
    "    Y -- true \"label\" vector (containing 0 if cat, 1 if non-cat), of shape (1, number of examples)\n",
    "    layers_dims -- list containing the input size and each layer size, of length (number of layers + 1).\n",
    "    learning_rate -- learning rate of the gradient descent update rule\n",
    "    num_iterations -- number of iterations of the optimization loop\n",
    "    print_cost -- if True, it prints the cost every 100 steps\n",
    "    \n",
    "    Returns:\n",
    "    parameters -- parameters learnt by the model. They can then be used to predict.\n",
    "    \"\"\"\n",
    "\n",
    "    np.random.seed(1)\n",
    "    costs = []                         # keep track of cost\n",
    "    \n",
    "    # Parameters initialization. (≈ 1 line of code)\n",
    "    ### START CODE HERE ###\n",
    "    parameters = initialize_parameters_deep(layers_dims)\n",
    "    ### END CODE HERE ###\n",
    "    \n",
    "    # Loop (gradient descent)\n",
    "    for i in range(0, num_iterations):\n",
    "\n",
    "        # Forward propagation: [LINEAR -> RELU]*(L-1) -> LINEAR -> SIGMOID.\n",
    "        ### START CODE HERE ### (≈ 1 line of code)\n",
    "        AL, caches = L_model_forward(X,parameters)\n",
    "        ### END CODE HERE ###\n",
    "        \n",
    "        # Compute cost.\n",
    "        ### START CODE HERE ### (≈ 1 line of code)\n",
    "        cost = compute_cost(AL,Y)\n",
    "        ### END CODE HERE ###\n",
    "    \n",
    "        # Backward propagation.\n",
    "        ### START CODE HERE ### (≈ 1 line of code)\n",
    "        grads = L_model_backward(AL,Y,caches)\n",
    "        ### END CODE HERE ###\n",
    " \n",
    "        # Update parameters.\n",
    "        ### START CODE HERE ### (≈ 1 line of code)\n",
    "        parameters = update_parameters(parameters,grads,learning_rate)\n",
    "        ### END CODE HERE ###\n",
    "                \n",
    "        # Print the cost every 100 training example\n",
    "        if print_cost and i % 100 == 0:\n",
    "            print (\"Cost after iteration %i: %f\" %(i, cost))\n",
    "        if print_cost and i % 100 == 0:\n",
    "            costs.append(cost)\n",
    "            \n",
    "    # plot the cost\n",
    "    plt.plot(np.squeeze(costs))\n",
    "    plt.ylabel('cost')\n",
    "    plt.xlabel('iterations (per tens)')\n",
    "    plt.title(\"Learning rate =\" + str(learning_rate))\n",
    "    plt.show()\n",
    "    \n",
    "    return parameters"
   ]
  },
  {
   "cell_type": "markdown",
   "metadata": {},
   "source": [
    "You will now train the model as a 4-layer neural network. \n",
    "\n",
    "Run the cell below to train your model. The cost should decrease on every iteration."
   ]
  },
  {
   "cell_type": "code",
   "execution_count": 18,
   "metadata": {
    "scrolled": false
   },
   "outputs": [
    {
     "name": "stdout",
     "output_type": "stream",
     "text": [
      "Cost after iteration 0: 0.692959\n",
      "Cost after iteration 100: 0.680836\n",
      "Cost after iteration 200: 0.627360\n",
      "Cost after iteration 300: 0.429158\n",
      "Cost after iteration 400: 0.044286\n"
     ]
    },
    {
     "data": {
      "image/png": "[encoded data removed]",
      "text/plain": [
       "<Figure size 432x288 with 1 Axes>"
      ]
     },
     "metadata": {},
     "output_type": "display_data"
    }
   ],
   "source": [
    "parameters = L_layer_model(xtrain_tfidf, train_y, layers_dims, num_iterations = 500, print_cost = True)"
   ]
  },
  {
   "cell_type": "code",
   "execution_count": 19,
   "metadata": {
    "scrolled": true
   },
   "outputs": [
    {
     "name": "stdout",
     "output_type": "stream",
     "text": [
      "Accuracy: 1.0000000000000002\n"
     ]
    }
   ],
   "source": [
    "pred_train = predict(xtrain_tfidf, train_y, parameters)"
   ]
  },
  {
   "cell_type": "code",
   "execution_count": 20,
   "metadata": {},
   "outputs": [
    {
     "name": "stdout",
     "output_type": "stream",
     "text": [
      "Accuracy: 0.8799999999999999\n"
     ]
    }
   ],
   "source": [
    "pred_test = predict(xtest_tfidf, test_y, parameters)"
   ]
  },
  {
   "cell_type": "markdown",
   "metadata": {},
   "source": [
    "It seems that your 4-layer neural network has slightly better performance (88%) than 2-layer neural network (87%) on the same test set. The 4-layer network also needs much less iterations to converge.\n",
    "\n",
    "This is good performance for this task. Nice job! \n",
    "\n",
    "Though in the next course on \"Improving deep neural networks\" you will learn how to obtain even higher accuracy by systematically searching for better hyperparameters (learning_rate, layers_dims, num_iterations, and others you'll also learn in the next course). "
   ]
  },
  {
   "cell_type": "markdown",
   "metadata": {},
   "source": [
    "##  6) Results Analysis\n",
    "\n",
    "First, let's take a look at some news the L-layer model labeled incorrectly. This will show a few mislabeled news. "
   ]
  },
  {
   "cell_type": "code",
   "execution_count": 21,
   "metadata": {
    "scrolled": false
   },
   "outputs": [],
   "source": [
    "a = pred_test + test_y\n",
    "mislabeled_indices = np.asarray(np.where(a == 1))"
   ]
  },
  {
   "cell_type": "code",
   "execution_count": 22,
   "metadata": {},
   "outputs": [
    {
     "name": "stdout",
     "output_type": "stream",
     "text": [
      "This is \"Khac\" news, you predicted it is \"Chinhtrixahoi\" news: \n",
      "\n",
      "67 hãng lữ hành nhận giải thưởng The Guide AwardsGiải thưởng The Guide Awards 2003 dành cho các doanh nghiệp dịch vụ du lịch tại Việt Nam sẽ được diễn ra vào tối 26/3 tại Dinh Thống Nhất (TP HCM). Đây là lần thứ 5 giải được tổ chức có số lượng doanh nghiệp đoạt giải cao nhất.Điểm nhấn của giải thưởng năm nay là bảo vệ môi trường với hai giải dành cho Furama Resort và Victoria Châu Đốc.Như mọi năm, nhóm khách sạn vẫn có nhiều giải thưởng nhất với 15 khách sạn đoạt giải. Japan Airlines, Cathay Pacific Airways và Thai Airways nhận được giải mới giành cho hãng hàng không có dịch vụ tốt nhất, dịch vụ hoàn hảo và có giá cạnh tranh nhất. Hai hãng taxi Hà Nội và TP HCM năm nay cũng được bình chọn là hãng taxi tốt nhất.Trong ngày trao giải, hội xuân chào mừng và cổ vũ cho ngành du lịch Việt Nam dự kiến sẽ thu hút khoảng 10.000 lượt công chúng tham dự. Có gần 60 gian hàng của các doanh nghiệp du lịch được triển lãm cùng với các cuộc thi dành cho đông đảo người tham dự về Kiến thức du lịch và Đồng hành cùng du lịch Việt Nam. Diễn đàn \"vì sự phát triển của môi trường du lịch Việt Nam\" cũng sẽ diễn ra vào chiều 26/3.\n",
      "------------------------------------------------------------\n",
      "This is \"Khac\" news, you predicted it is \"Chinhtrixahoi\" news: \n",
      "\n",
      "Bộ Xây dựng đánh giá cao đồ án khu đô thị Thủ Thiêm\"Qua thẩm định, bản đồ án quy hoạch khu đô thị Thủ Thiêm toát lên ý tưởng thiết kế mang tính đương đại, bản sắc đặc thù sông nước. Khu mang tính hiện đại bền vững và có hướng phát triển\" - Thứ trưởng Xây dựng Nguyễn Tấn Vạn nhận xét.Bộ Xây dựng cũng đánh giá vị trí đặc biệt quan trọng của khu đô thị gắn với sự phát triển của TP HCM. Đặc biệt, tại đây sẽ có nhiều khu chức năng mà một thành phố lớn cần có như trung tâm hội nghị quốc tế, quảng trường, tháp truyền hình... Với phạm vi nghiên cứu rộng hơn 737 ha, quy hoạch khu đô thị Thủ Thiêm phù hợp với định hướng quy hoạch TP HCM tới năm 2020.Theo báo cáo của Công ty tư vấn Sasaki (Mỹ), khu đô thị sẽ hình thành 5 khu chính, trong đó, khu lõi sẽ là trung tâm thương mại và tài chính quốc tế, bao gồm toà tháp văn phòng, khu thương mại và các khu vực công cộng rộng như quảng trường trung tâm và công viên vòng cung bờ sông, tháp truyền hình, sân vận động ngoài trời. Trong khu lõi có đan xen những khu dân cư với dân số dự kiến 40.000 người. Trong khu lõi có những công trình từ 10 đến 40 tầng nằm dọc theo đại lộ Vòng Cung.Ngoài ra, các khu dân cư phía bắc và phía đông với nhiều toà nhà cao từ 10 đến 32 tầng, công viên, trường học, bến du thuyền, dự kiến sẽ có 13 vạn dân sinh sống. Đặc biệt, khu ngập nước phía nam với đề xuất khôi phục rừng tràm sẽ được dành cho mục đích nghỉ ngơi giải trí, không chỉ nhằm gìn giữ một phần văn hoá của Thủ Thiêm và TP HCM mà sẽ đưa Thủ Thiêm trở thành khu đô thị sinh thái.Tại buổi thẩm định quy hoạch khu đô thị Thủ Thiêm hôm qua, nhiều chuyên gia ngành xây dựng, kiến trúc đã đánh giá cao bản quy hoạch mà Công ty tư vấn Sasaki đưa ra. Tuy nhiên, còn một số ý kiến chưa đồng thuận về mạng lưới giao thông, mật độ xây dựng nhà ở. Phần lớn nhà xây dựng tại khu vực này cao từ 10 đến 40 tầng có thể phá cảnh quan sinh thái. Theo ông Nguyễn Trực Luyện, Chủ tịch Hội Kiến trúc sư Việt Nam, Thủ Thiêm là cửa ngõ phía đông của thành phố nên cần có điểm nhấn rõ rệt hơn nữa. Quảng trường trung tâm và đại lộ Đông Tây hiện chưa rõ ràng về kiến trúc để tạo điểm nhấn.\"Giao thông của khu đô thị cần nằm trong mạng lưới giao thông tổng thể của thành phố. Đại lộ Đông Tây có mặt cắt rộng 100m và nhiều tuyến đi ngang thì cần có giải pháp hạn chế tốc độ, nếu không sẽ dễ gây tai nạn giao thông\", ông Lưu Đức Hải, Viện trưởng Viện quy hoạch đô thị nông thôn nhận xét.Khu đô thị mới Thủ Thiêm được xây dựng theo 4 giai đoạn: - Giai đoạn 1 (2005-2010): phát triển trên 350 ha. Xây dựng phần lớn của khu lõi trung tâm và khu dân cư phía đông như đại lộ Đông Tây, cầu Thủ Thiêm, trung tâm hội nghị quốc tế, quảng trường trung tâm...- Giai đoạn 2 (2010-2015): sẽ hoàn tất khu lõi và khu đa chức năng đại lộ Đông Tây, như trung tâm tài chính, khu giải trí, thể thao, công viên trung tâm, quận dân cư ven công viên trung tâm.- Giai đoạn 3 (2015-2020): xây dựng trên diện tích 87ha, bao gồm đại lộ Vầng Trăng, khu dân cư phía bắc, công viên bên sông.- Giai đoạn 4 (2020-2025) phát triển 120 ha còn lại bao gồm các hạng mục cầu, đường tiếp cận vùng châu thổ, công viên nước, bến du thuyền...\n",
      "------------------------------------------------------------\n",
      "This is \"Khac\" news, you predicted it is \"Chinhtrixahoi\" news: \n",
      "\n",
      "Ẩm thực đêm Nha TrangChợ ẩm thực này đặt tại Công viên Phù Đổng (thành phố Nha Trang), với hàng trăm món ăn từ cao cấp đến bình dân. Ai đã tới đây cũng ăn một thứ gì đó. Chất lượng món ăn có thể chưa cao, giá cả rẻ, nhưng quan trọng là bạn đang sống giữa một làng quê thật sự.Bước chân vào chợ thực khách bắt gặp ngay không khí ồn ã của chợ quê, của hội ăn uống. Mọi người đến đây đều ăn mặc đẹp, từ người phục vụ đến khách và cả những \"tiệm\" bán đồ ăn cũng trình bày khá đẹp. Ở ngay trung tâm chợ là những bộ bàn ghế làm bằng tre. Khách có thể đi ngắm nhìn các nơi bán hàng, sau đó ngồi vào bất cứ chỗ nào, ngay tức khắc sẽ có một cô gái mặc đồ bà ba bước ra với giọng dịu dàng mời khách. Ngay cả những vật dụng dùng để đựng thực phẩm ở đây như chén, tô đều là loại hay dùng ở thôn quê. Ngọn đèn dầu mù mù đặt trên bàn. Giữa chợ được thiết kế có cả những cây chuối, cây cau&Thực đơn ở đây thật là đa dạng với trên 200 món ăn. Tất cả đều là những món rất quê, tất nhiên cũng kèm theo những món nhậu cho các vị khách thích lai rai. Mỗi nơi bán hàng lại thiết kế theo cách riêng: đầu bếp chế biến tại chỗ, khách tới chơi được ngắm nhìn và thưởng thức không gian riêng của chợ. Còn giá cả ở đây, theo lời một vị khách thì \"rẻ bất ngờ\". Tô bún chỉ có 5.000 đồng, bia Sài Gòn cũng bán theo giá bình dân: 6.500 đồng/chai cao. Tiệm ăn của Công viên Phù Đổng có cánh gà chiên mắm, chim cút, tôm tổ yến& Nhà hàng khách sạn Hải Yến, một khách sạn 3 sao, lại có thực đơn rất \"nhà quê\": bún bò, bánh xèo, phở và còn có cả món ăn chỉ có ở TP HCM như bò bía, gỏi cuốn& Nhà hàng Viễn Đông lại bán những thứ cũng chẳng đụng hàng: mì Quảng, bún nước lèo Cần Thơ, gỏi rau câu, chả cá Hà Nội& Cửa hàng Bốn Mùa cũng có thực đơn riêng: bánh nậm, bánh ướt, bánh bột lọc, vịt lộn, bánh bao, cháo trắng& Riêng nem nướng Ninh Hòa cũng chiếm một chỗ riêng. Ngoài ra không thiếu các gánh hàng chè gánh đi dạo, mời khách&\n",
      "------------------------------------------------------------\n",
      "This is \"Khac\" news, you predicted it is \"Chinhtrixahoi\" news: \n",
      "\n",
      "Người Thái chê gà nhưng vẫn ăn vịtCác quán ăn Tàu ở Bangkok cho hay kể từ khi dịch cúm gà bùng phát, món này bị ế và đưa ra khỏi thực đơn. Nhưng điều lạ là thịt vịt vẫn được nhiều thực khách yêu cầu, bởi họ cho rằng virus gây cúm gà không nhiễm vào những gia cầm sống dưới nước.Một tiếp viên ở nhà hàng An An Lão ở quận Soi Thong Lo cho biết chỉ bán được vài suất có thịt gà trong suốt tuần qua, khi những ca cúm gà đầu tiên của nước này được công bố. Nhà hàng giờ chỉ dùng một con gà mỗi ngày, so với ít nhất 20 con trước kia. Tuy thế, món vịt quay Bắc Kinh sở trường vẫn là thứ được ưa chuộng.Để tránh nguy cơ bị nhiễm cúm gà, nhiều đầu bếp quyết định dùng gà đông lạnh mua từ trước, thay vì dùng gà tươi.Quản lý nhà hàng Hoa Sui Sian thuộc khách sạn Landmark Hotel thì cho hay nỗi sợ cúm gà khiến các đơn hàng sụt giảm hẳn. Thế nhưng món vịt vẫn bán chạy, bởi theo cô, khách hàng cho rằng các loài gia cầm sống dưới nước miễn nhiễm virus cúm gà.Một số nhà hàng thì cẩn thận loại cả gà lẫn vịt khỏi thực đơn, dù món vịt quay luôn được đặt mua.\"Thông thường chúng tôi dùng 30-40 con gà và vịt trong thực đơn hàng ngày. Nhưng hiện tại chỉ một gà, một vịt. Chúng tôi ngừng mua gà từ tuần trước, và đã loại vịt khỏi danh sách các món ăn\", nhân viên điều hành quán ăn Tàu Golden Dragon kể.\n",
      "------------------------------------------------------------\n",
      "This is \"Khac\" news, you predicted it is \"Chinhtrixahoi\" news: \n",
      "\n",
      " Thêm lợi ích cho DN tham gia tháng khuyến mãiSự phối hợp giữa các sở ngành liên quan chưa chặt chẽ, không đạt được mục tiêu thu hút khách du lịch quốc tế, nội dung lẫn hình thức thực hiện chương trình chưa tiếp cận được với số đông người tiêu dùng, biên độ giảm giá của các mặt hàng khuyến mại chưa cao… là một trong những mặt hạn chế trong chương trình vừa qua.Theo ông Nhung, để khắc phục các khiếm khuyết nói trên cho đợt khuyến mãi thứ hai được tổ chức vào tháng 9 tới, ban tổ chức sẽ mời một số DN vào nằm trong thành phần BTC để có được những ý kiến đóng góp thiết thực hơn. Đồng thời, việc nghiên cứu để đưa ra các lợi ích thiết yếu gắn chặt với quyền lợi của từng DN khi tham gia chương trình cũng sẽ được đưa vào trong đợt tổ chức tới.\n",
      "------------------------------------------------------------\n",
      "This is \"Chinhtrixahoi\" news, you predicted it is \"Khac\" news: \n",
      "\n",
      " Cả làng hát karaoke chờ đón giao thừa Cha con anh Trần Minh đang thử lại giàn máy karaoke, để chuẩn bị hát karaoke chờ đón giao thừa (NLĐO)-Theo lời của các “chiến hữu” đang ngồi nhâm nhi ly rượu trong nhà anh Thành, bây giờ quê tôi nổi lên “phong trào” đua nhau đi sắm giàn karaoke để hát trong những ngày tết Nguyên Đán.Từ thành phồ Đà Nẵng vượt gần 100 km mới về đến quê tôi (thôn Hòa Mỹ, xã Tam Nghĩa, Núi Thành, tỉnh Quảng Nam) để ăn tết Nguyên đán cùng gia đình. Vừa đến đầu làng, bỗng nghe tiếng gọi: “Thằng Dũng về đó hả, vào đây hát với mấy anh mày một bài cho vui. Anh mới mua giàn máy karaoke hoành tráng”, anh Nguyễn Văn Thành vui mừng mời tôi như vậy.Từ một làng quê nghèo...Mùa xuân này năm trước, quê tôi nghèo lắm, nghèo đến độ không ít gia đình không đủù tiền mua đồ tết cho con, không mua nổi ký thịt heo đón tết. Nhưng từ khi các nhà máy nằm trong Khu Kinh tế mở Chu Lai mọc lên trên vùng cát trắng, người dân quê tôi đã chuyển nghề từ nông dân thành công nhân. Từ đó, quê tôi thoát khỏi cảnh nghèo khổ đeo bám gần trăm năm trời.Hàng trăm ngôi nhà bị giải tỏa nhường đất cho các nhà máy. Bù lại, người dân nhận được một số tiền đền bù kha khá, đủ để xây nhà mới và không ít gia đình còn dư giả.Con em trong làng được gọi vào làm công nhân trong các nhà máy. Người làm công nhân Nhà máy dăm gỗ, người làm công nhân mỏ đá... Hầu hết là lao động phổ thông, nhưng tiền lương cũng khấm khá, từ 1 triệu đến 2 triệu đồng/tháng, một số tiền mà người dân quê tôi có nằm mơ cũng không tin nổi. Bởi trước đây, một ngày lam lũ, vất vả đốt than, chặt củi trên núi cũng chỉ được 15.000 đến 20.000 đồng/ ngày.Vào dip xuân năm trước, gia đình ông Đặng Văn Tòa chạy ngược, chạy xuôi mượn tiền mua gạo ăn tết. Ông Toà có 4 thằng con trai đã đến tuổi lao động, nhưng không có việc làm. Đứa con trai lớn lên Tây Nguyên làm thuê trên rẫy cà phê cho người ta; đứa thứ hai lưu lạc vào TP HCM làm thợ may công nghiệp; đứa thứ ba đi giữ hồ tôm thuê cho người khác và thằng con út ở nhà làm ruộng phụ giúp gia đình.Cả năm trời làm thuê ở xứ người, tết về cũng chỉ dư vài trăm nghìn đồng, chẳng đủ thiếu vào đâu. Gia đình nghèo vẫn cứ nghèo. Nhưng tết năm nay, gia đình ông Tòa đón xuân trong không khí ấp cúng và phấn khởi. Bởi 4 đứa con trai của ông đã được nhận vào làm việc trong Nhà máy dăm gỗ gần một năm rồi. Công ty thưởng 500.000 đồng/người, cùng với tiền lương dành dụm, 4 đứa con ông mua một giàn máy karaoke hoành tráng. Ông nở mặt, nở mày với xóm làng....Đến cả làng đua nhau sắm giàn máy karaokeTheo thống kê chưa đầy đủ, đến thời điểm này, trong số trên 300 hộ gia đình ở thôn Hòa Mỹ, trên 100 hộ có giàn máy karaokê. Và gần như nhà nào cũng có tivi, đầu máy.Trong khi đó, cách đây 1 năm, cả làng chỉ có gia đình ông Chín Aùnh mới có giàn máy karaoke. Có một điều đặc biệt, ở quê tôi sắm giàn karaoke không phải để kinh doanh kiếm lãi mà chỉ phục vụ hát miễn phí cho vui làng, vui xóm trong dịp tết Nguyên Đán.“Thấy nhà nào cũng có giàn máy nên mình cũng dành dụm mua anh ạ”, anh Trần Minh nói. Tuy nhiên, trong số những người mua sắm giàn máy karaoke, không phải ai cũng có tiền dư giả. Có người chỉ vừa đủ ăn, thậm chí không có tiền đóng học phí cho con, cũng đua đòi vay mượn tiền để sắm giàn Kraoke. Nhưng dẫu sao, xuân Bính Tuất năm nay, làng Hòa Mỹ đón xuân trong không khí tràn ngập niềm vui, bởi giờ đây hàng chục nhà máy đã mọc lên trên vùng cát trắng nghèo nàn. Hàng trăm con em của họ giờ đã trở thành công nhân có công ăn, việc làm ổn định. Đặc biệt, mới 15 giờ chiều ngày cuối năm nhưng nhà ai cũng lo chỉnh sửa giàn máy karaoke và chờ màn đêm buông xuống là cả gia đình đoàn tụ bên giàn máy để hát những khúc nhạc xuân chờ đón giao thừa.\n",
      "------------------------------------------------------------\n",
      "This is \"Khac\" news, you predicted it is \"Chinhtrixahoi\" news: \n",
      "\n",
      " Quảng Ninh: Khai trương phố đêm ẩm thực Hạ LongNhân dịp này, Ban quản lý phố đêm ẩm thực Hạ Long đã công bố quy định rõ về việc niêm yết giá kinh doanh và công tác an toàn Vệ sinh thực phẩm; yêu cầu các hộ kinh doanh bán đúng giá niêm yết và tuyệt đối không được bắt chẹt du khách.\n",
      "------------------------------------------------------------\n",
      "This is \"Khac\" news, you predicted it is \"Chinhtrixahoi\" news: \n",
      "\n",
      "Trẻ trung sắc màuCăn phòng 50 m2 nằm trong một khu chung cư cũ kỹ, được xây dựng từ trước năm 1975. Sở hữu không gian này, chàng chủ nhân trẻ tuổi cảm thấy mình may mắn. Thế nhưng, vẫn cần phải lột xác cho nó.Bên ngoài thì không thể, mọi việc chỉ diễn ra ở bên trong căn hộ, đầu tiên là màu sơn tường, sau đó đến các vật dụng nội thất. Đồ gỗ màu nâu được thay bằng những đồ với chất liệu mới, hiện đại, và cuối cùng là sự xếp đặt màu sắc.Giá sách với những màu sắc trẻ trung.Chủ nhân căn hộ là một anh chàng khá trẻ và đang thử sức trong những bước đi đầu tiên ở lĩnh vực thiết kế với nhãn hiệu Mistrust và bộ sưu tập đồ nội thất bằng resin. Nói về căn hộ của mình, anh cho rằng không chủ ý thiết kế hay xếp đặt theo phong cách nào cả, chỉ muốn nó là một nơi đi về thấy thoải mái, để những dịp đặc biệt có thể tụ họp bạn bè lai rai cho vui. \"Cứ gọi là phong cách mix - style (hỗn hợp)\".Toàn cảnh căn phòng.Kệ để giày dép sặc sỡ.Nơi dành cho những cuộc gặp gỡ bạn bè.Một chút cổ điển với bộ bàn ăn bằng sắt uốn, một chút Đông phương hiện đại với chiếc tủ vẽ các mẫu tự Trung Hoa, rồi những dây đèn thả đây đó gợi nhớ vài không gian xếp đặt của nghệ sĩ người Mỹ gốc Cuba, Felix Gonzalez Torres... Cái hay là tất cả chẳng câu nệ, vì thế mà không gian cứ nhẹ nhàng. Trong những loạt sản phẩm thiết kế của mình, anh chàng thích chọn một tông màu toàn trắng, còn ở đây, căn hộ nhỏ này, anh chàng lại thích màu mè hơn để tạo một chút rộn ràng cho đời sống và sáng tạo. Cầu thang gỗ xinh xắn dẫn lên gác xép - phòng ngủ là chi tiết anh chàng thích nhất trong căn hộ này. Và có lẽ điều đáng tiếc nhất là sàn gạch hoa ngày xưa đã bị chủ cũ bóc lên, thay bằng gạch men mới, xem ra thật khó mà cải tạo lại cho phù hợp với không gian chung, trừ khi trải thảm - một giải pháp phải tốn bộn tiền.Căn hộ đã trẻ hẳn ra với sắc màu. Mà màu sắc thì luôn gợi lên niềm vui sáng tạo.\n",
      "------------------------------------------------------------\n",
      "This is \"Khac\" news, you predicted it is \"Chinhtrixahoi\" news: \n",
      "\n",
      " Dân mua vé số hơn 20.000 tỉ đồngNăm 2005, doanh thu XSKT cả nước đạt 20.124 tỉ đồng (tương đương 2,4% GDP), trong đó đến 89% thu ở khu vực miền Nam. Cả nước có 63 công ty XSKT nên đã nảy sinh tình trạng cạnh tranh không lành mạnh, phát hành thừa vé, dẫn đến tình trạng vé ế chiếm đến 53,7% số phát hành.Cũng theo Bộ Tài chính, hiện có 35 doanh nghiệp được cấp phép kinh doanh đặt cược (đua ngựa và đua chó), trò chơi có thưởng (dành cho khách nước ngoài)... Bộ Tài chính cho biết đến năm 2010 sẽ đưa vào thêm một số sản phẩm mới như xổ số điện toán, xổ số qua điện thoại... và một số hình thức cá cược thể thao. Hiện Chính phủ đã có dự thảo nghị định về kinh doanh xổ số, đặt cược, trò chơi có thưởng...\n",
      "------------------------------------------------------------\n",
      "This is \"Khac\" news, you predicted it is \"Chinhtrixahoi\" news: \n",
      "\n",
      " Con người kinh tế VNVề mặt tích cực, chúng ta ai cũng biết hay tin rằng một trong những khả năng phổ quát của người Việt là hiếu học và lanh lẹ. Trong lĩnh vực kinh tế, khả năng này giúp họ linh động và thích ứng nhanh với hoàn cảnh. Đây là một khả năng ưu điểm trong một thời đại mà bản chất kinh tế thay đổi với một tốc độ nhanh và đòi hỏi một mức độ đáp ứng và linh động cao.Nếu phải di cư đến một hoàn cảnh kinh tế hoàn toàn mới lạ thì người Việt là điển hình cho một cộng đồng di dân có khả năng hội nhập đáng kể. Nói chung, con người kinh tế VN không sợ đổi thay về hoàn cảnh và qui luật kinh tế. Trong khả năng đáp ứng này, họ học hỏi kỹ năng kinh doanh mới nhanh chóng, không những về lĩnh vực thuần chuyên môn, hay qui chế, chiến thuật mà còn có khả năng sáng tạo những ngõ ngách tiếp thị, khai phá những tiềm năng thị trường mới, những phương sách đốt giai đoạn để đạt được chỉ tiêu kinh doanh.Những khả năng linh động và thông minh này, mặc dù là quan trọng nhưng không phải là chủ yếu, và chúng cần phải đặt nền tảng trên những đức tính tích cực cần thiết. Sau nhiều kinh nghiệm, suy tưởng, chúng tôi phải mạnh dạn nói rằng con người kinh tế VN, từ cá nhân đến xã hội, chưa có một nền tảng đạo đức kinh tế cần thiết.Từ cá nhân đến cơ chế, phải đau lòng nhận ra là người Việt chưa tin người Việt. Nếu có chọn lựa thì người Việt sẽ làm ăn với các công ty ngoại quốc, nhất là của Âu Mỹ, hơn là VN. Đây là hiểm họa cho các cơ sở kinh tế VN về lâu về dài khi mà các hiệp ước kinh tế mở cửa thị trường VN cho các cơ sở kinh tế Âu Mỹ như ngân hàng, bảo hiểm, tín dụng, hàng không... ồ ạt vào kinh doanh ở VN.Bên cạnh việc xem nhẹ giá trị và tinh thần của chữ tín, không ít người hoạt động kinh tế còn chưa ý thức được ý nghĩa tinh thần của sự kết ước mà bản hợp đồng họ đặt bút ký là một khế ước kinh tế. Nó không chỉ là một phương tiện giải quyết chủ đích doanh thương nhất thời, trái lại, khế ước là nền tảng chữ tín lâu dài giữa các đối tác kinh tế liên hệ.Khi mà thành - tín, một yếu tính của nền đạo đức kinh tế, không được tôn trọng đúng mức, cộng thêm khối nhân sự thiếu năng lực chuyên môn và phẩm chất đạo đức cần thiết thì nền kinh tế quốc gia không huy động được vốn đầu tư, nhân lực, tài nguyên từ những nguồn trong và ngoài nước.Các định chế căn bản như ngân hàng, bảo hiểm, chứng khoán, thuế khóa, hành chính công quyền, pháp chế mất đi khả năng thu hút và bảo đảm, từ đó tài nguyên thiên nhiên, nhân lực, trí lực, tài chính tìm đường thoát ra khỏi quĩ đạo kinh tế quốc gia nhằm đi tìm môi trường ký khác, kinh doanh có khả năng bảo đảm chữ tín cao hơn.Những đơn vị cũng như cá nhân kinh tế quốc tế có tầm vóc và khả năng đầu tư qui mô lớn, với trình độ công nghệ cao, thường có nhiều khả năng chọn lựa, họ cũng chỉ hướng đến một nền kinh tế mà giá trị chữ tín được tôn trọng, pháp luật được đặt ưu tiên, nhân phẩm con người được thể hiện qua cơ chế kinh tế, xã hội cũng như là những sinh hoạt doanh nghiệp hằng ngày.\n",
      "------------------------------------------------------------\n",
      "This is \"Chinhtrixahoi\" news, you predicted it is \"Khac\" news: \n",
      "\n",
      "Các chợ, hàng ăn ở Hà Nội vắng bóng gia cầmKhu vực bán gia cầm tại chợ Long Biên chiều nay vắng tanh, vài chủ hàng ngồi túm tụm đánh bài, bàn chuyện thu hồi nốt nợ nần... Một số người cho hay, sau lệnh cấm buôn bán gia cầm của thành phố, họ đang tìm nghề làm tạm trong thời gian chờ đợi dịch cúm kết thúc.Các chủ hàng đang tiếc nuối bởi trước thời điểm rằm tháng Giêng, lượng gia cầm bán chạy gấp 2-3 lần bình thường, thu nhập mấy ngày này có khi bằng cả tháng. Nhưng năm nay họ đành chịu thất nghiệp.Một số tiểu thương đang toan tính chuyển hướng sang buôn mặt hàng khác. Chị Hoa, chủ hàng ngan, vịt, than phiền, tháng trước bán ế mấy chục kg gia cầm khiến chị lỗ 3 triệu đồng. Chị định chuyển sang bán bún cá để cầm cự qua ngày. Song việc đầu tư không đơn giản bởi tốn kém vài triệu mua đồ dùng, lại lo khách không quen hàng... Một vài chủ khác cho hay, đành chịu thất nghiệp trong vài tháng, chờ đợi dịch cúm gia cầm qua đi rồi tiếp tục kinh doanh.Ông Tạ Văn Minh, cán bộ quản lý ngành hàng gia cầm tại chợ Long Biên nhận xét, 130 hộ tiểu thương đều rất khó khăn khi ngừng buôn bán. Họ đã đề đơn kiến nghị Ban quản lý chợ miễn các loại phí, tiền thuê sạp... trong thời gian 2 tháng. Tuy nhiên, quyết định đang chờ ý kiến chỉ đạo của UBND quận Hoàn Kiếm.Khu vực bán gia cầm tại cácchợ Ngã Tư Sở, Hàng Da, chợ Hôm cũng không còn bán gà, vịt, ngan, ngỗng, ngoại trừ chim cảnh. Theo một số hộ kinh doanh, họ chỉ bán chim cảnh trong vài ngày nữa. Tại các chợ, mặt bằng của ngành hàng gia cầm vẫn chưa sử dụng cho mục đích khác. Bởi theo các Ban quản lý, khu vực này sẽ được sử dụng khi ngành gia cầm được phục hồi.Ngay khi nạn dịch cúm gia cầm bùng phát, các quán phở, bún, miến... kèm thịt vịt, ngan, gà đềubán chậm. Đến nay, hầu hết chủ hàng ngưng bán các món ăn này. Chỉ vài hàng ăn đặc sản đang bán cầm cự. Chị Đào Thị Khoa, chủ quán Ngan Khoa, phố Hai Bà Trưng, cho hay, mấy ngày nữa quán sẽ ngừng bán các món có thịt vịt, ngan mà thay bằng món lợn nướng, nầm lợn, bò... Chủ quán Vịt quay Quảng Đông ở phố Khâm Thiên cho hay, ngày mai bắt đầu phục vụ món lợn sữa quay, xá xíu, thịt lợn quay...Theo các chủ nhà hàng, việc chuyển món kinh doanh khiến họ gặp không ít khó khăn vì phải đầu tư thêm kinh phí, công sức để tìm hiểu thị hiếu của khách hàng, tìm nguồn nguyên liệu. Ngoài ra, họ phải tìm ra món độc đáo mới có hy vọng hút khách.\n",
      "------------------------------------------------------------\n",
      "This is \"Chinhtrixahoi\" news, you predicted it is \"Khac\" news: \n",
      "\n",
      "Trả lời phóng viên TTXVN tại Hàn Quốc sáng 7.4, ông Châng Ban Chun, Phó giám đốc điều hành Công ty thủy sản Dongwon-ho (Hàn Quốc), đơn vị sở hữu tàu đánh cá Dongwon-ho 628 bị cướp biển bắt cóc gần vùng biển Somali, cho biết các nỗ lực đàm phán giải cứu con tin chưa có kết quả cụ thể. Cuộc đàm phán thứ hai kéo dài đến sáng nay diễn ra khó khăn. Tuy nhiên, bước đầu xác định chắc chắn mục tiêu của nhóm bắt cóc là đòi tiền chuộc, mặc dù chúng chưa đưa ra điều kiện cụ thể.Ông Phạm Hữu Chí, Tham tán công sứ Đại sứ quán Việt Nam tại Hàn Quốc khẳng định toàn bộ 5 thủy thủ Việt Nam cùng 20 thủy thủ khác vẫn an toàn, tình trạng sức khỏe tốt. Đại sứ quán đã đề nghị Bộ Ngoại giao Hàn Quốc nỗ lực sớm giải thoát các con tin.Trước đó, Bộ Ngoại giao Hàn Quốc bác bỏ tuyên bố của nhóm bắt cóc rằng tàu Dongwon-ho đánh bắt cá trái phép, và khẳng định tàu đã bị tấn công tại vùng biển quốc tế.\n",
      "------------------------------------------------------------\n"
     ]
    },
    {
     "name": "stderr",
     "output_type": "stream",
     "text": [
      "/usr/local/lib/python3.5/dist-packages/sklearn/preprocessing/label.py:151: DeprecationWarning: The truth value of an empty array is ambiguous. Returning False, but in future this will result in an error. Use `array.size > 0` to check that an array is not empty.\n",
      "  if diff:\n",
      "/usr/local/lib/python3.5/dist-packages/sklearn/preprocessing/label.py:151: DeprecationWarning: The truth value of an empty array is ambiguous. Returning False, but in future this will result in an error. Use `array.size > 0` to check that an array is not empty.\n",
      "  if diff:\n",
      "/usr/local/lib/python3.5/dist-packages/sklearn/preprocessing/label.py:151: DeprecationWarning: The truth value of an empty array is ambiguous. Returning False, but in future this will result in an error. Use `array.size > 0` to check that an array is not empty.\n",
      "  if diff:\n",
      "/usr/local/lib/python3.5/dist-packages/sklearn/preprocessing/label.py:151: DeprecationWarning: The truth value of an empty array is ambiguous. Returning False, but in future this will result in an error. Use `array.size > 0` to check that an array is not empty.\n",
      "  if diff:\n",
      "/usr/local/lib/python3.5/dist-packages/sklearn/preprocessing/label.py:151: DeprecationWarning: The truth value of an empty array is ambiguous. Returning False, but in future this will result in an error. Use `array.size > 0` to check that an array is not empty.\n",
      "  if diff:\n",
      "/usr/local/lib/python3.5/dist-packages/sklearn/preprocessing/label.py:151: DeprecationWarning: The truth value of an empty array is ambiguous. Returning False, but in future this will result in an error. Use `array.size > 0` to check that an array is not empty.\n",
      "  if diff:\n",
      "/usr/local/lib/python3.5/dist-packages/sklearn/preprocessing/label.py:151: DeprecationWarning: The truth value of an empty array is ambiguous. Returning False, but in future this will result in an error. Use `array.size > 0` to check that an array is not empty.\n",
      "  if diff:\n",
      "/usr/local/lib/python3.5/dist-packages/sklearn/preprocessing/label.py:151: DeprecationWarning: The truth value of an empty array is ambiguous. Returning False, but in future this will result in an error. Use `array.size > 0` to check that an array is not empty.\n",
      "  if diff:\n",
      "/usr/local/lib/python3.5/dist-packages/sklearn/preprocessing/label.py:151: DeprecationWarning: The truth value of an empty array is ambiguous. Returning False, but in future this will result in an error. Use `array.size > 0` to check that an array is not empty.\n",
      "  if diff:\n",
      "/usr/local/lib/python3.5/dist-packages/sklearn/preprocessing/label.py:151: DeprecationWarning: The truth value of an empty array is ambiguous. Returning False, but in future this will result in an error. Use `array.size > 0` to check that an array is not empty.\n",
      "  if diff:\n",
      "/usr/local/lib/python3.5/dist-packages/sklearn/preprocessing/label.py:151: DeprecationWarning: The truth value of an empty array is ambiguous. Returning False, but in future this will result in an error. Use `array.size > 0` to check that an array is not empty.\n",
      "  if diff:\n",
      "/usr/local/lib/python3.5/dist-packages/sklearn/preprocessing/label.py:151: DeprecationWarning: The truth value of an empty array is ambiguous. Returning False, but in future this will result in an error. Use `array.size > 0` to check that an array is not empty.\n",
      "  if diff:\n",
      "/usr/local/lib/python3.5/dist-packages/sklearn/preprocessing/label.py:151: DeprecationWarning: The truth value of an empty array is ambiguous. Returning False, but in future this will result in an error. Use `array.size > 0` to check that an array is not empty.\n",
      "  if diff:\n",
      "/usr/local/lib/python3.5/dist-packages/sklearn/preprocessing/label.py:151: DeprecationWarning: The truth value of an empty array is ambiguous. Returning False, but in future this will result in an error. Use `array.size > 0` to check that an array is not empty.\n",
      "  if diff:\n",
      "/usr/local/lib/python3.5/dist-packages/sklearn/preprocessing/label.py:151: DeprecationWarning: The truth value of an empty array is ambiguous. Returning False, but in future this will result in an error. Use `array.size > 0` to check that an array is not empty.\n",
      "  if diff:\n",
      "/usr/local/lib/python3.5/dist-packages/sklearn/preprocessing/label.py:151: DeprecationWarning: The truth value of an empty array is ambiguous. Returning False, but in future this will result in an error. Use `array.size > 0` to check that an array is not empty.\n",
      "  if diff:\n",
      "/usr/local/lib/python3.5/dist-packages/sklearn/preprocessing/label.py:151: DeprecationWarning: The truth value of an empty array is ambiguous. Returning False, but in future this will result in an error. Use `array.size > 0` to check that an array is not empty.\n",
      "  if diff:\n",
      "/usr/local/lib/python3.5/dist-packages/sklearn/preprocessing/label.py:151: DeprecationWarning: The truth value of an empty array is ambiguous. Returning False, but in future this will result in an error. Use `array.size > 0` to check that an array is not empty.\n",
      "  if diff:\n",
      "/usr/local/lib/python3.5/dist-packages/sklearn/preprocessing/label.py:151: DeprecationWarning: The truth value of an empty array is ambiguous. Returning False, but in future this will result in an error. Use `array.size > 0` to check that an array is not empty.\n",
      "  if diff:\n",
      "/usr/local/lib/python3.5/dist-packages/sklearn/preprocessing/label.py:151: DeprecationWarning: The truth value of an empty array is ambiguous. Returning False, but in future this will result in an error. Use `array.size > 0` to check that an array is not empty.\n",
      "  if diff:\n",
      "/usr/local/lib/python3.5/dist-packages/sklearn/preprocessing/label.py:151: DeprecationWarning: The truth value of an empty array is ambiguous. Returning False, but in future this will result in an error. Use `array.size > 0` to check that an array is not empty.\n",
      "  if diff:\n",
      "/usr/local/lib/python3.5/dist-packages/sklearn/preprocessing/label.py:151: DeprecationWarning: The truth value of an empty array is ambiguous. Returning False, but in future this will result in an error. Use `array.size > 0` to check that an array is not empty.\n",
      "  if diff:\n",
      "/usr/local/lib/python3.5/dist-packages/sklearn/preprocessing/label.py:151: DeprecationWarning: The truth value of an empty array is ambiguous. Returning False, but in future this will result in an error. Use `array.size > 0` to check that an array is not empty.\n",
      "  if diff:\n",
      "/usr/local/lib/python3.5/dist-packages/sklearn/preprocessing/label.py:151: DeprecationWarning: The truth value of an empty array is ambiguous. Returning False, but in future this will result in an error. Use `array.size > 0` to check that an array is not empty.\n",
      "  if diff:\n"
     ]
    }
   ],
   "source": [
    "import re\n",
    "num_news = len(mislabeled_indices[0])\n",
    "for i in range(num_news):\n",
    "    index = mislabeled_indices[1][i]\n",
    "    true = test_y[0][index]\n",
    "    pred = pred_test[0][index]\n",
    "    print('This is \"%s\" news, you predicted it is \"%s\" news: \\n' %(encoder.inverse_transform(true), encoder.inverse_transform(int(pred))))\n",
    "    print(re.sub(r'\\s{2,}', \"\", list(test_x[index:index+1])[0]))\n",
    "    print('------------------------------------------------------------')"
   ]
  },
  {
   "cell_type": "markdown",
   "metadata": {},
   "source": [
    "## 7) Test with your own news (optional/ungraded exercise) ##\n",
    "\n",
    "Congratulations on finishing this assignment. You can use your own news and see the output of your model.\n",
    "\n",
    "[\"Chinhtrixahoi\" \"Khac\"] labels corresponds to [0 1] labels"
   ]
  },
  {
   "cell_type": "code",
   "execution_count": 23,
   "metadata": {
    "scrolled": false
   },
   "outputs": [],
   "source": [
    "my_text = u\"\"\"Làm mẹ khi quá trẻ dễ bị loãng xương\n",
    "Những cô gái mới lớn mang thai sẽ gia tăng nguy cơ xương bị yếu đi. Trong một nghiên cứu mới tại Mỹ, 1/3 số bà mẹ ở tuổi thiếu niên có chỉ số điển hình của bệnh loãng xương, hoặc có dấu hiệu báo trước căn bệnh này.\n",
    "\"Cần phải đảm bảo rằng những bà mẹ thiếu niên tiêu thụ đủ lượng canxi trong thời gian mang thai - 1.300 milligram mỗi ngày, để đáp ứng nhu cầu canxi của cả mẹ lẫn bào thai\", Kimberly O. O'Brien tại Trường sức khoẻ cộng đồng Johns Hopkins Bloomberg ở Baltimore, phát biểu.\n",
    "Canxi đặc biệt cần thiết trong thời kỳ mang thai do bào thai khi lớn lên cần nhiều chất dinh dưỡng để hình thành xương, trong lúc bản thân các thiếu nữ cũng cần nhiều canxi cho chính mình. Thực tế, 40% lượng xương của con gái được hình thành trong độ tuổi dậy thì.\n",
    "Mặc dù có hơn nửa triệu thiếu nữ sinh con tại Mỹ mỗi năm, chưa có nhiều thông tin về việc mang thai ảnh hưởng thế nào tới xương của người mẹ. O'Brien và cộng sự đã nghiên cứu 23 cô gái mang thai trong độ tuổi 13,5 đến 18,3. Cũng giống như người lớn, lượng tiêu thụ canxi trong thời kỳ mang thai của các cô gái trẻ cao hơn là sau khi sinh.\n",
    "Khoảng 1/3 các bà mẹ trẻ có dấu hiệu xương mỏng đi đáng kể sau khi sinh. Trong số 15 em được đo xương trong 3-4 tháng sau khi sinh, 2 em có đủ dấu hiệu của bệnh loãng xương. 3 em khác có dấu hiệu của tiền loãng xương.\n",
    "Tuy vậy, không phải cứ mang thai ở độ tuổi thiếu niên là có xương bị yếu đi. Kết quả nghiên cứu chỉ ra rằng tiêu thụ nhiều lượng canxi hơn trong thời kỳ mang thai sẽ giúp chống lại tình trạng yếu xương.\n",
    "\"\"\"\n",
    "\n",
    "my_x_tfidf =  tfidf_vect.transform([my_text]).T.toarray()"
   ]
  },
  {
   "cell_type": "code",
   "execution_count": 24,
   "metadata": {
    "scrolled": true
   },
   "outputs": [
    {
     "name": "stdout",
     "output_type": "stream",
     "text": [
      "Accuracy: 1.0\n",
      "your L-layer model predicts \"Khac\" \n"
     ]
    },
    {
     "name": "stderr",
     "output_type": "stream",
     "text": [
      "/usr/local/lib/python3.5/dist-packages/sklearn/preprocessing/label.py:151: DeprecationWarning: The truth value of an empty array is ambiguous. Returning False, but in future this will result in an error. Use `array.size > 0` to check that an array is not empty.\n",
      "  if diff:\n"
     ]
    }
   ],
   "source": [
    "my_label_y = [1] # the true class of your news\n",
    "my_predicted_news = predict(my_x_tfidf, my_label_y, parameters)\n",
    "print ('your L-layer model predicts \"%s\" ' %encoder.inverse_transform(int(np.squeeze(my_predicted_news))))"
   ]
  },
  {
   "cell_type": "markdown",
   "metadata": {},
   "source": [
    "**References**:\n",
    "\n",
    "- for auto-reloading external module: http://stackoverflow.com/questions/1907993/autoreload-of-modules-in-ipython"
   ]
  },
  {
   "cell_type": "markdown",
   "metadata": {},
   "source": [
    "## Word Embeddings"
   ]
  },
  {
   "cell_type": "code",
   "execution_count": 25,
   "metadata": {},
   "outputs": [
    {
     "name": "stderr",
     "output_type": "stream",
     "text": [
      "Using TensorFlow backend.\n"
     ]
    }
   ],
   "source": [
    "from pyvi import ViTokenizer\n",
    "from gensim.models.word2vec import Word2Vec\n",
    "from keras.preprocessing import sequence"
   ]
  },
  {
   "cell_type": "markdown",
   "metadata": {},
   "source": [
    "A word embedding is a form of representing words and documents using a dense vector representation. The position of a word within the vector space is learned from text and is based on the words that surround the word when it is used. Word embeddings can be trained using the input corpus itself or can be generated using pre-trained word embeddings such as Glove, FastText, and Word2Vec. Any one of them can be downloaded and used as transfer learning."
   ]
  },
  {
   "cell_type": "markdown",
   "metadata": {},
   "source": [
    "Loading a pretrained word embeddings - based on Vietnam wikipedia.\n",
    "\n",
    "The word embeddings are trained with gensim - a library for training Word2Vec."
   ]
  },
  {
   "cell_type": "code",
   "execution_count": 26,
   "metadata": {},
   "outputs": [],
   "source": [
    "word_vectors = Word2Vec.load('vi.bin').wv"
   ]
  },
  {
   "cell_type": "markdown",
   "metadata": {},
   "source": [
    "We will see that this also adapt to Vietnamese language since tokenization applied to phrases rather single words."
   ]
  },
  {
   "cell_type": "markdown",
   "metadata": {},
   "source": [
    "Show some similar words based on cosine similarity"
   ]
  },
  {
   "cell_type": "code",
   "execution_count": 27,
   "metadata": {
    "scrolled": true
   },
   "outputs": [
    {
     "name": "stderr",
     "output_type": "stream",
     "text": [
      "/usr/local/lib/python3.5/dist-packages/gensim/matutils.py:737: FutureWarning: Conversion of the second argument of issubdtype from `int` to `np.signedinteger` is deprecated. In future, it will be treated as `np.int64 == np.dtype(int).type`.\n",
      "  if np.issubdtype(vec.dtype, np.int):\n"
     ]
    },
    {
     "data": {
      "text/plain": [
       "[('thông_tin', 0.6357954144477844),\n",
       " ('phóng_viên', 0.6156644821166992),\n",
       " ('báo_cáo', 0.6109340786933899),\n",
       " ('bình_luận', 0.6045681238174438),\n",
       " ('báo_chí', 0.6012976169586182),\n",
       " ('biên_tập_viên', 0.5868688821792603),\n",
       " ('thời_sự', 0.5609147548675537),\n",
       " ('trực_tuyến', 0.5557072162628174),\n",
       " ('phóng_sự', 0.5530217885971069),\n",
       " ('diễn_đàn', 0.543127179145813)]"
      ]
     },
     "execution_count": 27,
     "metadata": {},
     "output_type": "execute_result"
    }
   ],
   "source": [
    "word_vectors.most_similar('tin_tức')"
   ]
  },
  {
   "cell_type": "code",
   "execution_count": 28,
   "metadata": {},
   "outputs": [
    {
     "name": "stderr",
     "output_type": "stream",
     "text": [
      "/usr/local/lib/python3.5/dist-packages/gensim/matutils.py:737: FutureWarning: Conversion of the second argument of issubdtype from `int` to `np.signedinteger` is deprecated. In future, it will be treated as `np.int64 == np.dtype(int).type`.\n",
      "  if np.issubdtype(vec.dtype, np.int):\n"
     ]
    },
    {
     "data": {
      "text/plain": [
       "[('dân_sự', 0.6620455980300903),\n",
       " ('quân_sự', 0.6434805989265442),\n",
       " ('cấp_tiến', 0.6368024945259094),\n",
       " ('tư_tưởng', 0.6343690156936646),\n",
       " ('ngoại_giao', 0.627657949924469),\n",
       " ('bảo_thủ', 0.6165794134140015),\n",
       " ('xã_hội', 0.6104323863983154),\n",
       " ('lãnh_đạo', 0.5940430164337158),\n",
       " ('đối_ngoại', 0.5933846831321716),\n",
       " ('đảng_phái', 0.5786868333816528)]"
      ]
     },
     "execution_count": 28,
     "metadata": {},
     "output_type": "execute_result"
    }
   ],
   "source": [
    "word_vectors.most_similar('chính_trị')"
   ]
  },
  {
   "cell_type": "code",
   "execution_count": 29,
   "metadata": {
    "scrolled": true
   },
   "outputs": [
    {
     "name": "stderr",
     "output_type": "stream",
     "text": [
      "/usr/local/lib/python3.5/dist-packages/gensim/matutils.py:737: FutureWarning: Conversion of the second argument of issubdtype from `int` to `np.signedinteger` is deprecated. In future, it will be treated as `np.int64 == np.dtype(int).type`.\n",
      "  if np.issubdtype(vec.dtype, np.int):\n"
     ]
    },
    {
     "data": {
      "text/plain": [
       "[('đặc_sắc', 0.7005241513252258),\n",
       " ('phong_cảnh', 0.6793249845504761),\n",
       " ('xinh_đẹp', 0.6543668508529663),\n",
       " ('đẹp_mắt', 0.609501838684082),\n",
       " ('hình_tượng', 0.6040233969688416),\n",
       " ('đức_hạnh', 0.5956319570541382),\n",
       " ('kỳ_lạ', 0.5923508405685425),\n",
       " ('khuôn_mặt', 0.5901848673820496),\n",
       " ('sang_trọng', 0.5898487567901611),\n",
       " ('linh_thiêng', 0.5832979083061218)]"
      ]
     },
     "execution_count": 29,
     "metadata": {},
     "output_type": "execute_result"
    }
   ],
   "source": [
    "word_vectors.most_similar('đẹp')"
   ]
  },
  {
   "cell_type": "markdown",
   "metadata": {},
   "source": [
    "Get the vector of a word"
   ]
  },
  {
   "cell_type": "code",
   "execution_count": 30,
   "metadata": {},
   "outputs": [
    {
     "data": {
      "text/plain": [
       "array([ 2.4115546 , -0.8807588 ,  0.57441026, -2.4971814 , -1.7551858 ,\n",
       "        1.4679046 , -0.6963855 , -1.0406437 ,  1.283175  , -0.9166386 ,\n",
       "        1.4385129 , -0.05707648,  0.8175113 , -2.081163  , -0.8342378 ,\n",
       "       -2.4894638 , -1.1881009 , -2.3544123 , -1.1775478 ,  1.4787732 ,\n",
       "        1.127493  , -1.7660612 ,  1.0417176 ,  0.56605893, -0.27520415,\n",
       "       -0.49847272, -0.4228856 ,  2.3199267 , -1.1380327 , -0.40913883,\n",
       "        2.909549  ,  1.3840387 , -0.01258614, -1.3297642 , -0.2328914 ,\n",
       "       -2.1578515 ,  2.4981663 ,  1.0382292 ,  0.5288424 , -0.24361603,\n",
       "       -0.835654  , -0.38605636,  0.70786875, -0.5864981 , -0.8520736 ,\n",
       "       -1.295475  , -0.72842246, -0.17335217,  1.3784885 ,  0.45497376,\n",
       "        0.42495456,  2.0696034 ,  1.5074939 , -0.01520372, -0.02287201,\n",
       "       -0.15144789, -1.5694178 , -1.6763915 ,  2.9292727 , -0.7513755 ,\n",
       "       -3.1428132 , -1.6797329 ,  0.13699639,  1.1907742 ,  0.63031757,\n",
       "        0.3484518 , -0.8649542 , -1.0528054 ,  0.08664663, -0.40580595,\n",
       "        2.5743349 ,  1.1662186 , -1.0642813 ,  1.3439093 ,  0.33283836,\n",
       "       -0.38847038, -1.4259026 , -0.9174245 ,  0.5990328 ,  0.07325725,\n",
       "        1.2108456 , -1.7882359 ,  0.46888635,  0.61226696,  2.4865463 ,\n",
       "        0.35246614,  0.605175  ,  2.8013337 , -1.2876092 , -0.11036385,\n",
       "       -0.00632985, -0.72919047,  1.9514214 ,  0.30493337, -0.34862474,\n",
       "       -1.4997724 ,  0.30611947, -0.26128316, -1.3517652 , -1.2490696 ],\n",
       "      dtype=float32)"
      ]
     },
     "execution_count": 30,
     "metadata": {},
     "output_type": "execute_result"
    }
   ],
   "source": [
    "word_vectors['chính_trị']"
   ]
  },
  {
   "cell_type": "code",
   "execution_count": 31,
   "metadata": {},
   "outputs": [
    {
     "name": "stdout",
     "output_type": "stream",
     "text": [
      "Length of a word vector: 100\n"
     ]
    }
   ],
   "source": [
    "emb_dim = len(word_vectors['chính_trị'])\n",
    "print('Length of a word vector: %s' %emb_dim)"
   ]
  },
  {
   "cell_type": "markdown",
   "metadata": {},
   "source": [
    "Get index of a word"
   ]
  },
  {
   "cell_type": "code",
   "execution_count": 32,
   "metadata": {},
   "outputs": [],
   "source": [
    "index2word = word_vectors.index2word"
   ]
  },
  {
   "cell_type": "code",
   "execution_count": 33,
   "metadata": {
    "scrolled": true
   },
   "outputs": [
    {
     "data": {
      "text/plain": [
       "352"
      ]
     },
     "execution_count": 33,
     "metadata": {},
     "output_type": "execute_result"
    }
   ],
   "source": [
    "index2word.index('chính_trị')"
   ]
  },
  {
   "cell_type": "markdown",
   "metadata": {},
   "source": [
    "In this excercise, we use Pyvi, a popular tokenizer for Vietnamese."
   ]
  },
  {
   "cell_type": "code",
   "execution_count": 34,
   "metadata": {},
   "outputs": [
    {
     "data": {
      "text/plain": [
       "'tin_tức chính_trị xã_hội ! ! !'"
      ]
     },
     "execution_count": 34,
     "metadata": {},
     "output_type": "execute_result"
    }
   ],
   "source": [
    "ViTokenizer.tokenize('Tin tức CHÍNH TRỊ xã hội!!!'.lower()) # lowercase all documents to work better with the pretrained model"
   ]
  },
  {
   "cell_type": "markdown",
   "metadata": {},
   "source": [
    "## Homework"
   ]
  },
  {
   "cell_type": "markdown",
   "metadata": {},
   "source": [
    "- Replace the above tf-idf features with word2vec features - Each news now must has the same length by padding. Train with the above L-layer network and evaluate.\n",
    "- Train and use your own word vectors and compare the classification performance with the pre-trained model.\n",
    "\n",
    "**Advanced:** \n",
    "\n",
    "- Self-study Keras, a popular library for Deep Learning, to reimplement the above L-layer networks with embedding layer.\n",
    "- Keep training the embedding layer for classification task.\n",
    "\n",
    "Ref: https://blog.keras.io/using-pre-trained-word-embeddings-in-a-keras-model.html"
   ]
  },
  {
   "cell_type": "code",
   "execution_count": null,
   "metadata": {},
   "outputs": [],
   "source": []
  }
 ],
 "metadata": {
  "coursera": {
   "course_slug": "neural-networks-deep-learning",
   "graded_item_id": "TSPse",
   "launcher_item_id": "24mxX"
  },
  "kernelspec": {
   "display_name": "Python 3",
   "language": "python",
   "name": "python3"
  },
  "language_info": {
   "codemirror_mode": {
    "name": "ipython",
    "version": 3
   },
   "file_extension": ".py",
   "mimetype": "text/x-python",
   "name": "python",
   "nbconvert_exporter": "python",
   "pygments_lexer": "ipython3",
   "version": "3.7.0"
  }
 },
 "nbformat": 4,
 "nbformat_minor": 2
}
