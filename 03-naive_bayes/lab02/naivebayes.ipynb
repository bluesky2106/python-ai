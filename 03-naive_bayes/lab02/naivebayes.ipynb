{
 "metadata": {
  "language_info": {
   "codemirror_mode": {
    "name": "ipython",
    "version": 3
   },
   "file_extension": ".py",
   "mimetype": "text/x-python",
   "name": "python",
   "nbconvert_exporter": "python",
   "pygments_lexer": "ipython3",
   "version": "3.9.5"
  },
  "orig_nbformat": 2,
  "kernelspec": {
   "name": "python395jvsc74a57bd0aee8b7b246df8f9039afb4144a1f6fd8d2ca17a180786b69acc140d282b71a49",
   "display_name": "Python 3.9.5 64-bit"
  },
  "metadata": {
   "interpreter": {
    "hash": "aee8b7b246df8f9039afb4144a1f6fd8d2ca17a180786b69acc140d282b71a49"
   }
  }
 },
 "nbformat": 4,
 "nbformat_minor": 2,
 "cells": [
  {
   "source": [
    "# kNN and Naive Bayes"
   ],
   "cell_type": "markdown",
   "metadata": {}
  },
  {
   "source": [
    "## 1. Import important packages"
   ],
   "cell_type": "markdown",
   "metadata": {}
  },
  {
   "cell_type": "code",
   "execution_count": 24,
   "metadata": {},
   "outputs": [],
   "source": [
    "import numpy as np\n",
    "import pandas as pd\n",
    "\n",
    "from sklearn.feature_extraction.text import TfidfVectorizer\n",
    "from sklearn.preprocessing import LabelEncoder, OneHotEncoder\n",
    "\n",
    "from sklearn.neighbors import KNeighborsClassifier\n",
    "\n",
    "from sklearn.datasets import fetch_20newsgroups\n",
    "from sklearn.naive_bayes import MultinomialNB\n",
    "from sklearn.pipeline import make_pipeline\n",
    "from imblearn.under_sampling import RandomUnderSampler\n",
    "from imblearn.pipeline import make_pipeline as make_pipeline_imb\n",
    "from imblearn.metrics import classification_report_imbalanced\n",
    "\n",
    "from sklearn.metrics import accuracy_score\n",
    "from sklearn.metrics import confusion_matrix\n",
    "from sklearn.metrics import average_precision_score\n",
    "from sklearn.metrics import precision_recall_curve\n",
    "from sklearn.metrics import plot_precision_recall_curve"
   ]
  },
  {
   "source": [
    "## 2. Load raw data"
   ],
   "cell_type": "markdown",
   "metadata": {}
  },
  {
   "cell_type": "code",
   "execution_count": 25,
   "metadata": {},
   "outputs": [],
   "source": [
    "# train data\n",
    "train_data = pd.read_csv('input/train_data.csv', sep=',')"
   ]
  },
  {
   "cell_type": "code",
   "execution_count": 26,
   "metadata": {},
   "outputs": [
    {
     "output_type": "execute_result",
     "data": {
      "text/plain": [
       "                                                 text classification\n",
       "18  Yêu cầu thu hồi tiền thuê đất tại dự án ngàn t...        thời sự\n",
       "57  Nữ sinh giành học bổng 7 tỷ đồng từ đại học hà...       giáo dục\n",
       "26                Cao su Phước Hòa chia cổ tức kỷ lục        thời sự\n",
       "5               Hai anh em tử vong dưới hố công trình        thời sự\n",
       "15  Xoài chín đầy cây vẫn không hái vì có hái cũng...        thời sự\n",
       "33             PGA Championship cắt loại như thế nào?       thể thao\n",
       "27                Griezmann lập siêu phẩm ở vòng cuối       thể thao\n",
       "31                    Real bất lực dù thắng vòng cuối       thể thao\n",
       "28  Lewandowski lập kỷ lục ghi bàn trong một mùa B...       thể thao\n",
       "39  HLV Nishino tiếc khi học trò bỏ rơi tuyển Thái...       thể thao\n",
       "25       5 lời khuyên về đầu tư cho người mới bắt đầu        thời sự\n",
       "14  Phát hiện nhiều container hàng quá cảnh vi phạ...        thời sự\n",
       "19   Tiền số - Cuộc chơi không dành cho người yếu tim        thời sự\n",
       "41        Real 2 - 1 Villarreal hiệp 2 Modric ghi bàn       thể thao\n",
       "49         Lập kế hoạch ôn thi Vật lý để đạt điểm cao       giáo dục\n",
       "3    Điều kiện nào cho phép F1 có thể cách ly tại nhà        thời sự\n",
       "42  Bí quyết đạt điểm 9-10 môn Sinh trong kỳ thi t...       giáo dục\n",
       "0     Danh sách ứng cử viên đại biểu quốc hội khoá XV        thời sự\n",
       "11  Bình Dương có thu nhập bình quân đầu người cao...        thời sự\n",
       "23  Agribank miễn 100% phí dịch vụ chuyển tiền tro...        thời sự\n",
       "36  Klopp: 'Man City khó vô địch nếu mất nhiều quâ...       thể thao\n",
       "30                  Real lần đầu trắng tay sau 11 năm       thể thao\n",
       "40              Messi Tôi thích thức dậy cùng các con       thể thao\n",
       "2     Hà Nội cách ly tòa Park 9 khu đô thị Times City        thời sự\n",
       "9      Bệnh gout nặng có thể thuyên giảm nhờ cách sau        thời sự\n",
       "45          Phương pháp hệ thống lý thuyết hóa hữu cơ       giáo dục\n",
       "47          Chiến lược giải đề Vật lý tốt nghiệp THPT       giáo dục\n",
       "56            Ba thách thức khi du học Mỹ từ bậc THPT       giáo dục\n",
       "53  Tuyển 200 học sinh lớp 6 vào trường chuyên Hà ...       giáo dục\n",
       "13  Chỉ tiêu tăng trưởng năm 2021 là 6% GDP bình q...        thời sự\n",
       "52  Lưu ý khi ôn tập hình học giải tích trong khôn...       giáo dục\n",
       "48  Top 5 nhóm ngành có nhiều thí sinh đăng ký ngu...       giáo dục\n",
       "24  S&P nâng triển vọng kinh tế Việt Nam lên tích cực        thời sự\n",
       "55  Học bổng đến 40.000 USD từ các trường THPT nội...       giáo dục\n",
       "29                Suarez: 'Barca không coi trọng tôi'       thể thao\n",
       "50     Hơn 790.000 thí sinh đăng ký xét tuyển đại học       giáo dục\n",
       "32                    Atletico Madrid vô địch La Liga       thể thao\n",
       "38  Nữ võ sĩ taekwondo Trương Thị Kim Tuyền giành ...       thể thao\n",
       "44     Đừng học thuộc lòng nếu muốn điểm cao môn Sinh       giáo dục\n",
       "1                    Số ca nhiễm trong nước vượt 2000        thời sự\n",
       "37  Kane: 'Mourinho thất bại vì Tottenham thiếu th...       thể thao\n",
       "34  HLV Nishino tiếc khi học trò bỏ rơi tuyển Thái...       thể thao\n",
       "22                     Giá vàng tăng liên tiếp 3 tuần        thời sự\n",
       "6                  Hà Nội lập chốt kiểm soát Covid-19        thời sự\n",
       "8      Ngày đầu quán ăn nhỏ ở Sài Gòn chỉ bán mang đi        thời sự\n",
       "54         Nữ sinh mê game giành học bổng 6.8 tỷ đồng       giáo dục\n",
       "21    Elon Musk cân nhắc xây dựng nhà máy Tesla ở Nga        thời sự\n",
       "51        Thêm trường THPT chuyên hoãn thi vào lớp 10       giáo dục\n",
       "10                      Bầu cử sớm trong vùng cách ly        thời sự\n",
       "46  Sinh viên nhận song bằng tại trường Cao đẳng H...       giáo dục\n",
       "16     Masan xây dựng hệ sinh thái tiêu dùng - bán lẻ        thời sự\n",
       "43  Học phí các trường quốc tế ở Hà Nội năm học 20...       giáo dục\n",
       "20  Chủ tịch SSI Chứng khoán năm nay tốt hơn năm n...        thời sự\n",
       "35           Mbappe có thể đã đạt thỏa thuận với Real       thể thao\n",
       "12                    Cần tăng thu nhập cho người dân        thời sự\n",
       "7   Hải Dương lấy mẫu xét nghiệm cho hơn 39.000 người        thời sự\n",
       "4                Tiêu hủy gần 1.000 con lợn nhập khẩu        thời sự\n",
       "17  Cảnh báo mạo danh tin nhắn của Vietcombank chi...        thời sự"
      ],
      "text/html": "<div>\n<style scoped>\n    .dataframe tbody tr th:only-of-type {\n        vertical-align: middle;\n    }\n\n    .dataframe tbody tr th {\n        vertical-align: top;\n    }\n\n    .dataframe thead th {\n        text-align: right;\n    }\n</style>\n<table border=\"1\" class=\"dataframe\">\n  <thead>\n    <tr style=\"text-align: right;\">\n      <th></th>\n      <th>text</th>\n      <th>classification</th>\n    </tr>\n  </thead>\n  <tbody>\n    <tr>\n      <th>18</th>\n      <td>Yêu cầu thu hồi tiền thuê đất tại dự án ngàn t...</td>\n      <td>thời sự</td>\n    </tr>\n    <tr>\n      <th>57</th>\n      <td>Nữ sinh giành học bổng 7 tỷ đồng từ đại học hà...</td>\n      <td>giáo dục</td>\n    </tr>\n    <tr>\n      <th>26</th>\n      <td>Cao su Phước Hòa chia cổ tức kỷ lục</td>\n      <td>thời sự</td>\n    </tr>\n    <tr>\n      <th>5</th>\n      <td>Hai anh em tử vong dưới hố công trình</td>\n      <td>thời sự</td>\n    </tr>\n    <tr>\n      <th>15</th>\n      <td>Xoài chín đầy cây vẫn không hái vì có hái cũng...</td>\n      <td>thời sự</td>\n    </tr>\n    <tr>\n      <th>33</th>\n      <td>PGA Championship cắt loại như thế nào?</td>\n      <td>thể thao</td>\n    </tr>\n    <tr>\n      <th>27</th>\n      <td>Griezmann lập siêu phẩm ở vòng cuối</td>\n      <td>thể thao</td>\n    </tr>\n    <tr>\n      <th>31</th>\n      <td>Real bất lực dù thắng vòng cuối</td>\n      <td>thể thao</td>\n    </tr>\n    <tr>\n      <th>28</th>\n      <td>Lewandowski lập kỷ lục ghi bàn trong một mùa B...</td>\n      <td>thể thao</td>\n    </tr>\n    <tr>\n      <th>39</th>\n      <td>HLV Nishino tiếc khi học trò bỏ rơi tuyển Thái...</td>\n      <td>thể thao</td>\n    </tr>\n    <tr>\n      <th>25</th>\n      <td>5 lời khuyên về đầu tư cho người mới bắt đầu</td>\n      <td>thời sự</td>\n    </tr>\n    <tr>\n      <th>14</th>\n      <td>Phát hiện nhiều container hàng quá cảnh vi phạ...</td>\n      <td>thời sự</td>\n    </tr>\n    <tr>\n      <th>19</th>\n      <td>Tiền số - Cuộc chơi không dành cho người yếu tim</td>\n      <td>thời sự</td>\n    </tr>\n    <tr>\n      <th>41</th>\n      <td>Real 2 - 1 Villarreal hiệp 2 Modric ghi bàn</td>\n      <td>thể thao</td>\n    </tr>\n    <tr>\n      <th>49</th>\n      <td>Lập kế hoạch ôn thi Vật lý để đạt điểm cao</td>\n      <td>giáo dục</td>\n    </tr>\n    <tr>\n      <th>3</th>\n      <td>Điều kiện nào cho phép F1 có thể cách ly tại nhà</td>\n      <td>thời sự</td>\n    </tr>\n    <tr>\n      <th>42</th>\n      <td>Bí quyết đạt điểm 9-10 môn Sinh trong kỳ thi t...</td>\n      <td>giáo dục</td>\n    </tr>\n    <tr>\n      <th>0</th>\n      <td>Danh sách ứng cử viên đại biểu quốc hội khoá XV</td>\n      <td>thời sự</td>\n    </tr>\n    <tr>\n      <th>11</th>\n      <td>Bình Dương có thu nhập bình quân đầu người cao...</td>\n      <td>thời sự</td>\n    </tr>\n    <tr>\n      <th>23</th>\n      <td>Agribank miễn 100% phí dịch vụ chuyển tiền tro...</td>\n      <td>thời sự</td>\n    </tr>\n    <tr>\n      <th>36</th>\n      <td>Klopp: 'Man City khó vô địch nếu mất nhiều quâ...</td>\n      <td>thể thao</td>\n    </tr>\n    <tr>\n      <th>30</th>\n      <td>Real lần đầu trắng tay sau 11 năm</td>\n      <td>thể thao</td>\n    </tr>\n    <tr>\n      <th>40</th>\n      <td>Messi Tôi thích thức dậy cùng các con</td>\n      <td>thể thao</td>\n    </tr>\n    <tr>\n      <th>2</th>\n      <td>Hà Nội cách ly tòa Park 9 khu đô thị Times City</td>\n      <td>thời sự</td>\n    </tr>\n    <tr>\n      <th>9</th>\n      <td>Bệnh gout nặng có thể thuyên giảm nhờ cách sau</td>\n      <td>thời sự</td>\n    </tr>\n    <tr>\n      <th>45</th>\n      <td>Phương pháp hệ thống lý thuyết hóa hữu cơ</td>\n      <td>giáo dục</td>\n    </tr>\n    <tr>\n      <th>47</th>\n      <td>Chiến lược giải đề Vật lý tốt nghiệp THPT</td>\n      <td>giáo dục</td>\n    </tr>\n    <tr>\n      <th>56</th>\n      <td>Ba thách thức khi du học Mỹ từ bậc THPT</td>\n      <td>giáo dục</td>\n    </tr>\n    <tr>\n      <th>53</th>\n      <td>Tuyển 200 học sinh lớp 6 vào trường chuyên Hà ...</td>\n      <td>giáo dục</td>\n    </tr>\n    <tr>\n      <th>13</th>\n      <td>Chỉ tiêu tăng trưởng năm 2021 là 6% GDP bình q...</td>\n      <td>thời sự</td>\n    </tr>\n    <tr>\n      <th>52</th>\n      <td>Lưu ý khi ôn tập hình học giải tích trong khôn...</td>\n      <td>giáo dục</td>\n    </tr>\n    <tr>\n      <th>48</th>\n      <td>Top 5 nhóm ngành có nhiều thí sinh đăng ký ngu...</td>\n      <td>giáo dục</td>\n    </tr>\n    <tr>\n      <th>24</th>\n      <td>S&amp;P nâng triển vọng kinh tế Việt Nam lên tích cực</td>\n      <td>thời sự</td>\n    </tr>\n    <tr>\n      <th>55</th>\n      <td>Học bổng đến 40.000 USD từ các trường THPT nội...</td>\n      <td>giáo dục</td>\n    </tr>\n    <tr>\n      <th>29</th>\n      <td>Suarez: 'Barca không coi trọng tôi'</td>\n      <td>thể thao</td>\n    </tr>\n    <tr>\n      <th>50</th>\n      <td>Hơn 790.000 thí sinh đăng ký xét tuyển đại học</td>\n      <td>giáo dục</td>\n    </tr>\n    <tr>\n      <th>32</th>\n      <td>Atletico Madrid vô địch La Liga</td>\n      <td>thể thao</td>\n    </tr>\n    <tr>\n      <th>38</th>\n      <td>Nữ võ sĩ taekwondo Trương Thị Kim Tuyền giành ...</td>\n      <td>thể thao</td>\n    </tr>\n    <tr>\n      <th>44</th>\n      <td>Đừng học thuộc lòng nếu muốn điểm cao môn Sinh</td>\n      <td>giáo dục</td>\n    </tr>\n    <tr>\n      <th>1</th>\n      <td>Số ca nhiễm trong nước vượt 2000</td>\n      <td>thời sự</td>\n    </tr>\n    <tr>\n      <th>37</th>\n      <td>Kane: 'Mourinho thất bại vì Tottenham thiếu th...</td>\n      <td>thể thao</td>\n    </tr>\n    <tr>\n      <th>34</th>\n      <td>HLV Nishino tiếc khi học trò bỏ rơi tuyển Thái...</td>\n      <td>thể thao</td>\n    </tr>\n    <tr>\n      <th>22</th>\n      <td>Giá vàng tăng liên tiếp 3 tuần</td>\n      <td>thời sự</td>\n    </tr>\n    <tr>\n      <th>6</th>\n      <td>Hà Nội lập chốt kiểm soát Covid-19</td>\n      <td>thời sự</td>\n    </tr>\n    <tr>\n      <th>8</th>\n      <td>Ngày đầu quán ăn nhỏ ở Sài Gòn chỉ bán mang đi</td>\n      <td>thời sự</td>\n    </tr>\n    <tr>\n      <th>54</th>\n      <td>Nữ sinh mê game giành học bổng 6.8 tỷ đồng</td>\n      <td>giáo dục</td>\n    </tr>\n    <tr>\n      <th>21</th>\n      <td>Elon Musk cân nhắc xây dựng nhà máy Tesla ở Nga</td>\n      <td>thời sự</td>\n    </tr>\n    <tr>\n      <th>51</th>\n      <td>Thêm trường THPT chuyên hoãn thi vào lớp 10</td>\n      <td>giáo dục</td>\n    </tr>\n    <tr>\n      <th>10</th>\n      <td>Bầu cử sớm trong vùng cách ly</td>\n      <td>thời sự</td>\n    </tr>\n    <tr>\n      <th>46</th>\n      <td>Sinh viên nhận song bằng tại trường Cao đẳng H...</td>\n      <td>giáo dục</td>\n    </tr>\n    <tr>\n      <th>16</th>\n      <td>Masan xây dựng hệ sinh thái tiêu dùng - bán lẻ</td>\n      <td>thời sự</td>\n    </tr>\n    <tr>\n      <th>43</th>\n      <td>Học phí các trường quốc tế ở Hà Nội năm học 20...</td>\n      <td>giáo dục</td>\n    </tr>\n    <tr>\n      <th>20</th>\n      <td>Chủ tịch SSI Chứng khoán năm nay tốt hơn năm n...</td>\n      <td>thời sự</td>\n    </tr>\n    <tr>\n      <th>35</th>\n      <td>Mbappe có thể đã đạt thỏa thuận với Real</td>\n      <td>thể thao</td>\n    </tr>\n    <tr>\n      <th>12</th>\n      <td>Cần tăng thu nhập cho người dân</td>\n      <td>thời sự</td>\n    </tr>\n    <tr>\n      <th>7</th>\n      <td>Hải Dương lấy mẫu xét nghiệm cho hơn 39.000 người</td>\n      <td>thời sự</td>\n    </tr>\n    <tr>\n      <th>4</th>\n      <td>Tiêu hủy gần 1.000 con lợn nhập khẩu</td>\n      <td>thời sự</td>\n    </tr>\n    <tr>\n      <th>17</th>\n      <td>Cảnh báo mạo danh tin nhắn của Vietcombank chi...</td>\n      <td>thời sự</td>\n    </tr>\n  </tbody>\n</table>\n</div>"
     },
     "metadata": {},
     "execution_count": 26
    }
   ],
   "source": [
    "train_data.sample(frac=1)\n",
    "# train_data['classification']"
   ]
  },
  {
   "cell_type": "code",
   "execution_count": 27,
   "metadata": {},
   "outputs": [],
   "source": [
    "# test data\n",
    "test_data = pd.read_csv('input/test_data.csv', sep=',')"
   ]
  },
  {
   "cell_type": "code",
   "execution_count": 28,
   "metadata": {},
   "outputs": [
    {
     "output_type": "execute_result",
     "data": {
      "text/plain": [
       "                                                 text classification\n",
       "10            Klopp: 'Liverpool đang ở đỉnh phong độ'       thể thao\n",
       "5   Tháo gỡ 'nút thắt' hơn 2.800 tỷ đồng vốn bảo t...        thời sự\n",
       "6   Cao tốc TP HCM - Mộc Bài tăng vốn gần 2.300 tỷ...        thời sự\n",
       "1       Hiện trạng khu vực quy hoạch đô thị sông Hồng        thời sự\n",
       "7                   Trạm BOT Đông Hưng thu phí từ 1/6        thời sự\n",
       "0           40 km quy hoạch phân khu đô thị sông Hồng        thời sự\n",
       "2   Thủ tướng: Tập trung xây cao tốc cho những vùn...        thời sự\n",
       "3               5 dự án cao tốc Bắc Nam sắp khởi công        thời sự\n",
       "21  Học phí các trường quốc tế ở Hà Nội năm học 20...       giáo dục\n",
       "17  Tuyển futsal Việt Nam làm quen sân thi đấu trư...       thể thao\n",
       "11  BĐTV trực tiếp trận tranh vé dự World Cup futs...       thể thao\n",
       "13  Liverpool vào top 4 tranh vé dự Champions Leag...       thể thao\n",
       "22  Nam sinh TP HCM nhận học bổng 100% CATS Academ...       giáo dục\n",
       "15                       Chờ Liverpool tung nước rút       thể thao\n",
       "4   Gần 3.800 tỷ đồng xây đường kết nối Thái Nguyê...        thời sự\n",
       "18  Thủ môn vô tình sút bóng vào lưới nhà y như bá...       thể thao\n",
       "28  Giành học bổng 6.2 tỷ đồng bằng bài luận nhảy múa       giáo dục\n",
       "24       Cách chinh phục hai đại học top đầu thế giới       giáo dục\n",
       "8   Khách đi xe ôm xe buýt ở TP HCM phải khai báo ...        thời sự\n",
       "27  Săn học bổng Mỹ đến 7 tỷ đồng tại St. Thomas M...       giáo dục\n",
       "25  10 trường kinh doanh có tỷ lệ chấp nhận thấp n...       giáo dục\n",
       "9      Làm cao tốc từ Đồng Tháp đi TP HCM còn 2 tiếng        thời sự\n",
       "19  Hoàng Đức hồi phục thần tốc tuyển Việt Nam làm...       thể thao\n",
       "20           Đại học Y dược TP HCM không tăng học phí       giáo dục\n",
       "23  3 lộ trình du học chuyển tiếp ngành thiết kế m...       giáo dục\n",
       "29                 Kinh nghiệm săn học bổng Fulbright       giáo dục\n",
       "14  Ngược dòng trước Man Utd tại Old Trafford Live...       thể thao\n",
       "26                     5 lỗi bài luận xin học bổng Mỹ       giáo dục\n",
       "12                Lời thỉnh nguyện của Harry Kane       thể thao\n",
       "16                     Juventus PSG đoạt cúp quốc gia       thể thao"
      ],
      "text/html": "<div>\n<style scoped>\n    .dataframe tbody tr th:only-of-type {\n        vertical-align: middle;\n    }\n\n    .dataframe tbody tr th {\n        vertical-align: top;\n    }\n\n    .dataframe thead th {\n        text-align: right;\n    }\n</style>\n<table border=\"1\" class=\"dataframe\">\n  <thead>\n    <tr style=\"text-align: right;\">\n      <th></th>\n      <th>text</th>\n      <th>classification</th>\n    </tr>\n  </thead>\n  <tbody>\n    <tr>\n      <th>10</th>\n      <td>Klopp: 'Liverpool đang ở đỉnh phong độ'</td>\n      <td>thể thao</td>\n    </tr>\n    <tr>\n      <th>5</th>\n      <td>Tháo gỡ 'nút thắt' hơn 2.800 tỷ đồng vốn bảo t...</td>\n      <td>thời sự</td>\n    </tr>\n    <tr>\n      <th>6</th>\n      <td>Cao tốc TP HCM - Mộc Bài tăng vốn gần 2.300 tỷ...</td>\n      <td>thời sự</td>\n    </tr>\n    <tr>\n      <th>1</th>\n      <td>Hiện trạng khu vực quy hoạch đô thị sông Hồng</td>\n      <td>thời sự</td>\n    </tr>\n    <tr>\n      <th>7</th>\n      <td>Trạm BOT Đông Hưng thu phí từ 1/6</td>\n      <td>thời sự</td>\n    </tr>\n    <tr>\n      <th>0</th>\n      <td>40 km quy hoạch phân khu đô thị sông Hồng</td>\n      <td>thời sự</td>\n    </tr>\n    <tr>\n      <th>2</th>\n      <td>Thủ tướng: Tập trung xây cao tốc cho những vùn...</td>\n      <td>thời sự</td>\n    </tr>\n    <tr>\n      <th>3</th>\n      <td>5 dự án cao tốc Bắc Nam sắp khởi công</td>\n      <td>thời sự</td>\n    </tr>\n    <tr>\n      <th>21</th>\n      <td>Học phí các trường quốc tế ở Hà Nội năm học 20...</td>\n      <td>giáo dục</td>\n    </tr>\n    <tr>\n      <th>17</th>\n      <td>Tuyển futsal Việt Nam làm quen sân thi đấu trư...</td>\n      <td>thể thao</td>\n    </tr>\n    <tr>\n      <th>11</th>\n      <td>BĐTV trực tiếp trận tranh vé dự World Cup futs...</td>\n      <td>thể thao</td>\n    </tr>\n    <tr>\n      <th>13</th>\n      <td>Liverpool vào top 4 tranh vé dự Champions Leag...</td>\n      <td>thể thao</td>\n    </tr>\n    <tr>\n      <th>22</th>\n      <td>Nam sinh TP HCM nhận học bổng 100% CATS Academ...</td>\n      <td>giáo dục</td>\n    </tr>\n    <tr>\n      <th>15</th>\n      <td>Chờ Liverpool tung nước rút</td>\n      <td>thể thao</td>\n    </tr>\n    <tr>\n      <th>4</th>\n      <td>Gần 3.800 tỷ đồng xây đường kết nối Thái Nguyê...</td>\n      <td>thời sự</td>\n    </tr>\n    <tr>\n      <th>18</th>\n      <td>Thủ môn vô tình sút bóng vào lưới nhà y như bá...</td>\n      <td>thể thao</td>\n    </tr>\n    <tr>\n      <th>28</th>\n      <td>Giành học bổng 6.2 tỷ đồng bằng bài luận nhảy múa</td>\n      <td>giáo dục</td>\n    </tr>\n    <tr>\n      <th>24</th>\n      <td>Cách chinh phục hai đại học top đầu thế giới</td>\n      <td>giáo dục</td>\n    </tr>\n    <tr>\n      <th>8</th>\n      <td>Khách đi xe ôm xe buýt ở TP HCM phải khai báo ...</td>\n      <td>thời sự</td>\n    </tr>\n    <tr>\n      <th>27</th>\n      <td>Săn học bổng Mỹ đến 7 tỷ đồng tại St. Thomas M...</td>\n      <td>giáo dục</td>\n    </tr>\n    <tr>\n      <th>25</th>\n      <td>10 trường kinh doanh có tỷ lệ chấp nhận thấp n...</td>\n      <td>giáo dục</td>\n    </tr>\n    <tr>\n      <th>9</th>\n      <td>Làm cao tốc từ Đồng Tháp đi TP HCM còn 2 tiếng</td>\n      <td>thời sự</td>\n    </tr>\n    <tr>\n      <th>19</th>\n      <td>Hoàng Đức hồi phục thần tốc tuyển Việt Nam làm...</td>\n      <td>thể thao</td>\n    </tr>\n    <tr>\n      <th>20</th>\n      <td>Đại học Y dược TP HCM không tăng học phí</td>\n      <td>giáo dục</td>\n    </tr>\n    <tr>\n      <th>23</th>\n      <td>3 lộ trình du học chuyển tiếp ngành thiết kế m...</td>\n      <td>giáo dục</td>\n    </tr>\n    <tr>\n      <th>29</th>\n      <td>Kinh nghiệm săn học bổng Fulbright</td>\n      <td>giáo dục</td>\n    </tr>\n    <tr>\n      <th>14</th>\n      <td>Ngược dòng trước Man Utd tại Old Trafford Live...</td>\n      <td>thể thao</td>\n    </tr>\n    <tr>\n      <th>26</th>\n      <td>5 lỗi bài luận xin học bổng Mỹ</td>\n      <td>giáo dục</td>\n    </tr>\n    <tr>\n      <th>12</th>\n      <td>Lời thỉnh nguyện của Harry Kane</td>\n      <td>thể thao</td>\n    </tr>\n    <tr>\n      <th>16</th>\n      <td>Juventus PSG đoạt cúp quốc gia</td>\n      <td>thể thao</td>\n    </tr>\n  </tbody>\n</table>\n</div>"
     },
     "metadata": {},
     "execution_count": 28
    }
   ],
   "source": [
    "# test_data['classification']\n",
    "test_data.sample(frac=1)"
   ]
  },
  {
   "cell_type": "code",
   "execution_count": 29,
   "metadata": {},
   "outputs": [],
   "source": [
    "X_train = train_data[\"text\"]\n",
    "y_train = train_data[\"classification\"]\n",
    "X_test = test_data[\"text\"]\n",
    "y_test = test_data[\"classification\"]\n",
    "y_test_actual = y_test.to_numpy()"
   ]
  },
  {
   "cell_type": "code",
   "execution_count": 30,
   "metadata": {},
   "outputs": [
    {
     "output_type": "execute_result",
     "data": {
      "text/plain": [
       "array(['thời sự', 'thời sự', 'thời sự', 'thời sự', 'thời sự', 'thời sự',\n",
       "       'thời sự', 'thời sự', 'thời sự', 'thời sự', 'thể thao', 'thể thao',\n",
       "       'thể thao', 'thể thao', 'thể thao', 'thể thao', 'thể thao',\n",
       "       'thể thao', 'thể thao', 'thể thao', 'giáo dục', 'giáo dục',\n",
       "       'giáo dục', 'giáo dục', 'giáo dục', 'giáo dục', 'giáo dục',\n",
       "       'giáo dục', 'giáo dục', 'giáo dục'], dtype=object)"
      ]
     },
     "metadata": {},
     "execution_count": 30
    }
   ],
   "source": [
    "y_test_actual"
   ]
  },
  {
   "source": [
    "## 3. Apply Multinomial Naive Bayes without balancing data"
   ],
   "cell_type": "markdown",
   "metadata": {}
  },
  {
   "cell_type": "code",
   "execution_count": 31,
   "metadata": {},
   "outputs": [],
   "source": [
    "imbalanced_pipeline = make_pipeline(TfidfVectorizer(), MultinomialNB())\n",
    "imbalanced_pipeline.fit(X_train, y_train)\n",
    "y_imbalanced_pred = imbalanced_pipeline.predict(X_test)"
   ]
  },
  {
   "cell_type": "code",
   "execution_count": 32,
   "metadata": {},
   "outputs": [
    {
     "output_type": "stream",
     "name": "stdout",
     "text": [
      "40 km quy hoạch phân khu đô thị sông Hồng : thời sự\nHiện trạng khu vực quy hoạch đô thị sông Hồng : thời sự\nThủ tướng: Tập trung xây cao tốc cho những vùng động lực : thời sự\n5 dự án cao tốc Bắc Nam sắp khởi công : thời sự\nGần 3.800 tỷ đồng xây đường kết nối Thái Nguyên Bắc Giang Vĩnh Phúc : thời sự\nTháo gỡ 'nút thắt' hơn 2.800 tỷ đồng vốn bảo trì đường sắt : giáo dục\nCao tốc TP HCM - Mộc Bài tăng vốn gần 2.300 tỷ đồng : thời sự\nTrạm BOT Đông Hưng thu phí từ 1/6 : thời sự\nKhách đi xe ôm xe buýt ở TP HCM phải khai báo y tế : thời sự\nLàm cao tốc từ Đồng Tháp đi TP HCM còn 2 tiếng : thời sự\nKlopp: 'Liverpool đang ở đỉnh phong độ' : thời sự\nBĐTV trực tiếp trận tranh vé dự World Cup futsal 2021 Việt Nam - Lebanon : thời sự\nLời thỉnh nguyện của Harry Kane : thời sự\nLiverpool vào top 4 tranh vé dự Champions League tận giờ chót : thời sự\nNgược dòng trước Man Utd tại Old Trafford Liverpool tiến sát top 4 : thời sự\nChờ Liverpool tung nước rút : thời sự\nJuventus PSG đoạt cúp quốc gia : thời sự\nTuyển futsal Việt Nam làm quen sân thi đấu trước khi đá play-off World Cup : thời sự\nThủ môn vô tình sút bóng vào lưới nhà y như bán độ : thời sự\nHoàng Đức hồi phục thần tốc tuyển Việt Nam làm bài kiểm tra thể lực : thời sự\nĐại học Y dược TP HCM không tăng học phí : thời sự\nHọc phí các trường quốc tế ở Hà Nội năm học 2021-2022 : giáo dục\nNam sinh TP HCM nhận học bổng 100% CATS Academy Boston : giáo dục\n3 lộ trình du học chuyển tiếp ngành thiết kế mùa dịch : thời sự\nCách chinh phục hai đại học top đầu thế giới : thời sự\n10 trường kinh doanh có tỷ lệ chấp nhận thấp nhất nước Mỹ : giáo dục\n5 lỗi bài luận xin học bổng Mỹ : giáo dục\nSăn học bổng Mỹ đến 7 tỷ đồng tại St. Thomas More School : giáo dục\nGiành học bổng 6.2 tỷ đồng bằng bài luận nhảy múa : giáo dục\nKinh nghiệm săn học bổng Fulbright : giáo dục\n"
     ]
    }
   ],
   "source": [
    "for i in range(len(X_test)):\n",
    "  print(f\"{X_test[i]} : {y_imbalanced_pred[i]}\")"
   ]
  },
  {
   "cell_type": "code",
   "execution_count": 34,
   "metadata": {},
   "outputs": [
    {
     "output_type": "stream",
     "name": "stdout",
     "text": [
      "accuracy =  0.5333333333333333\n"
     ]
    }
   ],
   "source": [
    "# accuracy\n",
    "print('accuracy = ',accuracy_score(y_test_actual, y_imbalanced_pred))"
   ]
  },
  {
   "cell_type": "code",
   "execution_count": 35,
   "metadata": {},
   "outputs": [
    {
     "output_type": "execute_result",
     "data": {
      "text/plain": [
       "array([[ 7,  0,  3],\n",
       "       [ 0,  0, 10],\n",
       "       [ 1,  0,  9]])"
      ]
     },
     "metadata": {},
     "execution_count": 35
    }
   ],
   "source": [
    "# confusion matrix\n",
    "cnf_matrix = confusion_matrix(y_test_actual, y_imbalanced_pred)\n",
    "cnf_matrix"
   ]
  },
  {
   "source": [
    "## 4. Apply Multinomial Naive Bayes with balancing data"
   ],
   "cell_type": "markdown",
   "metadata": {}
  },
  {
   "cell_type": "code",
   "execution_count": 36,
   "metadata": {},
   "outputs": [],
   "source": [
    "balanced_pipeline = make_pipeline_imb(TfidfVectorizer(), RandomUnderSampler(), MultinomialNB())\n",
    "balanced_pipeline.fit(X_train, y_train)\n",
    "y_balanced_pred = balanced_pipeline.predict(X_test)"
   ]
  },
  {
   "cell_type": "code",
   "execution_count": 37,
   "metadata": {},
   "outputs": [
    {
     "output_type": "stream",
     "name": "stdout",
     "text": [
      "40 km quy hoạch phân khu đô thị sông Hồng : thời sự\nHiện trạng khu vực quy hoạch đô thị sông Hồng : thời sự\nThủ tướng: Tập trung xây cao tốc cho những vùng động lực : thời sự\n5 dự án cao tốc Bắc Nam sắp khởi công : thời sự\nGần 3.800 tỷ đồng xây đường kết nối Thái Nguyên Bắc Giang Vĩnh Phúc : giáo dục\nTháo gỡ 'nút thắt' hơn 2.800 tỷ đồng vốn bảo trì đường sắt : giáo dục\nCao tốc TP HCM - Mộc Bài tăng vốn gần 2.300 tỷ đồng : giáo dục\nTrạm BOT Đông Hưng thu phí từ 1/6 : giáo dục\nKhách đi xe ôm xe buýt ở TP HCM phải khai báo y tế : thời sự\nLàm cao tốc từ Đồng Tháp đi TP HCM còn 2 tiếng : giáo dục\nKlopp: 'Liverpool đang ở đỉnh phong độ' : thể thao\nBĐTV trực tiếp trận tranh vé dự World Cup futsal 2021 Việt Nam - Lebanon : thời sự\nLời thỉnh nguyện của Harry Kane : giáo dục\nLiverpool vào top 4 tranh vé dự Champions League tận giờ chót : thể thao\nNgược dòng trước Man Utd tại Old Trafford Liverpool tiến sát top 4 : thể thao\nChờ Liverpool tung nước rút : thời sự\nJuventus PSG đoạt cúp quốc gia : thời sự\nTuyển futsal Việt Nam làm quen sân thi đấu trước khi đá play-off World Cup : giáo dục\nThủ môn vô tình sút bóng vào lưới nhà y như bán độ : thể thao\nHoàng Đức hồi phục thần tốc tuyển Việt Nam làm bài kiểm tra thể lực : thời sự\nĐại học Y dược TP HCM không tăng học phí : giáo dục\nHọc phí các trường quốc tế ở Hà Nội năm học 2021-2022 : giáo dục\nNam sinh TP HCM nhận học bổng 100% CATS Academy Boston : giáo dục\n3 lộ trình du học chuyển tiếp ngành thiết kế mùa dịch : giáo dục\nCách chinh phục hai đại học top đầu thế giới : giáo dục\n10 trường kinh doanh có tỷ lệ chấp nhận thấp nhất nước Mỹ : giáo dục\n5 lỗi bài luận xin học bổng Mỹ : giáo dục\nSăn học bổng Mỹ đến 7 tỷ đồng tại St. Thomas More School : giáo dục\nGiành học bổng 6.2 tỷ đồng bằng bài luận nhảy múa : giáo dục\nKinh nghiệm săn học bổng Fulbright : giáo dục\n"
     ]
    }
   ],
   "source": [
    "for i in range(len(X_test)):\n",
    "  print(f\"{X_test[i]} : {y_balanced_pred[i]}\")"
   ]
  },
  {
   "cell_type": "code",
   "execution_count": 40,
   "metadata": {},
   "outputs": [
    {
     "output_type": "stream",
     "name": "stdout",
     "text": [
      "accuracy =  0.6333333333333333\n"
     ]
    }
   ],
   "source": [
    "# accuracy\n",
    "print('accuracy = ',accuracy_score(y_test_actual, y_balanced_pred))"
   ]
  },
  {
   "cell_type": "code",
   "execution_count": 41,
   "metadata": {},
   "outputs": [
    {
     "output_type": "execute_result",
     "data": {
      "text/plain": [
       "array([[10,  0,  0],\n",
       "       [ 2,  4,  4],\n",
       "       [ 5,  0,  5]])"
      ]
     },
     "metadata": {},
     "execution_count": 41
    }
   ],
   "source": [
    "# confusion matrix\n",
    "cnf_matrix = confusion_matrix(y_test_actual, y_balanced_pred)\n",
    "cnf_matrix"
   ]
  },
  {
   "source": [
    "## 5. Apply kNN"
   ],
   "cell_type": "markdown",
   "metadata": {}
  },
  {
   "cell_type": "code",
   "execution_count": 42,
   "metadata": {},
   "outputs": [],
   "source": [
    "# vectorize X train data\n",
    "vectorizer = TfidfVectorizer()\n",
    "X_train_knn = vectorizer.fit_transform(X_train).toarray()\n",
    "vocab = vectorizer.get_feature_names()"
   ]
  },
  {
   "cell_type": "code",
   "execution_count": 43,
   "metadata": {},
   "outputs": [],
   "source": [
    "# encode y train data\n",
    "label_encoder = LabelEncoder()\n",
    "integer_encoded = label_encoder.fit_transform(y_train)\n",
    "integer_encoded = integer_encoded.reshape(len(integer_encoded), 1)\n",
    "\n",
    "onehot_encoder = OneHotEncoder(sparse=False)\n",
    "y_train_knn = onehot_encoder.fit_transform(integer_encoded)"
   ]
  },
  {
   "cell_type": "code",
   "execution_count": 44,
   "metadata": {},
   "outputs": [
    {
     "output_type": "execute_result",
     "data": {
      "text/plain": [
       "array([[0., 0., 1.],\n",
       "       [0., 0., 1.],\n",
       "       [0., 0., 1.],\n",
       "       [0., 0., 1.],\n",
       "       [0., 0., 1.],\n",
       "       [0., 0., 1.],\n",
       "       [0., 0., 1.],\n",
       "       [0., 0., 1.],\n",
       "       [0., 0., 1.],\n",
       "       [0., 0., 1.],\n",
       "       [0., 0., 1.],\n",
       "       [0., 0., 1.],\n",
       "       [0., 0., 1.],\n",
       "       [0., 0., 1.],\n",
       "       [0., 0., 1.],\n",
       "       [0., 0., 1.],\n",
       "       [0., 0., 1.],\n",
       "       [0., 0., 1.],\n",
       "       [0., 0., 1.],\n",
       "       [0., 0., 1.],\n",
       "       [0., 0., 1.],\n",
       "       [0., 0., 1.],\n",
       "       [0., 0., 1.],\n",
       "       [0., 0., 1.],\n",
       "       [0., 0., 1.],\n",
       "       [0., 0., 1.],\n",
       "       [0., 0., 1.],\n",
       "       [0., 1., 0.],\n",
       "       [0., 1., 0.],\n",
       "       [0., 1., 0.],\n",
       "       [0., 1., 0.],\n",
       "       [0., 1., 0.],\n",
       "       [0., 1., 0.],\n",
       "       [0., 1., 0.],\n",
       "       [0., 1., 0.],\n",
       "       [0., 1., 0.],\n",
       "       [0., 1., 0.],\n",
       "       [0., 1., 0.],\n",
       "       [0., 1., 0.],\n",
       "       [0., 1., 0.],\n",
       "       [0., 1., 0.],\n",
       "       [0., 1., 0.],\n",
       "       [1., 0., 0.],\n",
       "       [1., 0., 0.],\n",
       "       [1., 0., 0.],\n",
       "       [1., 0., 0.],\n",
       "       [1., 0., 0.],\n",
       "       [1., 0., 0.],\n",
       "       [1., 0., 0.],\n",
       "       [1., 0., 0.],\n",
       "       [1., 0., 0.],\n",
       "       [1., 0., 0.],\n",
       "       [1., 0., 0.],\n",
       "       [1., 0., 0.],\n",
       "       [1., 0., 0.],\n",
       "       [1., 0., 0.],\n",
       "       [1., 0., 0.],\n",
       "       [1., 0., 0.]])"
      ]
     },
     "metadata": {},
     "execution_count": 44
    }
   ],
   "source": [
    "y_train_knn"
   ]
  },
  {
   "cell_type": "code",
   "execution_count": 45,
   "metadata": {},
   "outputs": [],
   "source": [
    "# vectorize X test data\n",
    "X_test_knn = vectorizer.transform(X_test).toarray()"
   ]
  },
  {
   "cell_type": "code",
   "execution_count": 46,
   "metadata": {},
   "outputs": [
    {
     "output_type": "execute_result",
     "data": {
      "text/plain": [
       "KNeighborsClassifier()"
      ]
     },
     "metadata": {},
     "execution_count": 46
    }
   ],
   "source": [
    "# apply kNN\n",
    "kNN = KNeighborsClassifier(n_neighbors=5)\n",
    "kNN.fit(X_train_knn, y_train_knn)"
   ]
  },
  {
   "cell_type": "code",
   "execution_count": 47,
   "metadata": {},
   "outputs": [],
   "source": [
    "# predict\n",
    "y_pred = kNN.predict(X_test_knn)"
   ]
  },
  {
   "cell_type": "code",
   "execution_count": 48,
   "metadata": {},
   "outputs": [
    {
     "output_type": "execute_result",
     "data": {
      "text/plain": [
       "array([[0., 0., 0.],\n",
       "       [0., 0., 0.],\n",
       "       [0., 0., 0.],\n",
       "       [0., 0., 1.],\n",
       "       [0., 0., 1.],\n",
       "       [1., 0., 0.],\n",
       "       [0., 0., 1.],\n",
       "       [1., 0., 0.],\n",
       "       [0., 0., 1.],\n",
       "       [1., 0., 0.],\n",
       "       [0., 1., 0.],\n",
       "       [0., 0., 1.],\n",
       "       [1., 0., 0.],\n",
       "       [1., 0., 0.],\n",
       "       [0., 0., 0.],\n",
       "       [0., 0., 1.],\n",
       "       [0., 0., 0.],\n",
       "       [0., 0., 0.],\n",
       "       [0., 1., 0.],\n",
       "       [0., 0., 1.],\n",
       "       [1., 0., 0.],\n",
       "       [1., 0., 0.],\n",
       "       [1., 0., 0.],\n",
       "       [0., 0., 0.],\n",
       "       [1., 0., 0.],\n",
       "       [1., 0., 0.],\n",
       "       [1., 0., 0.],\n",
       "       [1., 0., 0.],\n",
       "       [1., 0., 0.],\n",
       "       [1., 0., 0.]])"
      ]
     },
     "metadata": {},
     "execution_count": 48
    }
   ],
   "source": [
    "y_pred"
   ]
  },
  {
   "cell_type": "code",
   "execution_count": 49,
   "metadata": {},
   "outputs": [
    {
     "output_type": "stream",
     "name": "stdout",
     "text": [
      "'thời sự' : giáo dục\n'thời sự' : giáo dục\n'thời sự' : giáo dục\n'thời sự' : thời sự\n'thời sự' : thời sự\n'thời sự' : giáo dục\n'thời sự' : thời sự\n'thời sự' : giáo dục\n'thời sự' : thời sự\n'thời sự' : giáo dục\n'thể thao' : thể thao\n'thể thao' : thời sự\n'thể thao' : giáo dục\n'thể thao' : giáo dục\n'thể thao' : giáo dục\n'thể thao' : thời sự\n'thể thao' : giáo dục\n'thể thao' : giáo dục\n'thể thao' : thể thao\n'thể thao' : thời sự\n'giáo dục' : giáo dục\n'giáo dục' : giáo dục\n'giáo dục' : giáo dục\n'giáo dục' : giáo dục\n'giáo dục' : giáo dục\n'giáo dục' : giáo dục\n'giáo dục' : giáo dục\n'giáo dục' : giáo dục\n'giáo dục' : giáo dục\n'giáo dục' : giáo dục\n"
     ]
    }
   ],
   "source": [
    "# print classification\n",
    "classification_pred = []\n",
    "for pred in y_pred:\n",
    "  inverted = label_encoder.inverse_transform([np.argmax(pred)])\n",
    "  label = str(inverted[0])\n",
    "  classification_pred.append(label)\n",
    "\n",
    "for i in range(len(y_test)):\n",
    "  print(f\"'{y_test[i]}' : {classification_pred[i]}\")"
   ]
  },
  {
   "cell_type": "code",
   "execution_count": 50,
   "metadata": {},
   "outputs": [
    {
     "output_type": "stream",
     "name": "stdout",
     "text": [
      "accuracy =  0.5333333333333333\n"
     ]
    }
   ],
   "source": [
    "# accuracy\n",
    "print('accuracy = ',accuracy_score(y_test_actual, classification_pred))"
   ]
  },
  {
   "cell_type": "code",
   "execution_count": 51,
   "metadata": {},
   "outputs": [
    {
     "output_type": "execute_result",
     "data": {
      "text/plain": [
       "array([[10,  0,  0],\n",
       "       [ 5,  2,  3],\n",
       "       [ 6,  0,  4]])"
      ]
     },
     "metadata": {},
     "execution_count": 51
    }
   ],
   "source": [
    "# confusion matrix\n",
    "cnf_matrix = confusion_matrix(y_test_actual, classification_pred)\n",
    "cnf_matrix"
   ]
  },
  {
   "cell_type": "code",
   "execution_count": null,
   "metadata": {},
   "outputs": [],
   "source": []
  }
 ]
}