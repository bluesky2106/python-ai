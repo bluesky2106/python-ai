{
 "metadata": {
  "language_info": {
   "codemirror_mode": {
    "name": "ipython",
    "version": 3
   },
   "file_extension": ".py",
   "mimetype": "text/x-python",
   "name": "python",
   "nbconvert_exporter": "python",
   "pygments_lexer": "ipython3",
   "version": "3.9.5"
  },
  "orig_nbformat": 2,
  "kernelspec": {
   "name": "python395jvsc74a57bd0aee8b7b246df8f9039afb4144a1f6fd8d2ca17a180786b69acc140d282b71a49",
   "display_name": "Python 3.9.5 64-bit"
  },
  "metadata": {
   "interpreter": {
    "hash": "aee8b7b246df8f9039afb4144a1f6fd8d2ca17a180786b69acc140d282b71a49"
   }
  }
 },
 "nbformat": 4,
 "nbformat_minor": 2,
 "cells": [
  {
   "source": [
    "# naive bayes"
   ],
   "cell_type": "markdown",
   "metadata": {}
  },
  {
   "source": [
    "## 1. Import important packages"
   ],
   "cell_type": "markdown",
   "metadata": {}
  },
  {
   "cell_type": "code",
   "execution_count": 27,
   "metadata": {},
   "outputs": [],
   "source": [
    "import numpy as np\n",
    "import pandas as pd\n",
    "\n",
    "from sklearn.feature_extraction.text import TfidfVectorizer\n",
    "from sklearn.preprocessing import LabelEncoder, OneHotEncoder\n",
    "\n",
    "from sklearn.neighbors import KNeighborsClassifier\n",
    "\n",
    "from sklearn.datasets import fetch_20newsgroups\n",
    "from sklearn.naive_bayes import MultinomialNB\n",
    "from sklearn.pipeline import make_pipeline\n",
    "from imblearn.under_sampling import RandomUnderSampler\n",
    "from imblearn.pipeline import make_pipeline as make_pipeline_imb\n",
    "from imblearn.metrics import classification_report_imbalanced"
   ]
  },
  {
   "source": [
    "## 2. Load raw data"
   ],
   "cell_type": "markdown",
   "metadata": {}
  },
  {
   "cell_type": "code",
   "execution_count": 28,
   "metadata": {},
   "outputs": [
    {
     "output_type": "execute_result",
     "data": {
      "text/plain": [
       "                                                 text classification\n",
       "0     Danh sách ứng cử viên đại biểu quốc hội khoá XV        thời sự\n",
       "1                    Số ca nhiễm trong nước vượt 2000        thời sự\n",
       "2     Hà Nội cách ly tòa Park 9 khu đô thị Times City        thời sự\n",
       "3    Điều kiện nào cho phép F1 có thể cách ly tại nhà        thời sự\n",
       "4                Tiêu hủy gần 1.000 con lợn nhập khẩu        thời sự\n",
       "5               Hai anh em tử vong dưới hố công trình        thời sự\n",
       "6                  Hà Nội lập chốt kiểm soát Covid-19        thời sự\n",
       "7   Hải Dương lấy mẫu xét nghiệm cho hơn 39.000 người        thời sự\n",
       "8      Ngày đầu quán ăn nhỏ ở Sài Gòn chỉ bán mang đi        thời sự\n",
       "9      Bệnh gout nặng có thể thuyên giảm nhờ cách sau        thời sự\n",
       "10                      Bầu cử sớm trong vùng cách ly        thời sự\n",
       "11                Griezmann lập siêu phẩm ở vòng cuối       thể thao\n",
       "12  Lewandowski lập kỷ lục ghi bàn trong một mùa B...       thể thao\n",
       "13                Suarez: 'Barca không coi trọng tôi'       thể thao\n",
       "14                  Real lần đầu trắng tay sau 11 năm       thể thao\n",
       "15                    Real bất lực dù thắng vòng cuối       thể thao\n",
       "16                    Atletico Madrid vô địch La Liga       thể thao\n",
       "17             PGA Championship cắt loại như thế nào?       thể thao\n",
       "18  HLV Nishino tiếc khi học trò bỏ rơi tuyển Thái...       thể thao\n",
       "19           Mbappe có thể đã đạt thỏa thuận với Real       thể thao\n",
       "20  Klopp: 'Man City khó vô địch nếu mất nhiều quâ...       thể thao\n",
       "21  Kane: 'Mourinho thất bại vì Tottenham thiếu th...       thể thao\n",
       "22  Bí quyết đạt điểm 9-10 môn Sinh trong kỳ thi t...       giáo dục\n",
       "23  Học phí các trường quốc tế ở Hà Nội năm học 20...       giáo dục\n",
       "24     Đừng học thuộc lòng nếu muốn điểm cao môn Sinh       giáo dục\n",
       "25          Phương pháp hệ thống lý thuyết hóa hữu cơ       giáo dục\n",
       "26  Sinh viên nhận song bằng tại trường Cao đẳng H...       giáo dục\n",
       "27          Chiến lược giải đề Vật lý tốt nghiệp THPT       giáo dục\n",
       "28  Top 5 nhóm ngành có nhiều thí sinh đăng ký ngu...       giáo dục\n",
       "29         Lập kế hoạch ôn thi Vật lý để đạt điểm cao       giáo dục\n",
       "30     Hơn 790.000 thí sinh đăng ký xét tuyển đại học       giáo dục\n",
       "31        Thêm trường THPT chuyên hoãn thi vào lớp 10       giáo dục\n",
       "32  Lưu ý khi ôn tập hình học giải tích trong khôn...       giáo dục\n",
       "33  Tuyển 200 học sinh lớp 6 vào trường chuyên Hà ...       giáo dục"
      ],
      "text/html": "<div>\n<style scoped>\n    .dataframe tbody tr th:only-of-type {\n        vertical-align: middle;\n    }\n\n    .dataframe tbody tr th {\n        vertical-align: top;\n    }\n\n    .dataframe thead th {\n        text-align: right;\n    }\n</style>\n<table border=\"1\" class=\"dataframe\">\n  <thead>\n    <tr style=\"text-align: right;\">\n      <th></th>\n      <th>text</th>\n      <th>classification</th>\n    </tr>\n  </thead>\n  <tbody>\n    <tr>\n      <th>0</th>\n      <td>Danh sách ứng cử viên đại biểu quốc hội khoá XV</td>\n      <td>thời sự</td>\n    </tr>\n    <tr>\n      <th>1</th>\n      <td>Số ca nhiễm trong nước vượt 2000</td>\n      <td>thời sự</td>\n    </tr>\n    <tr>\n      <th>2</th>\n      <td>Hà Nội cách ly tòa Park 9 khu đô thị Times City</td>\n      <td>thời sự</td>\n    </tr>\n    <tr>\n      <th>3</th>\n      <td>Điều kiện nào cho phép F1 có thể cách ly tại nhà</td>\n      <td>thời sự</td>\n    </tr>\n    <tr>\n      <th>4</th>\n      <td>Tiêu hủy gần 1.000 con lợn nhập khẩu</td>\n      <td>thời sự</td>\n    </tr>\n    <tr>\n      <th>5</th>\n      <td>Hai anh em tử vong dưới hố công trình</td>\n      <td>thời sự</td>\n    </tr>\n    <tr>\n      <th>6</th>\n      <td>Hà Nội lập chốt kiểm soát Covid-19</td>\n      <td>thời sự</td>\n    </tr>\n    <tr>\n      <th>7</th>\n      <td>Hải Dương lấy mẫu xét nghiệm cho hơn 39.000 người</td>\n      <td>thời sự</td>\n    </tr>\n    <tr>\n      <th>8</th>\n      <td>Ngày đầu quán ăn nhỏ ở Sài Gòn chỉ bán mang đi</td>\n      <td>thời sự</td>\n    </tr>\n    <tr>\n      <th>9</th>\n      <td>Bệnh gout nặng có thể thuyên giảm nhờ cách sau</td>\n      <td>thời sự</td>\n    </tr>\n    <tr>\n      <th>10</th>\n      <td>Bầu cử sớm trong vùng cách ly</td>\n      <td>thời sự</td>\n    </tr>\n    <tr>\n      <th>11</th>\n      <td>Griezmann lập siêu phẩm ở vòng cuối</td>\n      <td>thể thao</td>\n    </tr>\n    <tr>\n      <th>12</th>\n      <td>Lewandowski lập kỷ lục ghi bàn trong một mùa B...</td>\n      <td>thể thao</td>\n    </tr>\n    <tr>\n      <th>13</th>\n      <td>Suarez: 'Barca không coi trọng tôi'</td>\n      <td>thể thao</td>\n    </tr>\n    <tr>\n      <th>14</th>\n      <td>Real lần đầu trắng tay sau 11 năm</td>\n      <td>thể thao</td>\n    </tr>\n    <tr>\n      <th>15</th>\n      <td>Real bất lực dù thắng vòng cuối</td>\n      <td>thể thao</td>\n    </tr>\n    <tr>\n      <th>16</th>\n      <td>Atletico Madrid vô địch La Liga</td>\n      <td>thể thao</td>\n    </tr>\n    <tr>\n      <th>17</th>\n      <td>PGA Championship cắt loại như thế nào?</td>\n      <td>thể thao</td>\n    </tr>\n    <tr>\n      <th>18</th>\n      <td>HLV Nishino tiếc khi học trò bỏ rơi tuyển Thái...</td>\n      <td>thể thao</td>\n    </tr>\n    <tr>\n      <th>19</th>\n      <td>Mbappe có thể đã đạt thỏa thuận với Real</td>\n      <td>thể thao</td>\n    </tr>\n    <tr>\n      <th>20</th>\n      <td>Klopp: 'Man City khó vô địch nếu mất nhiều quâ...</td>\n      <td>thể thao</td>\n    </tr>\n    <tr>\n      <th>21</th>\n      <td>Kane: 'Mourinho thất bại vì Tottenham thiếu th...</td>\n      <td>thể thao</td>\n    </tr>\n    <tr>\n      <th>22</th>\n      <td>Bí quyết đạt điểm 9-10 môn Sinh trong kỳ thi t...</td>\n      <td>giáo dục</td>\n    </tr>\n    <tr>\n      <th>23</th>\n      <td>Học phí các trường quốc tế ở Hà Nội năm học 20...</td>\n      <td>giáo dục</td>\n    </tr>\n    <tr>\n      <th>24</th>\n      <td>Đừng học thuộc lòng nếu muốn điểm cao môn Sinh</td>\n      <td>giáo dục</td>\n    </tr>\n    <tr>\n      <th>25</th>\n      <td>Phương pháp hệ thống lý thuyết hóa hữu cơ</td>\n      <td>giáo dục</td>\n    </tr>\n    <tr>\n      <th>26</th>\n      <td>Sinh viên nhận song bằng tại trường Cao đẳng H...</td>\n      <td>giáo dục</td>\n    </tr>\n    <tr>\n      <th>27</th>\n      <td>Chiến lược giải đề Vật lý tốt nghiệp THPT</td>\n      <td>giáo dục</td>\n    </tr>\n    <tr>\n      <th>28</th>\n      <td>Top 5 nhóm ngành có nhiều thí sinh đăng ký ngu...</td>\n      <td>giáo dục</td>\n    </tr>\n    <tr>\n      <th>29</th>\n      <td>Lập kế hoạch ôn thi Vật lý để đạt điểm cao</td>\n      <td>giáo dục</td>\n    </tr>\n    <tr>\n      <th>30</th>\n      <td>Hơn 790.000 thí sinh đăng ký xét tuyển đại học</td>\n      <td>giáo dục</td>\n    </tr>\n    <tr>\n      <th>31</th>\n      <td>Thêm trường THPT chuyên hoãn thi vào lớp 10</td>\n      <td>giáo dục</td>\n    </tr>\n    <tr>\n      <th>32</th>\n      <td>Lưu ý khi ôn tập hình học giải tích trong khôn...</td>\n      <td>giáo dục</td>\n    </tr>\n    <tr>\n      <th>33</th>\n      <td>Tuyển 200 học sinh lớp 6 vào trường chuyên Hà ...</td>\n      <td>giáo dục</td>\n    </tr>\n  </tbody>\n</table>\n</div>"
     },
     "metadata": {},
     "execution_count": 28
    }
   ],
   "source": [
    "# train data\n",
    "train_data = pd.read_csv('input/train_data.csv', sep=',')\n",
    "train_data"
   ]
  },
  {
   "cell_type": "code",
   "execution_count": 29,
   "metadata": {},
   "outputs": [
    {
     "output_type": "execute_result",
     "data": {
      "text/plain": [
       "                                                text classification\n",
       "0          40 km quy hoạch phân khu đô thị sông Hồng        thời sự\n",
       "1      Hiện trạng khu vực quy hoạch đô thị sông Hồng        thời sự\n",
       "2            Klopp: 'Liverpool đang ở đỉnh phong độ'       thể thao\n",
       "3                       Haaland đổi áo với trọng tài       thể thao\n",
       "4           Đại học Y dược TP HCM không tăng học phí       giáo dục\n",
       "5  Học phí các trường quốc tế ở Hà Nội năm học 20...       giáo dục"
      ],
      "text/html": "<div>\n<style scoped>\n    .dataframe tbody tr th:only-of-type {\n        vertical-align: middle;\n    }\n\n    .dataframe tbody tr th {\n        vertical-align: top;\n    }\n\n    .dataframe thead th {\n        text-align: right;\n    }\n</style>\n<table border=\"1\" class=\"dataframe\">\n  <thead>\n    <tr style=\"text-align: right;\">\n      <th></th>\n      <th>text</th>\n      <th>classification</th>\n    </tr>\n  </thead>\n  <tbody>\n    <tr>\n      <th>0</th>\n      <td>40 km quy hoạch phân khu đô thị sông Hồng</td>\n      <td>thời sự</td>\n    </tr>\n    <tr>\n      <th>1</th>\n      <td>Hiện trạng khu vực quy hoạch đô thị sông Hồng</td>\n      <td>thời sự</td>\n    </tr>\n    <tr>\n      <th>2</th>\n      <td>Klopp: 'Liverpool đang ở đỉnh phong độ'</td>\n      <td>thể thao</td>\n    </tr>\n    <tr>\n      <th>3</th>\n      <td>Haaland đổi áo với trọng tài</td>\n      <td>thể thao</td>\n    </tr>\n    <tr>\n      <th>4</th>\n      <td>Đại học Y dược TP HCM không tăng học phí</td>\n      <td>giáo dục</td>\n    </tr>\n    <tr>\n      <th>5</th>\n      <td>Học phí các trường quốc tế ở Hà Nội năm học 20...</td>\n      <td>giáo dục</td>\n    </tr>\n  </tbody>\n</table>\n</div>"
     },
     "metadata": {},
     "execution_count": 29
    }
   ],
   "source": [
    "# test data\n",
    "test_data = pd.read_csv('input/test_data.csv', sep=',')\n",
    "test_data"
   ]
  },
  {
   "cell_type": "code",
   "execution_count": 30,
   "metadata": {},
   "outputs": [],
   "source": [
    "X_train = train_data[\"text\"]\n",
    "y_train = train_data[\"classification\"]\n",
    "X_test = test_data[\"text\"]\n",
    "y_test = test_data[\"classification\"]"
   ]
  },
  {
   "source": [
    "## 3. Apply Multinomial Naive Bayes without balancing data"
   ],
   "cell_type": "markdown",
   "metadata": {}
  },
  {
   "cell_type": "code",
   "execution_count": 31,
   "metadata": {},
   "outputs": [],
   "source": [
    "imbalanced_pipeline = make_pipeline(TfidfVectorizer(), MultinomialNB())\n",
    "imbalanced_pipeline.fit(X_train, y_train)\n",
    "y_imbalanced_pred = imbalanced_pipeline.predict(X_test)"
   ]
  },
  {
   "cell_type": "code",
   "execution_count": 32,
   "metadata": {},
   "outputs": [
    {
     "output_type": "stream",
     "name": "stdout",
     "text": [
      "40 km quy hoạch phân khu đô thị sông Hồng : thời sự\nHiện trạng khu vực quy hoạch đô thị sông Hồng : thời sự\nKlopp: 'Liverpool đang ở đỉnh phong độ' : thể thao\nHaaland đổi áo với trọng tài : thể thao\nĐại học Y dược TP HCM không tăng học phí : giáo dục\nHọc phí các trường quốc tế ở Hà Nội năm học 2021-2022 : giáo dục\n"
     ]
    }
   ],
   "source": [
    "for i in range(len(X_test)):\n",
    "  print(f\"{X_test[i]} : {y_imbalanced_pred[i]}\")"
   ]
  },
  {
   "source": [
    "## 4. Apply Multinomial Naive Bayes with balancing data"
   ],
   "cell_type": "markdown",
   "metadata": {}
  },
  {
   "cell_type": "code",
   "execution_count": 33,
   "metadata": {},
   "outputs": [],
   "source": [
    "balanced_pipeline = make_pipeline_imb(TfidfVectorizer(), RandomUnderSampler(), MultinomialNB())\n",
    "balanced_pipeline.fit(X_train, y_train)\n",
    "y_balanced_pred = balanced_pipeline.predict(X_test)"
   ]
  },
  {
   "cell_type": "code",
   "execution_count": 34,
   "metadata": {},
   "outputs": [
    {
     "output_type": "stream",
     "name": "stdout",
     "text": [
      "40 km quy hoạch phân khu đô thị sông Hồng : thời sự\nHiện trạng khu vực quy hoạch đô thị sông Hồng : thời sự\nKlopp: 'Liverpool đang ở đỉnh phong độ' : thể thao\nHaaland đổi áo với trọng tài : thể thao\nĐại học Y dược TP HCM không tăng học phí : giáo dục\nHọc phí các trường quốc tế ở Hà Nội năm học 2021-2022 : giáo dục\n"
     ]
    }
   ],
   "source": [
    "for i in range(len(X_test)):\n",
    "  print(f\"{X_test[i]} : {y_balanced_pred[i]}\")"
   ]
  },
  {
   "source": [
    "## 5. Apply kNN"
   ],
   "cell_type": "markdown",
   "metadata": {}
  },
  {
   "cell_type": "code",
   "execution_count": 35,
   "metadata": {},
   "outputs": [],
   "source": [
    "# vectorize X train data\n",
    "vectorizer = TfidfVectorizer()\n",
    "X_train = vectorizer.fit_transform(X_train).toarray()\n",
    "vocab = vectorizer.get_feature_names()"
   ]
  },
  {
   "cell_type": "code",
   "execution_count": 36,
   "metadata": {},
   "outputs": [],
   "source": [
    "# encode y train data\n",
    "label_encoder = LabelEncoder()\n",
    "integer_encoded = label_encoder.fit_transform(y_train)\n",
    "integer_encoded = integer_encoded.reshape(len(integer_encoded), 1)\n",
    "\n",
    "onehot_encoder = OneHotEncoder(sparse=False)\n",
    "y_train = onehot_encoder.fit_transform(integer_encoded)"
   ]
  },
  {
   "cell_type": "code",
   "execution_count": 37,
   "metadata": {},
   "outputs": [
    {
     "output_type": "execute_result",
     "data": {
      "text/plain": [
       "array([[0., 0., 1.],\n",
       "       [0., 0., 1.],\n",
       "       [0., 0., 1.],\n",
       "       [0., 0., 1.],\n",
       "       [0., 0., 1.],\n",
       "       [0., 0., 1.],\n",
       "       [0., 0., 1.],\n",
       "       [0., 0., 1.],\n",
       "       [0., 0., 1.],\n",
       "       [0., 0., 1.],\n",
       "       [0., 0., 1.],\n",
       "       [0., 1., 0.],\n",
       "       [0., 1., 0.],\n",
       "       [0., 1., 0.],\n",
       "       [0., 1., 0.],\n",
       "       [0., 1., 0.],\n",
       "       [0., 1., 0.],\n",
       "       [0., 1., 0.],\n",
       "       [0., 1., 0.],\n",
       "       [0., 1., 0.],\n",
       "       [0., 1., 0.],\n",
       "       [0., 1., 0.],\n",
       "       [1., 0., 0.],\n",
       "       [1., 0., 0.],\n",
       "       [1., 0., 0.],\n",
       "       [1., 0., 0.],\n",
       "       [1., 0., 0.],\n",
       "       [1., 0., 0.],\n",
       "       [1., 0., 0.],\n",
       "       [1., 0., 0.],\n",
       "       [1., 0., 0.],\n",
       "       [1., 0., 0.],\n",
       "       [1., 0., 0.],\n",
       "       [1., 0., 0.]])"
      ]
     },
     "metadata": {},
     "execution_count": 37
    }
   ],
   "source": [
    "y_train"
   ]
  },
  {
   "cell_type": "code",
   "execution_count": 38,
   "metadata": {},
   "outputs": [
    {
     "output_type": "execute_result",
     "data": {
      "text/plain": [
       "KNeighborsClassifier(n_neighbors=3)"
      ]
     },
     "metadata": {},
     "execution_count": 38
    }
   ],
   "source": [
    "# apply kNN\n",
    "kNN = KNeighborsClassifier(n_neighbors=3)\n",
    "kNN.fit(X_train, y_train)"
   ]
  },
  {
   "cell_type": "code",
   "execution_count": 39,
   "metadata": {},
   "outputs": [],
   "source": [
    "# vectorize X test data\n",
    "X_test = vectorizer.transform(X_test).toarray()"
   ]
  },
  {
   "cell_type": "code",
   "execution_count": 40,
   "metadata": {},
   "outputs": [],
   "source": [
    "# predict\n",
    "y_pred = kNN.predict(X_test)"
   ]
  },
  {
   "cell_type": "code",
   "execution_count": 41,
   "metadata": {},
   "outputs": [
    {
     "output_type": "stream",
     "name": "stdout",
     "text": [
      "'thời sự' : giáo dục\n'thời sự' : giáo dục\n'thể thao' : thời sự\n'thể thao' : thể thao\n'giáo dục' : giáo dục\n'giáo dục' : giáo dục\n"
     ]
    }
   ],
   "source": [
    "# print classification\n",
    "classification_pred = []\n",
    "for pred in y_pred:\n",
    "  inverted = label_encoder.inverse_transform([np.argmax(pred)])\n",
    "  label = str(inverted[0])\n",
    "  classification_pred.append(label)\n",
    "\n",
    "for i in range(len(y_test)):\n",
    "  print(f\"'{y_test[i]}' : {classification_pred[i]}\")"
   ]
  },
  {
   "cell_type": "code",
   "execution_count": null,
   "metadata": {},
   "outputs": [],
   "source": []
  }
 ]
}