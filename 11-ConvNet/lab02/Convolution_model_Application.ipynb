{
 "cells": [
  {
   "cell_type": "markdown",
   "metadata": {},
   "source": [
    "# Convolutional Neural Networks: Application\n",
    "\n",
    "Welcome to Course 4's second assignment! In this notebook, you will:\n",
    "\n",
    "- Create a mood classifer using the TF Keras Sequential API\n",
    "- Build a ConvNet to identify sign language digits using the TF Keras Functional API\n",
    "\n",
    "**After this assignment you will be able to:**\n",
    "\n",
    "- Build and train a ConvNet in TensorFlow for a __binary__ classification problem\n",
    "- Build and train a ConvNet in TensorFlow for a __multiclass__ classification problem\n",
    "- Explain different use cases for the Sequential and Functional APIs\n",
    "\n",
    "To complete this assignment, you should already be familiar with TensorFlow. If you are not, please refer back to the **TensorFlow Tutorial** of the third week of Course 2 (\"**Improving deep neural networks**\")."
   ]
  },
  {
   "cell_type": "markdown",
   "metadata": {},
   "source": [
    "## Table of Contents\n",
    "\n",
    "- [1 - Packages](#1)\n",
    "    - [1.1 - Load the Data and Split the Data into Train/Test Sets](#1-1)\n",
    "- [2 - Layers in TF Keras](#2)\n",
    "- [3 - The Sequential API](#3)\n",
    "    - [3.1 - Create the Sequential Model](#3-1)\n",
    "        - [Exercise 1 - happyModel](#ex-1)\n",
    "    - [3.2 - Train and Evaluate the Model](#3-2)\n",
    "- [4 - The Functional API](#4)\n",
    "    - [4.1 - Load the SIGNS Dataset](#4-1)\n",
    "    - [4.2 - Split the Data into Train/Test Sets](#4-2)\n",
    "    - [4.3 - Forward Propagation](#4-3)\n",
    "        - [Exercise 2 - convolutional_model](#ex-2)\n",
    "    - [4.4 - Train the Model](#4-4)\n",
    "- [5 - History Object](#5)\n",
    "- [6 - Bibliography](#6)"
   ]
  },
  {
   "cell_type": "markdown",
   "metadata": {},
   "source": [
    "<a name='1'></a>\n",
    "## 1 - Packages\n",
    "\n",
    "As usual, begin by loading in the packages."
   ]
  },
  {
   "cell_type": "code",
   "execution_count": 3,
   "metadata": {},
   "outputs": [],
   "source": [
    "import math\n",
    "import numpy as np\n",
    "import h5py\n",
    "import matplotlib.pyplot as plt\n",
    "from matplotlib.pyplot import imread\n",
    "import scipy\n",
    "from PIL import Image\n",
    "import pandas as pd\n",
    "import tensorflow as tf\n",
    "import tensorflow.keras.layers as tfl\n",
    "from tensorflow.python.framework import ops\n",
    "from cnn_utils import *\n",
    "from test_utils import summary, comparator\n",
    "\n",
    "%matplotlib inline\n",
    "np.random.seed(1)"
   ]
  },
  {
   "cell_type": "markdown",
   "metadata": {},
   "source": [
    "<a name='1-1'></a>\n",
    "### 1.1 - Load the Data and Split the Data into Train/Test Sets\n",
    "\n",
    "You'll be using the Happy House dataset for this part of the assignment, which contains images of peoples' faces. Your task will be to build a ConvNet that determines whether the people in the images are smiling or not -- because they only get to enter the house if they're smiling!  "
   ]
  },
  {
   "cell_type": "code",
   "execution_count": 4,
   "metadata": {},
   "outputs": [
    {
     "output_type": "stream",
     "name": "stdout",
     "text": [
      "number of training examples = 600\nnumber of test examples = 150\nX_train shape: (600, 64, 64, 3)\nY_train shape: (600, 1)\nX_test shape: (150, 64, 64, 3)\nY_test shape: (150, 1)\n"
     ]
    }
   ],
   "source": [
    "X_train_orig, Y_train_orig, X_test_orig, Y_test_orig, classes = load_happy_dataset()\n",
    "\n",
    "# Normalize image vectors\n",
    "X_train = X_train_orig/255.\n",
    "X_test = X_test_orig/255.\n",
    "\n",
    "# Reshape\n",
    "Y_train = Y_train_orig.T\n",
    "Y_test = Y_test_orig.T\n",
    "\n",
    "print (\"number of training examples = \" + str(X_train.shape[0]))\n",
    "print (\"number of test examples = \" + str(X_test.shape[0]))\n",
    "print (\"X_train shape: \" + str(X_train.shape))\n",
    "print (\"Y_train shape: \" + str(Y_train.shape))\n",
    "print (\"X_test shape: \" + str(X_test.shape))\n",
    "print (\"Y_test shape: \" + str(Y_test.shape))"
   ]
  },
  {
   "cell_type": "markdown",
   "metadata": {},
   "source": [
    "You can display the images contained in the dataset. Images are **64x64** pixels in RGB format (3 channels)."
   ]
  },
  {
   "cell_type": "code",
   "execution_count": 6,
   "metadata": {},
   "outputs": [
    {
     "output_type": "stream",
     "name": "stdout",
     "text": [
      "[0]\n"
     ]
    },
    {
     "output_type": "display_data",
     "data": {
      "text/plain": "<Figure size 432x288 with 1 Axes>",
      "image/svg+xml": "<?xml version=\"1.0\" encoding=\"utf-8\" standalone=\"no\"?>\n<!DOCTYPE svg PUBLIC \"-//W3C//DTD SVG 1.1//EN\"\n  \"http://www.w3.org/Graphics/SVG/1.1/DTD/svg11.dtd\">\n<svg height=\"250.618594pt\" version=\"1.1\" viewBox=\"0 0 251.565 250.618594\" width=\"251.565pt\" xmlns=\"http://www.w3.org/2000/svg\" xmlns:xlink=\"http://www.w3.org/1999/xlink\">\n <metadata>\n  <rdf:RDF xmlns:cc=\"http://creativecommons.org/ns#\" xmlns:dc=\"http://purl.org/dc/elements/1.1/\" xmlns:rdf=\"http://www.w3.org/1999/02/22-rdf-syntax-ns#\">\n   <cc:Work>\n    <dc:type rdf:resource=\"http://purl.org/dc/dcmitype/StillImage\"/>\n    <dc:date>2021-06-26T20:55:03.703677</dc:date>\n    <dc:format>image/svg+xml</dc:format>\n    <dc:creator>\n     <cc:Agent>\n      <dc:title>Matplotlib v3.4.2, https://matplotlib.org/</dc:title>\n     </cc:Agent>\n    </dc:creator>\n   </cc:Work>\n  </rdf:RDF>\n </metadata>\n <defs>\n  <style type=\"text/css\">*{stroke-linecap:butt;stroke-linejoin:round;}</style>\n </defs>\n <g id=\"figure_1\">\n  <g id=\"patch_1\">\n   <path d=\"M 0 250.618594 \nL 251.565 250.618594 \nL 251.565 0 \nL 0 0 \nz\n\" style=\"fill:none;\"/>\n  </g>\n  <g id=\"axes_1\">\n   <g id=\"patch_2\">\n    <path d=\"M 26.925 226.740469 \nL 244.365 226.740469 \nL 244.365 9.300469 \nL 26.925 9.300469 \nz\n\" style=\"fill:#ffffff;\"/>\n   </g>\n   <g clip-path=\"url(#p12c4ac624f)\">\n    <image height=\"218\" id=\"imagedf999bcce8\" transform=\"scale(1 -1)translate(0 -218)\" width=\"218\" x=\"26.925\" xlink:href=\"data:image/png;base64,\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\" y=\"-8.740469\"/>\n   </g>\n   <g id=\"matplotlib.axis_1\">\n    <g id=\"xtick_1\">\n     <g id=\"line2d_1\">\n      <defs>\n       <path d=\"M 0 0 \nL 0 3.5 \n\" id=\"m62738c6ef1\" style=\"stroke:#000000;stroke-width:0.8;\"/>\n      </defs>\n      <g>\n       <use style=\"stroke:#000000;stroke-width:0.8;\" x=\"28.62375\" xlink:href=\"#m62738c6ef1\" y=\"226.740469\"/>\n      </g>\n     </g>\n     <g id=\"text_1\">\n      <!-- 0 -->\n      <g transform=\"translate(25.4425 241.338906)scale(0.1 -0.1)\">\n       <defs>\n        <path d=\"M 2034 4250 \nQ 1547 4250 1301 3770 \nQ 1056 3291 1056 2328 \nQ 1056 1369 1301 889 \nQ 1547 409 2034 409 \nQ 2525 409 2770 889 \nQ 3016 1369 3016 2328 \nQ 3016 3291 2770 3770 \nQ 2525 4250 2034 4250 \nz\nM 2034 4750 \nQ 2819 4750 3233 4129 \nQ 3647 3509 3647 2328 \nQ 3647 1150 3233 529 \nQ 2819 -91 2034 -91 \nQ 1250 -91 836 529 \nQ 422 1150 422 2328 \nQ 422 3509 836 4129 \nQ 1250 4750 2034 4750 \nz\n\" id=\"DejaVuSans-30\" transform=\"scale(0.015625)\"/>\n       </defs>\n       <use xlink:href=\"#DejaVuSans-30\"/>\n      </g>\n     </g>\n    </g>\n    <g id=\"xtick_2\">\n     <g id=\"line2d_2\">\n      <g>\n       <use style=\"stroke:#000000;stroke-width:0.8;\" x=\"62.59875\" xlink:href=\"#m62738c6ef1\" y=\"226.740469\"/>\n      </g>\n     </g>\n     <g id=\"text_2\">\n      <!-- 10 -->\n      <g transform=\"translate(56.23625 241.338906)scale(0.1 -0.1)\">\n       <defs>\n        <path d=\"M 794 531 \nL 1825 531 \nL 1825 4091 \nL 703 3866 \nL 703 4441 \nL 1819 4666 \nL 2450 4666 \nL 2450 531 \nL 3481 531 \nL 3481 0 \nL 794 0 \nL 794 531 \nz\n\" id=\"DejaVuSans-31\" transform=\"scale(0.015625)\"/>\n       </defs>\n       <use xlink:href=\"#DejaVuSans-31\"/>\n       <use x=\"63.623047\" xlink:href=\"#DejaVuSans-30\"/>\n      </g>\n     </g>\n    </g>\n    <g id=\"xtick_3\">\n     <g id=\"line2d_3\">\n      <g>\n       <use style=\"stroke:#000000;stroke-width:0.8;\" x=\"96.57375\" xlink:href=\"#m62738c6ef1\" y=\"226.740469\"/>\n      </g>\n     </g>\n     <g id=\"text_3\">\n      <!-- 20 -->\n      <g transform=\"translate(90.21125 241.338906)scale(0.1 -0.1)\">\n       <defs>\n        <path d=\"M 1228 531 \nL 3431 531 \nL 3431 0 \nL 469 0 \nL 469 531 \nQ 828 903 1448 1529 \nQ 2069 2156 2228 2338 \nQ 2531 2678 2651 2914 \nQ 2772 3150 2772 3378 \nQ 2772 3750 2511 3984 \nQ 2250 4219 1831 4219 \nQ 1534 4219 1204 4116 \nQ 875 4013 500 3803 \nL 500 4441 \nQ 881 4594 1212 4672 \nQ 1544 4750 1819 4750 \nQ 2544 4750 2975 4387 \nQ 3406 4025 3406 3419 \nQ 3406 3131 3298 2873 \nQ 3191 2616 2906 2266 \nQ 2828 2175 2409 1742 \nQ 1991 1309 1228 531 \nz\n\" id=\"DejaVuSans-32\" transform=\"scale(0.015625)\"/>\n       </defs>\n       <use xlink:href=\"#DejaVuSans-32\"/>\n       <use x=\"63.623047\" xlink:href=\"#DejaVuSans-30\"/>\n      </g>\n     </g>\n    </g>\n    <g id=\"xtick_4\">\n     <g id=\"line2d_4\">\n      <g>\n       <use style=\"stroke:#000000;stroke-width:0.8;\" x=\"130.54875\" xlink:href=\"#m62738c6ef1\" y=\"226.740469\"/>\n      </g>\n     </g>\n     <g id=\"text_4\">\n      <!-- 30 -->\n      <g transform=\"translate(124.18625 241.338906)scale(0.1 -0.1)\">\n       <defs>\n        <path d=\"M 2597 2516 \nQ 3050 2419 3304 2112 \nQ 3559 1806 3559 1356 \nQ 3559 666 3084 287 \nQ 2609 -91 1734 -91 \nQ 1441 -91 1130 -33 \nQ 819 25 488 141 \nL 488 750 \nQ 750 597 1062 519 \nQ 1375 441 1716 441 \nQ 2309 441 2620 675 \nQ 2931 909 2931 1356 \nQ 2931 1769 2642 2001 \nQ 2353 2234 1838 2234 \nL 1294 2234 \nL 1294 2753 \nL 1863 2753 \nQ 2328 2753 2575 2939 \nQ 2822 3125 2822 3475 \nQ 2822 3834 2567 4026 \nQ 2313 4219 1838 4219 \nQ 1578 4219 1281 4162 \nQ 984 4106 628 3988 \nL 628 4550 \nQ 988 4650 1302 4700 \nQ 1616 4750 1894 4750 \nQ 2613 4750 3031 4423 \nQ 3450 4097 3450 3541 \nQ 3450 3153 3228 2886 \nQ 3006 2619 2597 2516 \nz\n\" id=\"DejaVuSans-33\" transform=\"scale(0.015625)\"/>\n       </defs>\n       <use xlink:href=\"#DejaVuSans-33\"/>\n       <use x=\"63.623047\" xlink:href=\"#DejaVuSans-30\"/>\n      </g>\n     </g>\n    </g>\n    <g id=\"xtick_5\">\n     <g id=\"line2d_5\">\n      <g>\n       <use style=\"stroke:#000000;stroke-width:0.8;\" x=\"164.52375\" xlink:href=\"#m62738c6ef1\" y=\"226.740469\"/>\n      </g>\n     </g>\n     <g id=\"text_5\">\n      <!-- 40 -->\n      <g transform=\"translate(158.16125 241.338906)scale(0.1 -0.1)\">\n       <defs>\n        <path d=\"M 2419 4116 \nL 825 1625 \nL 2419 1625 \nL 2419 4116 \nz\nM 2253 4666 \nL 3047 4666 \nL 3047 1625 \nL 3713 1625 \nL 3713 1100 \nL 3047 1100 \nL 3047 0 \nL 2419 0 \nL 2419 1100 \nL 313 1100 \nL 313 1709 \nL 2253 4666 \nz\n\" id=\"DejaVuSans-34\" transform=\"scale(0.015625)\"/>\n       </defs>\n       <use xlink:href=\"#DejaVuSans-34\"/>\n       <use x=\"63.623047\" xlink:href=\"#DejaVuSans-30\"/>\n      </g>\n     </g>\n    </g>\n    <g id=\"xtick_6\">\n     <g id=\"line2d_6\">\n      <g>\n       <use style=\"stroke:#000000;stroke-width:0.8;\" x=\"198.49875\" xlink:href=\"#m62738c6ef1\" y=\"226.740469\"/>\n      </g>\n     </g>\n     <g id=\"text_6\">\n      <!-- 50 -->\n      <g transform=\"translate(192.13625 241.338906)scale(0.1 -0.1)\">\n       <defs>\n        <path d=\"M 691 4666 \nL 3169 4666 \nL 3169 4134 \nL 1269 4134 \nL 1269 2991 \nQ 1406 3038 1543 3061 \nQ 1681 3084 1819 3084 \nQ 2600 3084 3056 2656 \nQ 3513 2228 3513 1497 \nQ 3513 744 3044 326 \nQ 2575 -91 1722 -91 \nQ 1428 -91 1123 -41 \nQ 819 9 494 109 \nL 494 744 \nQ 775 591 1075 516 \nQ 1375 441 1709 441 \nQ 2250 441 2565 725 \nQ 2881 1009 2881 1497 \nQ 2881 1984 2565 2268 \nQ 2250 2553 1709 2553 \nQ 1456 2553 1204 2497 \nQ 953 2441 691 2322 \nL 691 4666 \nz\n\" id=\"DejaVuSans-35\" transform=\"scale(0.015625)\"/>\n       </defs>\n       <use xlink:href=\"#DejaVuSans-35\"/>\n       <use x=\"63.623047\" xlink:href=\"#DejaVuSans-30\"/>\n      </g>\n     </g>\n    </g>\n    <g id=\"xtick_7\">\n     <g id=\"line2d_7\">\n      <g>\n       <use style=\"stroke:#000000;stroke-width:0.8;\" x=\"232.47375\" xlink:href=\"#m62738c6ef1\" y=\"226.740469\"/>\n      </g>\n     </g>\n     <g id=\"text_7\">\n      <!-- 60 -->\n      <g transform=\"translate(226.11125 241.338906)scale(0.1 -0.1)\">\n       <defs>\n        <path d=\"M 2113 2584 \nQ 1688 2584 1439 2293 \nQ 1191 2003 1191 1497 \nQ 1191 994 1439 701 \nQ 1688 409 2113 409 \nQ 2538 409 2786 701 \nQ 3034 994 3034 1497 \nQ 3034 2003 2786 2293 \nQ 2538 2584 2113 2584 \nz\nM 3366 4563 \nL 3366 3988 \nQ 3128 4100 2886 4159 \nQ 2644 4219 2406 4219 \nQ 1781 4219 1451 3797 \nQ 1122 3375 1075 2522 \nQ 1259 2794 1537 2939 \nQ 1816 3084 2150 3084 \nQ 2853 3084 3261 2657 \nQ 3669 2231 3669 1497 \nQ 3669 778 3244 343 \nQ 2819 -91 2113 -91 \nQ 1303 -91 875 529 \nQ 447 1150 447 2328 \nQ 447 3434 972 4092 \nQ 1497 4750 2381 4750 \nQ 2619 4750 2861 4703 \nQ 3103 4656 3366 4563 \nz\n\" id=\"DejaVuSans-36\" transform=\"scale(0.015625)\"/>\n       </defs>\n       <use xlink:href=\"#DejaVuSans-36\"/>\n       <use x=\"63.623047\" xlink:href=\"#DejaVuSans-30\"/>\n      </g>\n     </g>\n    </g>\n   </g>\n   <g id=\"matplotlib.axis_2\">\n    <g id=\"ytick_1\">\n     <g id=\"line2d_8\">\n      <defs>\n       <path d=\"M 0 0 \nL -3.5 0 \n\" id=\"m2d93e90dc2\" style=\"stroke:#000000;stroke-width:0.8;\"/>\n      </defs>\n      <g>\n       <use style=\"stroke:#000000;stroke-width:0.8;\" x=\"26.925\" xlink:href=\"#m2d93e90dc2\" y=\"10.999219\"/>\n      </g>\n     </g>\n     <g id=\"text_8\">\n      <!-- 0 -->\n      <g transform=\"translate(13.5625 14.798437)scale(0.1 -0.1)\">\n       <use xlink:href=\"#DejaVuSans-30\"/>\n      </g>\n     </g>\n    </g>\n    <g id=\"ytick_2\">\n     <g id=\"line2d_9\">\n      <g>\n       <use style=\"stroke:#000000;stroke-width:0.8;\" x=\"26.925\" xlink:href=\"#m2d93e90dc2\" y=\"44.974219\"/>\n      </g>\n     </g>\n     <g id=\"text_9\">\n      <!-- 10 -->\n      <g transform=\"translate(7.2 48.773437)scale(0.1 -0.1)\">\n       <use xlink:href=\"#DejaVuSans-31\"/>\n       <use x=\"63.623047\" xlink:href=\"#DejaVuSans-30\"/>\n      </g>\n     </g>\n    </g>\n    <g id=\"ytick_3\">\n     <g id=\"line2d_10\">\n      <g>\n       <use style=\"stroke:#000000;stroke-width:0.8;\" x=\"26.925\" xlink:href=\"#m2d93e90dc2\" y=\"78.949219\"/>\n      </g>\n     </g>\n     <g id=\"text_10\">\n      <!-- 20 -->\n      <g transform=\"translate(7.2 82.748437)scale(0.1 -0.1)\">\n       <use xlink:href=\"#DejaVuSans-32\"/>\n       <use x=\"63.623047\" xlink:href=\"#DejaVuSans-30\"/>\n      </g>\n     </g>\n    </g>\n    <g id=\"ytick_4\">\n     <g id=\"line2d_11\">\n      <g>\n       <use style=\"stroke:#000000;stroke-width:0.8;\" x=\"26.925\" xlink:href=\"#m2d93e90dc2\" y=\"112.924219\"/>\n      </g>\n     </g>\n     <g id=\"text_11\">\n      <!-- 30 -->\n      <g transform=\"translate(7.2 116.723437)scale(0.1 -0.1)\">\n       <use xlink:href=\"#DejaVuSans-33\"/>\n       <use x=\"63.623047\" xlink:href=\"#DejaVuSans-30\"/>\n      </g>\n     </g>\n    </g>\n    <g id=\"ytick_5\">\n     <g id=\"line2d_12\">\n      <g>\n       <use style=\"stroke:#000000;stroke-width:0.8;\" x=\"26.925\" xlink:href=\"#m2d93e90dc2\" y=\"146.899219\"/>\n      </g>\n     </g>\n     <g id=\"text_12\">\n      <!-- 40 -->\n      <g transform=\"translate(7.2 150.698437)scale(0.1 -0.1)\">\n       <use xlink:href=\"#DejaVuSans-34\"/>\n       <use x=\"63.623047\" xlink:href=\"#DejaVuSans-30\"/>\n      </g>\n     </g>\n    </g>\n    <g id=\"ytick_6\">\n     <g id=\"line2d_13\">\n      <g>\n       <use style=\"stroke:#000000;stroke-width:0.8;\" x=\"26.925\" xlink:href=\"#m2d93e90dc2\" y=\"180.874219\"/>\n      </g>\n     </g>\n     <g id=\"text_13\">\n      <!-- 50 -->\n      <g transform=\"translate(7.2 184.673437)scale(0.1 -0.1)\">\n       <use xlink:href=\"#DejaVuSans-35\"/>\n       <use x=\"63.623047\" xlink:href=\"#DejaVuSans-30\"/>\n      </g>\n     </g>\n    </g>\n    <g id=\"ytick_7\">\n     <g id=\"line2d_14\">\n      <g>\n       <use style=\"stroke:#000000;stroke-width:0.8;\" x=\"26.925\" xlink:href=\"#m2d93e90dc2\" y=\"214.849219\"/>\n      </g>\n     </g>\n     <g id=\"text_14\">\n      <!-- 60 -->\n      <g transform=\"translate(7.2 218.648437)scale(0.1 -0.1)\">\n       <use xlink:href=\"#DejaVuSans-36\"/>\n       <use x=\"63.623047\" xlink:href=\"#DejaVuSans-30\"/>\n      </g>\n     </g>\n    </g>\n   </g>\n   <g id=\"patch_3\">\n    <path d=\"M 26.925 226.740469 \nL 26.925 9.300469 \n\" style=\"fill:none;stroke:#000000;stroke-linecap:square;stroke-linejoin:miter;stroke-width:0.8;\"/>\n   </g>\n   <g id=\"patch_4\">\n    <path d=\"M 244.365 226.740469 \nL 244.365 9.300469 \n\" style=\"fill:none;stroke:#000000;stroke-linecap:square;stroke-linejoin:miter;stroke-width:0.8;\"/>\n   </g>\n   <g id=\"patch_5\">\n    <path d=\"M 26.925 226.740469 \nL 244.365 226.740469 \n\" style=\"fill:none;stroke:#000000;stroke-linecap:square;stroke-linejoin:miter;stroke-width:0.8;\"/>\n   </g>\n   <g id=\"patch_6\">\n    <path d=\"M 26.925 9.300469 \nL 244.365 9.300469 \n\" style=\"fill:none;stroke:#000000;stroke-linecap:square;stroke-linejoin:miter;stroke-width:0.8;\"/>\n   </g>\n  </g>\n </g>\n <defs>\n  <clipPath id=\"p12c4ac624f\">\n   <rect height=\"217.44\" width=\"217.44\" x=\"26.925\" y=\"9.300469\"/>\n  </clipPath>\n </defs>\n</svg>\n",
      "image/png": "[encoded data removed]"
     },
     "metadata": {
      "needs_background": "light"
     }
    }
   ],
   "source": [
    "index = 124\n",
    "print(Y_train[index])\n",
    "plt.imshow(X_train_orig[index]) #display sample training image\n",
    "plt.show()"
   ]
  },
  {
   "cell_type": "markdown",
   "metadata": {},
   "source": [
    "<a name='2'></a>\n",
    "## 2 - Layers in TF Keras \n",
    "\n",
    "In the previous assignment, you created layers manually in numpy. In TF Keras, you don't have to write code directly to create layers. Rather, TF Keras has pre-defined layers you can use. \n",
    "\n",
    "When you create a layer in TF Keras, you are creating a function that takes some input and transforms it into an output you can reuse later. Nice and easy! "
   ]
  },
  {
   "cell_type": "markdown",
   "metadata": {},
   "source": [
    "<a name='3'></a>\n",
    "## 3 - The Sequential API\n",
    "\n",
    "In the previous assignment, you built helper functions using `numpy` to understand the mechanics behind convolutional neural networks. Most practical applications of deep learning today are built using programming frameworks, which have many built-in functions you can simply call. Keras is a high-level abstraction built on top of TensorFlow, which allows for even more simplified and optimized model creation and training. \n",
    "\n",
    "For the first part of this assignment, you'll create a model using TF Keras' Sequential API, which allows you to build layer by layer, and is ideal for building models where each layer has **exactly one** input tensor and **one** output tensor. \n",
    "\n",
    "As you'll see, using the Sequential API is simple and straightforward, but is only appropriate for simpler, more straightforward tasks. Later in this notebook you'll spend some time building with a more flexible, powerful alternative: the Functional API. \n",
    " "
   ]
  },
  {
   "cell_type": "markdown",
   "metadata": {},
   "source": [
    "<a name='3-1'></a>\n",
    "### 3.1 - Create the Sequential Model\n",
    "\n",
    "As mentioned earlier, the TensorFlow Keras Sequential API can be used to build simple models with layer operations that proceed in a sequential order. \n",
    "\n",
    "You can also add layers incrementally to a Sequential model with the `.add()` method, or remove them using the `.pop()` method, much like you would in a regular Python list.\n",
    "\n",
    "Actually, you can think of a Sequential model as behaving like a list of layers. Like Python lists, Sequential layers are ordered, and the order in which they are specified matters.  If your model is non-linear or contains layers with multiple inputs or outputs, a Sequential model wouldn't be the right choice!\n",
    "\n",
    "For any layer construction in Keras, you'll need to specify the input shape in advance. This is because in Keras, the shape of the weights is based on the shape of the inputs. The weights are only created when the model first sees some input data. Sequential models can be created by passing a list of layers to the Sequential constructor, like you will do in the next assignment.\n",
    "\n",
    "<a name='ex-1'></a>\n",
    "### Exercise 1 - happyModel\n",
    "\n",
    "Implement the `happyModel` function below to build the following model: `ZEROPAD2D -> CONV2D -> BATCHNORM -> RELU -> MAXPOOL -> FLATTEN -> DENSE`. Take help from [tf.keras.layers](https://www.tensorflow.org/api_docs/python/tf/keras/layers) \n",
    "\n",
    "Also, plug in the following parameters for all the steps:\n",
    "\n",
    " - [ZeroPadding2D](https://www.tensorflow.org/api_docs/python/tf/keras/layers/ZeroPadding2D): padding 3, input shape 64 x 64 x 3\n",
    " - [Conv2D](https://www.tensorflow.org/api_docs/python/tf/keras/layers/Conv2D): Use 32 7x7 filters, stride 1\n",
    " - [BatchNormalization](https://www.tensorflow.org/api_docs/python/tf/keras/layers/BatchNormalization): for axis 3\n",
    " - [ReLU](https://www.tensorflow.org/api_docs/python/tf/keras/layers/ReLU)\n",
    " - [MaxPool2D](https://www.tensorflow.org/api_docs/python/tf/keras/layers/MaxPool2D): Using default parameters\n",
    " - [Flatten](https://www.tensorflow.org/api_docs/python/tf/keras/layers/Flatten) the previous output.\n",
    " - Fully-connected ([Dense](https://www.tensorflow.org/api_docs/python/tf/keras/layers/Dense)) layer: Apply a fully connected layer with 1 neuron and a sigmoid activation. \n",
    " \n",
    " \n",
    " **Hint:**\n",
    " \n",
    " Use **tfl** as shorthand for **tensorflow.keras.layers**"
   ]
  },
  {
   "cell_type": "code",
   "execution_count": 9,
   "metadata": {
    "deletable": false,
    "nbgrader": {
     "cell_type": "code",
     "checksum": "95d28b191f257bdd5b70c7b8952559d5",
     "grade": false,
     "grade_id": "cell-0e56d3fc28b69aec",
     "locked": false,
     "schema_version": 3,
     "solution": true,
     "task": false
    }
   },
   "outputs": [],
   "source": [
    "# GRADED FUNCTION: happyModel\n",
    "\n",
    "def happyModel():\n",
    "    \"\"\"\n",
    "    Implements the forward propagation for the binary classification model:\n",
    "    ZEROPAD2D -> CONV2D -> BATCHNORM -> RELU -> MAXPOOL -> FLATTEN -> DENSE\n",
    "    \n",
    "    Note that for simplicity and grading purposes, you'll hard-code all the values\n",
    "    such as the stride and kernel (filter) sizes. \n",
    "    Normally, functions should take these values as function parameters.\n",
    "    \n",
    "    Arguments:\n",
    "    None\n",
    "\n",
    "    Returns:\n",
    "    model -- TF Keras model (object containing the information for the entire training process) \n",
    "    \"\"\"\n",
    "    model = tf.keras.Sequential([\n",
    "            ## ZeroPadding2D with padding 3, input shape of 64 x 64 x 3\n",
    "            tfl.ZeroPadding2D(padding=(3,3), input_shape=(64,64,3)),\n",
    "            ## Conv2D with 32 7x7 filters and stride of 1\n",
    "            tfl.Conv2D(filters=32, kernel_size=7, strides=(1,1)),\n",
    "            ## BatchNormalization for axis 3\n",
    "            tfl.BatchNormalization(axis=3),\n",
    "            ## ReLU\n",
    "            tfl.ReLU(),\n",
    "            ## Max Pooling 2D with default parameters\n",
    "            tfl.MaxPool2D(),\n",
    "            ## Flatten layer\n",
    "            tfl.Flatten(),\n",
    "            ## Dense layer with 1 unit for output & 'sigmoid' activation\n",
    "            tfl.Dense(1, activation='sigmoid')\n",
    "        ])\n",
    "    \n",
    "    return model"
   ]
  },
  {
   "cell_type": "code",
   "execution_count": 10,
   "metadata": {
    "deletable": false,
    "editable": false,
    "nbgrader": {
     "cell_type": "code",
     "checksum": "8d3575c950e2e78149be2d05d671c80d",
     "grade": true,
     "grade_id": "cell-e3e1046e5c33d775",
     "locked": true,
     "points": 10,
     "schema_version": 3,
     "solution": false,
     "task": false
    }
   },
   "outputs": [
    {
     "output_type": "stream",
     "name": "stdout",
     "text": [
      "['ZeroPadding2D', (None, 70, 70, 3), 0, ((3, 3), (3, 3))]\n['Conv2D', (None, 64, 64, 32), 4736, 'valid', 'linear', 'GlorotUniform']\n['BatchNormalization', (None, 64, 64, 32), 128]\n['ReLU', (None, 64, 64, 32), 0]\n['MaxPooling2D', (None, 32, 32, 32), 0, (2, 2), (2, 2), 'valid']\n['Flatten', (None, 32768), 0]\n['Dense', (None, 1), 32769, 'sigmoid']\n\u001b[32mAll tests passed!\u001b[0m\n"
     ]
    }
   ],
   "source": [
    "happy_model = happyModel()\n",
    "# Print a summary for each layer\n",
    "for layer in summary(happy_model):\n",
    "    print(layer)\n",
    "    \n",
    "output = [['ZeroPadding2D', (None, 70, 70, 3), 0, ((3, 3), (3, 3))],\n",
    "            ['Conv2D', (None, 64, 64, 32), 4736, 'valid', 'linear', 'GlorotUniform'],\n",
    "            ['BatchNormalization', (None, 64, 64, 32), 128],\n",
    "            ['ReLU', (None, 64, 64, 32), 0],\n",
    "            ['MaxPooling2D', (None, 32, 32, 32), 0, (2, 2), (2, 2), 'valid'],\n",
    "            ['Flatten', (None, 32768), 0],\n",
    "            ['Dense', (None, 1), 32769, 'sigmoid']]\n",
    "    \n",
    "comparator(summary(happy_model), output)"
   ]
  },
  {
   "cell_type": "markdown",
   "metadata": {},
   "source": [
    "Now that your model is created, you can compile it for training with an optimizer and loss of your choice. When the string `accuracy` is specified as a metric, the type of accuracy used will be automatically converted based on the loss function used. This is one of the many optimizations built into TensorFlow that make your life easier! If you'd like to read more on how the compiler operates, check the docs [here](https://www.tensorflow.org/api_docs/python/tf/keras/Model#compile)."
   ]
  },
  {
   "cell_type": "code",
   "execution_count": 11,
   "metadata": {},
   "outputs": [],
   "source": [
    "happy_model.compile(optimizer='adam',\n",
    "                   loss='binary_crossentropy',\n",
    "                   metrics=['accuracy'])"
   ]
  },
  {
   "cell_type": "markdown",
   "metadata": {},
   "source": [
    "It's time to check your model's parameters with the `.summary()` method. This will display the types of layers you have, the shape of the outputs, and how many parameters are in each layer. "
   ]
  },
  {
   "cell_type": "code",
   "execution_count": 12,
   "metadata": {},
   "outputs": [
    {
     "output_type": "stream",
     "name": "stdout",
     "text": [
      "Model: \"sequential_1\"\n_________________________________________________________________\nLayer (type)                 Output Shape              Param #   \n=================================================================\nzero_padding2d_1 (ZeroPaddin (None, 70, 70, 3)         0         \n_________________________________________________________________\nconv2d_1 (Conv2D)            (None, 64, 64, 32)        4736      \n_________________________________________________________________\nbatch_normalization_1 (Batch (None, 64, 64, 32)        128       \n_________________________________________________________________\nre_lu_1 (ReLU)               (None, 64, 64, 32)        0         \n_________________________________________________________________\nmax_pooling2d_1 (MaxPooling2 (None, 32, 32, 32)        0         \n_________________________________________________________________\nflatten_1 (Flatten)          (None, 32768)             0         \n_________________________________________________________________\ndense_1 (Dense)              (None, 1)                 32769     \n=================================================================\nTotal params: 37,633\nTrainable params: 37,569\nNon-trainable params: 64\n_________________________________________________________________\n"
     ]
    }
   ],
   "source": [
    "happy_model.summary()"
   ]
  },
  {
   "cell_type": "markdown",
   "metadata": {},
   "source": [
    "<a name='3-2'></a>\n",
    "### 3.2 - Train and Evaluate the Model\n",
    "\n",
    "After creating the model, compiling it with your choice of optimizer and loss function, and doing a sanity check on its contents, you are now ready to build! \n",
    "\n",
    "Simply call `.fit()` to train. That's it! No need for mini-batching, saving, or complex backpropagation computations. That's all been done for you, as you're using a TensorFlow dataset with the batches specified already. You do have the option to specify epoch number or minibatch size if you like (for example, in the case of an un-batched dataset)."
   ]
  },
  {
   "cell_type": "code",
   "execution_count": 16,
   "metadata": {},
   "outputs": [
    {
     "output_type": "stream",
     "name": "stdout",
     "text": [
      "Epoch 1/10\n",
      "38/38 [==============================] - 2s 46ms/step - loss: 0.0725 - accuracy: 0.9767\n",
      "Epoch 2/10\n",
      "38/38 [==============================] - 2s 43ms/step - loss: 0.0686 - accuracy: 0.9800\n",
      "Epoch 3/10\n",
      "38/38 [==============================] - 2s 43ms/step - loss: 0.0635 - accuracy: 0.9783\n",
      "Epoch 4/10\n",
      "38/38 [==============================] - 2s 44ms/step - loss: 0.0431 - accuracy: 0.9883\n",
      "Epoch 5/10\n",
      "38/38 [==============================] - 2s 45ms/step - loss: 0.0322 - accuracy: 0.9900\n",
      "Epoch 6/10\n",
      "38/38 [==============================] - 2s 45ms/step - loss: 0.0106 - accuracy: 0.9983\n",
      "Epoch 7/10\n",
      "38/38 [==============================] - 2s 42ms/step - loss: 0.0265 - accuracy: 0.9917\n",
      "Epoch 8/10\n",
      "38/38 [==============================] - 2s 43ms/step - loss: 0.0334 - accuracy: 0.9950\n",
      "Epoch 9/10\n",
      "38/38 [==============================] - 2s 43ms/step - loss: 0.0389 - accuracy: 0.9867\n",
      "Epoch 10/10\n",
      "38/38 [==============================] - 2s 43ms/step - loss: 0.0348 - accuracy: 0.9900\n"
     ]
    },
    {
     "output_type": "execute_result",
     "data": {
      "text/plain": [
       "<tensorflow.python.keras.callbacks.History at 0x184eed0d0>"
      ]
     },
     "metadata": {},
     "execution_count": 16
    }
   ],
   "source": [
    "happy_model.fit(X_train, Y_train, epochs=10, batch_size=16)"
   ]
  },
  {
   "cell_type": "markdown",
   "metadata": {},
   "source": [
    "After that completes, just use `.evaluate()` to evaluate against your test set. This function will print the value of the loss function and the performance metrics specified during the compilation of the model. In this case, the `binary_crossentropy` and the `accuracy` respectively."
   ]
  },
  {
   "cell_type": "code",
   "execution_count": 17,
   "metadata": {},
   "outputs": [
    {
     "output_type": "stream",
     "name": "stdout",
     "text": [
      "5/5 [==============================] - 0s 18ms/step - loss: 0.2650 - accuracy: 0.8800\n"
     ]
    },
    {
     "output_type": "execute_result",
     "data": {
      "text/plain": [
       "[0.2649984061717987, 0.8799999952316284]"
      ]
     },
     "metadata": {},
     "execution_count": 17
    }
   ],
   "source": [
    "happy_model.evaluate(X_test, Y_test)"
   ]
  },
  {
   "cell_type": "markdown",
   "metadata": {},
   "source": [
    "Easy, right? But what if you need to build a model with shared layers, branches, or multiple inputs and outputs? This is where Sequential, with its beautifully simple yet limited functionality, won't be able to help you. \n",
    "\n",
    "Next up: Enter the Functional API, your slightly more complex, highly flexible friend.  "
   ]
  },
  {
   "cell_type": "markdown",
   "metadata": {},
   "source": [
    "<a name='4'></a>\n",
    "## 4 - The Functional API"
   ]
  },
  {
   "cell_type": "markdown",
   "metadata": {},
   "source": [
    "Welcome to the second half of the assignment, where you'll use Keras' flexible [Functional API](https://www.tensorflow.org/guide/keras/functional) to build a ConvNet that can differentiate between 6 sign language digits. \n",
    "\n",
    "The Functional API can handle models with non-linear topology, shared layers, as well as layers with multiple inputs or outputs. Imagine that, where the Sequential API requires the model to move in a linear fashion through its layers, the Functional API allows much more flexibility. Where Sequential is a straight line, a Functional model is a graph, where the nodes of the layers can connect in many more ways than one. \n",
    "\n",
    "In the visual example below, the one possible direction of the movement Sequential model is shown in contrast to a skip connection, which is just one of the many ways a Functional model can be constructed. A skip connection, as you might have guessed, skips some layer in the network and feeds the output to a later layer in the network. Don't worry, you'll be spending more time with skip connections very soon! "
   ]
  },
  {
   "cell_type": "markdown",
   "metadata": {},
   "source": [
    "<img src=\"images/seq_vs_func.png\" style=\"width:350px;height:200px;\">"
   ]
  },
  {
   "cell_type": "markdown",
   "metadata": {},
   "source": [
    "<a name='4-1'></a>\n",
    "### 4.1 - Load the SIGNS Dataset\n",
    "\n",
    "As a reminder, the SIGNS dataset is a collection of 6 signs representing numbers from 0 to 5."
   ]
  },
  {
   "cell_type": "code",
   "execution_count": 18,
   "metadata": {},
   "outputs": [],
   "source": [
    "# Loading the data (signs)\n",
    "X_train_orig, Y_train_orig, X_test_orig, Y_test_orig, classes = load_signs_dataset()"
   ]
  },
  {
   "cell_type": "markdown",
   "metadata": {},
   "source": [
    "<img src=\"images/SIGNS.png\" style=\"width:800px;height:300px;\">\n",
    "\n",
    "The next cell will show you an example of a labelled image in the dataset. Feel free to change the value of `index` below and re-run to see different examples. "
   ]
  },
  {
   "cell_type": "code",
   "execution_count": 19,
   "metadata": {},
   "outputs": [
    {
     "output_type": "stream",
     "name": "stdout",
     "text": [
      "y = 4\n"
     ]
    },
    {
     "output_type": "display_data",
     "data": {
      "text/plain": "<Figure size 432x288 with 1 Axes>",
      "image/svg+xml": "<?xml version=\"1.0\" encoding=\"utf-8\" standalone=\"no\"?>\n<!DOCTYPE svg PUBLIC \"-//W3C//DTD SVG 1.1//EN\"\n  \"http://www.w3.org/Graphics/SVG/1.1/DTD/svg11.dtd\">\n<svg height=\"250.618594pt\" version=\"1.1\" viewBox=\"0 0 251.565 250.618594\" width=\"251.565pt\" xmlns=\"http://www.w3.org/2000/svg\" xmlns:xlink=\"http://www.w3.org/1999/xlink\">\n <metadata>\n  <rdf:RDF xmlns:cc=\"http://creativecommons.org/ns#\" xmlns:dc=\"http://purl.org/dc/elements/1.1/\" xmlns:rdf=\"http://www.w3.org/1999/02/22-rdf-syntax-ns#\">\n   <cc:Work>\n    <dc:type rdf:resource=\"http://purl.org/dc/dcmitype/StillImage\"/>\n    <dc:date>2021-06-26T21:30:26.287579</dc:date>\n    <dc:format>image/svg+xml</dc:format>\n    <dc:creator>\n     <cc:Agent>\n      <dc:title>Matplotlib v3.4.2, https://matplotlib.org/</dc:title>\n     </cc:Agent>\n    </dc:creator>\n   </cc:Work>\n  </rdf:RDF>\n </metadata>\n <defs>\n  <style type=\"text/css\">*{stroke-linecap:butt;stroke-linejoin:round;}</style>\n </defs>\n <g id=\"figure_1\">\n  <g id=\"patch_1\">\n   <path d=\"M 0 250.618594 \nL 251.565 250.618594 \nL 251.565 0 \nL 0 0 \nz\n\" style=\"fill:none;\"/>\n  </g>\n  <g id=\"axes_1\">\n   <g id=\"patch_2\">\n    <path d=\"M 26.925 226.740469 \nL 244.365 226.740469 \nL 244.365 9.300469 \nL 26.925 9.300469 \nz\n\" style=\"fill:#ffffff;\"/>\n   </g>\n   <g clip-path=\"url(#pb1e61f7ce4)\">\n    <image height=\"218\" id=\"imageec02abac97\" transform=\"scale(1 -1)translate(0 -218)\" width=\"218\" x=\"26.925\" xlink:href=\"data:image/png;base64,\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\" y=\"-8.740469\"/>\n   </g>\n   <g id=\"matplotlib.axis_1\">\n    <g id=\"xtick_1\">\n     <g id=\"line2d_1\">\n      <defs>\n       <path d=\"M 0 0 \nL 0 3.5 \n\" id=\"m5951229907\" style=\"stroke:#000000;stroke-width:0.8;\"/>\n      </defs>\n      <g>\n       <use style=\"stroke:#000000;stroke-width:0.8;\" x=\"28.62375\" xlink:href=\"#m5951229907\" y=\"226.740469\"/>\n      </g>\n     </g>\n     <g id=\"text_1\">\n      <!-- 0 -->\n      <g transform=\"translate(25.4425 241.338906)scale(0.1 -0.1)\">\n       <defs>\n        <path d=\"M 2034 4250 \nQ 1547 4250 1301 3770 \nQ 1056 3291 1056 2328 \nQ 1056 1369 1301 889 \nQ 1547 409 2034 409 \nQ 2525 409 2770 889 \nQ 3016 1369 3016 2328 \nQ 3016 3291 2770 3770 \nQ 2525 4250 2034 4250 \nz\nM 2034 4750 \nQ 2819 4750 3233 4129 \nQ 3647 3509 3647 2328 \nQ 3647 1150 3233 529 \nQ 2819 -91 2034 -91 \nQ 1250 -91 836 529 \nQ 422 1150 422 2328 \nQ 422 3509 836 4129 \nQ 1250 4750 2034 4750 \nz\n\" id=\"DejaVuSans-30\" transform=\"scale(0.015625)\"/>\n       </defs>\n       <use xlink:href=\"#DejaVuSans-30\"/>\n      </g>\n     </g>\n    </g>\n    <g id=\"xtick_2\">\n     <g id=\"line2d_2\">\n      <g>\n       <use style=\"stroke:#000000;stroke-width:0.8;\" x=\"62.59875\" xlink:href=\"#m5951229907\" y=\"226.740469\"/>\n      </g>\n     </g>\n     <g id=\"text_2\">\n      <!-- 10 -->\n      <g transform=\"translate(56.23625 241.338906)scale(0.1 -0.1)\">\n       <defs>\n        <path d=\"M 794 531 \nL 1825 531 \nL 1825 4091 \nL 703 3866 \nL 703 4441 \nL 1819 4666 \nL 2450 4666 \nL 2450 531 \nL 3481 531 \nL 3481 0 \nL 794 0 \nL 794 531 \nz\n\" id=\"DejaVuSans-31\" transform=\"scale(0.015625)\"/>\n       </defs>\n       <use xlink:href=\"#DejaVuSans-31\"/>\n       <use x=\"63.623047\" xlink:href=\"#DejaVuSans-30\"/>\n      </g>\n     </g>\n    </g>\n    <g id=\"xtick_3\">\n     <g id=\"line2d_3\">\n      <g>\n       <use style=\"stroke:#000000;stroke-width:0.8;\" x=\"96.57375\" xlink:href=\"#m5951229907\" y=\"226.740469\"/>\n      </g>\n     </g>\n     <g id=\"text_3\">\n      <!-- 20 -->\n      <g transform=\"translate(90.21125 241.338906)scale(0.1 -0.1)\">\n       <defs>\n        <path d=\"M 1228 531 \nL 3431 531 \nL 3431 0 \nL 469 0 \nL 469 531 \nQ 828 903 1448 1529 \nQ 2069 2156 2228 2338 \nQ 2531 2678 2651 2914 \nQ 2772 3150 2772 3378 \nQ 2772 3750 2511 3984 \nQ 2250 4219 1831 4219 \nQ 1534 4219 1204 4116 \nQ 875 4013 500 3803 \nL 500 4441 \nQ 881 4594 1212 4672 \nQ 1544 4750 1819 4750 \nQ 2544 4750 2975 4387 \nQ 3406 4025 3406 3419 \nQ 3406 3131 3298 2873 \nQ 3191 2616 2906 2266 \nQ 2828 2175 2409 1742 \nQ 1991 1309 1228 531 \nz\n\" id=\"DejaVuSans-32\" transform=\"scale(0.015625)\"/>\n       </defs>\n       <use xlink:href=\"#DejaVuSans-32\"/>\n       <use x=\"63.623047\" xlink:href=\"#DejaVuSans-30\"/>\n      </g>\n     </g>\n    </g>\n    <g id=\"xtick_4\">\n     <g id=\"line2d_4\">\n      <g>\n       <use style=\"stroke:#000000;stroke-width:0.8;\" x=\"130.54875\" xlink:href=\"#m5951229907\" y=\"226.740469\"/>\n      </g>\n     </g>\n     <g id=\"text_4\">\n      <!-- 30 -->\n      <g transform=\"translate(124.18625 241.338906)scale(0.1 -0.1)\">\n       <defs>\n        <path d=\"M 2597 2516 \nQ 3050 2419 3304 2112 \nQ 3559 1806 3559 1356 \nQ 3559 666 3084 287 \nQ 2609 -91 1734 -91 \nQ 1441 -91 1130 -33 \nQ 819 25 488 141 \nL 488 750 \nQ 750 597 1062 519 \nQ 1375 441 1716 441 \nQ 2309 441 2620 675 \nQ 2931 909 2931 1356 \nQ 2931 1769 2642 2001 \nQ 2353 2234 1838 2234 \nL 1294 2234 \nL 1294 2753 \nL 1863 2753 \nQ 2328 2753 2575 2939 \nQ 2822 3125 2822 3475 \nQ 2822 3834 2567 4026 \nQ 2313 4219 1838 4219 \nQ 1578 4219 1281 4162 \nQ 984 4106 628 3988 \nL 628 4550 \nQ 988 4650 1302 4700 \nQ 1616 4750 1894 4750 \nQ 2613 4750 3031 4423 \nQ 3450 4097 3450 3541 \nQ 3450 3153 3228 2886 \nQ 3006 2619 2597 2516 \nz\n\" id=\"DejaVuSans-33\" transform=\"scale(0.015625)\"/>\n       </defs>\n       <use xlink:href=\"#DejaVuSans-33\"/>\n       <use x=\"63.623047\" xlink:href=\"#DejaVuSans-30\"/>\n      </g>\n     </g>\n    </g>\n    <g id=\"xtick_5\">\n     <g id=\"line2d_5\">\n      <g>\n       <use style=\"stroke:#000000;stroke-width:0.8;\" x=\"164.52375\" xlink:href=\"#m5951229907\" y=\"226.740469\"/>\n      </g>\n     </g>\n     <g id=\"text_5\">\n      <!-- 40 -->\n      <g transform=\"translate(158.16125 241.338906)scale(0.1 -0.1)\">\n       <defs>\n        <path d=\"M 2419 4116 \nL 825 1625 \nL 2419 1625 \nL 2419 4116 \nz\nM 2253 4666 \nL 3047 4666 \nL 3047 1625 \nL 3713 1625 \nL 3713 1100 \nL 3047 1100 \nL 3047 0 \nL 2419 0 \nL 2419 1100 \nL 313 1100 \nL 313 1709 \nL 2253 4666 \nz\n\" id=\"DejaVuSans-34\" transform=\"scale(0.015625)\"/>\n       </defs>\n       <use xlink:href=\"#DejaVuSans-34\"/>\n       <use x=\"63.623047\" xlink:href=\"#DejaVuSans-30\"/>\n      </g>\n     </g>\n    </g>\n    <g id=\"xtick_6\">\n     <g id=\"line2d_6\">\n      <g>\n       <use style=\"stroke:#000000;stroke-width:0.8;\" x=\"198.49875\" xlink:href=\"#m5951229907\" y=\"226.740469\"/>\n      </g>\n     </g>\n     <g id=\"text_6\">\n      <!-- 50 -->\n      <g transform=\"translate(192.13625 241.338906)scale(0.1 -0.1)\">\n       <defs>\n        <path d=\"M 691 4666 \nL 3169 4666 \nL 3169 4134 \nL 1269 4134 \nL 1269 2991 \nQ 1406 3038 1543 3061 \nQ 1681 3084 1819 3084 \nQ 2600 3084 3056 2656 \nQ 3513 2228 3513 1497 \nQ 3513 744 3044 326 \nQ 2575 -91 1722 -91 \nQ 1428 -91 1123 -41 \nQ 819 9 494 109 \nL 494 744 \nQ 775 591 1075 516 \nQ 1375 441 1709 441 \nQ 2250 441 2565 725 \nQ 2881 1009 2881 1497 \nQ 2881 1984 2565 2268 \nQ 2250 2553 1709 2553 \nQ 1456 2553 1204 2497 \nQ 953 2441 691 2322 \nL 691 4666 \nz\n\" id=\"DejaVuSans-35\" transform=\"scale(0.015625)\"/>\n       </defs>\n       <use xlink:href=\"#DejaVuSans-35\"/>\n       <use x=\"63.623047\" xlink:href=\"#DejaVuSans-30\"/>\n      </g>\n     </g>\n    </g>\n    <g id=\"xtick_7\">\n     <g id=\"line2d_7\">\n      <g>\n       <use style=\"stroke:#000000;stroke-width:0.8;\" x=\"232.47375\" xlink:href=\"#m5951229907\" y=\"226.740469\"/>\n      </g>\n     </g>\n     <g id=\"text_7\">\n      <!-- 60 -->\n      <g transform=\"translate(226.11125 241.338906)scale(0.1 -0.1)\">\n       <defs>\n        <path d=\"M 2113 2584 \nQ 1688 2584 1439 2293 \nQ 1191 2003 1191 1497 \nQ 1191 994 1439 701 \nQ 1688 409 2113 409 \nQ 2538 409 2786 701 \nQ 3034 994 3034 1497 \nQ 3034 2003 2786 2293 \nQ 2538 2584 2113 2584 \nz\nM 3366 4563 \nL 3366 3988 \nQ 3128 4100 2886 4159 \nQ 2644 4219 2406 4219 \nQ 1781 4219 1451 3797 \nQ 1122 3375 1075 2522 \nQ 1259 2794 1537 2939 \nQ 1816 3084 2150 3084 \nQ 2853 3084 3261 2657 \nQ 3669 2231 3669 1497 \nQ 3669 778 3244 343 \nQ 2819 -91 2113 -91 \nQ 1303 -91 875 529 \nQ 447 1150 447 2328 \nQ 447 3434 972 4092 \nQ 1497 4750 2381 4750 \nQ 2619 4750 2861 4703 \nQ 3103 4656 3366 4563 \nz\n\" id=\"DejaVuSans-36\" transform=\"scale(0.015625)\"/>\n       </defs>\n       <use xlink:href=\"#DejaVuSans-36\"/>\n       <use x=\"63.623047\" xlink:href=\"#DejaVuSans-30\"/>\n      </g>\n     </g>\n    </g>\n   </g>\n   <g id=\"matplotlib.axis_2\">\n    <g id=\"ytick_1\">\n     <g id=\"line2d_8\">\n      <defs>\n       <path d=\"M 0 0 \nL -3.5 0 \n\" id=\"mac67c26c7f\" style=\"stroke:#000000;stroke-width:0.8;\"/>\n      </defs>\n      <g>\n       <use style=\"stroke:#000000;stroke-width:0.8;\" x=\"26.925\" xlink:href=\"#mac67c26c7f\" y=\"10.999219\"/>\n      </g>\n     </g>\n     <g id=\"text_8\">\n      <!-- 0 -->\n      <g transform=\"translate(13.5625 14.798437)scale(0.1 -0.1)\">\n       <use xlink:href=\"#DejaVuSans-30\"/>\n      </g>\n     </g>\n    </g>\n    <g id=\"ytick_2\">\n     <g id=\"line2d_9\">\n      <g>\n       <use style=\"stroke:#000000;stroke-width:0.8;\" x=\"26.925\" xlink:href=\"#mac67c26c7f\" y=\"44.974219\"/>\n      </g>\n     </g>\n     <g id=\"text_9\">\n      <!-- 10 -->\n      <g transform=\"translate(7.2 48.773437)scale(0.1 -0.1)\">\n       <use xlink:href=\"#DejaVuSans-31\"/>\n       <use x=\"63.623047\" xlink:href=\"#DejaVuSans-30\"/>\n      </g>\n     </g>\n    </g>\n    <g id=\"ytick_3\">\n     <g id=\"line2d_10\">\n      <g>\n       <use style=\"stroke:#000000;stroke-width:0.8;\" x=\"26.925\" xlink:href=\"#mac67c26c7f\" y=\"78.949219\"/>\n      </g>\n     </g>\n     <g id=\"text_10\">\n      <!-- 20 -->\n      <g transform=\"translate(7.2 82.748437)scale(0.1 -0.1)\">\n       <use xlink:href=\"#DejaVuSans-32\"/>\n       <use x=\"63.623047\" xlink:href=\"#DejaVuSans-30\"/>\n      </g>\n     </g>\n    </g>\n    <g id=\"ytick_4\">\n     <g id=\"line2d_11\">\n      <g>\n       <use style=\"stroke:#000000;stroke-width:0.8;\" x=\"26.925\" xlink:href=\"#mac67c26c7f\" y=\"112.924219\"/>\n      </g>\n     </g>\n     <g id=\"text_11\">\n      <!-- 30 -->\n      <g transform=\"translate(7.2 116.723437)scale(0.1 -0.1)\">\n       <use xlink:href=\"#DejaVuSans-33\"/>\n       <use x=\"63.623047\" xlink:href=\"#DejaVuSans-30\"/>\n      </g>\n     </g>\n    </g>\n    <g id=\"ytick_5\">\n     <g id=\"line2d_12\">\n      <g>\n       <use style=\"stroke:#000000;stroke-width:0.8;\" x=\"26.925\" xlink:href=\"#mac67c26c7f\" y=\"146.899219\"/>\n      </g>\n     </g>\n     <g id=\"text_12\">\n      <!-- 40 -->\n      <g transform=\"translate(7.2 150.698437)scale(0.1 -0.1)\">\n       <use xlink:href=\"#DejaVuSans-34\"/>\n       <use x=\"63.623047\" xlink:href=\"#DejaVuSans-30\"/>\n      </g>\n     </g>\n    </g>\n    <g id=\"ytick_6\">\n     <g id=\"line2d_13\">\n      <g>\n       <use style=\"stroke:#000000;stroke-width:0.8;\" x=\"26.925\" xlink:href=\"#mac67c26c7f\" y=\"180.874219\"/>\n      </g>\n     </g>\n     <g id=\"text_13\">\n      <!-- 50 -->\n      <g transform=\"translate(7.2 184.673437)scale(0.1 -0.1)\">\n       <use xlink:href=\"#DejaVuSans-35\"/>\n       <use x=\"63.623047\" xlink:href=\"#DejaVuSans-30\"/>\n      </g>\n     </g>\n    </g>\n    <g id=\"ytick_7\">\n     <g id=\"line2d_14\">\n      <g>\n       <use style=\"stroke:#000000;stroke-width:0.8;\" x=\"26.925\" xlink:href=\"#mac67c26c7f\" y=\"214.849219\"/>\n      </g>\n     </g>\n     <g id=\"text_14\">\n      <!-- 60 -->\n      <g transform=\"translate(7.2 218.648437)scale(0.1 -0.1)\">\n       <use xlink:href=\"#DejaVuSans-36\"/>\n       <use x=\"63.623047\" xlink:href=\"#DejaVuSans-30\"/>\n      </g>\n     </g>\n    </g>\n   </g>\n   <g id=\"patch_3\">\n    <path d=\"M 26.925 226.740469 \nL 26.925 9.300469 \n\" style=\"fill:none;stroke:#000000;stroke-linecap:square;stroke-linejoin:miter;stroke-width:0.8;\"/>\n   </g>\n   <g id=\"patch_4\">\n    <path d=\"M 244.365 226.740469 \nL 244.365 9.300469 \n\" style=\"fill:none;stroke:#000000;stroke-linecap:square;stroke-linejoin:miter;stroke-width:0.8;\"/>\n   </g>\n   <g id=\"patch_5\">\n    <path d=\"M 26.925 226.740469 \nL 244.365 226.740469 \n\" style=\"fill:none;stroke:#000000;stroke-linecap:square;stroke-linejoin:miter;stroke-width:0.8;\"/>\n   </g>\n   <g id=\"patch_6\">\n    <path d=\"M 26.925 9.300469 \nL 244.365 9.300469 \n\" style=\"fill:none;stroke:#000000;stroke-linecap:square;stroke-linejoin:miter;stroke-width:0.8;\"/>\n   </g>\n  </g>\n </g>\n <defs>\n  <clipPath id=\"pb1e61f7ce4\">\n   <rect height=\"217.44\" width=\"217.44\" x=\"26.925\" y=\"9.300469\"/>\n  </clipPath>\n </defs>\n</svg>\n",
      "image/png": "[encoded data removed]"
     },
     "metadata": {
      "needs_background": "light"
     }
    }
   ],
   "source": [
    "# Example of an image from the dataset\n",
    "index = 9\n",
    "plt.imshow(X_train_orig[index])\n",
    "print (\"y = \" + str(np.squeeze(Y_train_orig[:, index])))"
   ]
  },
  {
   "cell_type": "markdown",
   "metadata": {},
   "source": [
    "<a name='4-2'></a>\n",
    "### 4.2 - Split the Data into Train/Test Sets\n",
    "\n",
    "In Course 2, you built a fully-connected network for this dataset. But since this is an image dataset, it is more natural to apply a ConvNet to it.\n",
    "\n",
    "To get started, let's examine the shapes of your data. "
   ]
  },
  {
   "cell_type": "code",
   "execution_count": 22,
   "metadata": {},
   "outputs": [
    {
     "output_type": "stream",
     "name": "stdout",
     "text": [
      "number of training examples = 1080\nnumber of test examples = 120\nX_train shape: (1080, 64, 64, 3)\nY_train shape: (1080, 6)\nX_test shape: (120, 64, 64, 3)\nY_test shape: (120, 6)\n"
     ]
    }
   ],
   "source": [
    "X_train = X_train_orig/255.\n",
    "X_test = X_test_orig/255.\n",
    "Y_train = convert_to_one_hot(Y_train_orig, 6).T\n",
    "Y_test = convert_to_one_hot(Y_test_orig, 6).T\n",
    "print (\"number of training examples = \" + str(X_train.shape[0]))\n",
    "print (\"number of test examples = \" + str(X_test.shape[0]))\n",
    "print (\"X_train shape: \" + str(X_train.shape))\n",
    "print (\"Y_train shape: \" + str(Y_train.shape))\n",
    "print (\"X_test shape: \" + str(X_test.shape))\n",
    "print (\"Y_test shape: \" + str(Y_test.shape))"
   ]
  },
  {
   "cell_type": "markdown",
   "metadata": {},
   "source": [
    "<a name='4-3'></a>\n",
    "### 4.3 - Forward Propagation\n",
    "\n",
    "In TensorFlow, there are built-in functions that implement the convolution steps for you. By now, you should be familiar with how TensorFlow builds computational graphs. In the [Functional API](https://www.tensorflow.org/guide/keras/functional), you create a graph of layers. This is what allows such great flexibility.\n",
    "\n",
    "However, the following model could also be defined using the Sequential API since the information flow is on a single line. But don't deviate. What we want you to learn is to use the functional API.\n",
    "\n",
    "Begin building your graph of layers by creating an input node that functions as a callable object:\n",
    "\n",
    "- **input_img = tf.keras.Input(shape=input_shape):** \n",
    "\n",
    "Then, create a new node in the graph of layers by calling a layer on the `input_img` object: \n",
    "\n",
    "- **tf.keras.layers.Conv2D(filters= ... , kernel_size= ... , padding='same')(input_img):** Read the full documentation on [Conv2D](https://www.tensorflow.org/api_docs/python/tf/keras/layers/Conv2D).\n",
    "\n",
    "- **tf.keras.layers.MaxPool2D(pool_size=(f, f), strides=(s, s), padding='same'):** `MaxPool2D()` downsamples your input using a window of size (f, f) and strides of size (s, s) to carry out max pooling over each window.  For max pooling, you usually operate on a single example at a time and a single channel at a time. Read the full documentation on [MaxPool2D](https://www.tensorflow.org/api_docs/python/tf/keras/layers/MaxPool2D).\n",
    "\n",
    "- **tf.keras.layers.ReLU():** computes the elementwise ReLU of Z (which can be any shape). You can read the full documentation on [ReLU](https://www.tensorflow.org/api_docs/python/tf/keras/layers/ReLU).\n",
    "\n",
    "- **tf.keras.layers.Flatten()**: given a tensor \"P\", this function takes each training (or test) example in the batch and flattens it into a 1D vector.  \n",
    "\n",
    "    * If a tensor P has the shape (batch_size,h,w,c), it returns a flattened tensor with shape (batch_size, k), where $k=h \\times w \\times c$.  \"k\" equals the product of all the dimension sizes other than the first dimension.\n",
    "    \n",
    "    * For example, given a tensor with dimensions [100, 2, 3, 4], it flattens the tensor to be of shape [100, 24], where 24 = 2 * 3 * 4.  You can read the full documentation on [Flatten](https://www.tensorflow.org/api_docs/python/tf/keras/layers/Flatten).\n",
    "\n",
    "- **tf.keras.layers.Dense(units= ... , activation='softmax')(F):** given the flattened input F, it returns the output computed using a fully connected layer. You can read the full documentation on [Dense](https://www.tensorflow.org/api_docs/python/tf/keras/layers/Dense).\n",
    "\n",
    "In the last function above (`tf.keras.layers.Dense()`), the fully connected layer automatically initializes weights in the graph and keeps on training them as you train the model. Hence, you did not need to initialize those weights when initializing the parameters.\n",
    "\n",
    "Lastly, before creating the model, you'll need to define the output using the last of the function's compositions (in this example, a Dense layer): \n",
    "\n",
    "- **outputs = tf.keras.layers.Dense(units=6, activation='softmax')(F)**\n",
    "\n",
    "\n",
    "#### Window, kernel, filter, pool\n",
    "\n",
    "The words \"kernel\" and \"filter\" are used to refer to the same thing. The word \"filter\" accounts for the amount of \"kernels\" that will be used in a single convolution layer. \"Pool\" is the name of the operation that takes the max or average value of the kernels. \n",
    "\n",
    "This is why the parameter `pool_size` refers to `kernel_size`, and you use `(f,f)` to refer to the filter size. \n",
    "\n",
    "Pool size and kernel size refer to the same thing in different objects - They refer to the shape of the window where the operation takes place. "
   ]
  },
  {
   "cell_type": "markdown",
   "metadata": {},
   "source": [
    "<a name='ex-2'></a>\n",
    "### Exercise 2 - convolutional_model\n",
    "\n",
    "Implement the `convolutional_model` function below to build the following model: `CONV2D -> RELU -> MAXPOOL -> CONV2D -> RELU -> MAXPOOL -> FLATTEN -> DENSE`. Use the functions above! \n",
    "\n",
    "Also, plug in the following parameters for all the steps:\n",
    "\n",
    " - [Conv2D](https://www.tensorflow.org/api_docs/python/tf/keras/layers/Conv2D): Use 8 4 by 4 filters, stride 1, padding is \"SAME\"\n",
    " - [ReLU](https://www.tensorflow.org/api_docs/python/tf/keras/layers/ReLU)\n",
    " - [MaxPool2D](https://www.tensorflow.org/api_docs/python/tf/keras/layers/MaxPool2D): Use an 8 by 8 filter size and an 8 by 8 stride, padding is \"SAME\"\n",
    " - **Conv2D**: Use 16 2 by 2 filters, stride 1, padding is \"SAME\"\n",
    " - **ReLU**\n",
    " - **MaxPool2D**: Use a 4 by 4 filter size and a 4 by 4 stride, padding is \"SAME\"\n",
    " - [Flatten](https://www.tensorflow.org/api_docs/python/tf/keras/layers/Flatten) the previous output.\n",
    " - Fully-connected ([Dense](https://www.tensorflow.org/api_docs/python/tf/keras/layers/Dense)) layer: Apply a fully connected layer with 6 neurons and a softmax activation. "
   ]
  },
  {
   "cell_type": "code",
   "execution_count": 23,
   "metadata": {
    "deletable": false,
    "nbgrader": {
     "cell_type": "code",
     "checksum": "f58643806aa8380c96225fc8b4c5e7aa",
     "grade": false,
     "grade_id": "cell-dac51744a9e03f51",
     "locked": false,
     "schema_version": 3,
     "solution": true,
     "task": false
    }
   },
   "outputs": [],
   "source": [
    "# GRADED FUNCTION: convolutional_model\n",
    "\n",
    "def convolutional_model(input_shape):\n",
    "    \"\"\"\n",
    "    Implements the forward propagation for the model:\n",
    "    CONV2D -> RELU -> MAXPOOL -> CONV2D -> RELU -> MAXPOOL -> FLATTEN -> DENSE\n",
    "    \n",
    "    Note that for simplicity and grading purposes, you'll hard-code some values\n",
    "    such as the stride and kernel (filter) sizes. \n",
    "    Normally, functions should take these values as function parameters.\n",
    "    \n",
    "    Arguments:\n",
    "    input_img -- input dataset, of shape (input_shape)\n",
    "\n",
    "    Returns:\n",
    "    model -- TF Keras model (object containing the information for the entire training process) \n",
    "    \"\"\"\n",
    "\n",
    "    input_img = tf.keras.Input(shape=input_shape)\n",
    "    ## CONV2D: 8 filters 4x4, stride of 1, padding 'SAME'\n",
    "    Z1 = tfl.Conv2D(filters=8, kernel_size=4, strides=(1,1), padding='same')(input_img)\n",
    "    ## RELU\n",
    "    A1 = tfl.ReLU()(Z1)\n",
    "    ## MAXPOOL: window 8x8, stride 8, padding 'SAME'\n",
    "    P1 = tfl.MaxPool2D(pool_size=(8,8), strides=(8,8), padding='same')(A1)\n",
    "    ## CONV2D: 16 filters 2x2, stride 1, padding 'SAME'\n",
    "    Z2 = tfl.Conv2D(filters=16, kernel_size=2, strides=(1,1), padding='same')(P1)\n",
    "    ## RELU\n",
    "    A2 = tfl.ReLU()(Z2)\n",
    "    ## MAXPOOL: window 4x4, stride 4, padding 'SAME'\n",
    "    P2 = tfl.MaxPool2D(pool_size=(4,4), strides=(4,4), padding='same')(A2)\n",
    "    ## FLATTEN\n",
    "    F = tfl.Flatten()(P2)\n",
    "    ## Dense layer\n",
    "    ## 6 neurons in output layer. Hint: one of the arguments should be \"activation='softmax'\" \n",
    "    outputs = tfl.Dense(units=6, activation='softmax')(F)\n",
    "    \n",
    "    model = tf.keras.Model(inputs=input_img, outputs=outputs)\n",
    "    return model"
   ]
  },
  {
   "cell_type": "code",
   "execution_count": 24,
   "metadata": {
    "deletable": false,
    "editable": false,
    "nbgrader": {
     "cell_type": "code",
     "checksum": "483d626949930a0b0ef20997e7c6ba72",
     "grade": true,
     "grade_id": "cell-45d22e92042174c9",
     "locked": true,
     "points": 10,
     "schema_version": 3,
     "solution": false,
     "task": false
    }
   },
   "outputs": [
    {
     "output_type": "stream",
     "name": "stdout",
     "text": [
      "Model: \"model\"\n_________________________________________________________________\nLayer (type)                 Output Shape              Param #   \n=================================================================\ninput_1 (InputLayer)         [(None, 64, 64, 3)]       0         \n_________________________________________________________________\nconv2d_2 (Conv2D)            (None, 64, 64, 8)         392       \n_________________________________________________________________\nre_lu_2 (ReLU)               (None, 64, 64, 8)         0         \n_________________________________________________________________\nmax_pooling2d_2 (MaxPooling2 (None, 8, 8, 8)           0         \n_________________________________________________________________\nconv2d_3 (Conv2D)            (None, 8, 8, 16)          528       \n_________________________________________________________________\nre_lu_3 (ReLU)               (None, 8, 8, 16)          0         \n_________________________________________________________________\nmax_pooling2d_3 (MaxPooling2 (None, 2, 2, 16)          0         \n_________________________________________________________________\nflatten_2 (Flatten)          (None, 64)                0         \n_________________________________________________________________\ndense_2 (Dense)              (None, 6)                 390       \n=================================================================\nTotal params: 1,310\nTrainable params: 1,310\nNon-trainable params: 0\n_________________________________________________________________\n\u001b[32mAll tests passed!\u001b[0m\n"
     ]
    }
   ],
   "source": [
    "conv_model = convolutional_model((64, 64, 3))\n",
    "conv_model.compile(optimizer='adam',\n",
    "                  loss='categorical_crossentropy',\n",
    "                  metrics=['accuracy'])\n",
    "conv_model.summary()\n",
    "    \n",
    "output = [['InputLayer', [(None, 64, 64, 3)], 0],\n",
    "        ['Conv2D', (None, 64, 64, 8), 392, 'same', 'linear', 'GlorotUniform'],\n",
    "        ['ReLU', (None, 64, 64, 8), 0],\n",
    "        ['MaxPooling2D', (None, 8, 8, 8), 0, (8, 8), (8, 8), 'same'],\n",
    "        ['Conv2D', (None, 8, 8, 16), 528, 'same', 'linear', 'GlorotUniform'],\n",
    "        ['ReLU', (None, 8, 8, 16), 0],\n",
    "        ['MaxPooling2D', (None, 2, 2, 16), 0, (4, 4), (4, 4), 'same'],\n",
    "        ['Flatten', (None, 64), 0],\n",
    "        ['Dense', (None, 6), 390, 'softmax']]\n",
    "    \n",
    "comparator(summary(conv_model), output)"
   ]
  },
  {
   "cell_type": "markdown",
   "metadata": {},
   "source": [
    "Both the Sequential and Functional APIs return a TF Keras model object. The only difference is how inputs are handled inside the object model! "
   ]
  },
  {
   "cell_type": "markdown",
   "metadata": {},
   "source": [
    "<a name='4-4'></a>\n",
    "### 4.4 - Train the Model"
   ]
  },
  {
   "cell_type": "code",
   "execution_count": 25,
   "metadata": {},
   "outputs": [
    {
     "output_type": "stream",
     "name": "stdout",
     "text": [
      "Epoch 1/100\n",
      "17/17 [==============================] - 1s 46ms/step - loss: 1.7995 - accuracy: 0.1731 - val_loss: 1.7926 - val_accuracy: 0.1500\n",
      "Epoch 2/100\n",
      "17/17 [==============================] - 1s 41ms/step - loss: 1.7872 - accuracy: 0.2250 - val_loss: 1.7864 - val_accuracy: 0.2167\n",
      "Epoch 3/100\n",
      "17/17 [==============================] - 1s 44ms/step - loss: 1.7808 - accuracy: 0.2639 - val_loss: 1.7825 - val_accuracy: 0.2417\n",
      "Epoch 4/100\n",
      "17/17 [==============================] - 1s 43ms/step - loss: 1.7751 - accuracy: 0.2620 - val_loss: 1.7768 - val_accuracy: 0.2583\n",
      "Epoch 5/100\n",
      "17/17 [==============================] - 1s 44ms/step - loss: 1.7664 - accuracy: 0.2769 - val_loss: 1.7674 - val_accuracy: 0.2750\n",
      "Epoch 6/100\n",
      "17/17 [==============================] - 1s 43ms/step - loss: 1.7525 - accuracy: 0.2926 - val_loss: 1.7578 - val_accuracy: 0.3000\n",
      "Epoch 7/100\n",
      "17/17 [==============================] - 1s 40ms/step - loss: 1.7364 - accuracy: 0.3074 - val_loss: 1.7449 - val_accuracy: 0.2750\n",
      "Epoch 8/100\n",
      "17/17 [==============================] - 1s 41ms/step - loss: 1.7160 - accuracy: 0.3352 - val_loss: 1.7296 - val_accuracy: 0.3333\n",
      "Epoch 9/100\n",
      "17/17 [==============================] - 1s 42ms/step - loss: 1.6912 - accuracy: 0.3574 - val_loss: 1.7108 - val_accuracy: 0.3083\n",
      "Epoch 10/100\n",
      "17/17 [==============================] - 1s 41ms/step - loss: 1.6627 - accuracy: 0.3704 - val_loss: 1.6890 - val_accuracy: 0.3333\n",
      "Epoch 11/100\n",
      "17/17 [==============================] - 1s 40ms/step - loss: 1.6312 - accuracy: 0.3935 - val_loss: 1.6649 - val_accuracy: 0.3583\n",
      "Epoch 12/100\n",
      "17/17 [==============================] - 1s 41ms/step - loss: 1.5977 - accuracy: 0.4065 - val_loss: 1.6405 - val_accuracy: 0.3583\n",
      "Epoch 13/100\n",
      "17/17 [==============================] - 1s 43ms/step - loss: 1.5633 - accuracy: 0.4222 - val_loss: 1.6132 - val_accuracy: 0.3583\n",
      "Epoch 14/100\n",
      "17/17 [==============================] - 1s 43ms/step - loss: 1.5289 - accuracy: 0.4343 - val_loss: 1.5870 - val_accuracy: 0.3833\n",
      "Epoch 15/100\n",
      "17/17 [==============================] - 1s 42ms/step - loss: 1.4977 - accuracy: 0.4306 - val_loss: 1.5590 - val_accuracy: 0.4000\n",
      "Epoch 16/100\n",
      "17/17 [==============================] - 1s 40ms/step - loss: 1.4674 - accuracy: 0.4380 - val_loss: 1.5326 - val_accuracy: 0.3917\n",
      "Epoch 17/100\n",
      "17/17 [==============================] - 1s 41ms/step - loss: 1.4371 - accuracy: 0.4472 - val_loss: 1.5065 - val_accuracy: 0.3917\n",
      "Epoch 18/100\n",
      "17/17 [==============================] - 1s 41ms/step - loss: 1.4067 - accuracy: 0.4611 - val_loss: 1.4778 - val_accuracy: 0.4000\n",
      "Epoch 19/100\n",
      "17/17 [==============================] - 1s 43ms/step - loss: 1.3782 - accuracy: 0.4713 - val_loss: 1.4479 - val_accuracy: 0.4083\n",
      "Epoch 20/100\n",
      "17/17 [==============================] - 1s 43ms/step - loss: 1.3494 - accuracy: 0.4778 - val_loss: 1.4186 - val_accuracy: 0.4083\n",
      "Epoch 21/100\n",
      "17/17 [==============================] - 1s 42ms/step - loss: 1.3204 - accuracy: 0.4898 - val_loss: 1.3905 - val_accuracy: 0.4250\n",
      "Epoch 22/100\n",
      "17/17 [==============================] - 1s 41ms/step - loss: 1.2906 - accuracy: 0.5139 - val_loss: 1.3571 - val_accuracy: 0.4250\n",
      "Epoch 23/100\n",
      "17/17 [==============================] - 1s 42ms/step - loss: 1.2618 - accuracy: 0.5370 - val_loss: 1.3291 - val_accuracy: 0.4083\n",
      "Epoch 24/100\n",
      "17/17 [==============================] - 1s 43ms/step - loss: 1.2323 - accuracy: 0.5481 - val_loss: 1.2986 - val_accuracy: 0.4250\n",
      "Epoch 25/100\n",
      "17/17 [==============================] - 1s 41ms/step - loss: 1.2047 - accuracy: 0.5630 - val_loss: 1.2727 - val_accuracy: 0.4417\n",
      "Epoch 26/100\n",
      "17/17 [==============================] - 1s 42ms/step - loss: 1.1766 - accuracy: 0.5704 - val_loss: 1.2449 - val_accuracy: 0.4750\n",
      "Epoch 27/100\n",
      "17/17 [==============================] - 1s 41ms/step - loss: 1.1498 - accuracy: 0.5833 - val_loss: 1.2205 - val_accuracy: 0.4667\n",
      "Epoch 28/100\n",
      "17/17 [==============================] - 1s 40ms/step - loss: 1.1227 - accuracy: 0.5917 - val_loss: 1.1952 - val_accuracy: 0.4917\n",
      "Epoch 29/100\n",
      "17/17 [==============================] - 1s 42ms/step - loss: 1.1000 - accuracy: 0.6074 - val_loss: 1.1772 - val_accuracy: 0.4833\n",
      "Epoch 30/100\n",
      "17/17 [==============================] - 1s 40ms/step - loss: 1.0759 - accuracy: 0.6194 - val_loss: 1.1557 - val_accuracy: 0.5250\n",
      "Epoch 31/100\n",
      "17/17 [==============================] - 1s 41ms/step - loss: 1.0553 - accuracy: 0.6315 - val_loss: 1.1396 - val_accuracy: 0.5333\n",
      "Epoch 32/100\n",
      "17/17 [==============================] - 1s 40ms/step - loss: 1.0361 - accuracy: 0.6389 - val_loss: 1.1218 - val_accuracy: 0.5333\n",
      "Epoch 33/100\n",
      "17/17 [==============================] - 1s 41ms/step - loss: 1.0167 - accuracy: 0.6519 - val_loss: 1.1060 - val_accuracy: 0.5417\n",
      "Epoch 34/100\n",
      "17/17 [==============================] - 1s 41ms/step - loss: 1.0014 - accuracy: 0.6565 - val_loss: 1.0931 - val_accuracy: 0.5417\n",
      "Epoch 35/100\n",
      "17/17 [==============================] - 1s 41ms/step - loss: 0.9855 - accuracy: 0.6574 - val_loss: 1.0797 - val_accuracy: 0.5500\n",
      "Epoch 36/100\n",
      "17/17 [==============================] - 1s 41ms/step - loss: 0.9703 - accuracy: 0.6593 - val_loss: 1.0664 - val_accuracy: 0.5667\n",
      "Epoch 37/100\n",
      "17/17 [==============================] - 1s 41ms/step - loss: 0.9561 - accuracy: 0.6657 - val_loss: 1.0546 - val_accuracy: 0.5833\n",
      "Epoch 38/100\n",
      "17/17 [==============================] - 1s 41ms/step - loss: 0.9419 - accuracy: 0.6731 - val_loss: 1.0421 - val_accuracy: 0.5917\n",
      "Epoch 39/100\n",
      "17/17 [==============================] - 1s 40ms/step - loss: 0.9290 - accuracy: 0.6796 - val_loss: 1.0314 - val_accuracy: 0.5917\n",
      "Epoch 40/100\n",
      "17/17 [==============================] - 1s 40ms/step - loss: 0.9167 - accuracy: 0.6833 - val_loss: 1.0211 - val_accuracy: 0.5833\n",
      "Epoch 41/100\n",
      "17/17 [==============================] - 1s 40ms/step - loss: 0.9045 - accuracy: 0.6833 - val_loss: 1.0112 - val_accuracy: 0.5833\n",
      "Epoch 42/100\n",
      "17/17 [==============================] - 1s 41ms/step - loss: 0.8936 - accuracy: 0.6870 - val_loss: 1.0022 - val_accuracy: 0.5833\n",
      "Epoch 43/100\n",
      "17/17 [==============================] - 1s 41ms/step - loss: 0.8827 - accuracy: 0.6898 - val_loss: 0.9935 - val_accuracy: 0.6000\n",
      "Epoch 44/100\n",
      "17/17 [==============================] - 1s 41ms/step - loss: 0.8729 - accuracy: 0.6926 - val_loss: 0.9862 - val_accuracy: 0.6000\n",
      "Epoch 45/100\n",
      "17/17 [==============================] - 1s 42ms/step - loss: 0.8629 - accuracy: 0.6954 - val_loss: 0.9813 - val_accuracy: 0.6000\n",
      "Epoch 46/100\n",
      "17/17 [==============================] - 1s 41ms/step - loss: 0.8528 - accuracy: 0.6991 - val_loss: 0.9758 - val_accuracy: 0.6083\n",
      "Epoch 47/100\n",
      "17/17 [==============================] - 1s 41ms/step - loss: 0.8438 - accuracy: 0.7019 - val_loss: 0.9707 - val_accuracy: 0.6000\n",
      "Epoch 48/100\n",
      "17/17 [==============================] - 1s 41ms/step - loss: 0.8344 - accuracy: 0.7028 - val_loss: 0.9642 - val_accuracy: 0.6000\n",
      "Epoch 49/100\n",
      "17/17 [==============================] - 1s 41ms/step - loss: 0.8252 - accuracy: 0.7056 - val_loss: 0.9579 - val_accuracy: 0.6000\n",
      "Epoch 50/100\n",
      "17/17 [==============================] - 1s 41ms/step - loss: 0.8155 - accuracy: 0.7130 - val_loss: 0.9511 - val_accuracy: 0.6083\n",
      "Epoch 51/100\n",
      "17/17 [==============================] - 1s 41ms/step - loss: 0.8059 - accuracy: 0.7176 - val_loss: 0.9447 - val_accuracy: 0.6083\n",
      "Epoch 52/100\n",
      "17/17 [==============================] - 1s 41ms/step - loss: 0.7968 - accuracy: 0.7250 - val_loss: 0.9393 - val_accuracy: 0.6000\n",
      "Epoch 53/100\n",
      "17/17 [==============================] - 1s 40ms/step - loss: 0.7890 - accuracy: 0.7287 - val_loss: 0.9352 - val_accuracy: 0.6083\n",
      "Epoch 54/100\n",
      "17/17 [==============================] - 1s 43ms/step - loss: 0.7805 - accuracy: 0.7324 - val_loss: 0.9295 - val_accuracy: 0.6250\n",
      "Epoch 55/100\n",
      "17/17 [==============================] - 1s 41ms/step - loss: 0.7727 - accuracy: 0.7370 - val_loss: 0.9245 - val_accuracy: 0.6250\n",
      "Epoch 56/100\n",
      "17/17 [==============================] - 1s 42ms/step - loss: 0.7651 - accuracy: 0.7407 - val_loss: 0.9195 - val_accuracy: 0.6333\n",
      "Epoch 57/100\n",
      "17/17 [==============================] - 1s 42ms/step - loss: 0.7580 - accuracy: 0.7398 - val_loss: 0.9141 - val_accuracy: 0.6333\n",
      "Epoch 58/100\n",
      "17/17 [==============================] - 1s 43ms/step - loss: 0.7505 - accuracy: 0.7417 - val_loss: 0.9095 - val_accuracy: 0.6417\n",
      "Epoch 59/100\n",
      "17/17 [==============================] - 1s 43ms/step - loss: 0.7438 - accuracy: 0.7463 - val_loss: 0.9046 - val_accuracy: 0.6417\n",
      "Epoch 60/100\n",
      "17/17 [==============================] - 1s 44ms/step - loss: 0.7368 - accuracy: 0.7463 - val_loss: 0.8998 - val_accuracy: 0.6333\n",
      "Epoch 61/100\n",
      "17/17 [==============================] - 1s 41ms/step - loss: 0.7301 - accuracy: 0.7481 - val_loss: 0.8950 - val_accuracy: 0.6333\n",
      "Epoch 62/100\n",
      "17/17 [==============================] - 1s 42ms/step - loss: 0.7234 - accuracy: 0.7481 - val_loss: 0.8906 - val_accuracy: 0.6333\n",
      "Epoch 63/100\n",
      "17/17 [==============================] - 1s 43ms/step - loss: 0.7169 - accuracy: 0.7556 - val_loss: 0.8851 - val_accuracy: 0.6333\n",
      "Epoch 64/100\n",
      "17/17 [==============================] - 1s 44ms/step - loss: 0.7105 - accuracy: 0.7602 - val_loss: 0.8806 - val_accuracy: 0.6333\n",
      "Epoch 65/100\n",
      "17/17 [==============================] - 1s 45ms/step - loss: 0.7040 - accuracy: 0.7611 - val_loss: 0.8759 - val_accuracy: 0.6333\n",
      "Epoch 66/100\n",
      "17/17 [==============================] - 1s 45ms/step - loss: 0.6980 - accuracy: 0.7657 - val_loss: 0.8715 - val_accuracy: 0.6333\n",
      "Epoch 67/100\n",
      "17/17 [==============================] - 1s 43ms/step - loss: 0.6922 - accuracy: 0.7676 - val_loss: 0.8668 - val_accuracy: 0.6333\n",
      "Epoch 68/100\n",
      "17/17 [==============================] - 1s 41ms/step - loss: 0.6865 - accuracy: 0.7685 - val_loss: 0.8621 - val_accuracy: 0.6417\n",
      "Epoch 69/100\n",
      "17/17 [==============================] - 1s 41ms/step - loss: 0.6811 - accuracy: 0.7704 - val_loss: 0.8578 - val_accuracy: 0.6500\n",
      "Epoch 70/100\n",
      "17/17 [==============================] - 1s 42ms/step - loss: 0.6755 - accuracy: 0.7713 - val_loss: 0.8535 - val_accuracy: 0.6583\n",
      "Epoch 71/100\n",
      "17/17 [==============================] - 1s 43ms/step - loss: 0.6703 - accuracy: 0.7722 - val_loss: 0.8499 - val_accuracy: 0.6583\n",
      "Epoch 72/100\n",
      "17/17 [==============================] - 1s 43ms/step - loss: 0.6649 - accuracy: 0.7769 - val_loss: 0.8461 - val_accuracy: 0.6583\n",
      "Epoch 73/100\n",
      "17/17 [==============================] - 1s 43ms/step - loss: 0.6595 - accuracy: 0.7806 - val_loss: 0.8408 - val_accuracy: 0.6583\n",
      "Epoch 74/100\n",
      "17/17 [==============================] - 1s 45ms/step - loss: 0.6547 - accuracy: 0.7824 - val_loss: 0.8373 - val_accuracy: 0.6583\n",
      "Epoch 75/100\n",
      "17/17 [==============================] - 1s 43ms/step - loss: 0.6496 - accuracy: 0.7843 - val_loss: 0.8329 - val_accuracy: 0.6583\n",
      "Epoch 76/100\n",
      "17/17 [==============================] - 1s 46ms/step - loss: 0.6446 - accuracy: 0.7843 - val_loss: 0.8289 - val_accuracy: 0.6583\n",
      "Epoch 77/100\n",
      "17/17 [==============================] - 1s 47ms/step - loss: 0.6398 - accuracy: 0.7870 - val_loss: 0.8251 - val_accuracy: 0.6667\n",
      "Epoch 78/100\n",
      "17/17 [==============================] - 1s 47ms/step - loss: 0.6350 - accuracy: 0.7870 - val_loss: 0.8210 - val_accuracy: 0.6667\n",
      "Epoch 79/100\n",
      "17/17 [==============================] - 1s 44ms/step - loss: 0.6301 - accuracy: 0.7880 - val_loss: 0.8169 - val_accuracy: 0.6750\n",
      "Epoch 80/100\n",
      "17/17 [==============================] - 1s 46ms/step - loss: 0.6258 - accuracy: 0.7907 - val_loss: 0.8135 - val_accuracy: 0.6750\n",
      "Epoch 81/100\n",
      "17/17 [==============================] - 1s 47ms/step - loss: 0.6207 - accuracy: 0.7907 - val_loss: 0.8086 - val_accuracy: 0.6750\n",
      "Epoch 82/100\n",
      "17/17 [==============================] - 1s 49ms/step - loss: 0.6166 - accuracy: 0.7963 - val_loss: 0.8053 - val_accuracy: 0.6833\n",
      "Epoch 83/100\n",
      "17/17 [==============================] - 1s 46ms/step - loss: 0.6120 - accuracy: 0.7963 - val_loss: 0.8014 - val_accuracy: 0.6833\n",
      "Epoch 84/100\n",
      "17/17 [==============================] - 1s 44ms/step - loss: 0.6076 - accuracy: 0.7981 - val_loss: 0.7978 - val_accuracy: 0.6833\n",
      "Epoch 85/100\n",
      "17/17 [==============================] - 1s 43ms/step - loss: 0.6032 - accuracy: 0.7991 - val_loss: 0.7941 - val_accuracy: 0.6917\n",
      "Epoch 86/100\n",
      "17/17 [==============================] - 1s 45ms/step - loss: 0.5985 - accuracy: 0.8009 - val_loss: 0.7905 - val_accuracy: 0.6917\n",
      "Epoch 87/100\n",
      "17/17 [==============================] - 1s 45ms/step - loss: 0.5943 - accuracy: 0.8028 - val_loss: 0.7872 - val_accuracy: 0.6917\n",
      "Epoch 88/100\n",
      "17/17 [==============================] - 1s 43ms/step - loss: 0.5898 - accuracy: 0.8028 - val_loss: 0.7838 - val_accuracy: 0.6917\n",
      "Epoch 89/100\n",
      "17/17 [==============================] - 1s 43ms/step - loss: 0.5860 - accuracy: 0.8037 - val_loss: 0.7800 - val_accuracy: 0.6917\n",
      "Epoch 90/100\n",
      "17/17 [==============================] - 1s 44ms/step - loss: 0.5817 - accuracy: 0.8065 - val_loss: 0.7770 - val_accuracy: 0.7000\n",
      "Epoch 91/100\n",
      "17/17 [==============================] - 1s 43ms/step - loss: 0.5780 - accuracy: 0.8093 - val_loss: 0.7737 - val_accuracy: 0.7000\n",
      "Epoch 92/100\n",
      "17/17 [==============================] - 1s 44ms/step - loss: 0.5737 - accuracy: 0.8130 - val_loss: 0.7706 - val_accuracy: 0.7000\n",
      "Epoch 93/100\n",
      "17/17 [==============================] - 1s 46ms/step - loss: 0.5704 - accuracy: 0.8120 - val_loss: 0.7678 - val_accuracy: 0.7000\n",
      "Epoch 94/100\n",
      "17/17 [==============================] - 1s 45ms/step - loss: 0.5660 - accuracy: 0.8148 - val_loss: 0.7628 - val_accuracy: 0.7083\n",
      "Epoch 95/100\n",
      "17/17 [==============================] - 1s 44ms/step - loss: 0.5624 - accuracy: 0.8167 - val_loss: 0.7612 - val_accuracy: 0.7083\n",
      "Epoch 96/100\n",
      "17/17 [==============================] - 1s 44ms/step - loss: 0.5583 - accuracy: 0.8185 - val_loss: 0.7574 - val_accuracy: 0.7167\n",
      "Epoch 97/100\n",
      "17/17 [==============================] - 1s 44ms/step - loss: 0.5545 - accuracy: 0.8185 - val_loss: 0.7553 - val_accuracy: 0.7250\n",
      "Epoch 98/100\n",
      "17/17 [==============================] - 1s 43ms/step - loss: 0.5510 - accuracy: 0.8167 - val_loss: 0.7517 - val_accuracy: 0.7333\n",
      "Epoch 99/100\n",
      "17/17 [==============================] - 1s 44ms/step - loss: 0.5472 - accuracy: 0.8194 - val_loss: 0.7488 - val_accuracy: 0.7250\n",
      "Epoch 100/100\n",
      "17/17 [==============================] - 1s 43ms/step - loss: 0.5435 - accuracy: 0.8231 - val_loss: 0.7461 - val_accuracy: 0.7250\n"
     ]
    }
   ],
   "source": [
    "train_dataset = tf.data.Dataset.from_tensor_slices((X_train, Y_train)).batch(64)\n",
    "test_dataset = tf.data.Dataset.from_tensor_slices((X_test, Y_test)).batch(64)\n",
    "history = conv_model.fit(train_dataset, epochs=100, validation_data=test_dataset)"
   ]
  },
  {
   "cell_type": "markdown",
   "metadata": {},
   "source": [
    "<a name='5'></a>\n",
    "## 5 - History Object \n",
    "\n",
    "The history object is an output of the `.fit()` operation, and provides a record of all the loss and metric values in memory. It's stored as a dictionary that you can retrieve at `history.history`: "
   ]
  },
  {
   "cell_type": "code",
   "execution_count": 26,
   "metadata": {},
   "outputs": [
    {
     "output_type": "execute_result",
     "data": {
      "text/plain": [
       "{'loss': [1.7994526624679565,\n",
       "  1.7872114181518555,\n",
       "  1.7808221578598022,\n",
       "  1.7751432657241821,\n",
       "  1.7664217948913574,\n",
       "  1.7524563074111938,\n",
       "  1.736358404159546,\n",
       "  1.715961217880249,\n",
       "  1.6912283897399902,\n",
       "  1.6626529693603516,\n",
       "  1.6311869621276855,\n",
       "  1.5976704359054565,\n",
       "  1.563269853591919,\n",
       "  1.5289026498794556,\n",
       "  1.4977234601974487,\n",
       "  1.4674160480499268,\n",
       "  1.4370615482330322,\n",
       "  1.4067463874816895,\n",
       "  1.3781975507736206,\n",
       "  1.3494044542312622,\n",
       "  1.3203712701797485,\n",
       "  1.2906290292739868,\n",
       "  1.2618064880371094,\n",
       "  1.2322709560394287,\n",
       "  1.204748511314392,\n",
       "  1.1766207218170166,\n",
       "  1.1497917175292969,\n",
       "  1.12274968624115,\n",
       "  1.1000356674194336,\n",
       "  1.0758941173553467,\n",
       "  1.0553427934646606,\n",
       "  1.0361218452453613,\n",
       "  1.0167498588562012,\n",
       "  1.0013724565505981,\n",
       "  0.9855413436889648,\n",
       "  0.9702908992767334,\n",
       "  0.956075131893158,\n",
       "  0.9419086575508118,\n",
       "  0.929047167301178,\n",
       "  0.9166553020477295,\n",
       "  0.9044559001922607,\n",
       "  0.8935977220535278,\n",
       "  0.8826991319656372,\n",
       "  0.8728765249252319,\n",
       "  0.8628920912742615,\n",
       "  0.8527964949607849,\n",
       "  0.8438253402709961,\n",
       "  0.8343762159347534,\n",
       "  0.8251853585243225,\n",
       "  0.8155069351196289,\n",
       "  0.8058983683586121,\n",
       "  0.7968307137489319,\n",
       "  0.7889662384986877,\n",
       "  0.780524730682373,\n",
       "  0.7727269530296326,\n",
       "  0.7650997042655945,\n",
       "  0.7580465078353882,\n",
       "  0.7505331635475159,\n",
       "  0.7437934875488281,\n",
       "  0.7367753982543945,\n",
       "  0.7301209568977356,\n",
       "  0.7234339714050293,\n",
       "  0.7168979048728943,\n",
       "  0.7104780673980713,\n",
       "  0.7040421366691589,\n",
       "  0.6980420351028442,\n",
       "  0.692207932472229,\n",
       "  0.686481773853302,\n",
       "  0.6811411380767822,\n",
       "  0.6754510998725891,\n",
       "  0.6703184843063354,\n",
       "  0.664922297000885,\n",
       "  0.6595167517662048,\n",
       "  0.6547002792358398,\n",
       "  0.6495890617370605,\n",
       "  0.644554615020752,\n",
       "  0.6398428678512573,\n",
       "  0.6349634528160095,\n",
       "  0.6300879120826721,\n",
       "  0.6257945895195007,\n",
       "  0.6207476258277893,\n",
       "  0.6166087985038757,\n",
       "  0.612001359462738,\n",
       "  0.6075584292411804,\n",
       "  0.6031560301780701,\n",
       "  0.5985401272773743,\n",
       "  0.5942665934562683,\n",
       "  0.5898309946060181,\n",
       "  0.5860302448272705,\n",
       "  0.5817185044288635,\n",
       "  0.5779585242271423,\n",
       "  0.5737267136573792,\n",
       "  0.5703920125961304,\n",
       "  0.5660182237625122,\n",
       "  0.5623860359191895,\n",
       "  0.5582529902458191,\n",
       "  0.5545079708099365,\n",
       "  0.550963819026947,\n",
       "  0.5471685528755188,\n",
       "  0.5435286164283752],\n",
       " 'accuracy': [0.17314815521240234,\n",
       "  0.22499999403953552,\n",
       "  0.2638888955116272,\n",
       "  0.2620370388031006,\n",
       "  0.2768518626689911,\n",
       "  0.2925925850868225,\n",
       "  0.307407408952713,\n",
       "  0.3351851999759674,\n",
       "  0.35740742087364197,\n",
       "  0.37037035822868347,\n",
       "  0.39351850748062134,\n",
       "  0.40648147463798523,\n",
       "  0.42222222685813904,\n",
       "  0.4342592656612396,\n",
       "  0.4305555522441864,\n",
       "  0.43796294927597046,\n",
       "  0.4472222328186035,\n",
       "  0.4611110985279083,\n",
       "  0.4712963104248047,\n",
       "  0.47777777910232544,\n",
       "  0.489814817905426,\n",
       "  0.5138888955116272,\n",
       "  0.5370370149612427,\n",
       "  0.5481481552124023,\n",
       "  0.5629629492759705,\n",
       "  0.5703703761100769,\n",
       "  0.5833333134651184,\n",
       "  0.5916666388511658,\n",
       "  0.6074073910713196,\n",
       "  0.6194444298744202,\n",
       "  0.6314814686775208,\n",
       "  0.6388888955116272,\n",
       "  0.6518518328666687,\n",
       "  0.6564815044403076,\n",
       "  0.6574074029922485,\n",
       "  0.6592592597007751,\n",
       "  0.6657407283782959,\n",
       "  0.6731481552124023,\n",
       "  0.6796296238899231,\n",
       "  0.6833333373069763,\n",
       "  0.6833333373069763,\n",
       "  0.6870370507240295,\n",
       "  0.6898148059844971,\n",
       "  0.6925926208496094,\n",
       "  0.6953703761100769,\n",
       "  0.6990740895271301,\n",
       "  0.7018518447875977,\n",
       "  0.7027778029441833,\n",
       "  0.7055555582046509,\n",
       "  0.7129629850387573,\n",
       "  0.7175925970077515,\n",
       "  0.7250000238418579,\n",
       "  0.7287036776542664,\n",
       "  0.7324073910713196,\n",
       "  0.7370370626449585,\n",
       "  0.7407407164573669,\n",
       "  0.739814817905426,\n",
       "  0.7416666746139526,\n",
       "  0.7462962865829468,\n",
       "  0.7462962865829468,\n",
       "  0.7481481432914734,\n",
       "  0.7481481432914734,\n",
       "  0.7555555701255798,\n",
       "  0.760185182094574,\n",
       "  0.7611111402511597,\n",
       "  0.7657407522201538,\n",
       "  0.7675926089286804,\n",
       "  0.7685185074806213,\n",
       "  0.770370364189148,\n",
       "  0.7712963223457336,\n",
       "  0.7722222208976746,\n",
       "  0.7768518328666687,\n",
       "  0.7805555462837219,\n",
       "  0.7824074029922485,\n",
       "  0.7842592597007751,\n",
       "  0.7842592597007751,\n",
       "  0.7870370149612427,\n",
       "  0.7870370149612427,\n",
       "  0.7879629731178284,\n",
       "  0.7907407283782959,\n",
       "  0.7907407283782959,\n",
       "  0.7962962985038757,\n",
       "  0.7962962985038757,\n",
       "  0.7981481552124023,\n",
       "  0.7990740537643433,\n",
       "  0.8009259104728699,\n",
       "  0.8027777671813965,\n",
       "  0.8027777671813965,\n",
       "  0.8037037253379822,\n",
       "  0.8064814805984497,\n",
       "  0.8092592358589172,\n",
       "  0.8129629492759705,\n",
       "  0.8120370507240295,\n",
       "  0.8148148059844971,\n",
       "  0.8166666626930237,\n",
       "  0.8185185194015503,\n",
       "  0.8185185194015503,\n",
       "  0.8166666626930237,\n",
       "  0.8194444179534912,\n",
       "  0.8231481313705444],\n",
       " 'val_loss': [1.7926265001296997,\n",
       "  1.7864038944244385,\n",
       "  1.7825114727020264,\n",
       "  1.7767688035964966,\n",
       "  1.7673637866973877,\n",
       "  1.7577805519104004,\n",
       "  1.7449275255203247,\n",
       "  1.7295864820480347,\n",
       "  1.7108039855957031,\n",
       "  1.6890380382537842,\n",
       "  1.664885401725769,\n",
       "  1.640484094619751,\n",
       "  1.6131856441497803,\n",
       "  1.5870134830474854,\n",
       "  1.558997631072998,\n",
       "  1.5326263904571533,\n",
       "  1.5064539909362793,\n",
       "  1.4778037071228027,\n",
       "  1.4479187726974487,\n",
       "  1.4185818433761597,\n",
       "  1.3905280828475952,\n",
       "  1.357143759727478,\n",
       "  1.3290669918060303,\n",
       "  1.2985758781433105,\n",
       "  1.272687554359436,\n",
       "  1.2449016571044922,\n",
       "  1.2205003499984741,\n",
       "  1.1951847076416016,\n",
       "  1.1771881580352783,\n",
       "  1.1556645631790161,\n",
       "  1.1396480798721313,\n",
       "  1.121843695640564,\n",
       "  1.105993390083313,\n",
       "  1.093063473701477,\n",
       "  1.0797375440597534,\n",
       "  1.0663681030273438,\n",
       "  1.0546282529830933,\n",
       "  1.0420862436294556,\n",
       "  1.0313903093338013,\n",
       "  1.021132230758667,\n",
       "  1.0112131834030151,\n",
       "  1.0022094249725342,\n",
       "  0.9935129284858704,\n",
       "  0.9861939549446106,\n",
       "  0.9813100099563599,\n",
       "  0.9758402109146118,\n",
       "  0.970706582069397,\n",
       "  0.9642030596733093,\n",
       "  0.9578708410263062,\n",
       "  0.9511041641235352,\n",
       "  0.9446908235549927,\n",
       "  0.9392555952072144,\n",
       "  0.9352371096611023,\n",
       "  0.9294753670692444,\n",
       "  0.9245135188102722,\n",
       "  0.9195480346679688,\n",
       "  0.914138674736023,\n",
       "  0.9095483422279358,\n",
       "  0.9046003222465515,\n",
       "  0.8997914791107178,\n",
       "  0.8949628472328186,\n",
       "  0.8905853629112244,\n",
       "  0.8851319551467896,\n",
       "  0.8806104063987732,\n",
       "  0.8758832216262817,\n",
       "  0.8715099096298218,\n",
       "  0.8668295741081238,\n",
       "  0.862097978591919,\n",
       "  0.8577649593353271,\n",
       "  0.8535436987876892,\n",
       "  0.8498613834381104,\n",
       "  0.8460686802864075,\n",
       "  0.8408201336860657,\n",
       "  0.8373428583145142,\n",
       "  0.8328774571418762,\n",
       "  0.8288905620574951,\n",
       "  0.8251286745071411,\n",
       "  0.8209841251373291,\n",
       "  0.8168809413909912,\n",
       "  0.8135332465171814,\n",
       "  0.8086326122283936,\n",
       "  0.8053082227706909,\n",
       "  0.801400899887085,\n",
       "  0.7977631688117981,\n",
       "  0.7940685153007507,\n",
       "  0.790520966053009,\n",
       "  0.7872229218482971,\n",
       "  0.7837678790092468,\n",
       "  0.7800189256668091,\n",
       "  0.7770251035690308,\n",
       "  0.7736802697181702,\n",
       "  0.770554780960083,\n",
       "  0.7678126096725464,\n",
       "  0.7628265619277954,\n",
       "  0.7611667513847351,\n",
       "  0.7573800683021545,\n",
       "  0.7552893161773682,\n",
       "  0.7517391443252563,\n",
       "  0.7488477230072021,\n",
       "  0.7461124658584595],\n",
       " 'val_accuracy': [0.15000000596046448,\n",
       "  0.21666666865348816,\n",
       "  0.24166665971279144,\n",
       "  0.25833332538604736,\n",
       "  0.2750000059604645,\n",
       "  0.30000001192092896,\n",
       "  0.2750000059604645,\n",
       "  0.3333333432674408,\n",
       "  0.3083333373069763,\n",
       "  0.3333333432674408,\n",
       "  0.3583333194255829,\n",
       "  0.3583333194255829,\n",
       "  0.3583333194255829,\n",
       "  0.38333332538604736,\n",
       "  0.4000000059604645,\n",
       "  0.3916666805744171,\n",
       "  0.3916666805744171,\n",
       "  0.4000000059604645,\n",
       "  0.40833333134651184,\n",
       "  0.40833333134651184,\n",
       "  0.42500001192092896,\n",
       "  0.42500001192092896,\n",
       "  0.40833333134651184,\n",
       "  0.42500001192092896,\n",
       "  0.4416666626930237,\n",
       "  0.4749999940395355,\n",
       "  0.46666666865348816,\n",
       "  0.49166667461395264,\n",
       "  0.4833333194255829,\n",
       "  0.5249999761581421,\n",
       "  0.5333333611488342,\n",
       "  0.5333333611488342,\n",
       "  0.5416666865348816,\n",
       "  0.5416666865348816,\n",
       "  0.550000011920929,\n",
       "  0.5666666626930237,\n",
       "  0.5833333134651184,\n",
       "  0.5916666388511658,\n",
       "  0.5916666388511658,\n",
       "  0.5833333134651184,\n",
       "  0.5833333134651184,\n",
       "  0.5833333134651184,\n",
       "  0.6000000238418579,\n",
       "  0.6000000238418579,\n",
       "  0.6000000238418579,\n",
       "  0.6083333492279053,\n",
       "  0.6000000238418579,\n",
       "  0.6000000238418579,\n",
       "  0.6000000238418579,\n",
       "  0.6083333492279053,\n",
       "  0.6083333492279053,\n",
       "  0.6000000238418579,\n",
       "  0.6083333492279053,\n",
       "  0.625,\n",
       "  0.625,\n",
       "  0.6333333253860474,\n",
       "  0.6333333253860474,\n",
       "  0.6416666507720947,\n",
       "  0.6416666507720947,\n",
       "  0.6333333253860474,\n",
       "  0.6333333253860474,\n",
       "  0.6333333253860474,\n",
       "  0.6333333253860474,\n",
       "  0.6333333253860474,\n",
       "  0.6333333253860474,\n",
       "  0.6333333253860474,\n",
       "  0.6333333253860474,\n",
       "  0.6416666507720947,\n",
       "  0.6499999761581421,\n",
       "  0.6583333611488342,\n",
       "  0.6583333611488342,\n",
       "  0.6583333611488342,\n",
       "  0.6583333611488342,\n",
       "  0.6583333611488342,\n",
       "  0.6583333611488342,\n",
       "  0.6583333611488342,\n",
       "  0.6666666865348816,\n",
       "  0.6666666865348816,\n",
       "  0.675000011920929,\n",
       "  0.675000011920929,\n",
       "  0.675000011920929,\n",
       "  0.6833333373069763,\n",
       "  0.6833333373069763,\n",
       "  0.6833333373069763,\n",
       "  0.6916666626930237,\n",
       "  0.6916666626930237,\n",
       "  0.6916666626930237,\n",
       "  0.6916666626930237,\n",
       "  0.6916666626930237,\n",
       "  0.699999988079071,\n",
       "  0.699999988079071,\n",
       "  0.699999988079071,\n",
       "  0.699999988079071,\n",
       "  0.7083333134651184,\n",
       "  0.7083333134651184,\n",
       "  0.7166666388511658,\n",
       "  0.7250000238418579,\n",
       "  0.7333333492279053,\n",
       "  0.7250000238418579,\n",
       "  0.7250000238418579]}"
      ]
     },
     "metadata": {},
     "execution_count": 26
    }
   ],
   "source": [
    "history.history"
   ]
  },
  {
   "cell_type": "markdown",
   "metadata": {},
   "source": [
    "Now visualize the loss over time using `history.history`: "
   ]
  },
  {
   "cell_type": "code",
   "execution_count": 27,
   "metadata": {},
   "outputs": [
    {
     "output_type": "stream",
     "name": "stderr",
     "text": [
      "/usr/local/lib/python3.9/site-packages/pandas/core/frame.py:4441: SettingWithCopyWarning: \nA value is trying to be set on a copy of a slice from a DataFrame\n\nSee the caveats in the documentation: https://pandas.pydata.org/pandas-docs/stable/user_guide/indexing.html#returning-a-view-versus-a-copy\n  return super().rename(\n"
     ]
    },
    {
     "output_type": "execute_result",
     "data": {
      "text/plain": [
       "[Text(0.5, 0, 'Epoch'), Text(0, 0.5, 'Accuracy')]"
      ]
     },
     "metadata": {},
     "execution_count": 27
    },
    {
     "output_type": "display_data",
     "data": {
      "text/plain": "<Figure size 864x576 with 1 Axes>",
      "image/svg+xml": "<?xml version=\"1.0\" encoding=\"utf-8\" standalone=\"no\"?>\n<!DOCTYPE svg PUBLIC \"-//W3C//DTD SVG 1.1//EN\"\n  \"http://www.w3.org/Graphics/SVG/1.1/DTD/svg11.dtd\">\n<svg height=\"494.754375pt\" version=\"1.1\" viewBox=\"0 0 720.58125 494.754375\" width=\"720.58125pt\" xmlns=\"http://www.w3.org/2000/svg\" xmlns:xlink=\"http://www.w3.org/1999/xlink\">\n <metadata>\n  <rdf:RDF xmlns:cc=\"http://creativecommons.org/ns#\" xmlns:dc=\"http://purl.org/dc/elements/1.1/\" xmlns:rdf=\"http://www.w3.org/1999/02/22-rdf-syntax-ns#\">\n   <cc:Work>\n    <dc:type rdf:resource=\"http://purl.org/dc/dcmitype/StillImage\"/>\n    <dc:date>2021-06-26T22:03:14.799769</dc:date>\n    <dc:format>image/svg+xml</dc:format>\n    <dc:creator>\n     <cc:Agent>\n      <dc:title>Matplotlib v3.4.2, https://matplotlib.org/</dc:title>\n     </cc:Agent>\n    </dc:creator>\n   </cc:Work>\n  </rdf:RDF>\n </metadata>\n <defs>\n  <style type=\"text/css\">*{stroke-linecap:butt;stroke-linejoin:round;}</style>\n </defs>\n <g id=\"figure_1\">\n  <g id=\"patch_1\">\n   <path d=\"M 0 494.754375 \nL 720.58125 494.754375 \nL 720.58125 0 \nL 0 0 \nz\n\" style=\"fill:none;\"/>\n  </g>\n  <g id=\"axes_1\">\n   <g id=\"patch_2\">\n    <path d=\"M 43.78125 457.198125 \nL 713.38125 457.198125 \nL 713.38125 22.318125 \nL 43.78125 22.318125 \nz\n\" style=\"fill:#ffffff;\"/>\n   </g>\n   <g id=\"matplotlib.axis_1\">\n    <g id=\"xtick_1\">\n     <g id=\"line2d_1\">\n      <defs>\n       <path d=\"M 0 0 \nL 0 3.5 \n\" id=\"m67bf551b23\" style=\"stroke:#000000;stroke-width:0.8;\"/>\n      </defs>\n      <g>\n       <use style=\"stroke:#000000;stroke-width:0.8;\" x=\"74.217614\" xlink:href=\"#m67bf551b23\" y=\"457.198125\"/>\n      </g>\n     </g>\n     <g id=\"text_1\">\n      <!-- 0 -->\n      <g transform=\"translate(71.036364 471.796562)scale(0.1 -0.1)\">\n       <defs>\n        <path d=\"M 2034 4250 \nQ 1547 4250 1301 3770 \nQ 1056 3291 1056 2328 \nQ 1056 1369 1301 889 \nQ 1547 409 2034 409 \nQ 2525 409 2770 889 \nQ 3016 1369 3016 2328 \nQ 3016 3291 2770 3770 \nQ 2525 4250 2034 4250 \nz\nM 2034 4750 \nQ 2819 4750 3233 4129 \nQ 3647 3509 3647 2328 \nQ 3647 1150 3233 529 \nQ 2819 -91 2034 -91 \nQ 1250 -91 836 529 \nQ 422 1150 422 2328 \nQ 422 3509 836 4129 \nQ 1250 4750 2034 4750 \nz\n\" id=\"DejaVuSans-30\" transform=\"scale(0.015625)\"/>\n       </defs>\n       <use xlink:href=\"#DejaVuSans-30\"/>\n      </g>\n     </g>\n    </g>\n    <g id=\"xtick_2\">\n     <g id=\"line2d_2\">\n      <g>\n       <use style=\"stroke:#000000;stroke-width:0.8;\" x=\"197.19282\" xlink:href=\"#m67bf551b23\" y=\"457.198125\"/>\n      </g>\n     </g>\n     <g id=\"text_2\">\n      <!-- 20 -->\n      <g transform=\"translate(190.83032 471.796562)scale(0.1 -0.1)\">\n       <defs>\n        <path d=\"M 1228 531 \nL 3431 531 \nL 3431 0 \nL 469 0 \nL 469 531 \nQ 828 903 1448 1529 \nQ 2069 2156 2228 2338 \nQ 2531 2678 2651 2914 \nQ 2772 3150 2772 3378 \nQ 2772 3750 2511 3984 \nQ 2250 4219 1831 4219 \nQ 1534 4219 1204 4116 \nQ 875 4013 500 3803 \nL 500 4441 \nQ 881 4594 1212 4672 \nQ 1544 4750 1819 4750 \nQ 2544 4750 2975 4387 \nQ 3406 4025 3406 3419 \nQ 3406 3131 3298 2873 \nQ 3191 2616 2906 2266 \nQ 2828 2175 2409 1742 \nQ 1991 1309 1228 531 \nz\n\" id=\"DejaVuSans-32\" transform=\"scale(0.015625)\"/>\n       </defs>\n       <use xlink:href=\"#DejaVuSans-32\"/>\n       <use x=\"63.623047\" xlink:href=\"#DejaVuSans-30\"/>\n      </g>\n     </g>\n    </g>\n    <g id=\"xtick_3\">\n     <g id=\"line2d_3\">\n      <g>\n       <use style=\"stroke:#000000;stroke-width:0.8;\" x=\"320.168027\" xlink:href=\"#m67bf551b23\" y=\"457.198125\"/>\n      </g>\n     </g>\n     <g id=\"text_3\">\n      <!-- 40 -->\n      <g transform=\"translate(313.805527 471.796562)scale(0.1 -0.1)\">\n       <defs>\n        <path d=\"M 2419 4116 \nL 825 1625 \nL 2419 1625 \nL 2419 4116 \nz\nM 2253 4666 \nL 3047 4666 \nL 3047 1625 \nL 3713 1625 \nL 3713 1100 \nL 3047 1100 \nL 3047 0 \nL 2419 0 \nL 2419 1100 \nL 313 1100 \nL 313 1709 \nL 2253 4666 \nz\n\" id=\"DejaVuSans-34\" transform=\"scale(0.015625)\"/>\n       </defs>\n       <use xlink:href=\"#DejaVuSans-34\"/>\n       <use x=\"63.623047\" xlink:href=\"#DejaVuSans-30\"/>\n      </g>\n     </g>\n    </g>\n    <g id=\"xtick_4\">\n     <g id=\"line2d_4\">\n      <g>\n       <use style=\"stroke:#000000;stroke-width:0.8;\" x=\"443.143233\" xlink:href=\"#m67bf551b23\" y=\"457.198125\"/>\n      </g>\n     </g>\n     <g id=\"text_4\">\n      <!-- 60 -->\n      <g transform=\"translate(436.780733 471.796562)scale(0.1 -0.1)\">\n       <defs>\n        <path d=\"M 2113 2584 \nQ 1688 2584 1439 2293 \nQ 1191 2003 1191 1497 \nQ 1191 994 1439 701 \nQ 1688 409 2113 409 \nQ 2538 409 2786 701 \nQ 3034 994 3034 1497 \nQ 3034 2003 2786 2293 \nQ 2538 2584 2113 2584 \nz\nM 3366 4563 \nL 3366 3988 \nQ 3128 4100 2886 4159 \nQ 2644 4219 2406 4219 \nQ 1781 4219 1451 3797 \nQ 1122 3375 1075 2522 \nQ 1259 2794 1537 2939 \nQ 1816 3084 2150 3084 \nQ 2853 3084 3261 2657 \nQ 3669 2231 3669 1497 \nQ 3669 778 3244 343 \nQ 2819 -91 2113 -91 \nQ 1303 -91 875 529 \nQ 447 1150 447 2328 \nQ 447 3434 972 4092 \nQ 1497 4750 2381 4750 \nQ 2619 4750 2861 4703 \nQ 3103 4656 3366 4563 \nz\n\" id=\"DejaVuSans-36\" transform=\"scale(0.015625)\"/>\n       </defs>\n       <use xlink:href=\"#DejaVuSans-36\"/>\n       <use x=\"63.623047\" xlink:href=\"#DejaVuSans-30\"/>\n      </g>\n     </g>\n    </g>\n    <g id=\"xtick_5\">\n     <g id=\"line2d_5\">\n      <g>\n       <use style=\"stroke:#000000;stroke-width:0.8;\" x=\"566.11844\" xlink:href=\"#m67bf551b23\" y=\"457.198125\"/>\n      </g>\n     </g>\n     <g id=\"text_5\">\n      <!-- 80 -->\n      <g transform=\"translate(559.75594 471.796562)scale(0.1 -0.1)\">\n       <defs>\n        <path d=\"M 2034 2216 \nQ 1584 2216 1326 1975 \nQ 1069 1734 1069 1313 \nQ 1069 891 1326 650 \nQ 1584 409 2034 409 \nQ 2484 409 2743 651 \nQ 3003 894 3003 1313 \nQ 3003 1734 2745 1975 \nQ 2488 2216 2034 2216 \nz\nM 1403 2484 \nQ 997 2584 770 2862 \nQ 544 3141 544 3541 \nQ 544 4100 942 4425 \nQ 1341 4750 2034 4750 \nQ 2731 4750 3128 4425 \nQ 3525 4100 3525 3541 \nQ 3525 3141 3298 2862 \nQ 3072 2584 2669 2484 \nQ 3125 2378 3379 2068 \nQ 3634 1759 3634 1313 \nQ 3634 634 3220 271 \nQ 2806 -91 2034 -91 \nQ 1263 -91 848 271 \nQ 434 634 434 1313 \nQ 434 1759 690 2068 \nQ 947 2378 1403 2484 \nz\nM 1172 3481 \nQ 1172 3119 1398 2916 \nQ 1625 2713 2034 2713 \nQ 2441 2713 2670 2916 \nQ 2900 3119 2900 3481 \nQ 2900 3844 2670 4047 \nQ 2441 4250 2034 4250 \nQ 1625 4250 1398 4047 \nQ 1172 3844 1172 3481 \nz\n\" id=\"DejaVuSans-38\" transform=\"scale(0.015625)\"/>\n       </defs>\n       <use xlink:href=\"#DejaVuSans-38\"/>\n       <use x=\"63.623047\" xlink:href=\"#DejaVuSans-30\"/>\n      </g>\n     </g>\n    </g>\n    <g id=\"xtick_6\">\n     <g id=\"line2d_6\">\n      <g>\n       <use style=\"stroke:#000000;stroke-width:0.8;\" x=\"689.093647\" xlink:href=\"#m67bf551b23\" y=\"457.198125\"/>\n      </g>\n     </g>\n     <g id=\"text_6\">\n      <!-- 100 -->\n      <g transform=\"translate(679.549897 471.796562)scale(0.1 -0.1)\">\n       <defs>\n        <path d=\"M 794 531 \nL 1825 531 \nL 1825 4091 \nL 703 3866 \nL 703 4441 \nL 1819 4666 \nL 2450 4666 \nL 2450 531 \nL 3481 531 \nL 3481 0 \nL 794 0 \nL 794 531 \nz\n\" id=\"DejaVuSans-31\" transform=\"scale(0.015625)\"/>\n       </defs>\n       <use xlink:href=\"#DejaVuSans-31\"/>\n       <use x=\"63.623047\" xlink:href=\"#DejaVuSans-30\"/>\n       <use x=\"127.246094\" xlink:href=\"#DejaVuSans-30\"/>\n      </g>\n     </g>\n    </g>\n    <g id=\"text_7\">\n     <!-- Epoch -->\n     <g transform=\"translate(363.270312 485.474687)scale(0.1 -0.1)\">\n      <defs>\n       <path d=\"M 628 4666 \nL 3578 4666 \nL 3578 4134 \nL 1259 4134 \nL 1259 2753 \nL 3481 2753 \nL 3481 2222 \nL 1259 2222 \nL 1259 531 \nL 3634 531 \nL 3634 0 \nL 628 0 \nL 628 4666 \nz\n\" id=\"DejaVuSans-45\" transform=\"scale(0.015625)\"/>\n       <path d=\"M 1159 525 \nL 1159 -1331 \nL 581 -1331 \nL 581 3500 \nL 1159 3500 \nL 1159 2969 \nQ 1341 3281 1617 3432 \nQ 1894 3584 2278 3584 \nQ 2916 3584 3314 3078 \nQ 3713 2572 3713 1747 \nQ 3713 922 3314 415 \nQ 2916 -91 2278 -91 \nQ 1894 -91 1617 61 \nQ 1341 213 1159 525 \nz\nM 3116 1747 \nQ 3116 2381 2855 2742 \nQ 2594 3103 2138 3103 \nQ 1681 3103 1420 2742 \nQ 1159 2381 1159 1747 \nQ 1159 1113 1420 752 \nQ 1681 391 2138 391 \nQ 2594 391 2855 752 \nQ 3116 1113 3116 1747 \nz\n\" id=\"DejaVuSans-70\" transform=\"scale(0.015625)\"/>\n       <path d=\"M 1959 3097 \nQ 1497 3097 1228 2736 \nQ 959 2375 959 1747 \nQ 959 1119 1226 758 \nQ 1494 397 1959 397 \nQ 2419 397 2687 759 \nQ 2956 1122 2956 1747 \nQ 2956 2369 2687 2733 \nQ 2419 3097 1959 3097 \nz\nM 1959 3584 \nQ 2709 3584 3137 3096 \nQ 3566 2609 3566 1747 \nQ 3566 888 3137 398 \nQ 2709 -91 1959 -91 \nQ 1206 -91 779 398 \nQ 353 888 353 1747 \nQ 353 2609 779 3096 \nQ 1206 3584 1959 3584 \nz\n\" id=\"DejaVuSans-6f\" transform=\"scale(0.015625)\"/>\n       <path d=\"M 3122 3366 \nL 3122 2828 \nQ 2878 2963 2633 3030 \nQ 2388 3097 2138 3097 \nQ 1578 3097 1268 2742 \nQ 959 2388 959 1747 \nQ 959 1106 1268 751 \nQ 1578 397 2138 397 \nQ 2388 397 2633 464 \nQ 2878 531 3122 666 \nL 3122 134 \nQ 2881 22 2623 -34 \nQ 2366 -91 2075 -91 \nQ 1284 -91 818 406 \nQ 353 903 353 1747 \nQ 353 2603 823 3093 \nQ 1294 3584 2113 3584 \nQ 2378 3584 2631 3529 \nQ 2884 3475 3122 3366 \nz\n\" id=\"DejaVuSans-63\" transform=\"scale(0.015625)\"/>\n       <path d=\"M 3513 2113 \nL 3513 0 \nL 2938 0 \nL 2938 2094 \nQ 2938 2591 2744 2837 \nQ 2550 3084 2163 3084 \nQ 1697 3084 1428 2787 \nQ 1159 2491 1159 1978 \nL 1159 0 \nL 581 0 \nL 581 4863 \nL 1159 4863 \nL 1159 2956 \nQ 1366 3272 1645 3428 \nQ 1925 3584 2291 3584 \nQ 2894 3584 3203 3211 \nQ 3513 2838 3513 2113 \nz\n\" id=\"DejaVuSans-68\" transform=\"scale(0.015625)\"/>\n      </defs>\n      <use xlink:href=\"#DejaVuSans-45\"/>\n      <use x=\"63.183594\" xlink:href=\"#DejaVuSans-70\"/>\n      <use x=\"126.660156\" xlink:href=\"#DejaVuSans-6f\"/>\n      <use x=\"187.841797\" xlink:href=\"#DejaVuSans-63\"/>\n      <use x=\"242.822266\" xlink:href=\"#DejaVuSans-68\"/>\n     </g>\n    </g>\n   </g>\n   <g id=\"matplotlib.axis_2\">\n    <g id=\"ytick_1\">\n     <g id=\"line2d_7\">\n      <defs>\n       <path d=\"M 0 0 \nL -3.5 0 \n\" id=\"m9c8e50cc77\" style=\"stroke:#000000;stroke-width:0.8;\"/>\n      </defs>\n      <g>\n       <use style=\"stroke:#000000;stroke-width:0.8;\" x=\"43.78125\" xlink:href=\"#m9c8e50cc77\" y=\"419.654535\"/>\n      </g>\n     </g>\n     <g id=\"text_8\">\n      <!-- 0.6 -->\n      <g transform=\"translate(20.878125 423.453753)scale(0.1 -0.1)\">\n       <defs>\n        <path d=\"M 684 794 \nL 1344 794 \nL 1344 0 \nL 684 0 \nL 684 794 \nz\n\" id=\"DejaVuSans-2e\" transform=\"scale(0.015625)\"/>\n       </defs>\n       <use xlink:href=\"#DejaVuSans-30\"/>\n       <use x=\"63.623047\" xlink:href=\"#DejaVuSans-2e\"/>\n       <use x=\"95.410156\" xlink:href=\"#DejaVuSans-36\"/>\n      </g>\n     </g>\n    </g>\n    <g id=\"ytick_2\">\n     <g id=\"line2d_8\">\n      <g>\n       <use style=\"stroke:#000000;stroke-width:0.8;\" x=\"43.78125\" xlink:href=\"#m9c8e50cc77\" y=\"356.69763\"/>\n      </g>\n     </g>\n     <g id=\"text_9\">\n      <!-- 0.8 -->\n      <g transform=\"translate(20.878125 360.496848)scale(0.1 -0.1)\">\n       <use xlink:href=\"#DejaVuSans-30\"/>\n       <use x=\"63.623047\" xlink:href=\"#DejaVuSans-2e\"/>\n       <use x=\"95.410156\" xlink:href=\"#DejaVuSans-38\"/>\n      </g>\n     </g>\n    </g>\n    <g id=\"ytick_3\">\n     <g id=\"line2d_9\">\n      <g>\n       <use style=\"stroke:#000000;stroke-width:0.8;\" x=\"43.78125\" xlink:href=\"#m9c8e50cc77\" y=\"293.740725\"/>\n      </g>\n     </g>\n     <g id=\"text_10\">\n      <!-- 1.0 -->\n      <g transform=\"translate(20.878125 297.539943)scale(0.1 -0.1)\">\n       <use xlink:href=\"#DejaVuSans-31\"/>\n       <use x=\"63.623047\" xlink:href=\"#DejaVuSans-2e\"/>\n       <use x=\"95.410156\" xlink:href=\"#DejaVuSans-30\"/>\n      </g>\n     </g>\n    </g>\n    <g id=\"ytick_4\">\n     <g id=\"line2d_10\">\n      <g>\n       <use style=\"stroke:#000000;stroke-width:0.8;\" x=\"43.78125\" xlink:href=\"#m9c8e50cc77\" y=\"230.783819\"/>\n      </g>\n     </g>\n     <g id=\"text_11\">\n      <!-- 1.2 -->\n      <g transform=\"translate(20.878125 234.583038)scale(0.1 -0.1)\">\n       <use xlink:href=\"#DejaVuSans-31\"/>\n       <use x=\"63.623047\" xlink:href=\"#DejaVuSans-2e\"/>\n       <use x=\"95.410156\" xlink:href=\"#DejaVuSans-32\"/>\n      </g>\n     </g>\n    </g>\n    <g id=\"ytick_5\">\n     <g id=\"line2d_11\">\n      <g>\n       <use style=\"stroke:#000000;stroke-width:0.8;\" x=\"43.78125\" xlink:href=\"#m9c8e50cc77\" y=\"167.826914\"/>\n      </g>\n     </g>\n     <g id=\"text_12\">\n      <!-- 1.4 -->\n      <g transform=\"translate(20.878125 171.626133)scale(0.1 -0.1)\">\n       <use xlink:href=\"#DejaVuSans-31\"/>\n       <use x=\"63.623047\" xlink:href=\"#DejaVuSans-2e\"/>\n       <use x=\"95.410156\" xlink:href=\"#DejaVuSans-34\"/>\n      </g>\n     </g>\n    </g>\n    <g id=\"ytick_6\">\n     <g id=\"line2d_12\">\n      <g>\n       <use style=\"stroke:#000000;stroke-width:0.8;\" x=\"43.78125\" xlink:href=\"#m9c8e50cc77\" y=\"104.870009\"/>\n      </g>\n     </g>\n     <g id=\"text_13\">\n      <!-- 1.6 -->\n      <g transform=\"translate(20.878125 108.669228)scale(0.1 -0.1)\">\n       <use xlink:href=\"#DejaVuSans-31\"/>\n       <use x=\"63.623047\" xlink:href=\"#DejaVuSans-2e\"/>\n       <use x=\"95.410156\" xlink:href=\"#DejaVuSans-36\"/>\n      </g>\n     </g>\n    </g>\n    <g id=\"ytick_7\">\n     <g id=\"line2d_13\">\n      <g>\n       <use style=\"stroke:#000000;stroke-width:0.8;\" x=\"43.78125\" xlink:href=\"#m9c8e50cc77\" y=\"41.913104\"/>\n      </g>\n     </g>\n     <g id=\"text_14\">\n      <!-- 1.8 -->\n      <g transform=\"translate(20.878125 45.712323)scale(0.1 -0.1)\">\n       <use xlink:href=\"#DejaVuSans-31\"/>\n       <use x=\"63.623047\" xlink:href=\"#DejaVuSans-2e\"/>\n       <use x=\"95.410156\" xlink:href=\"#DejaVuSans-38\"/>\n      </g>\n     </g>\n    </g>\n    <g id=\"text_15\">\n     <!-- Loss -->\n     <g transform=\"translate(14.798438 250.725312)rotate(-90)scale(0.1 -0.1)\">\n      <defs>\n       <path d=\"M 628 4666 \nL 1259 4666 \nL 1259 531 \nL 3531 531 \nL 3531 0 \nL 628 0 \nL 628 4666 \nz\n\" id=\"DejaVuSans-4c\" transform=\"scale(0.015625)\"/>\n       <path d=\"M 2834 3397 \nL 2834 2853 \nQ 2591 2978 2328 3040 \nQ 2066 3103 1784 3103 \nQ 1356 3103 1142 2972 \nQ 928 2841 928 2578 \nQ 928 2378 1081 2264 \nQ 1234 2150 1697 2047 \nL 1894 2003 \nQ 2506 1872 2764 1633 \nQ 3022 1394 3022 966 \nQ 3022 478 2636 193 \nQ 2250 -91 1575 -91 \nQ 1294 -91 989 -36 \nQ 684 19 347 128 \nL 347 722 \nQ 666 556 975 473 \nQ 1284 391 1588 391 \nQ 1994 391 2212 530 \nQ 2431 669 2431 922 \nQ 2431 1156 2273 1281 \nQ 2116 1406 1581 1522 \nL 1381 1569 \nQ 847 1681 609 1914 \nQ 372 2147 372 2553 \nQ 372 3047 722 3315 \nQ 1072 3584 1716 3584 \nQ 2034 3584 2315 3537 \nQ 2597 3491 2834 3397 \nz\n\" id=\"DejaVuSans-73\" transform=\"scale(0.015625)\"/>\n      </defs>\n      <use xlink:href=\"#DejaVuSans-4c\"/>\n      <use x=\"53.962891\" xlink:href=\"#DejaVuSans-6f\"/>\n      <use x=\"115.144531\" xlink:href=\"#DejaVuSans-73\"/>\n      <use x=\"167.244141\" xlink:href=\"#DejaVuSans-73\"/>\n     </g>\n    </g>\n   </g>\n   <g id=\"line2d_14\">\n    <path clip-path=\"url(#pc50a1ea731)\" d=\"M 74.217614 42.085398 \nL 80.366374 45.938752 \nL 86.515134 47.949992 \nL 92.663895 49.73762 \nL 98.812655 52.483004 \nL 104.961415 56.879123 \nL 111.110176 61.946494 \nL 117.258936 68.367212 \nL 123.407696 76.152724 \nL 129.556457 85.147824 \nL 135.705217 95.052836 \nL 141.853977 105.60332 \nL 148.002738 116.432091 \nL 154.151498 127.250355 \nL 160.300258 137.065081 \nL 166.449019 146.605386 \nL 172.597779 156.160513 \nL 178.746539 165.703256 \nL 184.8953 174.689988 \nL 191.04406 183.753609 \nL 197.19282 192.892806 \nL 203.341581 202.255204 \nL 209.490341 211.328093 \nL 215.639101 220.625422 \nL 221.787862 229.289062 \nL 227.936622 238.143254 \nL 234.085382 246.58861 \nL 240.234143 255.101023 \nL 246.382903 262.251044 \nL 252.531663 269.850431 \nL 258.680424 276.31967 \nL 264.829184 282.370127 \nL 270.977944 288.468128 \nL 277.126705 293.308696 \nL 283.275465 298.292086 \nL 289.424225 303.09269 \nL 295.572986 307.567593 \nL 301.721746 312.02698 \nL 307.870506 316.075578 \nL 314.019267 319.976346 \nL 320.168027 323.816529 \nL 326.316787 327.234515 \nL 332.465548 330.665223 \nL 338.614308 333.757227 \nL 344.763068 336.900172 \nL 350.911829 340.07811 \nL 357.060589 342.902091 \nL 363.209349 345.876529 \nL 369.35811 348.769668 \nL 375.50687 351.816286 \nL 381.65563 354.840914 \nL 387.80439 357.695272 \nL 393.953151 360.170887 \nL 400.101911 362.828143 \nL 406.250671 365.282763 \nL 412.399432 367.683703 \nL 418.548192 369.90394 \nL 424.696952 372.269024 \nL 430.845713 374.39057 \nL 436.994473 376.599756 \nL 443.143233 378.694471 \nL 449.291994 380.799431 \nL 455.440754 382.856883 \nL 461.589514 384.877749 \nL 467.738275 386.90368 \nL 473.887035 388.792419 \nL 480.035795 390.628904 \nL 486.184556 392.43141 \nL 492.333316 394.11256 \nL 498.482076 395.903696 \nL 504.630837 397.519364 \nL 510.779597 399.218 \nL 516.928357 400.919582 \nL 523.077118 402.435733 \nL 529.225878 404.044665 \nL 535.374638 405.629431 \nL 541.523399 407.112616 \nL 547.672159 408.648581 \nL 553.820919 410.183325 \nL 559.96968 411.534797 \nL 566.11844 413.123503 \nL 572.2672 414.426342 \nL 578.415961 415.876692 \nL 584.564721 417.275258 \nL 590.713481 418.661065 \nL 596.862242 420.11408 \nL 603.011002 421.459322 \nL 609.159762 422.85558 \nL 615.308523 424.051997 \nL 621.457283 425.409267 \nL 627.606043 426.59285 \nL 633.754804 427.924959 \nL 639.903564 428.974671 \nL 646.052324 430.351472 \nL 652.201085 431.494828 \nL 658.349845 432.795847 \nL 664.498605 433.974721 \nL 670.647366 435.090366 \nL 676.796126 436.285057 \nL 682.944886 437.430852 \n\" style=\"fill:none;stroke:#1f77b4;stroke-linecap:square;stroke-width:1.5;\"/>\n   </g>\n   <g id=\"line2d_15\">\n    <path clip-path=\"url(#pc50a1ea731)\" d=\"M 74.217614 44.234168 \nL 80.366374 46.192948 \nL 86.515134 47.418222 \nL 92.663895 49.225925 \nL 98.812655 52.186479 \nL 104.961415 55.203133 \nL 111.110176 59.249067 \nL 117.258936 64.07819 \nL 123.407696 69.990629 \nL 129.556457 76.842213 \nL 135.705217 84.445089 \nL 141.853977 92.126243 \nL 148.002738 100.719373 \nL 154.151498 108.957964 \nL 160.300258 117.776921 \nL 166.449019 126.078179 \nL 172.597779 134.316845 \nL 178.746539 143.335511 \nL 184.8953 152.742826 \nL 191.04406 161.977638 \nL 197.19282 170.808527 \nL 203.341581 181.317396 \nL 209.490341 190.155528 \nL 215.639101 199.753658 \nL 221.787862 207.902902 \nL 227.936622 216.649473 \nL 234.085382 224.330627 \nL 240.234143 232.299599 \nL 246.382903 237.964634 \nL 252.531663 244.739929 \nL 258.680424 249.78167 \nL 264.829184 255.386215 \nL 270.977944 260.375646 \nL 277.126705 264.445783 \nL 283.275465 268.64058 \nL 289.424225 272.849073 \nL 295.572986 276.544596 \nL 301.721746 280.492626 \nL 307.870506 283.859541 \nL 314.019267 287.088625 \nL 320.168027 290.210988 \nL 326.316787 293.045232 \nL 332.465548 295.782754 \nL 338.614308 298.086654 \nL 344.763068 299.624044 \nL 350.911829 301.345852 \nL 357.060589 302.961839 \nL 363.209349 305.009047 \nL 369.35811 307.002332 \nL 375.50687 309.132377 \nL 381.65563 311.151197 \nL 387.80439 312.862123 \nL 393.953151 314.12708 \nL 400.101911 315.940788 \nL 406.250671 317.502701 \nL 412.399432 319.065758 \nL 418.548192 320.768541 \nL 424.696952 322.213507 \nL 430.845713 323.771067 \nL 436.994473 325.284816 \nL 443.143233 326.804795 \nL 449.291994 328.182759 \nL 455.440754 329.899407 \nL 461.589514 331.322721 \nL 467.738275 332.810766 \nL 473.887035 334.187417 \nL 480.035795 335.660714 \nL 486.184556 337.150147 \nL 492.333316 338.514114 \nL 498.482076 339.842902 \nL 504.630837 341.002038 \nL 510.779597 342.195922 \nL 516.928357 343.848083 \nL 523.077118 344.942676 \nL 529.225878 346.348315 \nL 535.374638 347.603328 \nL 541.523399 348.787512 \nL 547.672159 350.092152 \nL 553.820919 351.38377 \nL 559.96968 352.437573 \nL 566.11844 353.980217 \nL 572.2672 355.026683 \nL 578.415961 356.256648 \nL 584.564721 357.401749 \nL 590.713481 358.564769 \nL 596.862242 359.681483 \nL 603.011002 360.719656 \nL 609.159762 361.80725 \nL 615.308523 362.987363 \nL 621.457283 363.929771 \nL 627.606043 364.982673 \nL 633.754804 365.966529 \nL 639.903564 366.829722 \nL 646.052324 368.399253 \nL 652.201085 368.921735 \nL 658.349845 370.113725 \nL 664.498605 370.771861 \nL 670.647366 371.8894 \nL 676.796126 372.799575 \nL 682.944886 373.660591 \n\" style=\"fill:none;stroke:#ff7f0e;stroke-linecap:square;stroke-width:1.5;\"/>\n   </g>\n   <g id=\"patch_3\">\n    <path d=\"M 43.78125 457.198125 \nL 43.78125 22.318125 \n\" style=\"fill:none;stroke:#000000;stroke-linecap:square;stroke-linejoin:miter;stroke-width:0.8;\"/>\n   </g>\n   <g id=\"patch_4\">\n    <path d=\"M 713.38125 457.198125 \nL 713.38125 22.318125 \n\" style=\"fill:none;stroke:#000000;stroke-linecap:square;stroke-linejoin:miter;stroke-width:0.8;\"/>\n   </g>\n   <g id=\"patch_5\">\n    <path d=\"M 43.78125 457.198125 \nL 713.38125 457.198125 \n\" style=\"fill:none;stroke:#000000;stroke-linecap:square;stroke-linejoin:miter;stroke-width:0.8;\"/>\n   </g>\n   <g id=\"patch_6\">\n    <path d=\"M 43.78125 22.318125 \nL 713.38125 22.318125 \n\" style=\"fill:none;stroke:#000000;stroke-linecap:square;stroke-linejoin:miter;stroke-width:0.8;\"/>\n   </g>\n   <g id=\"text_16\">\n    <!-- Model loss -->\n    <g transform=\"translate(347.069063 16.318125)scale(0.12 -0.12)\">\n     <defs>\n      <path d=\"M 628 4666 \nL 1569 4666 \nL 2759 1491 \nL 3956 4666 \nL 4897 4666 \nL 4897 0 \nL 4281 0 \nL 4281 4097 \nL 3078 897 \nL 2444 897 \nL 1241 4097 \nL 1241 0 \nL 628 0 \nL 628 4666 \nz\n\" id=\"DejaVuSans-4d\" transform=\"scale(0.015625)\"/>\n      <path d=\"M 2906 2969 \nL 2906 4863 \nL 3481 4863 \nL 3481 0 \nL 2906 0 \nL 2906 525 \nQ 2725 213 2448 61 \nQ 2172 -91 1784 -91 \nQ 1150 -91 751 415 \nQ 353 922 353 1747 \nQ 353 2572 751 3078 \nQ 1150 3584 1784 3584 \nQ 2172 3584 2448 3432 \nQ 2725 3281 2906 2969 \nz\nM 947 1747 \nQ 947 1113 1208 752 \nQ 1469 391 1925 391 \nQ 2381 391 2643 752 \nQ 2906 1113 2906 1747 \nQ 2906 2381 2643 2742 \nQ 2381 3103 1925 3103 \nQ 1469 3103 1208 2742 \nQ 947 2381 947 1747 \nz\n\" id=\"DejaVuSans-64\" transform=\"scale(0.015625)\"/>\n      <path d=\"M 3597 1894 \nL 3597 1613 \nL 953 1613 \nQ 991 1019 1311 708 \nQ 1631 397 2203 397 \nQ 2534 397 2845 478 \nQ 3156 559 3463 722 \nL 3463 178 \nQ 3153 47 2828 -22 \nQ 2503 -91 2169 -91 \nQ 1331 -91 842 396 \nQ 353 884 353 1716 \nQ 353 2575 817 3079 \nQ 1281 3584 2069 3584 \nQ 2775 3584 3186 3129 \nQ 3597 2675 3597 1894 \nz\nM 3022 2063 \nQ 3016 2534 2758 2815 \nQ 2500 3097 2075 3097 \nQ 1594 3097 1305 2825 \nQ 1016 2553 972 2059 \nL 3022 2063 \nz\n\" id=\"DejaVuSans-65\" transform=\"scale(0.015625)\"/>\n      <path d=\"M 603 4863 \nL 1178 4863 \nL 1178 0 \nL 603 0 \nL 603 4863 \nz\n\" id=\"DejaVuSans-6c\" transform=\"scale(0.015625)\"/>\n      <path id=\"DejaVuSans-20\" transform=\"scale(0.015625)\"/>\n     </defs>\n     <use xlink:href=\"#DejaVuSans-4d\"/>\n     <use x=\"86.279297\" xlink:href=\"#DejaVuSans-6f\"/>\n     <use x=\"147.460938\" xlink:href=\"#DejaVuSans-64\"/>\n     <use x=\"210.9375\" xlink:href=\"#DejaVuSans-65\"/>\n     <use x=\"272.460938\" xlink:href=\"#DejaVuSans-6c\"/>\n     <use x=\"300.244141\" xlink:href=\"#DejaVuSans-20\"/>\n     <use x=\"332.03125\" xlink:href=\"#DejaVuSans-6c\"/>\n     <use x=\"359.814453\" xlink:href=\"#DejaVuSans-6f\"/>\n     <use x=\"420.996094\" xlink:href=\"#DejaVuSans-73\"/>\n     <use x=\"473.095703\" xlink:href=\"#DejaVuSans-73\"/>\n    </g>\n   </g>\n   <g id=\"legend_1\">\n    <g id=\"patch_7\">\n     <path d=\"M 625.146875 59.674375 \nL 706.38125 59.674375 \nQ 708.38125 59.674375 708.38125 57.674375 \nL 708.38125 29.318125 \nQ 708.38125 27.318125 706.38125 27.318125 \nL 625.146875 27.318125 \nQ 623.146875 27.318125 623.146875 29.318125 \nL 623.146875 57.674375 \nQ 623.146875 59.674375 625.146875 59.674375 \nz\n\" style=\"fill:#ffffff;opacity:0.8;stroke:#cccccc;stroke-linejoin:miter;\"/>\n    </g>\n    <g id=\"line2d_16\">\n     <path d=\"M 627.146875 35.416562 \nL 647.146875 35.416562 \n\" style=\"fill:none;stroke:#1f77b4;stroke-linecap:square;stroke-width:1.5;\"/>\n    </g>\n    <g id=\"line2d_17\"/>\n    <g id=\"text_17\">\n     <!-- train -->\n     <g transform=\"translate(655.146875 38.916562)scale(0.1 -0.1)\">\n      <defs>\n       <path d=\"M 1172 4494 \nL 1172 3500 \nL 2356 3500 \nL 2356 3053 \nL 1172 3053 \nL 1172 1153 \nQ 1172 725 1289 603 \nQ 1406 481 1766 481 \nL 2356 481 \nL 2356 0 \nL 1766 0 \nQ 1100 0 847 248 \nQ 594 497 594 1153 \nL 594 3053 \nL 172 3053 \nL 172 3500 \nL 594 3500 \nL 594 4494 \nL 1172 4494 \nz\n\" id=\"DejaVuSans-74\" transform=\"scale(0.015625)\"/>\n       <path d=\"M 2631 2963 \nQ 2534 3019 2420 3045 \nQ 2306 3072 2169 3072 \nQ 1681 3072 1420 2755 \nQ 1159 2438 1159 1844 \nL 1159 0 \nL 581 0 \nL 581 3500 \nL 1159 3500 \nL 1159 2956 \nQ 1341 3275 1631 3429 \nQ 1922 3584 2338 3584 \nQ 2397 3584 2469 3576 \nQ 2541 3569 2628 3553 \nL 2631 2963 \nz\n\" id=\"DejaVuSans-72\" transform=\"scale(0.015625)\"/>\n       <path d=\"M 2194 1759 \nQ 1497 1759 1228 1600 \nQ 959 1441 959 1056 \nQ 959 750 1161 570 \nQ 1363 391 1709 391 \nQ 2188 391 2477 730 \nQ 2766 1069 2766 1631 \nL 2766 1759 \nL 2194 1759 \nz\nM 3341 1997 \nL 3341 0 \nL 2766 0 \nL 2766 531 \nQ 2569 213 2275 61 \nQ 1981 -91 1556 -91 \nQ 1019 -91 701 211 \nQ 384 513 384 1019 \nQ 384 1609 779 1909 \nQ 1175 2209 1959 2209 \nL 2766 2209 \nL 2766 2266 \nQ 2766 2663 2505 2880 \nQ 2244 3097 1772 3097 \nQ 1472 3097 1187 3025 \nQ 903 2953 641 2809 \nL 641 3341 \nQ 956 3463 1253 3523 \nQ 1550 3584 1831 3584 \nQ 2591 3584 2966 3190 \nQ 3341 2797 3341 1997 \nz\n\" id=\"DejaVuSans-61\" transform=\"scale(0.015625)\"/>\n       <path d=\"M 603 3500 \nL 1178 3500 \nL 1178 0 \nL 603 0 \nL 603 3500 \nz\nM 603 4863 \nL 1178 4863 \nL 1178 4134 \nL 603 4134 \nL 603 4863 \nz\n\" id=\"DejaVuSans-69\" transform=\"scale(0.015625)\"/>\n       <path d=\"M 3513 2113 \nL 3513 0 \nL 2938 0 \nL 2938 2094 \nQ 2938 2591 2744 2837 \nQ 2550 3084 2163 3084 \nQ 1697 3084 1428 2787 \nQ 1159 2491 1159 1978 \nL 1159 0 \nL 581 0 \nL 581 3500 \nL 1159 3500 \nL 1159 2956 \nQ 1366 3272 1645 3428 \nQ 1925 3584 2291 3584 \nQ 2894 3584 3203 3211 \nQ 3513 2838 3513 2113 \nz\n\" id=\"DejaVuSans-6e\" transform=\"scale(0.015625)\"/>\n      </defs>\n      <use xlink:href=\"#DejaVuSans-74\"/>\n      <use x=\"39.208984\" xlink:href=\"#DejaVuSans-72\"/>\n      <use x=\"80.322266\" xlink:href=\"#DejaVuSans-61\"/>\n      <use x=\"141.601562\" xlink:href=\"#DejaVuSans-69\"/>\n      <use x=\"169.384766\" xlink:href=\"#DejaVuSans-6e\"/>\n     </g>\n    </g>\n    <g id=\"line2d_18\">\n     <path d=\"M 627.146875 50.094687 \nL 647.146875 50.094687 \n\" style=\"fill:none;stroke:#ff7f0e;stroke-linecap:square;stroke-width:1.5;\"/>\n    </g>\n    <g id=\"line2d_19\"/>\n    <g id=\"text_18\">\n     <!-- validation -->\n     <g transform=\"translate(655.146875 53.594687)scale(0.1 -0.1)\">\n      <defs>\n       <path d=\"M 191 3500 \nL 800 3500 \nL 1894 563 \nL 2988 3500 \nL 3597 3500 \nL 2284 0 \nL 1503 0 \nL 191 3500 \nz\n\" id=\"DejaVuSans-76\" transform=\"scale(0.015625)\"/>\n      </defs>\n      <use xlink:href=\"#DejaVuSans-76\"/>\n      <use x=\"59.179688\" xlink:href=\"#DejaVuSans-61\"/>\n      <use x=\"120.458984\" xlink:href=\"#DejaVuSans-6c\"/>\n      <use x=\"148.242188\" xlink:href=\"#DejaVuSans-69\"/>\n      <use x=\"176.025391\" xlink:href=\"#DejaVuSans-64\"/>\n      <use x=\"239.501953\" xlink:href=\"#DejaVuSans-61\"/>\n      <use x=\"300.78125\" xlink:href=\"#DejaVuSans-74\"/>\n      <use x=\"339.990234\" xlink:href=\"#DejaVuSans-69\"/>\n      <use x=\"367.773438\" xlink:href=\"#DejaVuSans-6f\"/>\n      <use x=\"428.955078\" xlink:href=\"#DejaVuSans-6e\"/>\n     </g>\n    </g>\n   </g>\n  </g>\n </g>\n <defs>\n  <clipPath id=\"pc50a1ea731\">\n   <rect height=\"434.88\" width=\"669.6\" x=\"43.78125\" y=\"22.318125\"/>\n  </clipPath>\n </defs>\n</svg>\n",
      "image/png": "[encoded data removed]"
     },
     "metadata": {
      "needs_background": "light"
     }
    },
    {
     "output_type": "display_data",
     "data": {
      "text/plain": "<Figure size 864x576 with 1 Axes>",
      "image/svg+xml": "<?xml version=\"1.0\" encoding=\"utf-8\" standalone=\"no\"?>\n<!DOCTYPE svg PUBLIC \"-//W3C//DTD SVG 1.1//EN\"\n  \"http://www.w3.org/Graphics/SVG/1.1/DTD/svg11.dtd\">\n<svg height=\"494.754375pt\" version=\"1.1\" viewBox=\"0 0 720.58125 494.754375\" width=\"720.58125pt\" xmlns=\"http://www.w3.org/2000/svg\" xmlns:xlink=\"http://www.w3.org/1999/xlink\">\n <metadata>\n  <rdf:RDF xmlns:cc=\"http://creativecommons.org/ns#\" xmlns:dc=\"http://purl.org/dc/elements/1.1/\" xmlns:rdf=\"http://www.w3.org/1999/02/22-rdf-syntax-ns#\">\n   <cc:Work>\n    <dc:type rdf:resource=\"http://purl.org/dc/dcmitype/StillImage\"/>\n    <dc:date>2021-06-26T22:03:14.990147</dc:date>\n    <dc:format>image/svg+xml</dc:format>\n    <dc:creator>\n     <cc:Agent>\n      <dc:title>Matplotlib v3.4.2, https://matplotlib.org/</dc:title>\n     </cc:Agent>\n    </dc:creator>\n   </cc:Work>\n  </rdf:RDF>\n </metadata>\n <defs>\n  <style type=\"text/css\">*{stroke-linecap:butt;stroke-linejoin:round;}</style>\n </defs>\n <g id=\"figure_1\">\n  <g id=\"patch_1\">\n   <path d=\"M 0 494.754375 \nL 720.58125 494.754375 \nL 720.58125 0 \nL 0 0 \nz\n\" style=\"fill:none;\"/>\n  </g>\n  <g id=\"axes_1\">\n   <g id=\"patch_2\">\n    <path d=\"M 43.78125 457.198125 \nL 713.38125 457.198125 \nL 713.38125 22.318125 \nL 43.78125 22.318125 \nz\n\" style=\"fill:#ffffff;\"/>\n   </g>\n   <g id=\"matplotlib.axis_1\">\n    <g id=\"xtick_1\">\n     <g id=\"line2d_1\">\n      <defs>\n       <path d=\"M 0 0 \nL 0 3.5 \n\" id=\"mc7fd838df9\" style=\"stroke:#000000;stroke-width:0.8;\"/>\n      </defs>\n      <g>\n       <use style=\"stroke:#000000;stroke-width:0.8;\" x=\"74.217614\" xlink:href=\"#mc7fd838df9\" y=\"457.198125\"/>\n      </g>\n     </g>\n     <g id=\"text_1\">\n      <!-- 0 -->\n      <g transform=\"translate(71.036364 471.796562)scale(0.1 -0.1)\">\n       <defs>\n        <path d=\"M 2034 4250 \nQ 1547 4250 1301 3770 \nQ 1056 3291 1056 2328 \nQ 1056 1369 1301 889 \nQ 1547 409 2034 409 \nQ 2525 409 2770 889 \nQ 3016 1369 3016 2328 \nQ 3016 3291 2770 3770 \nQ 2525 4250 2034 4250 \nz\nM 2034 4750 \nQ 2819 4750 3233 4129 \nQ 3647 3509 3647 2328 \nQ 3647 1150 3233 529 \nQ 2819 -91 2034 -91 \nQ 1250 -91 836 529 \nQ 422 1150 422 2328 \nQ 422 3509 836 4129 \nQ 1250 4750 2034 4750 \nz\n\" id=\"DejaVuSans-30\" transform=\"scale(0.015625)\"/>\n       </defs>\n       <use xlink:href=\"#DejaVuSans-30\"/>\n      </g>\n     </g>\n    </g>\n    <g id=\"xtick_2\">\n     <g id=\"line2d_2\">\n      <g>\n       <use style=\"stroke:#000000;stroke-width:0.8;\" x=\"197.19282\" xlink:href=\"#mc7fd838df9\" y=\"457.198125\"/>\n      </g>\n     </g>\n     <g id=\"text_2\">\n      <!-- 20 -->\n      <g transform=\"translate(190.83032 471.796562)scale(0.1 -0.1)\">\n       <defs>\n        <path d=\"M 1228 531 \nL 3431 531 \nL 3431 0 \nL 469 0 \nL 469 531 \nQ 828 903 1448 1529 \nQ 2069 2156 2228 2338 \nQ 2531 2678 2651 2914 \nQ 2772 3150 2772 3378 \nQ 2772 3750 2511 3984 \nQ 2250 4219 1831 4219 \nQ 1534 4219 1204 4116 \nQ 875 4013 500 3803 \nL 500 4441 \nQ 881 4594 1212 4672 \nQ 1544 4750 1819 4750 \nQ 2544 4750 2975 4387 \nQ 3406 4025 3406 3419 \nQ 3406 3131 3298 2873 \nQ 3191 2616 2906 2266 \nQ 2828 2175 2409 1742 \nQ 1991 1309 1228 531 \nz\n\" id=\"DejaVuSans-32\" transform=\"scale(0.015625)\"/>\n       </defs>\n       <use xlink:href=\"#DejaVuSans-32\"/>\n       <use x=\"63.623047\" xlink:href=\"#DejaVuSans-30\"/>\n      </g>\n     </g>\n    </g>\n    <g id=\"xtick_3\">\n     <g id=\"line2d_3\">\n      <g>\n       <use style=\"stroke:#000000;stroke-width:0.8;\" x=\"320.168027\" xlink:href=\"#mc7fd838df9\" y=\"457.198125\"/>\n      </g>\n     </g>\n     <g id=\"text_3\">\n      <!-- 40 -->\n      <g transform=\"translate(313.805527 471.796562)scale(0.1 -0.1)\">\n       <defs>\n        <path d=\"M 2419 4116 \nL 825 1625 \nL 2419 1625 \nL 2419 4116 \nz\nM 2253 4666 \nL 3047 4666 \nL 3047 1625 \nL 3713 1625 \nL 3713 1100 \nL 3047 1100 \nL 3047 0 \nL 2419 0 \nL 2419 1100 \nL 313 1100 \nL 313 1709 \nL 2253 4666 \nz\n\" id=\"DejaVuSans-34\" transform=\"scale(0.015625)\"/>\n       </defs>\n       <use xlink:href=\"#DejaVuSans-34\"/>\n       <use x=\"63.623047\" xlink:href=\"#DejaVuSans-30\"/>\n      </g>\n     </g>\n    </g>\n    <g id=\"xtick_4\">\n     <g id=\"line2d_4\">\n      <g>\n       <use style=\"stroke:#000000;stroke-width:0.8;\" x=\"443.143233\" xlink:href=\"#mc7fd838df9\" y=\"457.198125\"/>\n      </g>\n     </g>\n     <g id=\"text_4\">\n      <!-- 60 -->\n      <g transform=\"translate(436.780733 471.796562)scale(0.1 -0.1)\">\n       <defs>\n        <path d=\"M 2113 2584 \nQ 1688 2584 1439 2293 \nQ 1191 2003 1191 1497 \nQ 1191 994 1439 701 \nQ 1688 409 2113 409 \nQ 2538 409 2786 701 \nQ 3034 994 3034 1497 \nQ 3034 2003 2786 2293 \nQ 2538 2584 2113 2584 \nz\nM 3366 4563 \nL 3366 3988 \nQ 3128 4100 2886 4159 \nQ 2644 4219 2406 4219 \nQ 1781 4219 1451 3797 \nQ 1122 3375 1075 2522 \nQ 1259 2794 1537 2939 \nQ 1816 3084 2150 3084 \nQ 2853 3084 3261 2657 \nQ 3669 2231 3669 1497 \nQ 3669 778 3244 343 \nQ 2819 -91 2113 -91 \nQ 1303 -91 875 529 \nQ 447 1150 447 2328 \nQ 447 3434 972 4092 \nQ 1497 4750 2381 4750 \nQ 2619 4750 2861 4703 \nQ 3103 4656 3366 4563 \nz\n\" id=\"DejaVuSans-36\" transform=\"scale(0.015625)\"/>\n       </defs>\n       <use xlink:href=\"#DejaVuSans-36\"/>\n       <use x=\"63.623047\" xlink:href=\"#DejaVuSans-30\"/>\n      </g>\n     </g>\n    </g>\n    <g id=\"xtick_5\">\n     <g id=\"line2d_5\">\n      <g>\n       <use style=\"stroke:#000000;stroke-width:0.8;\" x=\"566.11844\" xlink:href=\"#mc7fd838df9\" y=\"457.198125\"/>\n      </g>\n     </g>\n     <g id=\"text_5\">\n      <!-- 80 -->\n      <g transform=\"translate(559.75594 471.796562)scale(0.1 -0.1)\">\n       <defs>\n        <path d=\"M 2034 2216 \nQ 1584 2216 1326 1975 \nQ 1069 1734 1069 1313 \nQ 1069 891 1326 650 \nQ 1584 409 2034 409 \nQ 2484 409 2743 651 \nQ 3003 894 3003 1313 \nQ 3003 1734 2745 1975 \nQ 2488 2216 2034 2216 \nz\nM 1403 2484 \nQ 997 2584 770 2862 \nQ 544 3141 544 3541 \nQ 544 4100 942 4425 \nQ 1341 4750 2034 4750 \nQ 2731 4750 3128 4425 \nQ 3525 4100 3525 3541 \nQ 3525 3141 3298 2862 \nQ 3072 2584 2669 2484 \nQ 3125 2378 3379 2068 \nQ 3634 1759 3634 1313 \nQ 3634 634 3220 271 \nQ 2806 -91 2034 -91 \nQ 1263 -91 848 271 \nQ 434 634 434 1313 \nQ 434 1759 690 2068 \nQ 947 2378 1403 2484 \nz\nM 1172 3481 \nQ 1172 3119 1398 2916 \nQ 1625 2713 2034 2713 \nQ 2441 2713 2670 2916 \nQ 2900 3119 2900 3481 \nQ 2900 3844 2670 4047 \nQ 2441 4250 2034 4250 \nQ 1625 4250 1398 4047 \nQ 1172 3844 1172 3481 \nz\n\" id=\"DejaVuSans-38\" transform=\"scale(0.015625)\"/>\n       </defs>\n       <use xlink:href=\"#DejaVuSans-38\"/>\n       <use x=\"63.623047\" xlink:href=\"#DejaVuSans-30\"/>\n      </g>\n     </g>\n    </g>\n    <g id=\"xtick_6\">\n     <g id=\"line2d_6\">\n      <g>\n       <use style=\"stroke:#000000;stroke-width:0.8;\" x=\"689.093647\" xlink:href=\"#mc7fd838df9\" y=\"457.198125\"/>\n      </g>\n     </g>\n     <g id=\"text_6\">\n      <!-- 100 -->\n      <g transform=\"translate(679.549897 471.796562)scale(0.1 -0.1)\">\n       <defs>\n        <path d=\"M 794 531 \nL 1825 531 \nL 1825 4091 \nL 703 3866 \nL 703 4441 \nL 1819 4666 \nL 2450 4666 \nL 2450 531 \nL 3481 531 \nL 3481 0 \nL 794 0 \nL 794 531 \nz\n\" id=\"DejaVuSans-31\" transform=\"scale(0.015625)\"/>\n       </defs>\n       <use xlink:href=\"#DejaVuSans-31\"/>\n       <use x=\"63.623047\" xlink:href=\"#DejaVuSans-30\"/>\n       <use x=\"127.246094\" xlink:href=\"#DejaVuSans-30\"/>\n      </g>\n     </g>\n    </g>\n    <g id=\"text_7\">\n     <!-- Epoch -->\n     <g transform=\"translate(363.270312 485.474687)scale(0.1 -0.1)\">\n      <defs>\n       <path d=\"M 628 4666 \nL 3578 4666 \nL 3578 4134 \nL 1259 4134 \nL 1259 2753 \nL 3481 2753 \nL 3481 2222 \nL 1259 2222 \nL 1259 531 \nL 3634 531 \nL 3634 0 \nL 628 0 \nL 628 4666 \nz\n\" id=\"DejaVuSans-45\" transform=\"scale(0.015625)\"/>\n       <path d=\"M 1159 525 \nL 1159 -1331 \nL 581 -1331 \nL 581 3500 \nL 1159 3500 \nL 1159 2969 \nQ 1341 3281 1617 3432 \nQ 1894 3584 2278 3584 \nQ 2916 3584 3314 3078 \nQ 3713 2572 3713 1747 \nQ 3713 922 3314 415 \nQ 2916 -91 2278 -91 \nQ 1894 -91 1617 61 \nQ 1341 213 1159 525 \nz\nM 3116 1747 \nQ 3116 2381 2855 2742 \nQ 2594 3103 2138 3103 \nQ 1681 3103 1420 2742 \nQ 1159 2381 1159 1747 \nQ 1159 1113 1420 752 \nQ 1681 391 2138 391 \nQ 2594 391 2855 752 \nQ 3116 1113 3116 1747 \nz\n\" id=\"DejaVuSans-70\" transform=\"scale(0.015625)\"/>\n       <path d=\"M 1959 3097 \nQ 1497 3097 1228 2736 \nQ 959 2375 959 1747 \nQ 959 1119 1226 758 \nQ 1494 397 1959 397 \nQ 2419 397 2687 759 \nQ 2956 1122 2956 1747 \nQ 2956 2369 2687 2733 \nQ 2419 3097 1959 3097 \nz\nM 1959 3584 \nQ 2709 3584 3137 3096 \nQ 3566 2609 3566 1747 \nQ 3566 888 3137 398 \nQ 2709 -91 1959 -91 \nQ 1206 -91 779 398 \nQ 353 888 353 1747 \nQ 353 2609 779 3096 \nQ 1206 3584 1959 3584 \nz\n\" id=\"DejaVuSans-6f\" transform=\"scale(0.015625)\"/>\n       <path d=\"M 3122 3366 \nL 3122 2828 \nQ 2878 2963 2633 3030 \nQ 2388 3097 2138 3097 \nQ 1578 3097 1268 2742 \nQ 959 2388 959 1747 \nQ 959 1106 1268 751 \nQ 1578 397 2138 397 \nQ 2388 397 2633 464 \nQ 2878 531 3122 666 \nL 3122 134 \nQ 2881 22 2623 -34 \nQ 2366 -91 2075 -91 \nQ 1284 -91 818 406 \nQ 353 903 353 1747 \nQ 353 2603 823 3093 \nQ 1294 3584 2113 3584 \nQ 2378 3584 2631 3529 \nQ 2884 3475 3122 3366 \nz\n\" id=\"DejaVuSans-63\" transform=\"scale(0.015625)\"/>\n       <path d=\"M 3513 2113 \nL 3513 0 \nL 2938 0 \nL 2938 2094 \nQ 2938 2591 2744 2837 \nQ 2550 3084 2163 3084 \nQ 1697 3084 1428 2787 \nQ 1159 2491 1159 1978 \nL 1159 0 \nL 581 0 \nL 581 4863 \nL 1159 4863 \nL 1159 2956 \nQ 1366 3272 1645 3428 \nQ 1925 3584 2291 3584 \nQ 2894 3584 3203 3211 \nQ 3513 2838 3513 2113 \nz\n\" id=\"DejaVuSans-68\" transform=\"scale(0.015625)\"/>\n      </defs>\n      <use xlink:href=\"#DejaVuSans-45\"/>\n      <use x=\"63.183594\" xlink:href=\"#DejaVuSans-70\"/>\n      <use x=\"126.660156\" xlink:href=\"#DejaVuSans-6f\"/>\n      <use x=\"187.841797\" xlink:href=\"#DejaVuSans-63\"/>\n      <use x=\"242.822266\" xlink:href=\"#DejaVuSans-68\"/>\n     </g>\n    </g>\n   </g>\n   <g id=\"matplotlib.axis_2\">\n    <g id=\"ytick_1\">\n     <g id=\"line2d_7\">\n      <defs>\n       <path d=\"M 0 0 \nL -3.5 0 \n\" id=\"me88fd55c71\" style=\"stroke:#000000;stroke-width:0.8;\"/>\n      </defs>\n      <g>\n       <use style=\"stroke:#000000;stroke-width:0.8;\" x=\"43.78125\" xlink:href=\"#me88fd55c71\" y=\"408.065443\"/>\n      </g>\n     </g>\n     <g id=\"text_8\">\n      <!-- 0.2 -->\n      <g transform=\"translate(20.878125 411.864662)scale(0.1 -0.1)\">\n       <defs>\n        <path d=\"M 684 794 \nL 1344 794 \nL 1344 0 \nL 684 0 \nL 684 794 \nz\n\" id=\"DejaVuSans-2e\" transform=\"scale(0.015625)\"/>\n       </defs>\n       <use xlink:href=\"#DejaVuSans-30\"/>\n       <use x=\"63.623047\" xlink:href=\"#DejaVuSans-2e\"/>\n       <use x=\"95.410156\" xlink:href=\"#DejaVuSans-32\"/>\n      </g>\n     </g>\n    </g>\n    <g id=\"ytick_2\">\n     <g id=\"line2d_8\">\n      <g>\n       <use style=\"stroke:#000000;stroke-width:0.8;\" x=\"43.78125\" xlink:href=\"#me88fd55c71\" y=\"349.334617\"/>\n      </g>\n     </g>\n     <g id=\"text_9\">\n      <!-- 0.3 -->\n      <g transform=\"translate(20.878125 353.133835)scale(0.1 -0.1)\">\n       <defs>\n        <path d=\"M 2597 2516 \nQ 3050 2419 3304 2112 \nQ 3559 1806 3559 1356 \nQ 3559 666 3084 287 \nQ 2609 -91 1734 -91 \nQ 1441 -91 1130 -33 \nQ 819 25 488 141 \nL 488 750 \nQ 750 597 1062 519 \nQ 1375 441 1716 441 \nQ 2309 441 2620 675 \nQ 2931 909 2931 1356 \nQ 2931 1769 2642 2001 \nQ 2353 2234 1838 2234 \nL 1294 2234 \nL 1294 2753 \nL 1863 2753 \nQ 2328 2753 2575 2939 \nQ 2822 3125 2822 3475 \nQ 2822 3834 2567 4026 \nQ 2313 4219 1838 4219 \nQ 1578 4219 1281 4162 \nQ 984 4106 628 3988 \nL 628 4550 \nQ 988 4650 1302 4700 \nQ 1616 4750 1894 4750 \nQ 2613 4750 3031 4423 \nQ 3450 4097 3450 3541 \nQ 3450 3153 3228 2886 \nQ 3006 2619 2597 2516 \nz\n\" id=\"DejaVuSans-33\" transform=\"scale(0.015625)\"/>\n       </defs>\n       <use xlink:href=\"#DejaVuSans-30\"/>\n       <use x=\"63.623047\" xlink:href=\"#DejaVuSans-2e\"/>\n       <use x=\"95.410156\" xlink:href=\"#DejaVuSans-33\"/>\n      </g>\n     </g>\n    </g>\n    <g id=\"ytick_3\">\n     <g id=\"line2d_9\">\n      <g>\n       <use style=\"stroke:#000000;stroke-width:0.8;\" x=\"43.78125\" xlink:href=\"#me88fd55c71\" y=\"290.603791\"/>\n      </g>\n     </g>\n     <g id=\"text_10\">\n      <!-- 0.4 -->\n      <g transform=\"translate(20.878125 294.403009)scale(0.1 -0.1)\">\n       <use xlink:href=\"#DejaVuSans-30\"/>\n       <use x=\"63.623047\" xlink:href=\"#DejaVuSans-2e\"/>\n       <use x=\"95.410156\" xlink:href=\"#DejaVuSans-34\"/>\n      </g>\n     </g>\n    </g>\n    <g id=\"ytick_4\">\n     <g id=\"line2d_10\">\n      <g>\n       <use style=\"stroke:#000000;stroke-width:0.8;\" x=\"43.78125\" xlink:href=\"#me88fd55c71\" y=\"231.872965\"/>\n      </g>\n     </g>\n     <g id=\"text_11\">\n      <!-- 0.5 -->\n      <g transform=\"translate(20.878125 235.672183)scale(0.1 -0.1)\">\n       <defs>\n        <path d=\"M 691 4666 \nL 3169 4666 \nL 3169 4134 \nL 1269 4134 \nL 1269 2991 \nQ 1406 3038 1543 3061 \nQ 1681 3084 1819 3084 \nQ 2600 3084 3056 2656 \nQ 3513 2228 3513 1497 \nQ 3513 744 3044 326 \nQ 2575 -91 1722 -91 \nQ 1428 -91 1123 -41 \nQ 819 9 494 109 \nL 494 744 \nQ 775 591 1075 516 \nQ 1375 441 1709 441 \nQ 2250 441 2565 725 \nQ 2881 1009 2881 1497 \nQ 2881 1984 2565 2268 \nQ 2250 2553 1709 2553 \nQ 1456 2553 1204 2497 \nQ 953 2441 691 2322 \nL 691 4666 \nz\n\" id=\"DejaVuSans-35\" transform=\"scale(0.015625)\"/>\n       </defs>\n       <use xlink:href=\"#DejaVuSans-30\"/>\n       <use x=\"63.623047\" xlink:href=\"#DejaVuSans-2e\"/>\n       <use x=\"95.410156\" xlink:href=\"#DejaVuSans-35\"/>\n      </g>\n     </g>\n    </g>\n    <g id=\"ytick_5\">\n     <g id=\"line2d_11\">\n      <g>\n       <use style=\"stroke:#000000;stroke-width:0.8;\" x=\"43.78125\" xlink:href=\"#me88fd55c71\" y=\"173.142139\"/>\n      </g>\n     </g>\n     <g id=\"text_12\">\n      <!-- 0.6 -->\n      <g transform=\"translate(20.878125 176.941357)scale(0.1 -0.1)\">\n       <use xlink:href=\"#DejaVuSans-30\"/>\n       <use x=\"63.623047\" xlink:href=\"#DejaVuSans-2e\"/>\n       <use x=\"95.410156\" xlink:href=\"#DejaVuSans-36\"/>\n      </g>\n     </g>\n    </g>\n    <g id=\"ytick_6\">\n     <g id=\"line2d_12\">\n      <g>\n       <use style=\"stroke:#000000;stroke-width:0.8;\" x=\"43.78125\" xlink:href=\"#me88fd55c71\" y=\"114.411313\"/>\n      </g>\n     </g>\n     <g id=\"text_13\">\n      <!-- 0.7 -->\n      <g transform=\"translate(20.878125 118.210531)scale(0.1 -0.1)\">\n       <defs>\n        <path d=\"M 525 4666 \nL 3525 4666 \nL 3525 4397 \nL 1831 0 \nL 1172 0 \nL 2766 4134 \nL 525 4134 \nL 525 4666 \nz\n\" id=\"DejaVuSans-37\" transform=\"scale(0.015625)\"/>\n       </defs>\n       <use xlink:href=\"#DejaVuSans-30\"/>\n       <use x=\"63.623047\" xlink:href=\"#DejaVuSans-2e\"/>\n       <use x=\"95.410156\" xlink:href=\"#DejaVuSans-37\"/>\n      </g>\n     </g>\n    </g>\n    <g id=\"ytick_7\">\n     <g id=\"line2d_13\">\n      <g>\n       <use style=\"stroke:#000000;stroke-width:0.8;\" x=\"43.78125\" xlink:href=\"#me88fd55c71\" y=\"55.680486\"/>\n      </g>\n     </g>\n     <g id=\"text_14\">\n      <!-- 0.8 -->\n      <g transform=\"translate(20.878125 59.479705)scale(0.1 -0.1)\">\n       <use xlink:href=\"#DejaVuSans-30\"/>\n       <use x=\"63.623047\" xlink:href=\"#DejaVuSans-2e\"/>\n       <use x=\"95.410156\" xlink:href=\"#DejaVuSans-38\"/>\n      </g>\n     </g>\n    </g>\n    <g id=\"text_15\">\n     <!-- Accuracy -->\n     <g transform=\"translate(14.798438 262.58625)rotate(-90)scale(0.1 -0.1)\">\n      <defs>\n       <path d=\"M 2188 4044 \nL 1331 1722 \nL 3047 1722 \nL 2188 4044 \nz\nM 1831 4666 \nL 2547 4666 \nL 4325 0 \nL 3669 0 \nL 3244 1197 \nL 1141 1197 \nL 716 0 \nL 50 0 \nL 1831 4666 \nz\n\" id=\"DejaVuSans-41\" transform=\"scale(0.015625)\"/>\n       <path d=\"M 544 1381 \nL 544 3500 \nL 1119 3500 \nL 1119 1403 \nQ 1119 906 1312 657 \nQ 1506 409 1894 409 \nQ 2359 409 2629 706 \nQ 2900 1003 2900 1516 \nL 2900 3500 \nL 3475 3500 \nL 3475 0 \nL 2900 0 \nL 2900 538 \nQ 2691 219 2414 64 \nQ 2138 -91 1772 -91 \nQ 1169 -91 856 284 \nQ 544 659 544 1381 \nz\nM 1991 3584 \nL 1991 3584 \nz\n\" id=\"DejaVuSans-75\" transform=\"scale(0.015625)\"/>\n       <path d=\"M 2631 2963 \nQ 2534 3019 2420 3045 \nQ 2306 3072 2169 3072 \nQ 1681 3072 1420 2755 \nQ 1159 2438 1159 1844 \nL 1159 0 \nL 581 0 \nL 581 3500 \nL 1159 3500 \nL 1159 2956 \nQ 1341 3275 1631 3429 \nQ 1922 3584 2338 3584 \nQ 2397 3584 2469 3576 \nQ 2541 3569 2628 3553 \nL 2631 2963 \nz\n\" id=\"DejaVuSans-72\" transform=\"scale(0.015625)\"/>\n       <path d=\"M 2194 1759 \nQ 1497 1759 1228 1600 \nQ 959 1441 959 1056 \nQ 959 750 1161 570 \nQ 1363 391 1709 391 \nQ 2188 391 2477 730 \nQ 2766 1069 2766 1631 \nL 2766 1759 \nL 2194 1759 \nz\nM 3341 1997 \nL 3341 0 \nL 2766 0 \nL 2766 531 \nQ 2569 213 2275 61 \nQ 1981 -91 1556 -91 \nQ 1019 -91 701 211 \nQ 384 513 384 1019 \nQ 384 1609 779 1909 \nQ 1175 2209 1959 2209 \nL 2766 2209 \nL 2766 2266 \nQ 2766 2663 2505 2880 \nQ 2244 3097 1772 3097 \nQ 1472 3097 1187 3025 \nQ 903 2953 641 2809 \nL 641 3341 \nQ 956 3463 1253 3523 \nQ 1550 3584 1831 3584 \nQ 2591 3584 2966 3190 \nQ 3341 2797 3341 1997 \nz\n\" id=\"DejaVuSans-61\" transform=\"scale(0.015625)\"/>\n       <path d=\"M 2059 -325 \nQ 1816 -950 1584 -1140 \nQ 1353 -1331 966 -1331 \nL 506 -1331 \nL 506 -850 \nL 844 -850 \nQ 1081 -850 1212 -737 \nQ 1344 -625 1503 -206 \nL 1606 56 \nL 191 3500 \nL 800 3500 \nL 1894 763 \nL 2988 3500 \nL 3597 3500 \nL 2059 -325 \nz\n\" id=\"DejaVuSans-79\" transform=\"scale(0.015625)\"/>\n      </defs>\n      <use xlink:href=\"#DejaVuSans-41\"/>\n      <use x=\"66.658203\" xlink:href=\"#DejaVuSans-63\"/>\n      <use x=\"121.638672\" xlink:href=\"#DejaVuSans-63\"/>\n      <use x=\"176.619141\" xlink:href=\"#DejaVuSans-75\"/>\n      <use x=\"239.998047\" xlink:href=\"#DejaVuSans-72\"/>\n      <use x=\"281.111328\" xlink:href=\"#DejaVuSans-61\"/>\n      <use x=\"342.390625\" xlink:href=\"#DejaVuSans-63\"/>\n      <use x=\"397.371094\" xlink:href=\"#DejaVuSans-79\"/>\n     </g>\n    </g>\n   </g>\n   <g id=\"line2d_14\">\n    <path clip-path=\"url(#p7cc9be23cc)\" d=\"M 74.217614 423.835753 \nL 80.366374 393.38274 \nL 86.515134 370.542967 \nL 92.663895 371.630577 \nL 98.812655 362.929709 \nL 104.961415 353.685053 \nL 111.110176 344.984184 \nL 117.258936 328.670058 \nL 123.407696 315.618764 \nL 129.556457 308.005524 \nL 135.705217 294.410425 \nL 141.853977 286.797167 \nL 148.002738 277.552493 \nL 154.151498 270.483041 \nL 160.300258 272.658262 \nL 166.449019 268.307837 \nL 172.597779 262.869783 \nL 178.746539 254.712738 \nL 184.8953 248.730879 \nL 191.04406 244.924259 \nL 197.19282 237.854806 \nL 203.341581 223.715902 \nL 209.490341 210.12082 \nL 215.639101 203.595155 \nL 221.787862 194.894304 \nL 227.936622 190.543861 \nL 234.085382 182.930621 \nL 240.234143 178.03639 \nL 246.382903 168.791717 \nL 252.531663 161.722264 \nL 258.680424 154.652812 \nL 264.829184 150.302369 \nL 270.977944 142.689129 \nL 277.126705 139.970084 \nL 283.275465 139.426297 \nL 289.424225 138.338686 \nL 295.572986 134.532066 \nL 301.721746 130.181623 \nL 307.870506 126.375003 \nL 314.019267 124.199781 \nL 320.168027 124.199781 \nL 326.316787 122.02456 \nL 332.465548 120.393161 \nL 338.614308 118.761728 \nL 344.763068 117.130329 \nL 350.911829 114.955107 \nL 357.060589 113.323709 \nL 363.209349 112.779886 \nL 369.35811 111.148487 \nL 375.50687 106.798044 \nL 381.65563 104.079035 \nL 387.80439 99.728592 \nL 393.953151 97.553406 \nL 400.101911 95.378184 \nL 406.250671 92.65914 \nL 412.399432 90.483953 \nL 418.548192 91.027741 \nL 424.696952 89.94013 \nL 430.845713 87.221121 \nL 436.994473 87.221121 \nL 443.143233 86.13351 \nL 449.291994 86.13351 \nL 455.440754 81.783067 \nL 461.589514 79.064058 \nL 467.738275 78.520235 \nL 473.887035 75.801226 \nL 480.035795 74.713615 \nL 486.184556 74.169827 \nL 492.333316 73.082216 \nL 498.482076 72.538393 \nL 504.630837 71.994606 \nL 510.779597 69.275596 \nL 516.928357 67.100375 \nL 523.077118 66.012764 \nL 529.225878 64.925153 \nL 535.374638 64.925153 \nL 541.523399 63.293755 \nL 547.672159 63.293755 \nL 553.820919 62.749932 \nL 559.96968 61.118533 \nL 566.11844 61.118533 \nL 572.2672 57.855701 \nL 578.415961 57.855701 \nL 584.564721 56.76809 \nL 590.713481 56.224302 \nL 596.862242 55.136692 \nL 603.011002 54.049081 \nL 609.159762 54.049081 \nL 615.308523 53.505258 \nL 621.457283 51.873859 \nL 627.606043 50.242461 \nL 633.754804 48.067239 \nL 639.903564 48.611027 \nL 646.052324 46.979629 \nL 652.201085 45.892018 \nL 658.349845 44.804407 \nL 664.498605 44.804407 \nL 670.647366 45.892018 \nL 676.796126 44.260619 \nL 682.944886 42.085398 \n\" style=\"fill:none;stroke:#1f77b4;stroke-linecap:square;stroke-width:1.5;\"/>\n   </g>\n   <g id=\"line2d_15\">\n    <path clip-path=\"url(#p7cc9be23cc)\" d=\"M 74.217614 437.430852 \nL 80.366374 398.276971 \nL 86.515134 383.594269 \nL 92.663895 373.805799 \nL 98.812655 364.01732 \nL 104.961415 349.33461 \nL 111.110176 364.01732 \nL 117.258936 329.757669 \nL 123.407696 344.440379 \nL 129.556457 329.757669 \nL 135.705217 315.074976 \nL 141.853977 315.074976 \nL 148.002738 315.074976 \nL 154.151498 300.392266 \nL 160.300258 290.603787 \nL 166.449019 295.498018 \nL 172.597779 295.498018 \nL 178.746539 290.603787 \nL 184.8953 285.709556 \nL 191.04406 285.709556 \nL 197.19282 275.921077 \nL 203.341581 275.921077 \nL 209.490341 285.709556 \nL 215.639101 275.921077 \nL 221.787862 266.132615 \nL 227.936622 246.555675 \nL 234.085382 251.449905 \nL 240.234143 236.767195 \nL 246.382903 241.661444 \nL 252.531663 217.190272 \nL 258.680424 212.296006 \nL 264.829184 212.296006 \nL 270.977944 207.401775 \nL 277.126705 207.401775 \nL 283.275465 202.507545 \nL 289.424225 192.719083 \nL 295.572986 182.930621 \nL 301.721746 178.03639 \nL 307.870506 178.03639 \nL 314.019267 182.930621 \nL 320.168027 182.930621 \nL 326.316787 182.930621 \nL 332.465548 173.142125 \nL 338.614308 173.142125 \nL 344.763068 173.142125 \nL 350.911829 168.247894 \nL 357.060589 173.142125 \nL 363.209349 173.142125 \nL 369.35811 173.142125 \nL 375.50687 168.247894 \nL 381.65563 168.247894 \nL 387.80439 173.142125 \nL 393.953151 168.247894 \nL 400.101911 158.459432 \nL 406.250671 158.459432 \nL 412.399432 153.565201 \nL 418.548192 153.565201 \nL 424.696952 148.67097 \nL 430.845713 148.67097 \nL 436.994473 153.565201 \nL 443.143233 153.565201 \nL 449.291994 153.565201 \nL 455.440754 153.565201 \nL 461.589514 153.565201 \nL 467.738275 153.565201 \nL 473.887035 153.565201 \nL 480.035795 153.565201 \nL 486.184556 148.67097 \nL 492.333316 143.77674 \nL 498.482076 138.882474 \nL 504.630837 138.882474 \nL 510.779597 138.882474 \nL 516.928357 138.882474 \nL 523.077118 138.882474 \nL 529.225878 138.882474 \nL 535.374638 138.882474 \nL 541.523399 133.988243 \nL 547.672159 133.988243 \nL 553.820919 129.094012 \nL 559.96968 129.094012 \nL 566.11844 129.094012 \nL 572.2672 124.199781 \nL 578.415961 124.199781 \nL 584.564721 124.199781 \nL 590.713481 119.30555 \nL 596.862242 119.30555 \nL 603.011002 119.30555 \nL 609.159762 119.30555 \nL 615.308523 119.30555 \nL 621.457283 114.41132 \nL 627.606043 114.41132 \nL 633.754804 114.41132 \nL 639.903564 114.41132 \nL 646.052324 109.517089 \nL 652.201085 109.517089 \nL 658.349845 104.622858 \nL 664.498605 99.728592 \nL 670.647366 94.834361 \nL 676.796126 99.728592 \nL 682.944886 99.728592 \n\" style=\"fill:none;stroke:#ff7f0e;stroke-linecap:square;stroke-width:1.5;\"/>\n   </g>\n   <g id=\"patch_3\">\n    <path d=\"M 43.78125 457.198125 \nL 43.78125 22.318125 \n\" style=\"fill:none;stroke:#000000;stroke-linecap:square;stroke-linejoin:miter;stroke-width:0.8;\"/>\n   </g>\n   <g id=\"patch_4\">\n    <path d=\"M 713.38125 457.198125 \nL 713.38125 22.318125 \n\" style=\"fill:none;stroke:#000000;stroke-linecap:square;stroke-linejoin:miter;stroke-width:0.8;\"/>\n   </g>\n   <g id=\"patch_5\">\n    <path d=\"M 43.78125 457.198125 \nL 713.38125 457.198125 \n\" style=\"fill:none;stroke:#000000;stroke-linecap:square;stroke-linejoin:miter;stroke-width:0.8;\"/>\n   </g>\n   <g id=\"patch_6\">\n    <path d=\"M 43.78125 22.318125 \nL 713.38125 22.318125 \n\" style=\"fill:none;stroke:#000000;stroke-linecap:square;stroke-linejoin:miter;stroke-width:0.8;\"/>\n   </g>\n   <g id=\"text_16\">\n    <!-- Model Accuracy -->\n    <g transform=\"translate(331.264688 16.318125)scale(0.12 -0.12)\">\n     <defs>\n      <path d=\"M 628 4666 \nL 1569 4666 \nL 2759 1491 \nL 3956 4666 \nL 4897 4666 \nL 4897 0 \nL 4281 0 \nL 4281 4097 \nL 3078 897 \nL 2444 897 \nL 1241 4097 \nL 1241 0 \nL 628 0 \nL 628 4666 \nz\n\" id=\"DejaVuSans-4d\" transform=\"scale(0.015625)\"/>\n      <path d=\"M 2906 2969 \nL 2906 4863 \nL 3481 4863 \nL 3481 0 \nL 2906 0 \nL 2906 525 \nQ 2725 213 2448 61 \nQ 2172 -91 1784 -91 \nQ 1150 -91 751 415 \nQ 353 922 353 1747 \nQ 353 2572 751 3078 \nQ 1150 3584 1784 3584 \nQ 2172 3584 2448 3432 \nQ 2725 3281 2906 2969 \nz\nM 947 1747 \nQ 947 1113 1208 752 \nQ 1469 391 1925 391 \nQ 2381 391 2643 752 \nQ 2906 1113 2906 1747 \nQ 2906 2381 2643 2742 \nQ 2381 3103 1925 3103 \nQ 1469 3103 1208 2742 \nQ 947 2381 947 1747 \nz\n\" id=\"DejaVuSans-64\" transform=\"scale(0.015625)\"/>\n      <path d=\"M 3597 1894 \nL 3597 1613 \nL 953 1613 \nQ 991 1019 1311 708 \nQ 1631 397 2203 397 \nQ 2534 397 2845 478 \nQ 3156 559 3463 722 \nL 3463 178 \nQ 3153 47 2828 -22 \nQ 2503 -91 2169 -91 \nQ 1331 -91 842 396 \nQ 353 884 353 1716 \nQ 353 2575 817 3079 \nQ 1281 3584 2069 3584 \nQ 2775 3584 3186 3129 \nQ 3597 2675 3597 1894 \nz\nM 3022 2063 \nQ 3016 2534 2758 2815 \nQ 2500 3097 2075 3097 \nQ 1594 3097 1305 2825 \nQ 1016 2553 972 2059 \nL 3022 2063 \nz\n\" id=\"DejaVuSans-65\" transform=\"scale(0.015625)\"/>\n      <path d=\"M 603 4863 \nL 1178 4863 \nL 1178 0 \nL 603 0 \nL 603 4863 \nz\n\" id=\"DejaVuSans-6c\" transform=\"scale(0.015625)\"/>\n      <path id=\"DejaVuSans-20\" transform=\"scale(0.015625)\"/>\n     </defs>\n     <use xlink:href=\"#DejaVuSans-4d\"/>\n     <use x=\"86.279297\" xlink:href=\"#DejaVuSans-6f\"/>\n     <use x=\"147.460938\" xlink:href=\"#DejaVuSans-64\"/>\n     <use x=\"210.9375\" xlink:href=\"#DejaVuSans-65\"/>\n     <use x=\"272.460938\" xlink:href=\"#DejaVuSans-6c\"/>\n     <use x=\"300.244141\" xlink:href=\"#DejaVuSans-20\"/>\n     <use x=\"332.03125\" xlink:href=\"#DejaVuSans-41\"/>\n     <use x=\"398.689453\" xlink:href=\"#DejaVuSans-63\"/>\n     <use x=\"453.669922\" xlink:href=\"#DejaVuSans-63\"/>\n     <use x=\"508.650391\" xlink:href=\"#DejaVuSans-75\"/>\n     <use x=\"572.029297\" xlink:href=\"#DejaVuSans-72\"/>\n     <use x=\"613.142578\" xlink:href=\"#DejaVuSans-61\"/>\n     <use x=\"674.421875\" xlink:href=\"#DejaVuSans-63\"/>\n     <use x=\"729.402344\" xlink:href=\"#DejaVuSans-79\"/>\n    </g>\n   </g>\n   <g id=\"legend_1\">\n    <g id=\"patch_7\">\n     <path d=\"M 50.78125 59.674375 \nL 132.015625 59.674375 \nQ 134.015625 59.674375 134.015625 57.674375 \nL 134.015625 29.318125 \nQ 134.015625 27.318125 132.015625 27.318125 \nL 50.78125 27.318125 \nQ 48.78125 27.318125 48.78125 29.318125 \nL 48.78125 57.674375 \nQ 48.78125 59.674375 50.78125 59.674375 \nz\n\" style=\"fill:#ffffff;opacity:0.8;stroke:#cccccc;stroke-linejoin:miter;\"/>\n    </g>\n    <g id=\"line2d_16\">\n     <path d=\"M 52.78125 35.416562 \nL 72.78125 35.416562 \n\" style=\"fill:none;stroke:#1f77b4;stroke-linecap:square;stroke-width:1.5;\"/>\n    </g>\n    <g id=\"line2d_17\"/>\n    <g id=\"text_17\">\n     <!-- train -->\n     <g transform=\"translate(80.78125 38.916562)scale(0.1 -0.1)\">\n      <defs>\n       <path d=\"M 1172 4494 \nL 1172 3500 \nL 2356 3500 \nL 2356 3053 \nL 1172 3053 \nL 1172 1153 \nQ 1172 725 1289 603 \nQ 1406 481 1766 481 \nL 2356 481 \nL 2356 0 \nL 1766 0 \nQ 1100 0 847 248 \nQ 594 497 594 1153 \nL 594 3053 \nL 172 3053 \nL 172 3500 \nL 594 3500 \nL 594 4494 \nL 1172 4494 \nz\n\" id=\"DejaVuSans-74\" transform=\"scale(0.015625)\"/>\n       <path d=\"M 603 3500 \nL 1178 3500 \nL 1178 0 \nL 603 0 \nL 603 3500 \nz\nM 603 4863 \nL 1178 4863 \nL 1178 4134 \nL 603 4134 \nL 603 4863 \nz\n\" id=\"DejaVuSans-69\" transform=\"scale(0.015625)\"/>\n       <path d=\"M 3513 2113 \nL 3513 0 \nL 2938 0 \nL 2938 2094 \nQ 2938 2591 2744 2837 \nQ 2550 3084 2163 3084 \nQ 1697 3084 1428 2787 \nQ 1159 2491 1159 1978 \nL 1159 0 \nL 581 0 \nL 581 3500 \nL 1159 3500 \nL 1159 2956 \nQ 1366 3272 1645 3428 \nQ 1925 3584 2291 3584 \nQ 2894 3584 3203 3211 \nQ 3513 2838 3513 2113 \nz\n\" id=\"DejaVuSans-6e\" transform=\"scale(0.015625)\"/>\n      </defs>\n      <use xlink:href=\"#DejaVuSans-74\"/>\n      <use x=\"39.208984\" xlink:href=\"#DejaVuSans-72\"/>\n      <use x=\"80.322266\" xlink:href=\"#DejaVuSans-61\"/>\n      <use x=\"141.601562\" xlink:href=\"#DejaVuSans-69\"/>\n      <use x=\"169.384766\" xlink:href=\"#DejaVuSans-6e\"/>\n     </g>\n    </g>\n    <g id=\"line2d_18\">\n     <path d=\"M 52.78125 50.094687 \nL 72.78125 50.094687 \n\" style=\"fill:none;stroke:#ff7f0e;stroke-linecap:square;stroke-width:1.5;\"/>\n    </g>\n    <g id=\"line2d_19\"/>\n    <g id=\"text_18\">\n     <!-- validation -->\n     <g transform=\"translate(80.78125 53.594687)scale(0.1 -0.1)\">\n      <defs>\n       <path d=\"M 191 3500 \nL 800 3500 \nL 1894 563 \nL 2988 3500 \nL 3597 3500 \nL 2284 0 \nL 1503 0 \nL 191 3500 \nz\n\" id=\"DejaVuSans-76\" transform=\"scale(0.015625)\"/>\n      </defs>\n      <use xlink:href=\"#DejaVuSans-76\"/>\n      <use x=\"59.179688\" xlink:href=\"#DejaVuSans-61\"/>\n      <use x=\"120.458984\" xlink:href=\"#DejaVuSans-6c\"/>\n      <use x=\"148.242188\" xlink:href=\"#DejaVuSans-69\"/>\n      <use x=\"176.025391\" xlink:href=\"#DejaVuSans-64\"/>\n      <use x=\"239.501953\" xlink:href=\"#DejaVuSans-61\"/>\n      <use x=\"300.78125\" xlink:href=\"#DejaVuSans-74\"/>\n      <use x=\"339.990234\" xlink:href=\"#DejaVuSans-69\"/>\n      <use x=\"367.773438\" xlink:href=\"#DejaVuSans-6f\"/>\n      <use x=\"428.955078\" xlink:href=\"#DejaVuSans-6e\"/>\n     </g>\n    </g>\n   </g>\n  </g>\n </g>\n <defs>\n  <clipPath id=\"p7cc9be23cc\">\n   <rect height=\"434.88\" width=\"669.6\" x=\"43.78125\" y=\"22.318125\"/>\n  </clipPath>\n </defs>\n</svg>\n",
      "image/png": "[encoded data removed]"
     },
     "metadata": {
      "needs_background": "light"
     }
    }
   ],
   "source": [
    "# The history.history[\"loss\"] entry is a dictionary with as many values as epochs that the\n",
    "# model was trained on. \n",
    "df_loss_acc = pd.DataFrame(history.history)\n",
    "df_loss= df_loss_acc[['loss','val_loss']]\n",
    "df_loss.rename(columns={'loss':'train','val_loss':'validation'},inplace=True)\n",
    "df_acc= df_loss_acc[['accuracy','val_accuracy']]\n",
    "df_acc.rename(columns={'accuracy':'train','val_accuracy':'validation'},inplace=True)\n",
    "df_loss.plot(title='Model loss',figsize=(12,8)).set(xlabel='Epoch',ylabel='Loss')\n",
    "df_acc.plot(title='Model Accuracy',figsize=(12,8)).set(xlabel='Epoch',ylabel='Accuracy')"
   ]
  },
  {
   "cell_type": "markdown",
   "metadata": {},
   "source": [
    "**Congratulations**! You've finished the assignment and built two models: One that recognizes  smiles, and another that recognizes SIGN language with almost 80% accuracy on the test set. In addition to that, you now also understand the applications of two Keras APIs: Sequential and Functional. Nicely done! \n",
    "\n",
    "By now, you know a bit about how the Functional API works and may have glimpsed the possibilities. In your next assignment, you'll really get a feel for its power when you get the opportunity to build a very deep ConvNet, using ResNets! "
   ]
  },
  {
   "cell_type": "markdown",
   "metadata": {},
   "source": [
    "<a name='6'></a>\n",
    "## 6 - Bibliography\n",
    "\n",
    "You're always encouraged to read the official documentation. To that end, you can find the docs for the Sequential and Functional APIs here: \n",
    "\n",
    "https://www.tensorflow.org/guide/keras/sequential_model\n",
    "\n",
    "https://www.tensorflow.org/guide/keras/functional"
   ]
  }
 ],
 "metadata": {
  "coursera": {
   "course_slug": "convolutional-neural-networks",
   "graded_item_id": "bwbJV",
   "launcher_item_id": "0TkXB"
  },
  "kernelspec": {
   "name": "python3",
   "display_name": "Python 3.9.5 64-bit"
  },
  "language_info": {
   "codemirror_mode": {
    "name": "ipython",
    "version": 3
   },
   "file_extension": ".py",
   "mimetype": "text/x-python",
   "name": "python",
   "nbconvert_exporter": "python",
   "pygments_lexer": "ipython3",
   "version": "3.9.5"
  },
  "interpreter": {
   "hash": "aee8b7b246df8f9039afb4144a1f6fd8d2ca17a180786b69acc140d282b71a49"
  }
 },
 "nbformat": 4,
 "nbformat_minor": 2
}