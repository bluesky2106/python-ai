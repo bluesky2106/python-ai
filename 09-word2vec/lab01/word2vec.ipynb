{
 "metadata": {
  "language_info": {
   "codemirror_mode": {
    "name": "ipython",
    "version": 3
   },
   "file_extension": ".py",
   "mimetype": "text/x-python",
   "name": "python",
   "nbconvert_exporter": "python",
   "pygments_lexer": "ipython3",
   "version": "3.9.5"
  },
  "orig_nbformat": 2,
  "kernelspec": {
   "name": "python395jvsc74a57bd0aee8b7b246df8f9039afb4144a1f6fd8d2ca17a180786b69acc140d282b71a49",
   "display_name": "Python 3.9.5 64-bit"
  },
  "metadata": {
   "interpreter": {
    "hash": "aee8b7b246df8f9039afb4144a1f6fd8d2ca17a180786b69acc140d282b71a49"
   }
  }
 },
 "nbformat": 4,
 "nbformat_minor": 2,
 "cells": [
  {
   "source": [
    "# Word2Vec"
   ],
   "cell_type": "markdown",
   "metadata": {}
  },
  {
   "source": [
    "## Import necessary packages"
   ],
   "cell_type": "markdown",
   "metadata": {}
  },
  {
   "cell_type": "code",
   "execution_count": 16,
   "metadata": {},
   "outputs": [],
   "source": [
    "import os\n",
    "import pandas as pd\n",
    "import string\n",
    "import gensim\n",
    "from gensim.test.utils import common_texts, get_tmpfile\n",
    "from gensim.models import Word2Vec"
   ]
  },
  {
   "source": [
    "## Load data"
   ],
   "cell_type": "markdown",
   "metadata": {}
  },
  {
   "cell_type": "code",
   "execution_count": 19,
   "metadata": {},
   "outputs": [],
   "source": [
    "dataset = pd.read_csv('datatrain.txt')"
   ]
  },
  {
   "cell_type": "code",
   "execution_count": 20,
   "metadata": {},
   "outputs": [
    {
     "output_type": "execute_result",
     "data": {
      "text/plain": [
       "                         danh_sách tác_phẩm doraemon\n",
       "0  doraemon nguyên_tác là xê ri anime và manga đư...\n",
       "1  bắt_đầu_từ những chương truyện nhỏ đăng trên t...\n",
       "2  sau đó chuyển_thể thành anime theo ba giai_đoạ...\n",
       "3  năm 2014 viz_media mua bản_quyền mỹ_hóa các yế...\n",
       "4        và phát_sóng trên disney xd kể từ 7 tháng 7\n",
       "5  xê ri cũng được chuyển_thể thành nhiều tác_phẩ...\n",
       "6  dưới đây là danh_sách các tác_phẩm về doraemon...\n",
       "7  được ra_mắt lần đầu dưới dạng các chương truyệ...\n",
       "8  sau đó được tập_hợp lại thành cuốn phát_hành c...\n",
       "9  vào năm 1980 truyện_dài được ra_mắt dựa trên p..."
      ],
      "text/html": "<div>\n<style scoped>\n    .dataframe tbody tr th:only-of-type {\n        vertical-align: middle;\n    }\n\n    .dataframe tbody tr th {\n        vertical-align: top;\n    }\n\n    .dataframe thead th {\n        text-align: right;\n    }\n</style>\n<table border=\"1\" class=\"dataframe\">\n  <thead>\n    <tr style=\"text-align: right;\">\n      <th></th>\n      <th>danh_sách tác_phẩm doraemon</th>\n    </tr>\n  </thead>\n  <tbody>\n    <tr>\n      <th>0</th>\n      <td>doraemon nguyên_tác là xê ri anime và manga đư...</td>\n    </tr>\n    <tr>\n      <th>1</th>\n      <td>bắt_đầu_từ những chương truyện nhỏ đăng trên t...</td>\n    </tr>\n    <tr>\n      <th>2</th>\n      <td>sau đó chuyển_thể thành anime theo ba giai_đoạ...</td>\n    </tr>\n    <tr>\n      <th>3</th>\n      <td>năm 2014 viz_media mua bản_quyền mỹ_hóa các yế...</td>\n    </tr>\n    <tr>\n      <th>4</th>\n      <td>và phát_sóng trên disney xd kể từ 7 tháng 7</td>\n    </tr>\n    <tr>\n      <th>5</th>\n      <td>xê ri cũng được chuyển_thể thành nhiều tác_phẩ...</td>\n    </tr>\n    <tr>\n      <th>6</th>\n      <td>dưới đây là danh_sách các tác_phẩm về doraemon...</td>\n    </tr>\n    <tr>\n      <th>7</th>\n      <td>được ra_mắt lần đầu dưới dạng các chương truyệ...</td>\n    </tr>\n    <tr>\n      <th>8</th>\n      <td>sau đó được tập_hợp lại thành cuốn phát_hành c...</td>\n    </tr>\n    <tr>\n      <th>9</th>\n      <td>vào năm 1980 truyện_dài được ra_mắt dựa trên p...</td>\n    </tr>\n  </tbody>\n</table>\n</div>"
     },
     "metadata": {},
     "execution_count": 20
    }
   ],
   "source": [
    "dataset.head(10)"
   ]
  },
  {
   "cell_type": "code",
   "execution_count": 21,
   "metadata": {},
   "outputs": [
    {
     "output_type": "execute_result",
     "data": {
      "text/plain": [
       "       danh_sách tác_phẩm doraemon\n",
       "count                       306854\n",
       "unique                      268378\n",
       "top     quận này được đặt tên theo\n",
       "freq                           855"
      ],
      "text/html": "<div>\n<style scoped>\n    .dataframe tbody tr th:only-of-type {\n        vertical-align: middle;\n    }\n\n    .dataframe tbody tr th {\n        vertical-align: top;\n    }\n\n    .dataframe thead th {\n        text-align: right;\n    }\n</style>\n<table border=\"1\" class=\"dataframe\">\n  <thead>\n    <tr style=\"text-align: right;\">\n      <th></th>\n      <th>danh_sách tác_phẩm doraemon</th>\n    </tr>\n  </thead>\n  <tbody>\n    <tr>\n      <th>count</th>\n      <td>306854</td>\n    </tr>\n    <tr>\n      <th>unique</th>\n      <td>268378</td>\n    </tr>\n    <tr>\n      <th>top</th>\n      <td>quận này được đặt tên theo</td>\n    </tr>\n    <tr>\n      <th>freq</th>\n      <td>855</td>\n    </tr>\n  </tbody>\n</table>\n</div>"
     },
     "metadata": {},
     "execution_count": 21
    }
   ],
   "source": [
    "dataset.describe()"
   ]
  },
  {
   "source": [
    "## Train model"
   ],
   "cell_type": "markdown",
   "metadata": {}
  },
  {
   "cell_type": "code",
   "execution_count": 38,
   "metadata": {
    "tags": []
   },
   "outputs": [],
   "source": [
    "document = dataset.values\n",
    "train_data = []\n",
    "for line in document:\n",
    "    # print(line[0].split(' '))\n",
    "    train_data.append(line[0].split(' '))"
   ]
  },
  {
   "cell_type": "code",
   "execution_count": 39,
   "metadata": {},
   "outputs": [],
   "source": [
    "# Skipgram model\n",
    "model = Word2Vec(train_data, min_count = 1, window = 5, sg = 1)\n",
    "model.wv.save('word2vec_skipgram.model')\n",
    "\n",
    "# CBOW model\n",
    "model = Word2Vec(train_data, min_count = 1, window = 5, sg = 0)\n",
    "model.wv.save('word2vec_CBOW.model')"
   ]
  },
  {
   "source": [
    "## Test skipgram result"
   ],
   "cell_type": "markdown",
   "metadata": {}
  },
  {
   "cell_type": "code",
   "execution_count": 46,
   "metadata": {},
   "outputs": [],
   "source": [
    "model = gensim.models.KeyedVectors.load('word2vec_skipgram.model')"
   ]
  },
  {
   "cell_type": "code",
   "execution_count": 47,
   "metadata": {},
   "outputs": [
    {
     "output_type": "execute_result",
     "data": {
      "text/plain": [
       "[('tham_quan', 0.8782998919487),\n",
       " ('du_khách', 0.8607070446014404),\n",
       " ('mua_sắm', 0.8177406787872314),\n",
       " ('lữ_hành', 0.8057720065116882),\n",
       " ('suối_tiên', 0.8010492920875549),\n",
       " ('nghỉ_dưỡng', 0.7877640724182129),\n",
       " ('tuy_hoà', 0.7845460176467896),\n",
       " ('chu_lai', 0.7743824124336243),\n",
       " ('khách', 0.7734001278877258),\n",
       " ('mộc_bài', 0.7730280756950378)]"
      ]
     },
     "metadata": {},
     "execution_count": 47
    }
   ],
   "source": [
    "model.most_similar(positive=['du_lịch'],topn=10)"
   ]
  },
  {
   "source": [
    "## Test cbow result"
   ],
   "cell_type": "markdown",
   "metadata": {}
  },
  {
   "cell_type": "code",
   "execution_count": 48,
   "metadata": {},
   "outputs": [],
   "source": [
    "model = gensim.models.KeyedVectors.load('word2vec_CBOW.model')"
   ]
  },
  {
   "cell_type": "code",
   "execution_count": 49,
   "metadata": {},
   "outputs": [
    {
     "output_type": "execute_result",
     "data": {
      "text/plain": [
       "[('tham_quan', 0.8263697624206543),\n",
       " ('du_khách', 0.7449432015419006),\n",
       " ('thương_mại', 0.7327798008918762),\n",
       " ('giải_trí', 0.7202842831611633),\n",
       " ('vui_chơi', 0.677874743938446),\n",
       " ('công_nghiệp', 0.6656993627548218),\n",
       " ('thể_thao', 0.6586810350418091),\n",
       " ('khách', 0.6551204919815063),\n",
       " ('mua_sắm', 0.6518455743789673),\n",
       " ('dịch_vụ', 0.6407651305198669)]"
      ]
     },
     "metadata": {},
     "execution_count": 49
    }
   ],
   "source": [
    "model.most_similar(positive=['du_lịch'],topn=10)"
   ]
  }
 ]
}