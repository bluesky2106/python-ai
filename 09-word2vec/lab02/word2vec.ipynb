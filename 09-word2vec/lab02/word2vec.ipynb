{
 "metadata": {
  "language_info": {
   "codemirror_mode": {
    "name": "ipython",
    "version": 3
   },
   "file_extension": ".py",
   "mimetype": "text/x-python",
   "name": "python",
   "nbconvert_exporter": "python",
   "pygments_lexer": "ipython3",
   "version": "3.9.5"
  },
  "orig_nbformat": 2,
  "kernelspec": {
   "name": "python395jvsc74a57bd0aee8b7b246df8f9039afb4144a1f6fd8d2ca17a180786b69acc140d282b71a49",
   "display_name": "Python 3.9.5 64-bit"
  },
  "metadata": {
   "interpreter": {
    "hash": "aee8b7b246df8f9039afb4144a1f6fd8d2ca17a180786b69acc140d282b71a49"
   }
  }
 },
 "nbformat": 4,
 "nbformat_minor": 2,
 "cells": [
  {
   "source": [
    "# Word2Vec\n",
    "\n",
    "Author : Nguyen Hoai Phuong\n",
    "\n",
    "Date: June 13th 2021"
   ],
   "cell_type": "markdown",
   "metadata": {}
  },
  {
   "source": [
    "## 1- Import necessary packages"
   ],
   "cell_type": "markdown",
   "metadata": {}
  },
  {
   "cell_type": "code",
   "execution_count": 56,
   "metadata": {},
   "outputs": [],
   "source": [
    "import os\n",
    "import pandas as pd\n",
    "import string\n",
    "\n",
    "import gensim\n",
    "from gensim.test.utils import common_texts, get_tmpfile\n",
    "from gensim.models import Word2Vec\n",
    "\n",
    "from nltk.corpus import stopwords \n",
    "from nltk.tokenize import word_tokenize"
   ]
  },
  {
   "source": [
    "## 2- Load data"
   ],
   "cell_type": "markdown",
   "metadata": {}
  },
  {
   "cell_type": "code",
   "execution_count": 57,
   "metadata": {},
   "outputs": [],
   "source": [
    "dataset = pd.read_csv('raw_data.csv')"
   ]
  },
  {
   "cell_type": "code",
   "execution_count": 58,
   "metadata": {},
   "outputs": [
    {
     "output_type": "execute_result",
     "data": {
      "text/plain": [
       "                                             content   category\n",
       "0  Võ sĩ MMA bị knock-out lạ kỳ vì... 'đụng đầu' ...   Thể thao\n",
       "1  Thi đấu từ máy bay ở độ cao 6.096m, ngôi sao 6...   Thể thao\n",
       "2  Ấn Độ yêu cầu mạng xã hội gỡ cụm từ 'biến thể ...  Công nghệ\n",
       "3  Tay đua 19 tuổi Jason Dupasquier qua đời sau t...   Thể thao\n",
       "4  Cảnh sát Ấn Độ 'cảnh báo' Công ty Twitter TTO ...  Công nghệ\n",
       "5  Sủng Cỏ thiên đường hoang sơ nơi cửa vịnh Đà N...    Du lịch\n",
       "6  Giận liên đoàn, CĐV Indonesia không vào sân cổ...   Thể thao\n",
       "7  Google bỏ cookie theo dõi người dùng là để 'là...  Công nghệ\n",
       "8  Võ sĩ hạng nặng đánh nhau trên sàn đấu, khán g...   Thể thao\n",
       "9  Bánh trứng thời nghèo khó Dan Bing bỗng len lỏ...    Du lịch"
      ],
      "text/html": "<div>\n<style scoped>\n    .dataframe tbody tr th:only-of-type {\n        vertical-align: middle;\n    }\n\n    .dataframe tbody tr th {\n        vertical-align: top;\n    }\n\n    .dataframe thead th {\n        text-align: right;\n    }\n</style>\n<table border=\"1\" class=\"dataframe\">\n  <thead>\n    <tr style=\"text-align: right;\">\n      <th></th>\n      <th>content</th>\n      <th>category</th>\n    </tr>\n  </thead>\n  <tbody>\n    <tr>\n      <th>0</th>\n      <td>Võ sĩ MMA bị knock-out lạ kỳ vì... 'đụng đầu' ...</td>\n      <td>Thể thao</td>\n    </tr>\n    <tr>\n      <th>1</th>\n      <td>Thi đấu từ máy bay ở độ cao 6.096m, ngôi sao 6...</td>\n      <td>Thể thao</td>\n    </tr>\n    <tr>\n      <th>2</th>\n      <td>Ấn Độ yêu cầu mạng xã hội gỡ cụm từ 'biến thể ...</td>\n      <td>Công nghệ</td>\n    </tr>\n    <tr>\n      <th>3</th>\n      <td>Tay đua 19 tuổi Jason Dupasquier qua đời sau t...</td>\n      <td>Thể thao</td>\n    </tr>\n    <tr>\n      <th>4</th>\n      <td>Cảnh sát Ấn Độ 'cảnh báo' Công ty Twitter TTO ...</td>\n      <td>Công nghệ</td>\n    </tr>\n    <tr>\n      <th>5</th>\n      <td>Sủng Cỏ thiên đường hoang sơ nơi cửa vịnh Đà N...</td>\n      <td>Du lịch</td>\n    </tr>\n    <tr>\n      <th>6</th>\n      <td>Giận liên đoàn, CĐV Indonesia không vào sân cổ...</td>\n      <td>Thể thao</td>\n    </tr>\n    <tr>\n      <th>7</th>\n      <td>Google bỏ cookie theo dõi người dùng là để 'là...</td>\n      <td>Công nghệ</td>\n    </tr>\n    <tr>\n      <th>8</th>\n      <td>Võ sĩ hạng nặng đánh nhau trên sàn đấu, khán g...</td>\n      <td>Thể thao</td>\n    </tr>\n    <tr>\n      <th>9</th>\n      <td>Bánh trứng thời nghèo khó Dan Bing bỗng len lỏ...</td>\n      <td>Du lịch</td>\n    </tr>\n  </tbody>\n</table>\n</div>"
     },
     "metadata": {},
     "execution_count": 58
    }
   ],
   "source": [
    "dataset.head(10)"
   ]
  },
  {
   "cell_type": "code",
   "execution_count": 59,
   "metadata": {},
   "outputs": [
    {
     "output_type": "execute_result",
     "data": {
      "text/plain": [
       "                                                  content  category\n",
       "count                                                7172      7172\n",
       "unique                                               7172         3\n",
       "top     Quýt hồng Lai Vung vào vụ chín, thu hút khách ...  Thể thao\n",
       "freq                                                    1      3058"
      ],
      "text/html": "<div>\n<style scoped>\n    .dataframe tbody tr th:only-of-type {\n        vertical-align: middle;\n    }\n\n    .dataframe tbody tr th {\n        vertical-align: top;\n    }\n\n    .dataframe thead th {\n        text-align: right;\n    }\n</style>\n<table border=\"1\" class=\"dataframe\">\n  <thead>\n    <tr style=\"text-align: right;\">\n      <th></th>\n      <th>content</th>\n      <th>category</th>\n    </tr>\n  </thead>\n  <tbody>\n    <tr>\n      <th>count</th>\n      <td>7172</td>\n      <td>7172</td>\n    </tr>\n    <tr>\n      <th>unique</th>\n      <td>7172</td>\n      <td>3</td>\n    </tr>\n    <tr>\n      <th>top</th>\n      <td>Quýt hồng Lai Vung vào vụ chín, thu hút khách ...</td>\n      <td>Thể thao</td>\n    </tr>\n    <tr>\n      <th>freq</th>\n      <td>1</td>\n      <td>3058</td>\n    </tr>\n  </tbody>\n</table>\n</div>"
     },
     "metadata": {},
     "execution_count": 59
    }
   ],
   "source": [
    "dataset.describe()"
   ]
  },
  {
   "source": [
    "## 3- Preprocessing data"
   ],
   "cell_type": "markdown",
   "metadata": {}
  },
  {
   "source": [
    "### 3.1 - Cleanup text"
   ],
   "cell_type": "markdown",
   "metadata": {}
  },
  {
   "cell_type": "code",
   "execution_count": 60,
   "metadata": {},
   "outputs": [
    {
     "output_type": "execute_result",
     "data": {
      "text/plain": [
       "array([\"Võ sĩ MMA bị knock-out lạ kỳ vì... 'đụng đầu' với đối thủ TTO - Trong lúc cố gắng tấn công, võ sĩ người Nga Kiril Fomenkov vô tình đụng đầu với đối thủ và bị knock-out một cách kỳ lạ ở trận so tài với Aleksandr Yakovenko ngày 30-5, tại sự kiện Eagle Fighting Championship của Nga.\",\n",
       "       'Thi đấu từ máy bay ở độ cao 6.096m, ngôi sao 6.000 lần nhảy dù tử nạn TTO - Ngôi sao nhảy dù 30 tuổi Dimitri Didenko đã tử nạn ngày 15-3, sau khi rơi từ độ cao 20.000 ft (6.096m) trong lúc đang thi đấu ở Giải vô địch nhảy dù Úc 2021. chiếc dù của anh gặp sự cố không thể mở ra được trong lúc thi đấu. Qua điều tra, cảnh sát Úc kết luận đây là một tai nạn và \"gây ớn lạnh\" cho tất cả những người đã chứng kiến. Cảnh sát Úc cho biết cụ thể: \" Trong khoảng thời gian từ 13h chiều đến 14h30, người đàn ông đã nhảy từ một chiếc máy bay và người ta tin rằng chiếc dù của anh ấy đã không được mở đúng cách khiến anh ấy rơi xuống đất. Anh ấy bị thương rất nặng và chết tại hiện trường, dù đội cứu thương đã cố gắng cứu chữa\".',\n",
       "       'Ấn Độ yêu cầu mạng xã hội gỡ cụm từ \\'biến thể Ấn Độ\\' TTO - Bộ Công nghệ thông tin (IT) Ấn Độ yêu cầu tất cả công ty mạng xã hội gỡ bỏ tất cả nội dung nào đề cập đến cụm từ \"biến thể Ấn Độ\" của virus corona. Theo Hãng tin Reuters, trong thư gửi các công ty mạng xã hội ngày 21-5, Bộ Công nghệ thông tin Ấn Độ đã yêu cầu các công ty này \"gỡ bỏ tất cả nội dung\" đề cập đến cụm từ \"biến thể Ấn Độ\" (Indian variant) của virus corona.',\n",
       "       ...,\n",
       "       'Quyến rũ Sa Pa mùa nước đổ TTO - Tháng 5, bắt đầu mùa mưa cũng là lúc những thửa ruộng bậc thang lấp lánh như những chiếc gương giữa trời tạo lên vẻ đẹp vô cùng quyến rũ với du khách trong và ngoài nước khi tới Sa Pa (Lào Cai).',\n",
       "       'Tàu vận tải Triều Tiên chìm ngoài khơi Nhật Bản TTO - Theo Hãng tin Yonhap ngày 23-5, một tàu vận tải của Triều Tiên đã chìm ngoài khơi Nhật Bản. Tàu này được cho là nằm trong \"danh sách đen\" của Hội đồng Bảo an Liên Hiệp Quốc. a phần các lệnh cấm này đều liên quan đến chương trình vũ khí hạt nhân của Bình Nhưỡng, và được đặt ra kể từ sau đợt thử nghiệm hạt nhân đầu tiên của Triều Tiên năm 2006 .',\n",
       "       '\\u200bThổ Chu sẽ lên bản đồ du lịch Phú Quốc TT -\\xa0\\xa0Hiện có nhiều loại bản đồ dưới dạng in kèm các tờ bướm quảng cáo sản phẩm du lịch liên quan đến Phú Quốc đều không in xã Thổ Châu.'],\n",
       "      dtype=object)"
      ]
     },
     "metadata": {},
     "execution_count": 60
    }
   ],
   "source": [
    "document = dataset['content'].values\n",
    "document"
   ]
  },
  {
   "cell_type": "code",
   "execution_count": 111,
   "metadata": {
    "tags": []
   },
   "outputs": [],
   "source": [
    "raw_data = []\n",
    "for line in document:\n",
    "    s = line.lower().replace('\\n', ' ')\n",
    "    s = s.replace('\"', ' ')\n",
    "    s = s.replace(\"'\", ' ')\n",
    "    raw_data.append(s)"
   ]
  },
  {
   "source": [
    "### 3.2 - Tokenize\n",
    "\n",
    "In this step, we will tokenize the vietnamese text. In order to do that, please following this [link](https://github.com/vncorenlp/VnCoreNLP#python) to install vncorenlp and running the server.\n",
    "\n",
    "After running the vncorenlp server on localhost:8000, we can use it to tokenize our text"
   ],
   "cell_type": "markdown",
   "metadata": {}
  },
  {
   "cell_type": "code",
   "execution_count": 105,
   "metadata": {},
   "outputs": [],
   "source": [
    "from vncorenlp import VnCoreNLP\n",
    "annotator = VnCoreNLP(address=\"http://127.0.0.1\", port=8000)"
   ]
  },
  {
   "source": [
    "** Example of how to use vncorenlp to tokenize text **"
   ],
   "cell_type": "markdown",
   "metadata": {}
  },
  {
   "cell_type": "code",
   "execution_count": 106,
   "metadata": {},
   "outputs": [
    {
     "output_type": "stream",
     "name": "stdout",
     "text": [
      "{'sentences': [[{'index': 1, 'form': 'Ông', 'posTag': 'Nc', 'nerLabel': 'O', 'head': 4, 'depLabel': 'sub'}, {'index': 2, 'form': 'Nguyễn_Khắc_Chúc', 'posTag': 'Np', 'nerLabel': 'B-PER', 'head': 1, 'depLabel': 'nmod'}, {'index': 3, 'form': 'đang', 'posTag': 'R', 'nerLabel': 'O', 'head': 4, 'depLabel': 'adv'}, {'index': 4, 'form': 'làm_việc', 'posTag': 'V', 'nerLabel': 'O', 'head': 0, 'depLabel': 'root'}, {'index': 5, 'form': 'tại', 'posTag': 'E', 'nerLabel': 'O', 'head': 4, 'depLabel': 'loc'}, {'index': 6, 'form': 'Đại_học', 'posTag': 'N', 'nerLabel': 'B-ORG', 'head': 5, 'depLabel': 'pob'}, {'index': 7, 'form': 'Quốc_gia', 'posTag': 'N', 'nerLabel': 'I-ORG', 'head': 6, 'depLabel': 'nmod'}, {'index': 8, 'form': 'Hà_Nội', 'posTag': 'Np', 'nerLabel': 'I-ORG', 'head': 6, 'depLabel': 'nmod'}, {'index': 9, 'form': '.', 'posTag': 'CH', 'nerLabel': 'O', 'head': 4, 'depLabel': 'punct'}], [{'index': 1, 'form': 'Bà', 'posTag': 'Nc', 'nerLabel': 'O', 'head': 9, 'depLabel': 'sub'}, {'index': 2, 'form': 'Lan', 'posTag': 'Np', 'nerLabel': 'B-PER', 'head': 1, 'depLabel': 'nmod'}, {'index': 3, 'form': ',', 'posTag': 'CH', 'nerLabel': 'O', 'head': 1, 'depLabel': 'punct'}, {'index': 4, 'form': 'vợ', 'posTag': 'N', 'nerLabel': 'O', 'head': 1, 'depLabel': 'nmod'}, {'index': 5, 'form': 'ông', 'posTag': 'Nc', 'nerLabel': 'O', 'head': 4, 'depLabel': 'nmod'}, {'index': 6, 'form': 'Chúc', 'posTag': 'Np', 'nerLabel': 'B-PER', 'head': 5, 'depLabel': 'nmod'}, {'index': 7, 'form': ',', 'posTag': 'CH', 'nerLabel': 'O', 'head': 1, 'depLabel': 'punct'}, {'index': 8, 'form': 'cũng', 'posTag': 'R', 'nerLabel': 'O', 'head': 9, 'depLabel': 'adv'}, {'index': 9, 'form': 'làm_việc', 'posTag': 'V', 'nerLabel': 'O', 'head': 0, 'depLabel': 'root'}, {'index': 10, 'form': 'tại', 'posTag': 'E', 'nerLabel': 'O', 'head': 9, 'depLabel': 'loc'}, {'index': 11, 'form': 'đây', 'posTag': 'P', 'nerLabel': 'O', 'head': 10, 'depLabel': 'pob'}, {'index': 12, 'form': '.', 'posTag': 'CH', 'nerLabel': 'O', 'head': 9, 'depLabel': 'punct'}]]}\n------------------------------------------------------------------\n[['Ông', 'Nguyễn_Khắc_Chúc', 'đang', 'làm_việc', 'tại', 'Đại_học', 'Quốc_gia', 'Hà_Nội', '.'], ['Bà', 'Lan', ',', 'vợ', 'ông', 'Chúc', ',', 'cũng', 'làm_việc', 'tại', 'đây', '.']]\n"
     ]
    }
   ],
   "source": [
    "# Input \n",
    "text = \"Ông Nguyễn Khắc Chúc  đang làm việc tại Đại học Quốc gia Hà Nội. Bà Lan, vợ ông Chúc, cũng làm việc tại đây.\"\n",
    "\n",
    "# To perform word segmentation, POS tagging, NER and then dependency parsing\n",
    "annotated_text = annotator.annotate(text)\n",
    "print(annotated_text)\n",
    "\n",
    "print('------------------------------------------------------------------')\n",
    "\n",
    "# To perform word segmentation only\n",
    "word_segmented_text = annotator.tokenize(text)\n",
    "print(word_segmented_text)"
   ]
  },
  {
   "source": [
    "** Tokenized the document **"
   ],
   "cell_type": "markdown",
   "metadata": {}
  },
  {
   "cell_type": "code",
   "execution_count": 114,
   "metadata": {
    "tags": []
   },
   "outputs": [],
   "source": [
    "train_data = []\n",
    "for line in raw_data:\n",
    "    word_segmented_text = annotator.tokenize(line)\n",
    "    train_data.extend(word_segmented_text)"
   ]
  },
  {
   "source": [
    "## Train model"
   ],
   "cell_type": "markdown",
   "metadata": {}
  },
  {
   "cell_type": "code",
   "execution_count": 115,
   "metadata": {},
   "outputs": [],
   "source": [
    "# Skipgram model\n",
    "model = Word2Vec(train_data, min_count = 1, window = 5, sg = 1)\n",
    "model.wv.save('word2vec_skipgram.model')\n",
    "\n",
    "# CBOW model\n",
    "model = Word2Vec(train_data, min_count = 1, window = 5, sg = 0)\n",
    "model.wv.save('word2vec_CBOW.model')"
   ]
  },
  {
   "source": [
    "## Test skipgram result"
   ],
   "cell_type": "markdown",
   "metadata": {}
  },
  {
   "cell_type": "code",
   "execution_count": 120,
   "metadata": {},
   "outputs": [],
   "source": [
    "model = gensim.models.KeyedVectors.load('word2vec_skipgram.model')"
   ]
  },
  {
   "cell_type": "code",
   "execution_count": 121,
   "metadata": {},
   "outputs": [
    {
     "output_type": "execute_result",
     "data": {
      "text/plain": [
       "[('kích_cầu', 0.7140858173370361),\n",
       " ('nội_địa', 0.7095187306404114),\n",
       " ('lữ_hành', 0.6995542645454407),\n",
       " ('sông_cửu_long', 0.6848586201667786),\n",
       " ('mở_cửa', 0.6757857799530029),\n",
       " ('tour', 0.673807680606842),\n",
       " ('tham_quan', 0.6729914546012878),\n",
       " ('hội_chợ', 0.6717577576637268),\n",
       " ('diều', 0.6709558367729187),\n",
       " ('định_hướng', 0.6647369265556335)]"
      ]
     },
     "metadata": {},
     "execution_count": 121
    }
   ],
   "source": [
    "model.most_similar(positive=['du_lịch'],topn=10)"
   ]
  },
  {
   "cell_type": "code",
   "execution_count": 122,
   "metadata": {},
   "outputs": [
    {
     "output_type": "execute_result",
     "data": {
      "text/plain": [
       "[('akira', 0.9678785800933838),\n",
       " ('riedl', 0.9642030596733093),\n",
       " ('yong', 0.9608131051063538),\n",
       " ('jin', 0.9606932997703552),\n",
       " ('mcmenemy', 0.960474967956543),\n",
       " ('shin', 0.9597348570823669),\n",
       " ('joachim', 0.9561440348625183),\n",
       " ('tae', 0.9541601538658142),\n",
       " ('loew', 0.9528109431266785),\n",
       " ('toshiya', 0.9526103734970093)]"
      ]
     },
     "metadata": {},
     "execution_count": 122
    }
   ],
   "source": [
    "model.most_similar(positive=['nishino'],topn=10)"
   ]
  },
  {
   "source": [
    "## Test cbow result"
   ],
   "cell_type": "markdown",
   "metadata": {}
  },
  {
   "cell_type": "code",
   "execution_count": 123,
   "metadata": {},
   "outputs": [],
   "source": [
    "model1 = gensim.models.KeyedVectors.load('word2vec_CBOW.model')"
   ]
  },
  {
   "cell_type": "code",
   "execution_count": 124,
   "metadata": {},
   "outputs": [
    {
     "output_type": "execute_result",
     "data": {
      "text/plain": [
       "[('quốc_tế', 0.8715706467628479),\n",
       " ('lữ_hành', 0.8506467342376709),\n",
       " ('hội_nhập', 0.8504394292831421),\n",
       " ('phát_triển', 0.8407766222953796),\n",
       " ('ngành', 0.8349848389625549),\n",
       " ('văn_hoá', 0.8338674902915955),\n",
       " ('tham_quan', 0.8241179585456848),\n",
       " ('chương_trình', 0.8218135237693787),\n",
       " ('ẩm_thực', 0.8210338950157166),\n",
       " ('tour', 0.8206571340560913)]"
      ]
     },
     "metadata": {},
     "execution_count": 124
    }
   ],
   "source": [
    "model1.most_similar(positive=['du_lịch'],topn=10)"
   ]
  },
  {
   "cell_type": "code",
   "execution_count": 125,
   "metadata": {},
   "outputs": [
    {
     "output_type": "execute_result",
     "data": {
      "text/plain": [
       "[('klopp', 0.9610585570335388),\n",
       " ('guillaume', 0.9599000215530396),\n",
       " ('roy', 0.9558120369911194),\n",
       " ('capello', 0.9519848823547363),\n",
       " ('akira', 0.9502278566360474),\n",
       " ('mourinho', 0.9492140412330627),\n",
       " ('hodgson', 0.9474775791168213),\n",
       " ('jurgen', 0.9461413621902466),\n",
       " ('toshiya', 0.945853054523468),\n",
       " ('miura', 0.9445356130599976)]"
      ]
     },
     "metadata": {},
     "execution_count": 125
    }
   ],
   "source": [
    "model1.most_similar(positive=['nishino'],topn=10)"
   ]
  },
  {
   "cell_type": "code",
   "execution_count": null,
   "metadata": {},
   "outputs": [],
   "source": []
  }
 ]
}