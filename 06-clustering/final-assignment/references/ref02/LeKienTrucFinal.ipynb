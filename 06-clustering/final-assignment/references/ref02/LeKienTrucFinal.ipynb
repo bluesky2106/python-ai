{
  "nbformat": 4,
  "nbformat_minor": 0,
  "metadata": {
    "colab": {
      "name": "LeKienTrucFinal.ipynb",
      "provenance": [],
      "collapsed_sections": []
    },
    "kernelspec": {
      "name": "python3",
      "display_name": "Python 3"
    },
    "language_info": {
      "name": "python"
    }
  },
  "cells": [
    {
      "cell_type": "code",
      "metadata": {
        "id": "jFFKmh71qQSn"
      },
      "source": [
        "# Author TrucLK\n",
        "# Final assignement\n",
        "# Cluster the 5th dataset\n",
        "from sklearn.feature_extraction.text import TfidfVectorizer\n",
        "from gensim.models import Word2Vec\n",
        "from sklearn import cluster\n",
        "from sklearn.metrics import silhouette_score\n",
        "from scipy.cluster.hierarchy import dendrogram\n",
        "import matplotlib.pyplot as plt\n",
        "import numpy as np\n",
        "\n",
        "\n",
        "dataset = \"\"\"\n",
        "AABAAABBBAACD,\n",
        "ACDAAABBBCCCDDD,\n",
        "CCDDDCDDDDDCCC,\n",
        "ABCDEABCDEABCDE,\n",
        "ABBBBBBBBBBB,\n",
        "DEADEADDDDDE,\n",
        "BCBBBBCDCBBEEEEE,\n",
        "ABCAAAABBE,\n",
        "ABBEEABCEE,\n",
        "ABCBCBCBCDDD\n",
        "\"\"\""
      ],
      "execution_count": 1,
      "outputs": []
    },
    {
      "cell_type": "code",
      "metadata": {
        "colab": {
          "base_uri": "https://localhost:8080/"
        },
        "id": "fqFKJKuGqw1W",
        "outputId": "7194de78-d6ec-45ba-998f-4a07c6d02326"
      },
      "source": [
        "sentences = dataset.replace(\"\\n\",\"\").split(\",\")\n",
        "sentences"
      ],
      "execution_count": 2,
      "outputs": [
        {
          "output_type": "execute_result",
          "data": {
            "text/plain": [
              "['AABAAABBBAACD',\n",
              " 'ACDAAABBBCCCDDD',\n",
              " 'CCDDDCDDDDDCCC',\n",
              " 'ABCDEABCDEABCDE',\n",
              " 'ABBBBBBBBBBB',\n",
              " 'DEADEADDDDDE',\n",
              " 'BCBBBBCDCBBEEEEE',\n",
              " 'ABCAAAABBE',\n",
              " 'ABBEEABCEE',\n",
              " 'ABCBCBCBCDDD']"
            ]
          },
          "metadata": {
            "tags": []
          },
          "execution_count": 2
        }
      ]
    },
    {
      "cell_type": "code",
      "metadata": {
        "id": "IERS5MPhro2Y"
      },
      "source": [
        "tfidfVectorizer = TfidfVectorizer(analyzer='char')\n",
        "X = tfidfVectorizer.fit_transform(sentences).toarray()\n",
        "\n",
        "vocab = tfidfVectorizer.get_feature_names()"
      ],
      "execution_count": 3,
      "outputs": []
    },
    {
      "cell_type": "code",
      "metadata": {
        "colab": {
          "base_uri": "https://localhost:8080/"
        },
        "id": "noORKZ9TsWlz",
        "outputId": "361fed62-582e-4632-ad93-e25d74db6b7a"
      },
      "source": [
        "X, vocab"
      ],
      "execution_count": 4,
      "outputs": [
        {
          "output_type": "execute_result",
          "data": {
            "text/plain": [
              "(array([[0.8538756 , 0.48792891, 0.12198223, 0.1339484 , 0.        ],\n",
              "        [0.51514109, 0.38635582, 0.51514109, 0.56567525, 0.        ],\n",
              "        [0.        , 0.        , 0.56400248, 0.8257731 , 0.        ],\n",
              "        [0.40840975, 0.40840975, 0.40840975, 0.44847381, 0.54632926],\n",
              "        [0.09053575, 0.99589321, 0.        , 0.        , 0.        ],\n",
              "        [0.2247474 , 0.        , 0.        , 0.86378111, 0.45096651],\n",
              "        [0.        , 0.6865987 , 0.29425659, 0.10770749, 0.65604449],\n",
              "        [0.8243439 , 0.49460634, 0.16486878, 0.        , 0.22054478],\n",
              "        [0.30631423, 0.45947135, 0.15315712, 0.        , 0.81951239],\n",
              "        [0.15100923, 0.6040369 , 0.6040369 , 0.49746865, 0.        ]]),\n",
              " ['a', 'b', 'c', 'd', 'e'])"
            ]
          },
          "metadata": {
            "tags": []
          },
          "execution_count": 4
        }
      ]
    },
    {
      "cell_type": "code",
      "metadata": {
        "colab": {
          "base_uri": "https://localhost:8080/",
          "height": 268
        },
        "id": "vTjXu1ANt75W",
        "outputId": "1211adf6-2edf-4c9f-cdf9-754cfaf9903f"
      },
      "source": [
        "import scipy.cluster.hierarchy as sch\n",
        "dendrogram = sch.dendrogram(sch.linkage(X, method = 'ward'))\n",
        "plt.show()"
      ],
      "execution_count": 5,
      "outputs": [
        {
          "output_type": "display_data",
          "data": {
            "image/png": "[encoded data removed]",
            "text/plain": [
              "<Figure size 432x288 with 1 Axes>"
            ]
          },
          "metadata": {
            "tags": [],
            "needs_background": "light"
          }
        }
      ]
    },
    {
      "cell_type": "code",
      "metadata": {
        "id": "oqg-3wvavKtI"
      },
      "source": [
        "def print_cluster(data, y, cluster_num):\n",
        "  print(f\"Clustering data for {cluster_num+1}\")\n",
        "  for n in range(len(data)):\n",
        "    if y[n] == cluster_num:\n",
        "      print(n, data[n])\n",
        "  print(f\"====================\")\n",
        "  print(f\"\")"
      ],
      "execution_count": 6,
      "outputs": []
    },
    {
      "cell_type": "code",
      "metadata": {
        "colab": {
          "base_uri": "https://localhost:8080/"
        },
        "id": "1J9e2WYSuAxf",
        "outputId": "e7c45252-2c98-4cf6-e01a-54f114363bb2"
      },
      "source": [
        "NUMBER_OF_CLUSTER = 3\n",
        "from sklearn.cluster import AgglomerativeClustering\n",
        "hac = AgglomerativeClustering(n_clusters = NUMBER_OF_CLUSTER, affinity = 'euclidean', linkage = 'ward')\n",
        "y_hac = hac.fit_predict(X)\n",
        "for i in range(NUMBER_OF_CLUSTER):\n",
        "  print_cluster(sentences, y_hac, i)"
      ],
      "execution_count": 7,
      "outputs": [
        {
          "output_type": "stream",
          "text": [
            "Clustering data for 1\n",
            "0 AABAAABBBAACD\n",
            "4 ABBBBBBBBBBB\n",
            "7 ABCAAAABBE\n",
            "====================\n",
            "\n",
            "Clustering data for 2\n",
            "1 ACDAAABBBCCCDDD\n",
            "2 CCDDDCDDDDDCCC\n",
            "5 DEADEADDDDDE\n",
            "9 ABCBCBCBCDDD\n",
            "====================\n",
            "\n",
            "Clustering data for 3\n",
            "3 ABCDEABCDEABCDE\n",
            "6 BCBBBBCDCBBEEEEE\n",
            "8 ABBEEABCEE\n",
            "====================\n",
            "\n"
          ],
          "name": "stdout"
        }
      ]
    },
    {
      "cell_type": "code",
      "metadata": {
        "colab": {
          "base_uri": "https://localhost:8080/",
          "height": 295
        },
        "id": "u_fDCV7rvCYM",
        "outputId": "ddbaf0ae-d112-4a06-ec7a-50e9f919b254"
      },
      "source": [
        "from sklearn.cluster import KMeans\n",
        "wcss = []\n",
        "for i in range(1,10): \n",
        "    kmeans = KMeans(n_clusters = i, init = 'k-means++', max_iter = 300, n_init = 10, random_state = 0)\n",
        "    kmeans.fit(X)\n",
        "    wcss.append(kmeans.inertia_)\n",
        "plt.plot(range(1,10), wcss)\n",
        "plt.title('The Elbow Method')\n",
        "plt.xlabel('Number of clusters')\n",
        "plt.ylabel('WCSS')\n",
        "plt.show()"
      ],
      "execution_count": 8,
      "outputs": [
        {
          "output_type": "display_data",
          "data": {
            "image/png": "[encoded data removed]",
            "text/plain": [
              "<Figure size 432x288 with 1 Axes>"
            ]
          },
          "metadata": {
            "tags": [],
            "needs_background": "light"
          }
        }
      ]
    },
    {
      "cell_type": "code",
      "metadata": {
        "colab": {
          "base_uri": "https://localhost:8080/"
        },
        "id": "Yn9VcQZfvwfK",
        "outputId": "d240b2c0-bac6-4228-f63c-9f013b2b7726"
      },
      "source": [
        "NUMBER_OF_CLUSTER = 3\n",
        "kmeans = KMeans(n_clusters = NUMBER_OF_CLUSTER, init = 'k-means++', max_iter = 300, n_init = 10, random_state = 0)\n",
        "y_kmeans = kmeans.fit_predict(X)\n",
        "print(silhouette_score(X, y_kmeans))\n",
        "\n",
        "for i in range(NUMBER_OF_CLUSTER):\n",
        "  print_cluster(sentences, y_kmeans, i)"
      ],
      "execution_count": 9,
      "outputs": [
        {
          "output_type": "stream",
          "text": [
            "0.2539192732511972\n",
            "Clustering data for 1\n",
            "1 ACDAAABBBCCCDDD\n",
            "2 CCDDDCDDDDDCCC\n",
            "5 DEADEADDDDDE\n",
            "9 ABCBCBCBCDDD\n",
            "====================\n",
            "\n",
            "Clustering data for 2\n",
            "0 AABAAABBBAACD\n",
            "4 ABBBBBBBBBBB\n",
            "7 ABCAAAABBE\n",
            "====================\n",
            "\n",
            "Clustering data for 3\n",
            "3 ABCDEABCDEABCDE\n",
            "6 BCBBBBCDCBBEEEEE\n",
            "8 ABBEEABCEE\n",
            "====================\n",
            "\n"
          ],
          "name": "stdout"
        }
      ]
    },
    {
      "cell_type": "code",
      "metadata": {
        "colab": {
          "base_uri": "https://localhost:8080/",
          "height": 282
        },
        "id": "iyYycC37v5fr",
        "outputId": "122b997e-5405-4f4f-ceaf-7c86ed13d13b"
      },
      "source": [
        "plt.scatter(X[:,0], X[:, 2], c= y_kmeans )\n"
      ],
      "execution_count": 10,
      "outputs": [
        {
          "output_type": "execute_result",
          "data": {
            "text/plain": [
              "<matplotlib.collections.PathCollection at 0x7fbc5d7b7f50>"
            ]
          },
          "metadata": {
            "tags": []
          },
          "execution_count": 10
        },
        {
          "output_type": "display_data",
          "data": {
            "image/png": "[encoded data removed]",
            "text/plain": [
              "<Figure size 432x288 with 1 Axes>"
            ]
          },
          "metadata": {
            "tags": [],
            "needs_background": "light"
          }
        }
      ]
    },
    {
      "cell_type": "code",
      "metadata": {
        "id": "x57IygElw-Qe"
      },
      "source": [
        "# Manually Calculate Kmeans"
      ],
      "execution_count": 11,
      "outputs": []
    },
    {
      "cell_type": "code",
      "metadata": {
        "colab": {
          "base_uri": "https://localhost:8080/"
        },
        "id": "_sEeQ3Wyy5pE",
        "outputId": "7a8fef3b-42a6-4e71-bb3c-19d44628c3dd"
      },
      "source": [
        "import math\n",
        "from collections import defaultdict\n",
        "\n",
        "D = X\n",
        "\n",
        "\n",
        "def distance(a, b):\n",
        "    distance = 0\n",
        "    for i in range(len(a)):\n",
        "        distance += math.pow(a[i] - b[i], 2)\n",
        "    return round(math.sqrt(distance), 3)\n",
        "\n",
        "\n",
        "distance_square = defaultdict(dict)\n",
        "least_len = 100000000000000000000000000\n",
        "least_i = 0\n",
        "least_j = 0\n",
        "order = []\n",
        "for i in range(len(D)):\n",
        "    for j in range(i + 1, len(D)):\n",
        "        dd = distance(D[i], D[j])\n",
        "        distance_square[i][j] = dd\n",
        "        distance_square[j][i] = dd\n",
        "        order.append((dd, i + 1, j + 1))\n",
        "        if dd < least_len:\n",
        "            least_len = dd\n",
        "            least_i = i\n",
        "            least_j = j\n",
        "\n",
        "# distance_square[j][i] = dd\n",
        "\n",
        "\n",
        "def find_avg(arr):\n",
        "    # Array is a list of averge\n",
        "    # D1 D2, D3\n",
        "    new_array = defaultdict(int)\n",
        "    for i in range(len(arr)):\n",
        "        for j in range(len(D[arr[i]])):\n",
        "            new_array[j] += D[arr[i]][j]\n",
        "    for j in range(len(D[arr[0]])):\n",
        "        new_array[j] = new_array[j] / len(arr)\n",
        "    return new_array\n",
        "\n",
        "\n",
        "# print(distance_square)\n",
        "A = []\n",
        "for i in range(len(D)):\n",
        "    for j in range(len(D)):\n",
        "        for z in range(len(D)):\n",
        "            A.append((i, j, z))\n",
        "# print(A)\n",
        "\n",
        "\n",
        "class Point(object):\n",
        "    # Point definition\n",
        "    def __init__(self, vector, name):\n",
        "        self.vector = vector\n",
        "        self.name = name\n",
        "\n",
        "    def __repr__(self):\n",
        "        return self.name\n",
        "\n",
        "\n",
        "class Group(object):\n",
        "    # List of Point\n",
        "    def __init__(self, points=None):\n",
        "        self.points = points\n",
        "\n",
        "    def __repr__(self):\n",
        "        return self.__str__()\n",
        "\n",
        "    def __str__(self):\n",
        "        result = \"{\"\n",
        "        for point in self.points:\n",
        "            result += str(point) + \",\"\n",
        "        result = result[:-1]\n",
        "        return result + \"}\"\n",
        "\n",
        "    def get_a_point(self):\n",
        "        total = 0\n",
        "        count = 0\n",
        "        for i, p1 in self.points:\n",
        "            for j, p2 in self.points:\n",
        "                if j > i:\n",
        "                    total += point_distance(p1, p2)\n",
        "                    count += 1\n",
        "        return total / count\n",
        "\n",
        "    def contain_point(self, point):\n",
        "        for p1 in self.points:\n",
        "            if str(p1) == str(point):\n",
        "                return True\n",
        "        else:\n",
        "            False\n",
        "\n",
        "    def add_point(self, point):\n",
        "        self.points.append(point)\n",
        "\n",
        "    def remove_point(self, point):\n",
        "        new_points = []\n",
        "        for p1 in self.points:\n",
        "            if str(point) != str(p1):\n",
        "                new_points.append(p1)\n",
        "        self.points = new_points\n",
        "\n",
        "    def get_central(self):\n",
        "        # Return central vector\n",
        "        central = []\n",
        "        for i in range(len(self.points[0].vector)):\n",
        "            total = 0\n",
        "            count = 0\n",
        "            for j in range(len(self.points)):\n",
        "                total += self.points[j].vector[i]\n",
        "                count += 1\n",
        "            central.append(total / count)\n",
        "        return Point(central, \"GroupCentral\")\n",
        "\n",
        "\n",
        "class AllGroup(object):\n",
        "    # List of current group\n",
        "\n",
        "    def __init__(self, groups=None, algo=\"single\"):\n",
        "        self.groups = groups\n",
        "        self.algo = algo\n",
        "\n",
        "    def __repr__(self):\n",
        "        return self.__str__()\n",
        "\n",
        "    def __str__(self):\n",
        "        result = \"\"\n",
        "        for group in self.groups:\n",
        "            result += str(group) + \",\"\n",
        "        return result[:-1]\n",
        "\n",
        "    def merge(self):\n",
        "        min_distance = None\n",
        "        new_g1 = None\n",
        "        new_g2 = None\n",
        "        new_groups = []\n",
        "        del_position = 0\n",
        "        for position1, g1 in enumerate(self.groups):\n",
        "            for position2, g2 in enumerate(self.groups):\n",
        "                if position1 == position2:\n",
        "                    continue\n",
        "                distance = group_distance(g1, g2, self.algo)\n",
        "                if not min_distance or distance < min_distance:\n",
        "                    min_distance = distance\n",
        "                    new_g1 = g1\n",
        "                    new_g2 = g2\n",
        "                    del_position = position2\n",
        "        new_g1.points += new_g2.points\n",
        "        for position, group in enumerate(self.groups):\n",
        "            if position != del_position:\n",
        "                new_groups.append(group)\n",
        "        self.min_distance = min_distance\n",
        "        self.groups = new_groups\n",
        "\n",
        "    def get_s_point(self):\n",
        "        s_dict = defaultdict(float)\n",
        "        b_dict = defaultdict(float)\n",
        "        a_dict = defaultdict(float)\n",
        "        for i, group1 in enumerate(self.groups):\n",
        "            # Get all group and point\n",
        "            points1 = group1.points\n",
        "            if len(points1) == 1:\n",
        "                s_dict[str(points1[0])] = 0\n",
        "                continue\n",
        "            for j, point1 in enumerate(group1.points):\n",
        "                total = 0\n",
        "                count = 0\n",
        "                for z, point2 in enumerate(group1.points):\n",
        "                    if z == j:\n",
        "                        continue\n",
        "                    total += point_distance(point1, point2)\n",
        "                    count += 1\n",
        "                a_dict[str(point1)] = total / count\n",
        "\n",
        "                min_external = None\n",
        "                for z, group2 in enumerate(self.groups):\n",
        "                    total = 0\n",
        "                    count = 0\n",
        "                    if z == i:\n",
        "                        continue\n",
        "\n",
        "                    for zz, pointzz in enumerate(group2.points):\n",
        "                        total += point_distance(point1, pointzz)\n",
        "                        count += 1\n",
        "                    if min_external is None or (total / count) < min_external:\n",
        "                        min_external = total / count\n",
        "\n",
        "                b_dict[str(point1)] = min_external\n",
        "\n",
        "                if a_dict[str(point1)] < b_dict[str(point1)]:\n",
        "                    s_dict[str(point1)] = 1 - (\n",
        "                        a_dict[str(point1)] / b_dict[str(point1)]\n",
        "                    )\n",
        "                else:\n",
        "                    s_dict[str(point1)] = (\n",
        "                        b_dict[str(point1)] / a_dict[str(point1)]\n",
        "                    ) - 1\n",
        "        return a_dict, b_dict, s_dict\n",
        "\n",
        "\n",
        "def point_distance(p1, p2):\n",
        "    a = p1.vector\n",
        "    b = p2.vector\n",
        "    distance = 0\n",
        "    for i in range(len(a)):\n",
        "        distance += math.pow(a[i] - b[i], 2)\n",
        "    return round(math.sqrt(distance), 3)\n",
        "\n",
        "\n",
        "def group_avg_point_distance(g1, p1):\n",
        "    p2 = g1.get_central()\n",
        "    return point_distance(p1, p2)\n",
        "\n",
        "\n",
        "def group_distance(g1, g2, algo=\"single\"):\n",
        "    result = None\n",
        "    if algo == \"single\":\n",
        "        for p1 in g1.points:\n",
        "            for p2 in g2.points:\n",
        "                pd = point_distance(p1, p2)\n",
        "                if result is None or pd < result:\n",
        "                    result = pd\n",
        "        # print(g1, g2, str(result).replace(\".\", \",\"))\n",
        "        return result\n",
        "    if algo == \"complete\":\n",
        "        for p1 in g1.points:\n",
        "            for p2 in g2.points:\n",
        "                pd = point_distance(p1, p2)\n",
        "                if result is None or pd > result:\n",
        "                    result = pd\n",
        "        # print(g1, g2, str(result).replace(\".\", \",\"))\n",
        "        return result\n",
        "    num_of_link = 0\n",
        "    result = 0\n",
        "    for p1 in g1.points:\n",
        "        for p2 in g2.points:\n",
        "            pd = point_distance(p1, p2)\n",
        "            num_of_link += 1\n",
        "            result += pd\n",
        "    if algo == \"centroid\":\n",
        "        return result / num_of_link\n",
        "    else:\n",
        "        for i, p1 in enumerate(g1.points):\n",
        "            for j, p2 in enumerate(g1.points):\n",
        "                if j > i:\n",
        "                    pd = point_distance(p1, p2)\n",
        "                    num_of_link += 1\n",
        "                    result += pd\n",
        "        for i, p1 in enumerate(g2.points):\n",
        "            for j, p2 in enumerate(g2.points):\n",
        "                if p1 != p2:\n",
        "                    pd = point_distance(p1, p2)\n",
        "                    num_of_link += 1\n",
        "                    result += pd\n",
        "        return result / num_of_link\n",
        "\n",
        "\n",
        "def calculate_hac(algo=\"single\"):\n",
        "    groups = []\n",
        "    num = 0\n",
        "    for d in D:\n",
        "        point = Point(d, f\"D{num}\")\n",
        "        groups.append(Group([point]))\n",
        "        num += 1\n",
        "    all_group = AllGroup(groups, algo)\n",
        "\n",
        "    number_of_group = 3\n",
        "\n",
        "    for i in range(len(all_group.groups) - 1):\n",
        "        all_group.merge()\n",
        "        # print(all_group, all_group.min_distance)\n",
        "        # print(\"======================================\")\n",
        "        if number_of_group == len(all_group.groups):\n",
        "            _, _, s_dict = all_group.get_s_point()\n",
        "            print(all_group)\n",
        "            print(sum(s_dict.values()) / len(s_dict))\n",
        "            break\n",
        "\n",
        "\n",
        "print(\"HAC Complete\")\n",
        "calculate_hac(\"complete\")\n",
        "print(\"HAC Centroid\")\n",
        "calculate_hac(\"centroid\")\n",
        "print(\"HAC Single\")\n",
        "calculate_hac(\"single\")\n",
        "\n",
        "\n",
        "def manual_calculate():\n",
        "    num = 1\n",
        "    ps = []\n",
        "    for d in D:\n",
        "        ps.append(Point(d, f\"D{num}\"))\n",
        "        num += 1\n",
        "\n",
        "    all_group = AllGroup(\n",
        "        [\n",
        "            Group([ps[0], ps[1], ps[2], ps[4], ps[9]]),\n",
        "            Group([ps[3], ps[5], ps[6]]),\n",
        "            Group([ps[7], ps[8]]),\n",
        "        ],\n",
        "        \"single\",\n",
        "    )\n",
        "\n",
        "    a_dict, b_dict, s_dict = all_group.get_s_point()\n",
        "    for i in range(len(D)):\n",
        "        key = f\"D{i+1}\"\n",
        "        # print(key, a_dict[key], b_dict[key], s_dict[key])\n",
        "    print(sum(s_dict.values()) / len(s_dict))\n",
        "\n",
        "\n",
        "# manual_calculate()\n",
        "\n",
        "\n",
        "def k_means(points, all_group):\n",
        "    while True:\n",
        "        change_color = defaultdict(lambda: None)\n",
        "        # print(all_group)\n",
        "        for point in points:\n",
        "            min_distance = None\n",
        "            min_group = None\n",
        "            for i, group in enumerate(all_group.groups):\n",
        "                if len(group.points) == 0:\n",
        "                    print(\"Invalid seed try again\")\n",
        "                    print(all_group)\n",
        "                    return\n",
        "                distance = group_avg_point_distance(group, point)\n",
        "                if min_group is None or distance < min_distance:\n",
        "                    min_group = i\n",
        "                    min_distance = distance\n",
        "\n",
        "            # print(point, min_group, min_distance)\n",
        "            if min_group is not None and not all_group.groups[min_group].contain_point(\n",
        "                point\n",
        "            ):\n",
        "                change_color[str(point)] = min_group\n",
        "\n",
        "        # print(change_color)\n",
        "        # Change color\n",
        "        for point in points:\n",
        "            if str(point) not in change_color.keys():\n",
        "                continue\n",
        "            for i, group in enumerate(all_group.groups):\n",
        "                if i == change_color[str(point)]:\n",
        "                    group.add_point(point)\n",
        "                else:\n",
        "                    group.remove_point(point)\n",
        "        if not len(change_color.keys()):\n",
        "            break\n",
        "    return all_group\n",
        "\n",
        "\n",
        "def start_kmean():\n",
        "    maximum = 0\n",
        "    best = None\n",
        "    score_array = []\n",
        "    points = []\n",
        "    for i, d in enumerate(D):\n",
        "        points.append(Point(d, f\"D{i}\"))\n",
        "    for i in range(len(points)):\n",
        "        for j in range(len(points)):\n",
        "            for z in range(len(points)):\n",
        "                if i == j or j == z or i == z:\n",
        "                    continue\n",
        "                group1 = Group([points[i]])\n",
        "                group2 = Group([points[j]])\n",
        "                group3 = Group([points[z]])\n",
        "                all_group = AllGroup([group1, group2, group3], \"single\")\n",
        "                result = k_means(points, all_group)\n",
        "                _, _, s_point = result.get_s_point()\n",
        "                s_score = sum(s_point.values()) / len(s_point)\n",
        "                score_array.append({\"result\": result, \"s_score\": s_score})\n",
        "\n",
        "    return sorted(score_array, key=lambda x: x[\"s_score\"], reverse=True)\n",
        "\n",
        "\n",
        "best_values = start_kmean()\n",
        "previous = None\n",
        "count = 0\n",
        "for best_value in best_values:\n",
        "    if count == 10:\n",
        "        break\n",
        "    if previous is None or previous != best_value[\"s_score\"]:\n",
        "        count += 1\n",
        "        previous = best_value[\"s_score\"]\n",
        "        print(best_value)\n"
      ],
      "execution_count": 12,
      "outputs": [
        {
          "output_type": "stream",
          "text": [
            "HAC Complete\n",
            "{D0,D7,D4},{D1,D9,D2,D5},{D3,D6,D8}\n",
            "0.2540846909994984\n",
            "HAC Centroid\n",
            "{D0,D7,D3,D6,D8},{D1,D9,D2,D5},{D4}\n",
            "0.16683583883818837\n",
            "HAC Single\n",
            "{D0,D7,D1,D9,D3,D6,D8,D2},{D4},{D5}\n",
            "0.01594243564192266\n",
            "{'result': {D0,D7},{D1,D2,D3,D5,D9},{D6,D4,D8}, 's_score': 0.30918257813424505}\n",
            "{'result': {D0,D7},{D1,D2,D3,D5,D9},{D4,D6,D8}, 's_score': 0.30918257813424493}\n",
            "{'result': {D9,D1,D2,D3,D5},{D0,D7},{D8,D6,D4}, 's_score': 0.3091825781342449}\n",
            "{'result': {D0,D7},{D6,D3,D4,D8},{D9,D1,D2,D5}, 's_score': 0.27962504891443885}\n",
            "{'result': {D0,D4,D7},{D8,D6},{D1,D2,D3,D5,D9}, 's_score': 0.2649716468614159}\n",
            "{'result': {D0,D4,D7},{D1,D2,D3,D5,D9},{D8,D6}, 's_score': 0.26497164686141583}\n",
            "{'result': {D2,D1,D5,D9},{D6,D3,D8},{D4,D0,D7}, 's_score': 0.25408469099949843}\n",
            "{'result': {D0,D4,D7},{D2,D5,D9,D1},{D8,D3,D6}, 's_score': 0.2540846909994984}\n",
            "{'result': {D0,D7},{D8,D3,D6},{D9,D1,D2,D4,D5}, 's_score': 0.25347101520588555}\n",
            "{'result': {D1,D2,D9},{D6,D3,D4,D5,D8},{D7,D0}, 's_score': 0.24641309487197877}\n"
          ],
          "name": "stdout"
        }
      ]
    },
    {
      "cell_type": "code",
      "metadata": {
        "id": "a_L3kPWzv0S7"
      },
      "source": [
        "y_means_improved = []\n",
        "y_map = {} \n",
        "for i, group in enumerate(best_values[0][\"result\"].groups):\n",
        "  for point in group.points:\n",
        "    y_map[int(point.name[1:])] = i\n",
        "\n",
        "for i in range(len(X)):\n",
        "  y_means_improved.append(y_map[i])\n"
      ],
      "execution_count": 13,
      "outputs": []
    },
    {
      "cell_type": "code",
      "metadata": {
        "colab": {
          "base_uri": "https://localhost:8080/",
          "height": 282
        },
        "id": "76B3oP85w01F",
        "outputId": "eaf4b4c8-edb8-494c-efa6-144ebddd88f4"
      },
      "source": [
        "plt.scatter(X[:,0], X[:, 1], c= y_means_improved )\n"
      ],
      "execution_count": 14,
      "outputs": [
        {
          "output_type": "execute_result",
          "data": {
            "text/plain": [
              "<matplotlib.collections.PathCollection at 0x7fbc5d5ad510>"
            ]
          },
          "metadata": {
            "tags": []
          },
          "execution_count": 14
        },
        {
          "output_type": "display_data",
          "data": {
            "image/png": "[encoded data removed]",
            "text/plain": [
              "<Figure size 432x288 with 1 Axes>"
            ]
          },
          "metadata": {
            "tags": [],
            "needs_background": "light"
          }
        }
      ]
    },
    {
      "cell_type": "code",
      "metadata": {
        "colab": {
          "base_uri": "https://localhost:8080/",
          "height": 282
        },
        "id": "ekmygz-7xAJo",
        "outputId": "94c63da4-f3c1-451f-f486-04b78f5135bd"
      },
      "source": [
        "plt.scatter(X[:,0], X[:, 1], c= y_kmeans )\n"
      ],
      "execution_count": 15,
      "outputs": [
        {
          "output_type": "execute_result",
          "data": {
            "text/plain": [
              "<matplotlib.collections.PathCollection at 0x7fbc5d546090>"
            ]
          },
          "metadata": {
            "tags": []
          },
          "execution_count": 15
        },
        {
          "output_type": "display_data",
          "data": {
            "image/png": "[encoded data removed]",
            "text/plain": [
              "<Figure size 432x288 with 1 Axes>"
            ]
          },
          "metadata": {
            "tags": [],
            "needs_background": "light"
          }
        }
      ]
    },
    {
      "cell_type": "code",
      "metadata": {
        "colab": {
          "base_uri": "https://localhost:8080/",
          "height": 282
        },
        "id": "5fcEnhjKxEWM",
        "outputId": "ac603cee-a70b-456b-9e0f-80a6a7049718"
      },
      "source": [
        "plt.scatter(X[:,2], X[:, 3], c= y_means_improved )\n"
      ],
      "execution_count": 16,
      "outputs": [
        {
          "output_type": "execute_result",
          "data": {
            "text/plain": [
              "<matplotlib.collections.PathCollection at 0x7fbc5d55a7d0>"
            ]
          },
          "metadata": {
            "tags": []
          },
          "execution_count": 16
        },
        {
          "output_type": "display_data",
          "data": {
            "image/png": "[encoded data removed]",
            "text/plain": [
              "<Figure size 432x288 with 1 Axes>"
            ]
          },
          "metadata": {
            "tags": [],
            "needs_background": "light"
          }
        }
      ]
    },
    {
      "cell_type": "code",
      "metadata": {
        "colab": {
          "base_uri": "https://localhost:8080/",
          "height": 282
        },
        "id": "ynsRGvrCxHmd",
        "outputId": "435ea997-bd81-4dd1-e3ba-a0f20a95c8ad"
      },
      "source": [
        "plt.scatter(X[:,2], X[:, 3], c= y_kmeans )\n"
      ],
      "execution_count": 17,
      "outputs": [
        {
          "output_type": "execute_result",
          "data": {
            "text/plain": [
              "<matplotlib.collections.PathCollection at 0x7fbc5d4e6f50>"
            ]
          },
          "metadata": {
            "tags": []
          },
          "execution_count": 17
        },
        {
          "output_type": "display_data",
          "data": {
            "image/png": "[encoded data removed]",
            "text/plain": [
              "<Figure size 432x288 with 1 Axes>"
            ]
          },
          "metadata": {
            "tags": [],
            "needs_background": "light"
          }
        }
      ]
    },
    {
      "cell_type": "code",
      "metadata": {
        "colab": {
          "base_uri": "https://localhost:8080/"
        },
        "id": "_stkF_hPxVtz",
        "outputId": "163d1aec-b027-4890-e3cd-c445d4b22708"
      },
      "source": [
        "\n",
        "for i in range(NUMBER_OF_CLUSTER):\n",
        "  print_cluster(sentences, y_means_improved, i)"
      ],
      "execution_count": 18,
      "outputs": [
        {
          "output_type": "stream",
          "text": [
            "Clustering data for 1\n",
            "0 AABAAABBBAACD\n",
            "7 ABCAAAABBE\n",
            "====================\n",
            "\n",
            "Clustering data for 2\n",
            "1 ACDAAABBBCCCDDD\n",
            "2 CCDDDCDDDDDCCC\n",
            "3 ABCDEABCDEABCDE\n",
            "5 DEADEADDDDDE\n",
            "9 ABCBCBCBCDDD\n",
            "====================\n",
            "\n",
            "Clustering data for 3\n",
            "4 ABBBBBBBBBBB\n",
            "6 BCBBBBCDCBBEEEEE\n",
            "8 ABBEEABCEE\n",
            "====================\n",
            "\n"
          ],
          "name": "stdout"
        }
      ]
    },
    {
      "cell_type": "code",
      "metadata": {
        "id": "MIpM4wjtzDmM"
      },
      "source": [
        "# Second time with word to "
      ],
      "execution_count": 19,
      "outputs": []
    },
    {
      "cell_type": "code",
      "metadata": {
        "id": "nPbtLU7f4rD9"
      },
      "source": [
        "sentences = [list(sentence) for sentence in sentences]\n",
        "vectormodel = Word2Vec(sentences, min_count=1, size=10)"
      ],
      "execution_count": 28,
      "outputs": []
    },
    {
      "cell_type": "code",
      "metadata": {
        "colab": {
          "base_uri": "https://localhost:8080/"
        },
        "id": "Lb97mB_S45hG",
        "outputId": "9e9babde-3fa6-48ee-cbf7-628d834cf0aa"
      },
      "source": [
        "print(vectormodel.wv.vocab)\n",
        "X = vectormodel[vectormodel.wv.vocab]"
      ],
      "execution_count": 29,
      "outputs": [
        {
          "output_type": "stream",
          "text": [
            "{'A': <gensim.models.keyedvectors.Vocab object at 0x7fbc5d6030d0>, 'B': <gensim.models.keyedvectors.Vocab object at 0x7fbc5d603410>, 'C': <gensim.models.keyedvectors.Vocab object at 0x7fbc5d603690>, 'D': <gensim.models.keyedvectors.Vocab object at 0x7fbc5d603090>, 'E': <gensim.models.keyedvectors.Vocab object at 0x7fbc5d603450>}\n"
          ],
          "name": "stdout"
        },
        {
          "output_type": "stream",
          "text": [
            "/usr/local/lib/python3.7/dist-packages/ipykernel_launcher.py:2: DeprecationWarning: Call to deprecated `__getitem__` (Method will be removed in 4.0.0, use self.wv.__getitem__() instead).\n",
            "  \n"
          ],
          "name": "stderr"
        }
      ]
    },
    {
      "cell_type": "code",
      "metadata": {
        "colab": {
          "base_uri": "https://localhost:8080/"
        },
        "id": "l64DcvujyaDZ",
        "outputId": "3343954d-b365-4d3f-e7c5-798d6d2ca387"
      },
      "source": [
        "X"
      ],
      "execution_count": 30,
      "outputs": [
        {
          "output_type": "execute_result",
          "data": {
            "text/plain": [
              "array([[-0.03612556, -0.03551049,  0.04784604, -0.00624338,  0.02939799,\n",
              "        -0.02552349,  0.001032  , -0.03246105,  0.03394357, -0.01974876],\n",
              "       [ 0.0067381 , -0.03111349, -0.00679789, -0.03253379, -0.03479651,\n",
              "        -0.00613825, -0.03426738,  0.00908193, -0.01317648, -0.01381683],\n",
              "       [-0.04711027,  0.02087506, -0.01478459, -0.01484687, -0.04019996,\n",
              "        -0.0068461 ,  0.04979215,  0.01695004,  0.03063238,  0.04117559],\n",
              "       [ 0.02976276, -0.03613866, -0.03295236, -0.00464692,  0.02736335,\n",
              "         0.02802246, -0.00665367, -0.01191096, -0.00148726,  0.01283875],\n",
              "       [ 0.03461262,  0.01164449,  0.01122697,  0.01812017,  0.03280509,\n",
              "        -0.0348837 ,  0.00723085, -0.00152751, -0.04944887,  0.0072775 ]],\n",
              "      dtype=float32)"
            ]
          },
          "metadata": {
            "tags": []
          },
          "execution_count": 30
        }
      ]
    },
    {
      "cell_type": "code",
      "metadata": {
        "id": "PvUtQU9a46Zs",
        "colab": {
          "base_uri": "https://localhost:8080/"
        },
        "outputId": "c90f21da-d15f-4fd1-887b-c7d997d89acd"
      },
      "source": [
        "def vectorize(list_of_docs, model):\n",
        "    \"\"\"Generate vectors for list of documents using a Word Embedding\n",
        "\n",
        "    Args:\n",
        "        list_of_docs: List of documents\n",
        "        model: Gensim's Word Embedding\n",
        "\n",
        "    Returns:\n",
        "        List of document vectors\n",
        "    \"\"\"\n",
        "    features = []\n",
        "\n",
        "    for tokens in list_of_docs:\n",
        "        zero_vector = np.zeros(model.vector_size)\n",
        "        vectors = []\n",
        "        for token in tokens:\n",
        "            if token in model.wv:\n",
        "                try:\n",
        "                    vectors.append(model.wv[token])\n",
        "                except KeyError:\n",
        "                    continue\n",
        "        if vectors:\n",
        "            vectors = np.asarray(vectors)\n",
        "            avg_vec = vectors.mean(axis=0)\n",
        "            features.append(avg_vec)\n",
        "        else:\n",
        "            features.append(zero_vector)\n",
        "    return features\n",
        "    \n",
        "vectorized_docs = vectorize(sentences, model=vectormodel)\n",
        "len(vectorized_docs), len(vectorized_docs[0])\n"
      ],
      "execution_count": 31,
      "outputs": [
        {
          "output_type": "execute_result",
          "data": {
            "text/plain": [
              "(10, 10)"
            ]
          },
          "metadata": {
            "tags": []
          },
          "execution_count": 31
        }
      ]
    },
    {
      "cell_type": "code",
      "metadata": {
        "colab": {
          "base_uri": "https://localhost:8080/"
        },
        "id": "JCr8GgxX52nH",
        "outputId": "7323803e-2abf-4b37-e38d-672eff055d97"
      },
      "source": [
        "kmeans = KMeans(n_clusters = NUMBER_OF_CLUSTER, init = 'k-means++', max_iter = 300, n_init = 10, random_state = 0)\n",
        "y_kmeans_w2v = kmeans.fit_predict(vectorized_docs)\n",
        "print(silhouette_score(vectorized_docs, y_kmeans_w2v))"
      ],
      "execution_count": 32,
      "outputs": [
        {
          "output_type": "stream",
          "text": [
            "0.27515134\n"
          ],
          "name": "stdout"
        }
      ]
    },
    {
      "cell_type": "code",
      "metadata": {
        "id": "L023Hf3J6WZF",
        "colab": {
          "base_uri": "https://localhost:8080/"
        },
        "outputId": "042266dc-e5e5-4795-e357-0b07936ebf0f"
      },
      "source": [
        "for i in range(NUMBER_OF_CLUSTER):\n",
        "  print_cluster(sentences, y_kmeans_w2v, i)"
      ],
      "execution_count": 33,
      "outputs": [
        {
          "output_type": "stream",
          "text": [
            "Clustering data for 1\n",
            "1 ['A', 'C', 'D', 'A', 'A', 'A', 'B', 'B', 'B', 'C', 'C', 'C', 'D', 'D', 'D']\n",
            "2 ['C', 'C', 'D', 'D', 'D', 'C', 'D', 'D', 'D', 'D', 'D', 'C', 'C', 'C']\n",
            "3 ['A', 'B', 'C', 'D', 'E', 'A', 'B', 'C', 'D', 'E', 'A', 'B', 'C', 'D', 'E']\n",
            "5 ['D', 'E', 'A', 'D', 'E', 'A', 'D', 'D', 'D', 'D', 'D', 'E']\n",
            "6 ['B', 'C', 'B', 'B', 'B', 'B', 'C', 'D', 'C', 'B', 'B', 'E', 'E', 'E', 'E', 'E']\n",
            "8 ['A', 'B', 'B', 'E', 'E', 'A', 'B', 'C', 'E', 'E']\n",
            "9 ['A', 'B', 'C', 'B', 'C', 'B', 'C', 'B', 'C', 'D', 'D', 'D']\n",
            "====================\n",
            "\n",
            "Clustering data for 2\n",
            "4 ['A', 'B', 'B', 'B', 'B', 'B', 'B', 'B', 'B', 'B', 'B', 'B']\n",
            "====================\n",
            "\n",
            "Clustering data for 3\n",
            "0 ['A', 'A', 'B', 'A', 'A', 'A', 'B', 'B', 'B', 'A', 'A', 'C', 'D']\n",
            "7 ['A', 'B', 'C', 'A', 'A', 'A', 'A', 'B', 'B', 'E']\n",
            "====================\n",
            "\n"
          ],
          "name": "stdout"
        }
      ]
    },
    {
      "cell_type": "code",
      "metadata": {
        "id": "jZ14pl1ZLNCc"
      },
      "source": [],
      "execution_count": null,
      "outputs": []
    }
  ]
}