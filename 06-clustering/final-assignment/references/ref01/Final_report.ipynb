{
  "nbformat": 4,
  "nbformat_minor": 0,
  "metadata": {
    "colab": {
      "name": "Final-report.ipynb",
      "provenance": []
    },
    "kernelspec": {
      "name": "python3",
      "display_name": "Python 3"
    },
    "language_info": {
      "name": "python"
    }
  },
  "cells": [
    {
      "cell_type": "markdown",
      "metadata": {
        "id": "ufye51clAMb8"
      },
      "source": [
        "# Instructor: Quan Thanh Tho\n",
        "# Student: Nguyen Phuoc Vinh Loc\n",
        "# Class: MSE09\n",
        "# Subject: Text Mining\n",
        "# Algorithm: K-means\n",
        "\n",
        "---\n",
        "\n",
        "Data:\n",
        "\n",
        "![Capture.PNG](data:image/png;base64,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)"
      ]
    },
    {
      "cell_type": "code",
      "metadata": {
        "id": "lWTr2kShAII7"
      },
      "source": [
        "import numpy as np\n",
        "import seaborn as sns\n",
        "import matplotlib\n",
        "import matplotlib.pyplot as plt\n",
        "from sklearn.feature_extraction.text import TfidfVectorizer\n",
        "from sklearn.cluster import KMeans\n",
        "from sklearn.preprocessing import LabelEncoder, OneHotEncoder\n",
        "from sklearn.metrics import confusion_matrix"
      ],
      "execution_count": 1,
      "outputs": []
    },
    {
      "cell_type": "code",
      "metadata": {
        "colab": {
          "base_uri": "https://localhost:8080/",
          "height": 348
        },
        "id": "jelGEo-gLiLS",
        "outputId": "ad0ac1b3-ca5c-4d5b-aa0e-baeb2c0f490c"
      },
      "source": [
        "dataset_array = {\n",
        "    1:\"AABAAABBBAACE\",\n",
        "    2:\"ACDAAABBBCECDD\",\n",
        "    3:\"CCDDDCDDDDDCCC\",\n",
        "    4:\"DDDDDAAEEEE\",\n",
        "    5:\"ABCCECCCCCCCBC\",\n",
        "    6:\"DEADEADDDDDE\",\n",
        "    7:\"EEEECCEEEEEE\",\n",
        "    8:\"ABCAAAAEEEE\",\n",
        "    9:\"AEEEABBDDDBBB\",\n",
        "    10:\"ABCBCBDDDDDDE\",\n",
        "}\n",
        "dataset = pd.DataFrame(zip(dataset_array, dataset_array.values()), columns=[\"No\", \"Content\"])\n",
        "dataset"
      ],
      "execution_count": 5,
      "outputs": [
        {
          "output_type": "execute_result",
          "data": {
            "text/html": [
              "<div>\n",
              "<style scoped>\n",
              "    .dataframe tbody tr th:only-of-type {\n",
              "        vertical-align: middle;\n",
              "    }\n",
              "\n",
              "    .dataframe tbody tr th {\n",
              "        vertical-align: top;\n",
              "    }\n",
              "\n",
              "    .dataframe thead th {\n",
              "        text-align: right;\n",
              "    }\n",
              "</style>\n",
              "<table border=\"1\" class=\"dataframe\">\n",
              "  <thead>\n",
              "    <tr style=\"text-align: right;\">\n",
              "      <th></th>\n",
              "      <th>No</th>\n",
              "      <th>Content</th>\n",
              "    </tr>\n",
              "  </thead>\n",
              "  <tbody>\n",
              "    <tr>\n",
              "      <th>0</th>\n",
              "      <td>1</td>\n",
              "      <td>AABAAABBBAACE</td>\n",
              "    </tr>\n",
              "    <tr>\n",
              "      <th>1</th>\n",
              "      <td>2</td>\n",
              "      <td>ACDAAABBBCECDD</td>\n",
              "    </tr>\n",
              "    <tr>\n",
              "      <th>2</th>\n",
              "      <td>3</td>\n",
              "      <td>CCDDDCDDDDDCCC</td>\n",
              "    </tr>\n",
              "    <tr>\n",
              "      <th>3</th>\n",
              "      <td>4</td>\n",
              "      <td>DDDDDAAEEEE</td>\n",
              "    </tr>\n",
              "    <tr>\n",
              "      <th>4</th>\n",
              "      <td>5</td>\n",
              "      <td>ABCCECCCCCCCBC</td>\n",
              "    </tr>\n",
              "    <tr>\n",
              "      <th>5</th>\n",
              "      <td>6</td>\n",
              "      <td>DEADEADDDDDE</td>\n",
              "    </tr>\n",
              "    <tr>\n",
              "      <th>6</th>\n",
              "      <td>7</td>\n",
              "      <td>EEEECCEEEEEE</td>\n",
              "    </tr>\n",
              "    <tr>\n",
              "      <th>7</th>\n",
              "      <td>8</td>\n",
              "      <td>ABCAAAAEEEE</td>\n",
              "    </tr>\n",
              "    <tr>\n",
              "      <th>8</th>\n",
              "      <td>9</td>\n",
              "      <td>AEEEABBDDDBBB</td>\n",
              "    </tr>\n",
              "    <tr>\n",
              "      <th>9</th>\n",
              "      <td>10</td>\n",
              "      <td>ABCBCBDDDDDDE</td>\n",
              "    </tr>\n",
              "  </tbody>\n",
              "</table>\n",
              "</div>"
            ],
            "text/plain": [
              "   No         Content\n",
              "0   1   AABAAABBBAACE\n",
              "1   2  ACDAAABBBCECDD\n",
              "2   3  CCDDDCDDDDDCCC\n",
              "3   4     DDDDDAAEEEE\n",
              "4   5  ABCCECCCCCCCBC\n",
              "5   6    DEADEADDDDDE\n",
              "6   7    EEEECCEEEEEE\n",
              "7   8     ABCAAAAEEEE\n",
              "8   9   AEEEABBDDDBBB\n",
              "9  10   ABCBCBDDDDDDE"
            ]
          },
          "metadata": {
            "tags": []
          },
          "execution_count": 5
        }
      ]
    },
    {
      "cell_type": "code",
      "metadata": {
        "id": "nyTmkVVkL8sN"
      },
      "source": [
        "def plot_cm(y_true, y_pred, figsize=(6,5)):\n",
        "    cm = confusion_matrix(y_true, y_pred, labels=np.unique(y_true))\n",
        "    cm_sum = np.sum(cm, axis=1, keepdims=True)\n",
        "    cm_perc = cm / cm_sum.astype(float) * 100\n",
        "    annot = np.empty_like(cm).astype(str)\n",
        "    nrows, ncols = cm.shape\n",
        "    for i in range(nrows):\n",
        "        for j in range(ncols):\n",
        "            c = cm[i, j]\n",
        "            p = cm_perc[i, j]\n",
        "            if i == j:\n",
        "                s = cm_sum[i]\n",
        "                annot[i, j] = '%.1f%%\\n%d/%d' % (p, c, s)\n",
        "            elif c == 0:\n",
        "                annot[i, j] = ''\n",
        "            else:\n",
        "                annot[i, j] = '%.1f%%\\n%d' % (p, c)\n",
        "    cm = pd.DataFrame(cm, index=np.unique(y_true), columns=np.unique(y_true))\n",
        "    cm.index.name = 'Actual'\n",
        "    cm.columns.name = 'Predicted'\n",
        "    fig, ax = plt.subplots(figsize=figsize)\n",
        "    sns.heatmap(cm, cmap= \"YlGnBu\", annot=annot, fmt='', ax=ax)"
      ],
      "execution_count": 3,
      "outputs": []
    },
    {
      "cell_type": "code",
      "metadata": {
        "colab": {
          "base_uri": "https://localhost:8080/"
        },
        "id": "kZSbRWSAL-0W",
        "outputId": "23fa2084-6f47-48e2-a01d-75d943e918dd"
      },
      "source": [
        "vectorizer = TfidfVectorizer(analyzer=\"char\")\n",
        "X = vectorizer.fit_transform(dataset[\"Content\"]).toarray()\n",
        "vocab = vectorizer.get_feature_names()\n",
        "X"
      ],
      "execution_count": 12,
      "outputs": [
        {
          "output_type": "execute_result",
          "data": {
            "text/plain": [
              "array([[0.8113415 , 0.56066558, 0.12727603, 0.        , 0.10573502],\n",
              "       [0.54428877, 0.49366108, 0.44826168, 0.49366108, 0.12413167],\n",
              "       [0.        , 0.        , 0.56289003, 0.8265318 , 0.        ],\n",
              "       [0.27247848, 0.        , 0.        , 0.82377852, 0.49713622],\n",
              "       [0.08829741, 0.21355818, 0.96959182, 0.        , 0.08054919],\n",
              "       [0.21933163, 0.        , 0.        , 0.92834107, 0.30012746],\n",
              "       [0.        , 0.        , 0.234058  , 0.        , 0.97222263],\n",
              "       [0.7810268 , 0.18890097, 0.17152875, 0.        , 0.5699925 ],\n",
              "       [0.25562876, 0.77283714, 0.        , 0.46370229, 0.34979548],\n",
              "       [0.11747237, 0.42618214, 0.25799228, 0.85236429, 0.10716401]])"
            ]
          },
          "metadata": {
            "tags": []
          },
          "execution_count": 12
        }
      ]
    },
    {
      "cell_type": "code",
      "metadata": {
        "colab": {
          "base_uri": "https://localhost:8080/",
          "height": 295
        },
        "id": "pvStW__aMDwN",
        "outputId": "0ce63e2e-5f0f-49b9-b264-81ad465174b7"
      },
      "source": [
        "wcss = []\n",
        "num = 10\n",
        "for i in range(1,num): \n",
        "    kmeans = KMeans(n_clusters = i, init = 'k-means++', max_iter = 500, n_init = 1, random_state = 0)\n",
        "    kmeans.fit(X)\n",
        "    wcss.append(kmeans.inertia_)\n",
        "plt.plot(range(1,num), wcss)\n",
        "plt.title('The Elbow Method')\n",
        "plt.xlabel('Number of clusters')\n",
        "plt.ylabel('WCSS')\n",
        "plt.show()"
      ],
      "execution_count": 15,
      "outputs": [
        {
          "output_type": "display_data",
          "data": {
            "image/png": "[encoded data removed]",
            "text/plain": [
              "<Figure size 432x288 with 1 Axes>"
            ]
          },
          "metadata": {
            "tags": [],
            "needs_background": "light"
          }
        }
      ]
    },
    {
      "cell_type": "markdown",
      "metadata": {
        "id": "cpNwj5TAMwOd"
      },
      "source": [
        "Từ đồ thị trên, chúng ta sẽ sử dụng `n_clusters = 6` để giải quyết các bước tiếp theo."
      ]
    },
    {
      "cell_type": "code",
      "metadata": {
        "colab": {
          "base_uri": "https://localhost:8080/"
        },
        "id": "l46k8hctMP1m",
        "outputId": "475b6972-4148-425a-c5a3-e123669a20f0"
      },
      "source": [
        "kmeans = KMeans(n_clusters = 6, init = 'k-means++', max_iter = 500, n_init = 10, random_state = 0)\n",
        "y_kmeans = kmeans.fit_predict(X)\n",
        "y_kmeans"
      ],
      "execution_count": 26,
      "outputs": [
        {
          "output_type": "execute_result",
          "data": {
            "text/plain": [
              "array([3, 1, 5, 0, 4, 0, 2, 3, 1, 5], dtype=int32)"
            ]
          },
          "metadata": {
            "tags": []
          },
          "execution_count": 26
        }
      ]
    },
    {
      "cell_type": "code",
      "metadata": {
        "colab": {
          "base_uri": "https://localhost:8080/"
        },
        "id": "6GMEmeM_M1ZG",
        "outputId": "739957cf-456f-4927-d736-f22b0ac3e2cc"
      },
      "source": [
        "kmeans.cluster_centers_"
      ],
      "execution_count": 27,
      "outputs": [
        {
          "output_type": "execute_result",
          "data": {
            "text/plain": [
              "array([[0.24590505, 0.        , 0.        , 0.8760598 , 0.39863184],\n",
              "       [0.39995877, 0.63324911, 0.22413084, 0.47868168, 0.23696357],\n",
              "       [0.        , 0.        , 0.234058  , 0.        , 0.97222263],\n",
              "       [0.79618415, 0.37478328, 0.14940239, 0.        , 0.33786376],\n",
              "       [0.08829741, 0.21355818, 0.96959182, 0.        , 0.08054919],\n",
              "       [0.05873619, 0.21309107, 0.41044116, 0.83944804, 0.053582  ]])"
            ]
          },
          "metadata": {
            "tags": []
          },
          "execution_count": 27
        }
      ]
    },
    {
      "cell_type": "code",
      "metadata": {
        "colab": {
          "base_uri": "https://localhost:8080/",
          "height": 281
        },
        "id": "xeMGU5-OM3eX",
        "outputId": "70ba27a6-24c2-4060-bbcc-f338b9b58fb6"
      },
      "source": [
        "plt.scatter(X[y_kmeans == 0, 0], X[y_kmeans == 0,1], s = 100, c = 'red', label = 'A')  \n",
        "plt.scatter(X[y_kmeans == 1, 0], X[y_kmeans == 1,1], s = 100, c = 'orange', label = 'B')\n",
        "plt.scatter(X[y_kmeans == 2, 0], X[y_kmeans == 2,1], s = 100, c = 'yellow', label = 'C')\n",
        "plt.scatter(X[y_kmeans == 3, 0], X[y_kmeans == 3,1], s = 100, c = 'green', label = 'D')\n",
        "plt.scatter(X[y_kmeans == 4, 0], X[y_kmeans == 4,1], s = 100, c = 'blue', label = 'E')\n",
        "plt.scatter(X[y_kmeans == 5, 0], X[y_kmeans == 5,1], s = 100, c = 'indigo', label = 'F')\n",
        "plt.scatter(X[y_kmeans == 6, 0], X[y_kmeans == 6,1], s = 100, c = 'violet', label = 'G')\n",
        "plt.scatter(X[y_kmeans == 7, 0], X[y_kmeans == 7,1], s = 100, c = 'pink', label = 'H')\n",
        "plt.title('Clusters of Texts')\n",
        "plt.legend(loc=0, numpoints=10, ncol=1, fontsize=7)\n",
        "plt.show()"
      ],
      "execution_count": 28,
      "outputs": [
        {
          "output_type": "display_data",
          "data": {
            "image/png": "[encoded data removed]",
            "text/plain": [
              "<Figure size 432x288 with 1 Axes>"
            ]
          },
          "metadata": {
            "tags": [],
            "needs_background": "light"
          }
        }
      ]
    },
    {
      "cell_type": "code",
      "metadata": {
        "id": "cIWI-dM2M-UV"
      },
      "source": [
        ""
      ],
      "execution_count": 28,
      "outputs": []
    }
  ]
}