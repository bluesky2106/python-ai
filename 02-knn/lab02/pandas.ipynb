{
 "metadata": {
  "language_info": {
   "codemirror_mode": {
    "name": "ipython",
    "version": 3
   },
   "file_extension": ".py",
   "mimetype": "text/x-python",
   "name": "python",
   "nbconvert_exporter": "python",
   "pygments_lexer": "ipython3",
   "version": "3.9.5"
  },
  "orig_nbformat": 2,
  "kernelspec": {
   "name": "python395jvsc74a57bd0aee8b7b246df8f9039afb4144a1f6fd8d2ca17a180786b69acc140d282b71a49",
   "display_name": "Python 3.9.5 64-bit"
  },
  "metadata": {
   "interpreter": {
    "hash": "aee8b7b246df8f9039afb4144a1f6fd8d2ca17a180786b69acc140d282b71a49"
   }
  }
 },
 "nbformat": 4,
 "nbformat_minor": 2,
 "cells": [
  {
   "source": [
    "# kNN model to predict diabetes"
   ],
   "cell_type": "markdown",
   "metadata": {}
  },
  {
   "source": [
    "## 1. Load raw data"
   ],
   "cell_type": "markdown",
   "metadata": {}
  },
  {
   "cell_type": "code",
   "execution_count": 2,
   "metadata": {},
   "outputs": [],
   "source": [
    "# import important packages\n",
    "import numpy as np\n",
    "import pandas as pd"
   ]
  },
  {
   "cell_type": "code",
   "execution_count": 3,
   "metadata": {},
   "outputs": [],
   "source": [
    "raw_data = pd.read_csv('input/diabetes.csv')"
   ]
  },
  {
   "cell_type": "code",
   "execution_count": 4,
   "metadata": {},
   "outputs": [
    {
     "output_type": "execute_result",
     "data": {
      "text/plain": [
       "     Pregnancies  Glucose  BloodPressure  SkinThickness  Insulin   BMI  \\\n",
       "0              6      148             72             35        0  33.6   \n",
       "1              1       85             66             29        0  26.6   \n",
       "2              8      183             64              0        0  23.3   \n",
       "3              1       89             66             23       94  28.1   \n",
       "4              0      137             40             35      168  43.1   \n",
       "..           ...      ...            ...            ...      ...   ...   \n",
       "763           10      101             76             48      180  32.9   \n",
       "764            2      122             70             27        0  36.8   \n",
       "765            5      121             72             23      112  26.2   \n",
       "766            1      126             60              0        0  30.1   \n",
       "767            1       93             70             31        0  30.4   \n",
       "\n",
       "     DiabetesPedigreeFunction  Age  Outcome  \n",
       "0                       0.627   50        1  \n",
       "1                       0.351   31        0  \n",
       "2                       0.672   32        1  \n",
       "3                       0.167   21        0  \n",
       "4                       2.288   33        1  \n",
       "..                        ...  ...      ...  \n",
       "763                     0.171   63        0  \n",
       "764                     0.340   27        0  \n",
       "765                     0.245   30        0  \n",
       "766                     0.349   47        1  \n",
       "767                     0.315   23        0  \n",
       "\n",
       "[768 rows x 9 columns]"
      ],
      "text/html": "<div>\n<style scoped>\n    .dataframe tbody tr th:only-of-type {\n        vertical-align: middle;\n    }\n\n    .dataframe tbody tr th {\n        vertical-align: top;\n    }\n\n    .dataframe thead th {\n        text-align: right;\n    }\n</style>\n<table border=\"1\" class=\"dataframe\">\n  <thead>\n    <tr style=\"text-align: right;\">\n      <th></th>\n      <th>Pregnancies</th>\n      <th>Glucose</th>\n      <th>BloodPressure</th>\n      <th>SkinThickness</th>\n      <th>Insulin</th>\n      <th>BMI</th>\n      <th>DiabetesPedigreeFunction</th>\n      <th>Age</th>\n      <th>Outcome</th>\n    </tr>\n  </thead>\n  <tbody>\n    <tr>\n      <th>0</th>\n      <td>6</td>\n      <td>148</td>\n      <td>72</td>\n      <td>35</td>\n      <td>0</td>\n      <td>33.6</td>\n      <td>0.627</td>\n      <td>50</td>\n      <td>1</td>\n    </tr>\n    <tr>\n      <th>1</th>\n      <td>1</td>\n      <td>85</td>\n      <td>66</td>\n      <td>29</td>\n      <td>0</td>\n      <td>26.6</td>\n      <td>0.351</td>\n      <td>31</td>\n      <td>0</td>\n    </tr>\n    <tr>\n      <th>2</th>\n      <td>8</td>\n      <td>183</td>\n      <td>64</td>\n      <td>0</td>\n      <td>0</td>\n      <td>23.3</td>\n      <td>0.672</td>\n      <td>32</td>\n      <td>1</td>\n    </tr>\n    <tr>\n      <th>3</th>\n      <td>1</td>\n      <td>89</td>\n      <td>66</td>\n      <td>23</td>\n      <td>94</td>\n      <td>28.1</td>\n      <td>0.167</td>\n      <td>21</td>\n      <td>0</td>\n    </tr>\n    <tr>\n      <th>4</th>\n      <td>0</td>\n      <td>137</td>\n      <td>40</td>\n      <td>35</td>\n      <td>168</td>\n      <td>43.1</td>\n      <td>2.288</td>\n      <td>33</td>\n      <td>1</td>\n    </tr>\n    <tr>\n      <th>...</th>\n      <td>...</td>\n      <td>...</td>\n      <td>...</td>\n      <td>...</td>\n      <td>...</td>\n      <td>...</td>\n      <td>...</td>\n      <td>...</td>\n      <td>...</td>\n    </tr>\n    <tr>\n      <th>763</th>\n      <td>10</td>\n      <td>101</td>\n      <td>76</td>\n      <td>48</td>\n      <td>180</td>\n      <td>32.9</td>\n      <td>0.171</td>\n      <td>63</td>\n      <td>0</td>\n    </tr>\n    <tr>\n      <th>764</th>\n      <td>2</td>\n      <td>122</td>\n      <td>70</td>\n      <td>27</td>\n      <td>0</td>\n      <td>36.8</td>\n      <td>0.340</td>\n      <td>27</td>\n      <td>0</td>\n    </tr>\n    <tr>\n      <th>765</th>\n      <td>5</td>\n      <td>121</td>\n      <td>72</td>\n      <td>23</td>\n      <td>112</td>\n      <td>26.2</td>\n      <td>0.245</td>\n      <td>30</td>\n      <td>0</td>\n    </tr>\n    <tr>\n      <th>766</th>\n      <td>1</td>\n      <td>126</td>\n      <td>60</td>\n      <td>0</td>\n      <td>0</td>\n      <td>30.1</td>\n      <td>0.349</td>\n      <td>47</td>\n      <td>1</td>\n    </tr>\n    <tr>\n      <th>767</th>\n      <td>1</td>\n      <td>93</td>\n      <td>70</td>\n      <td>31</td>\n      <td>0</td>\n      <td>30.4</td>\n      <td>0.315</td>\n      <td>23</td>\n      <td>0</td>\n    </tr>\n  </tbody>\n</table>\n<p>768 rows × 9 columns</p>\n</div>"
     },
     "metadata": {},
     "execution_count": 4
    }
   ],
   "source": [
    "raw_data"
   ]
  },
  {
   "cell_type": "code",
   "execution_count": 5,
   "metadata": {},
   "outputs": [
    {
     "output_type": "execute_result",
     "data": {
      "text/plain": [
       "     Pregnancies  Glucose  BloodPressure  SkinThickness  Insulin   BMI  \\\n",
       "467            0       97             64             36      100  36.8   \n",
       "109            0       95             85             25       36  37.4   \n",
       "452            0       91             68             32      210  39.9   \n",
       "449            0      120             74             18       63  30.5   \n",
       "448            0      104             64             37       64  33.6   \n",
       "..           ...      ...            ...            ...      ...   ...   \n",
       "357           13      129              0             30        0  39.9   \n",
       "298           14      100             78             25      184  36.6   \n",
       "455           14      175             62             30        0  33.6   \n",
       "88            15      136             70             32      110  37.1   \n",
       "159           17      163             72             41      114  40.9   \n",
       "\n",
       "     DiabetesPedigreeFunction  Age  Outcome  \n",
       "467                     0.600   25        0  \n",
       "109                     0.247   24        1  \n",
       "452                     0.381   25        0  \n",
       "449                     0.285   26        0  \n",
       "448                     0.510   22        1  \n",
       "..                        ...  ...      ...  \n",
       "357                     0.569   44        1  \n",
       "298                     0.412   46        1  \n",
       "455                     0.212   38        1  \n",
       "88                      0.153   43        1  \n",
       "159                     0.817   47        1  \n",
       "\n",
       "[768 rows x 9 columns]"
      ],
      "text/html": "<div>\n<style scoped>\n    .dataframe tbody tr th:only-of-type {\n        vertical-align: middle;\n    }\n\n    .dataframe tbody tr th {\n        vertical-align: top;\n    }\n\n    .dataframe thead th {\n        text-align: right;\n    }\n</style>\n<table border=\"1\" class=\"dataframe\">\n  <thead>\n    <tr style=\"text-align: right;\">\n      <th></th>\n      <th>Pregnancies</th>\n      <th>Glucose</th>\n      <th>BloodPressure</th>\n      <th>SkinThickness</th>\n      <th>Insulin</th>\n      <th>BMI</th>\n      <th>DiabetesPedigreeFunction</th>\n      <th>Age</th>\n      <th>Outcome</th>\n    </tr>\n  </thead>\n  <tbody>\n    <tr>\n      <th>467</th>\n      <td>0</td>\n      <td>97</td>\n      <td>64</td>\n      <td>36</td>\n      <td>100</td>\n      <td>36.8</td>\n      <td>0.600</td>\n      <td>25</td>\n      <td>0</td>\n    </tr>\n    <tr>\n      <th>109</th>\n      <td>0</td>\n      <td>95</td>\n      <td>85</td>\n      <td>25</td>\n      <td>36</td>\n      <td>37.4</td>\n      <td>0.247</td>\n      <td>24</td>\n      <td>1</td>\n    </tr>\n    <tr>\n      <th>452</th>\n      <td>0</td>\n      <td>91</td>\n      <td>68</td>\n      <td>32</td>\n      <td>210</td>\n      <td>39.9</td>\n      <td>0.381</td>\n      <td>25</td>\n      <td>0</td>\n    </tr>\n    <tr>\n      <th>449</th>\n      <td>0</td>\n      <td>120</td>\n      <td>74</td>\n      <td>18</td>\n      <td>63</td>\n      <td>30.5</td>\n      <td>0.285</td>\n      <td>26</td>\n      <td>0</td>\n    </tr>\n    <tr>\n      <th>448</th>\n      <td>0</td>\n      <td>104</td>\n      <td>64</td>\n      <td>37</td>\n      <td>64</td>\n      <td>33.6</td>\n      <td>0.510</td>\n      <td>22</td>\n      <td>1</td>\n    </tr>\n    <tr>\n      <th>...</th>\n      <td>...</td>\n      <td>...</td>\n      <td>...</td>\n      <td>...</td>\n      <td>...</td>\n      <td>...</td>\n      <td>...</td>\n      <td>...</td>\n      <td>...</td>\n    </tr>\n    <tr>\n      <th>357</th>\n      <td>13</td>\n      <td>129</td>\n      <td>0</td>\n      <td>30</td>\n      <td>0</td>\n      <td>39.9</td>\n      <td>0.569</td>\n      <td>44</td>\n      <td>1</td>\n    </tr>\n    <tr>\n      <th>298</th>\n      <td>14</td>\n      <td>100</td>\n      <td>78</td>\n      <td>25</td>\n      <td>184</td>\n      <td>36.6</td>\n      <td>0.412</td>\n      <td>46</td>\n      <td>1</td>\n    </tr>\n    <tr>\n      <th>455</th>\n      <td>14</td>\n      <td>175</td>\n      <td>62</td>\n      <td>30</td>\n      <td>0</td>\n      <td>33.6</td>\n      <td>0.212</td>\n      <td>38</td>\n      <td>1</td>\n    </tr>\n    <tr>\n      <th>88</th>\n      <td>15</td>\n      <td>136</td>\n      <td>70</td>\n      <td>32</td>\n      <td>110</td>\n      <td>37.1</td>\n      <td>0.153</td>\n      <td>43</td>\n      <td>1</td>\n    </tr>\n    <tr>\n      <th>159</th>\n      <td>17</td>\n      <td>163</td>\n      <td>72</td>\n      <td>41</td>\n      <td>114</td>\n      <td>40.9</td>\n      <td>0.817</td>\n      <td>47</td>\n      <td>1</td>\n    </tr>\n  </tbody>\n</table>\n<p>768 rows × 9 columns</p>\n</div>"
     },
     "metadata": {},
     "execution_count": 5
    }
   ],
   "source": [
    "raw_data.sort_values('Pregnancies')"
   ]
  },
  {
   "cell_type": "code",
   "execution_count": 9,
   "metadata": {},
   "outputs": [
    {
     "output_type": "execute_result",
     "data": {
      "text/plain": [
       "     Pregnancies  Glucose  BloodPressure  SkinThickness  Insulin   BMI  \\\n",
       "220            0      177             60             29      478  34.6   \n",
       "255            1      113             64             35        0  33.6   \n",
       "414            0      138             60             35      167  34.6   \n",
       "577            2      118             80              0        0  42.9   \n",
       "580            0      151             90             46        0  42.1   \n",
       "230            4      142             86              0        0  44.0   \n",
       "242            3      139             54              0        0  25.6   \n",
       "397            0      131             66             40        0  34.3   \n",
       "415            3      173             84             33      474  35.7   \n",
       "448            0      104             64             37       64  33.6   \n",
       "595            0      188             82             14      185  32.0   \n",
       "606            1      181             78             42      293  40.0   \n",
       "647            0      179             50             36      159  37.8   \n",
       "661            1      199             76             43        0  42.9   \n",
       "731            8      120             86              0        0  28.4   \n",
       "750            4      136             70              0        0  31.2   \n",
       "124            0      113             76              0        0  33.3   \n",
       "197            3      107             62             13       48  22.9   \n",
       "237            0      179             90             27        0  44.1   \n",
       "328            2      102             86             36      120  45.5   \n",
       "\n",
       "     DiabetesPedigreeFunction  Age  Outcome  \n",
       "220                     1.072   21        1  \n",
       "255                     0.543   21        1  \n",
       "414                     0.534   21        1  \n",
       "577                     0.693   21        1  \n",
       "580                     0.371   21        1  \n",
       "230                     0.645   22        1  \n",
       "242                     0.402   22        1  \n",
       "397                     0.196   22        1  \n",
       "415                     0.258   22        1  \n",
       "448                     0.510   22        1  \n",
       "595                     0.682   22        1  \n",
       "606                     1.258   22        1  \n",
       "647                     0.455   22        1  \n",
       "661                     1.394   22        1  \n",
       "731                     0.259   22        1  \n",
       "750                     1.182   22        1  \n",
       "124                     0.278   23        1  \n",
       "197                     0.678   23        1  \n",
       "237                     0.686   23        1  \n",
       "328                     0.127   23        1  "
      ],
      "text/html": "<div>\n<style scoped>\n    .dataframe tbody tr th:only-of-type {\n        vertical-align: middle;\n    }\n\n    .dataframe tbody tr th {\n        vertical-align: top;\n    }\n\n    .dataframe thead th {\n        text-align: right;\n    }\n</style>\n<table border=\"1\" class=\"dataframe\">\n  <thead>\n    <tr style=\"text-align: right;\">\n      <th></th>\n      <th>Pregnancies</th>\n      <th>Glucose</th>\n      <th>BloodPressure</th>\n      <th>SkinThickness</th>\n      <th>Insulin</th>\n      <th>BMI</th>\n      <th>DiabetesPedigreeFunction</th>\n      <th>Age</th>\n      <th>Outcome</th>\n    </tr>\n  </thead>\n  <tbody>\n    <tr>\n      <th>220</th>\n      <td>0</td>\n      <td>177</td>\n      <td>60</td>\n      <td>29</td>\n      <td>478</td>\n      <td>34.6</td>\n      <td>1.072</td>\n      <td>21</td>\n      <td>1</td>\n    </tr>\n    <tr>\n      <th>255</th>\n      <td>1</td>\n      <td>113</td>\n      <td>64</td>\n      <td>35</td>\n      <td>0</td>\n      <td>33.6</td>\n      <td>0.543</td>\n      <td>21</td>\n      <td>1</td>\n    </tr>\n    <tr>\n      <th>414</th>\n      <td>0</td>\n      <td>138</td>\n      <td>60</td>\n      <td>35</td>\n      <td>167</td>\n      <td>34.6</td>\n      <td>0.534</td>\n      <td>21</td>\n      <td>1</td>\n    </tr>\n    <tr>\n      <th>577</th>\n      <td>2</td>\n      <td>118</td>\n      <td>80</td>\n      <td>0</td>\n      <td>0</td>\n      <td>42.9</td>\n      <td>0.693</td>\n      <td>21</td>\n      <td>1</td>\n    </tr>\n    <tr>\n      <th>580</th>\n      <td>0</td>\n      <td>151</td>\n      <td>90</td>\n      <td>46</td>\n      <td>0</td>\n      <td>42.1</td>\n      <td>0.371</td>\n      <td>21</td>\n      <td>1</td>\n    </tr>\n    <tr>\n      <th>230</th>\n      <td>4</td>\n      <td>142</td>\n      <td>86</td>\n      <td>0</td>\n      <td>0</td>\n      <td>44.0</td>\n      <td>0.645</td>\n      <td>22</td>\n      <td>1</td>\n    </tr>\n    <tr>\n      <th>242</th>\n      <td>3</td>\n      <td>139</td>\n      <td>54</td>\n      <td>0</td>\n      <td>0</td>\n      <td>25.6</td>\n      <td>0.402</td>\n      <td>22</td>\n      <td>1</td>\n    </tr>\n    <tr>\n      <th>397</th>\n      <td>0</td>\n      <td>131</td>\n      <td>66</td>\n      <td>40</td>\n      <td>0</td>\n      <td>34.3</td>\n      <td>0.196</td>\n      <td>22</td>\n      <td>1</td>\n    </tr>\n    <tr>\n      <th>415</th>\n      <td>3</td>\n      <td>173</td>\n      <td>84</td>\n      <td>33</td>\n      <td>474</td>\n      <td>35.7</td>\n      <td>0.258</td>\n      <td>22</td>\n      <td>1</td>\n    </tr>\n    <tr>\n      <th>448</th>\n      <td>0</td>\n      <td>104</td>\n      <td>64</td>\n      <td>37</td>\n      <td>64</td>\n      <td>33.6</td>\n      <td>0.510</td>\n      <td>22</td>\n      <td>1</td>\n    </tr>\n    <tr>\n      <th>595</th>\n      <td>0</td>\n      <td>188</td>\n      <td>82</td>\n      <td>14</td>\n      <td>185</td>\n      <td>32.0</td>\n      <td>0.682</td>\n      <td>22</td>\n      <td>1</td>\n    </tr>\n    <tr>\n      <th>606</th>\n      <td>1</td>\n      <td>181</td>\n      <td>78</td>\n      <td>42</td>\n      <td>293</td>\n      <td>40.0</td>\n      <td>1.258</td>\n      <td>22</td>\n      <td>1</td>\n    </tr>\n    <tr>\n      <th>647</th>\n      <td>0</td>\n      <td>179</td>\n      <td>50</td>\n      <td>36</td>\n      <td>159</td>\n      <td>37.8</td>\n      <td>0.455</td>\n      <td>22</td>\n      <td>1</td>\n    </tr>\n    <tr>\n      <th>661</th>\n      <td>1</td>\n      <td>199</td>\n      <td>76</td>\n      <td>43</td>\n      <td>0</td>\n      <td>42.9</td>\n      <td>1.394</td>\n      <td>22</td>\n      <td>1</td>\n    </tr>\n    <tr>\n      <th>731</th>\n      <td>8</td>\n      <td>120</td>\n      <td>86</td>\n      <td>0</td>\n      <td>0</td>\n      <td>28.4</td>\n      <td>0.259</td>\n      <td>22</td>\n      <td>1</td>\n    </tr>\n    <tr>\n      <th>750</th>\n      <td>4</td>\n      <td>136</td>\n      <td>70</td>\n      <td>0</td>\n      <td>0</td>\n      <td>31.2</td>\n      <td>1.182</td>\n      <td>22</td>\n      <td>1</td>\n    </tr>\n    <tr>\n      <th>124</th>\n      <td>0</td>\n      <td>113</td>\n      <td>76</td>\n      <td>0</td>\n      <td>0</td>\n      <td>33.3</td>\n      <td>0.278</td>\n      <td>23</td>\n      <td>1</td>\n    </tr>\n    <tr>\n      <th>197</th>\n      <td>3</td>\n      <td>107</td>\n      <td>62</td>\n      <td>13</td>\n      <td>48</td>\n      <td>22.9</td>\n      <td>0.678</td>\n      <td>23</td>\n      <td>1</td>\n    </tr>\n    <tr>\n      <th>237</th>\n      <td>0</td>\n      <td>179</td>\n      <td>90</td>\n      <td>27</td>\n      <td>0</td>\n      <td>44.1</td>\n      <td>0.686</td>\n      <td>23</td>\n      <td>1</td>\n    </tr>\n    <tr>\n      <th>328</th>\n      <td>2</td>\n      <td>102</td>\n      <td>86</td>\n      <td>36</td>\n      <td>120</td>\n      <td>45.5</td>\n      <td>0.127</td>\n      <td>23</td>\n      <td>1</td>\n    </tr>\n  </tbody>\n</table>\n</div>"
     },
     "metadata": {},
     "execution_count": 9
    }
   ],
   "source": [
    "raw_data.sort_values(['Outcome', 'Age'], ascending=[False, True]).head(20)"
   ]
  },
  {
   "cell_type": "code",
   "execution_count": null,
   "metadata": {},
   "outputs": [],
   "source": []
  }
 ]
}