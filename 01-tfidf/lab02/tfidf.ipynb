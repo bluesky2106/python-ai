{
 "metadata": {
  "language_info": {
   "codemirror_mode": {
    "name": "ipython",
    "version": 3
   },
   "file_extension": ".py",
   "mimetype": "text/x-python",
   "name": "python",
   "nbconvert_exporter": "python",
   "pygments_lexer": "ipython3",
   "version": "3.9.5"
  },
  "orig_nbformat": 2,
  "kernelspec": {
   "name": "python395jvsc74a57bd0aee8b7b246df8f9039afb4144a1f6fd8d2ca17a180786b69acc140d282b71a49",
   "display_name": "Python 3.9.5 64-bit"
  },
  "metadata": {
   "interpreter": {
    "hash": "aee8b7b246df8f9039afb4144a1f6fd8d2ca17a180786b69acc140d282b71a49"
   }
  }
 },
 "nbformat": 4,
 "nbformat_minor": 2,
 "cells": [
  {
   "source": [
    "# tfidf"
   ],
   "cell_type": "markdown",
   "metadata": {}
  },
  {
   "source": [
    "## 1. Problem description\n",
    "\n",
    "There are 10 documents. Calculate tfidf for each document."
   ],
   "cell_type": "markdown",
   "metadata": {}
  },
  {
   "source": [
    "## 2. Input"
   ],
   "cell_type": "markdown",
   "metadata": {}
  },
  {
   "cell_type": "code",
   "execution_count": 67,
   "metadata": {},
   "outputs": [],
   "source": [
    "docs = dict()\n",
    "\n",
    "docs['doc1'] = 'Trời mưa khiến lòng mình buồn theo'.lower()\n",
    "docs['doc2'] = 'Dịch bệnh hoành hành là nguyên nhân khiến cửa hàng phải đóng cửa'.lower()\n",
    "docs['doc3'] = 'Vì đau chân nên mình phải từ bỏ sân cỏ'.lower()\n",
    "docs['doc4'] = 'Thật là một bộ phim xuất sắc'.lower()\n",
    "docs['doc5'] = 'Vô cùng vinh hạnh khi được tham dự lớp học này'.lower()"
   ]
  },
  {
   "source": [
    "## 3. Manual calculation"
   ],
   "cell_type": "markdown",
   "metadata": {}
  },
  {
   "source": [
    "First of all, we need to import important packages"
   ],
   "cell_type": "markdown",
   "metadata": {}
  },
  {
   "cell_type": "code",
   "execution_count": 68,
   "metadata": {},
   "outputs": [],
   "source": [
    "import math\n",
    "import numpy as np\n",
    "import pandas as pd"
   ]
  },
  {
   "source": [
    "### 3.1. Get all vocabularies"
   ],
   "cell_type": "markdown",
   "metadata": {}
  },
  {
   "cell_type": "code",
   "execution_count": 69,
   "metadata": {},
   "outputs": [],
   "source": [
    "def get_all_vocabularies(docs):\n",
    "    vocabularies = dict()\n",
    "    for k in docs:\n",
    "        doc = docs[k]\n",
    "        words = doc.split(' ')\n",
    "        for w in words:\n",
    "            vocabularies[w] = True\n",
    "    return list(vocabularies.keys())\n",
    "\n",
    "vocabularies = get_all_vocabularies(docs)\n",
    "vocabularies.sort()"
   ]
  },
  {
   "cell_type": "code",
   "execution_count": 70,
   "metadata": {},
   "outputs": [
    {
     "output_type": "stream",
     "name": "stdout",
     "text": [
      "['buồn', 'bệnh', 'bỏ', 'bộ', 'chân', 'cùng', 'cỏ', 'cửa', 'dịch', 'dự', 'hoành', 'hàng', 'hành', 'hạnh', 'học', 'khi', 'khiến', 'là', 'lòng', 'lớp', 'mình', 'mưa', 'một', 'nguyên', 'nhân', 'này', 'nên', 'phim', 'phải', 'sân', 'sắc', 'tham', 'theo', 'thật', 'trời', 'từ', 'vinh', 'vì', 'vô', 'xuất', 'đau', 'đóng', 'được']\n"
     ]
    }
   ],
   "source": [
    "print(vocabularies)"
   ]
  },
  {
   "source": [
    "### 3.2. Calculate tf"
   ],
   "cell_type": "markdown",
   "metadata": {}
  },
  {
   "cell_type": "code",
   "execution_count": 71,
   "metadata": {},
   "outputs": [],
   "source": [
    "def count_word(doc, word):\n",
    "  words = doc.split(' ')\n",
    "  count = 0\n",
    "  for w in words:\n",
    "    if w == word:\n",
    "      count += 1\n",
    "  return count"
   ]
  },
  {
   "cell_type": "code",
   "execution_count": 72,
   "metadata": {},
   "outputs": [],
   "source": [
    "tf = dict()\n",
    "for doc in docs:\n",
    "    tf[doc] = []\n",
    "    for word in vocabularies:\n",
    "        tf[doc].append(count_word(docs[doc], word))"
   ]
  },
  {
   "cell_type": "code",
   "execution_count": 73,
   "metadata": {},
   "outputs": [
    {
     "output_type": "execute_result",
     "data": {
      "text/plain": [
       "        doc1  doc2  doc3  doc4  doc5\n",
       "buồn       1     0     0     0     0\n",
       "bệnh       0     1     0     0     0\n",
       "bỏ         0     0     1     0     0\n",
       "bộ         0     0     0     1     0\n",
       "chân       0     0     1     0     0\n",
       "cùng       0     0     0     0     1\n",
       "cỏ         0     0     1     0     0\n",
       "cửa        0     2     0     0     0\n",
       "dịch       0     1     0     0     0\n",
       "dự         0     0     0     0     1\n",
       "hoành      0     1     0     0     0\n",
       "hàng       0     1     0     0     0\n",
       "hành       0     1     0     0     0\n",
       "hạnh       0     0     0     0     1\n",
       "học        0     0     0     0     1\n",
       "khi        0     0     0     0     1\n",
       "khiến      1     1     0     0     0\n",
       "là         0     1     0     1     0\n",
       "lòng       1     0     0     0     0\n",
       "lớp        0     0     0     0     1\n",
       "mình       1     0     1     0     0\n",
       "mưa        1     0     0     0     0\n",
       "một        0     0     0     1     0\n",
       "nguyên     0     1     0     0     0\n",
       "nhân       0     1     0     0     0\n",
       "này        0     0     0     0     1\n",
       "nên        0     0     1     0     0\n",
       "phim       0     0     0     1     0\n",
       "phải       0     1     1     0     0\n",
       "sân        0     0     1     0     0\n",
       "sắc        0     0     0     1     0\n",
       "tham       0     0     0     0     1\n",
       "theo       1     0     0     0     0\n",
       "thật       0     0     0     1     0\n",
       "trời       1     0     0     0     0\n",
       "từ         0     0     1     0     0\n",
       "vinh       0     0     0     0     1\n",
       "vì         0     0     1     0     0\n",
       "vô         0     0     0     0     1\n",
       "xuất       0     0     0     1     0\n",
       "đau        0     0     1     0     0\n",
       "đóng       0     1     0     0     0\n",
       "được       0     0     0     0     1"
      ],
      "text/html": "<div>\n<style scoped>\n    .dataframe tbody tr th:only-of-type {\n        vertical-align: middle;\n    }\n\n    .dataframe tbody tr th {\n        vertical-align: top;\n    }\n\n    .dataframe thead th {\n        text-align: right;\n    }\n</style>\n<table border=\"1\" class=\"dataframe\">\n  <thead>\n    <tr style=\"text-align: right;\">\n      <th></th>\n      <th>doc1</th>\n      <th>doc2</th>\n      <th>doc3</th>\n      <th>doc4</th>\n      <th>doc5</th>\n    </tr>\n  </thead>\n  <tbody>\n    <tr>\n      <th>buồn</th>\n      <td>1</td>\n      <td>0</td>\n      <td>0</td>\n      <td>0</td>\n      <td>0</td>\n    </tr>\n    <tr>\n      <th>bệnh</th>\n      <td>0</td>\n      <td>1</td>\n      <td>0</td>\n      <td>0</td>\n      <td>0</td>\n    </tr>\n    <tr>\n      <th>bỏ</th>\n      <td>0</td>\n      <td>0</td>\n      <td>1</td>\n      <td>0</td>\n      <td>0</td>\n    </tr>\n    <tr>\n      <th>bộ</th>\n      <td>0</td>\n      <td>0</td>\n      <td>0</td>\n      <td>1</td>\n      <td>0</td>\n    </tr>\n    <tr>\n      <th>chân</th>\n      <td>0</td>\n      <td>0</td>\n      <td>1</td>\n      <td>0</td>\n      <td>0</td>\n    </tr>\n    <tr>\n      <th>cùng</th>\n      <td>0</td>\n      <td>0</td>\n      <td>0</td>\n      <td>0</td>\n      <td>1</td>\n    </tr>\n    <tr>\n      <th>cỏ</th>\n      <td>0</td>\n      <td>0</td>\n      <td>1</td>\n      <td>0</td>\n      <td>0</td>\n    </tr>\n    <tr>\n      <th>cửa</th>\n      <td>0</td>\n      <td>2</td>\n      <td>0</td>\n      <td>0</td>\n      <td>0</td>\n    </tr>\n    <tr>\n      <th>dịch</th>\n      <td>0</td>\n      <td>1</td>\n      <td>0</td>\n      <td>0</td>\n      <td>0</td>\n    </tr>\n    <tr>\n      <th>dự</th>\n      <td>0</td>\n      <td>0</td>\n      <td>0</td>\n      <td>0</td>\n      <td>1</td>\n    </tr>\n    <tr>\n      <th>hoành</th>\n      <td>0</td>\n      <td>1</td>\n      <td>0</td>\n      <td>0</td>\n      <td>0</td>\n    </tr>\n    <tr>\n      <th>hàng</th>\n      <td>0</td>\n      <td>1</td>\n      <td>0</td>\n      <td>0</td>\n      <td>0</td>\n    </tr>\n    <tr>\n      <th>hành</th>\n      <td>0</td>\n      <td>1</td>\n      <td>0</td>\n      <td>0</td>\n      <td>0</td>\n    </tr>\n    <tr>\n      <th>hạnh</th>\n      <td>0</td>\n      <td>0</td>\n      <td>0</td>\n      <td>0</td>\n      <td>1</td>\n    </tr>\n    <tr>\n      <th>học</th>\n      <td>0</td>\n      <td>0</td>\n      <td>0</td>\n      <td>0</td>\n      <td>1</td>\n    </tr>\n    <tr>\n      <th>khi</th>\n      <td>0</td>\n      <td>0</td>\n      <td>0</td>\n      <td>0</td>\n      <td>1</td>\n    </tr>\n    <tr>\n      <th>khiến</th>\n      <td>1</td>\n      <td>1</td>\n      <td>0</td>\n      <td>0</td>\n      <td>0</td>\n    </tr>\n    <tr>\n      <th>là</th>\n      <td>0</td>\n      <td>1</td>\n      <td>0</td>\n      <td>1</td>\n      <td>0</td>\n    </tr>\n    <tr>\n      <th>lòng</th>\n      <td>1</td>\n      <td>0</td>\n      <td>0</td>\n      <td>0</td>\n      <td>0</td>\n    </tr>\n    <tr>\n      <th>lớp</th>\n      <td>0</td>\n      <td>0</td>\n      <td>0</td>\n      <td>0</td>\n      <td>1</td>\n    </tr>\n    <tr>\n      <th>mình</th>\n      <td>1</td>\n      <td>0</td>\n      <td>1</td>\n      <td>0</td>\n      <td>0</td>\n    </tr>\n    <tr>\n      <th>mưa</th>\n      <td>1</td>\n      <td>0</td>\n      <td>0</td>\n      <td>0</td>\n      <td>0</td>\n    </tr>\n    <tr>\n      <th>một</th>\n      <td>0</td>\n      <td>0</td>\n      <td>0</td>\n      <td>1</td>\n      <td>0</td>\n    </tr>\n    <tr>\n      <th>nguyên</th>\n      <td>0</td>\n      <td>1</td>\n      <td>0</td>\n      <td>0</td>\n      <td>0</td>\n    </tr>\n    <tr>\n      <th>nhân</th>\n      <td>0</td>\n      <td>1</td>\n      <td>0</td>\n      <td>0</td>\n      <td>0</td>\n    </tr>\n    <tr>\n      <th>này</th>\n      <td>0</td>\n      <td>0</td>\n      <td>0</td>\n      <td>0</td>\n      <td>1</td>\n    </tr>\n    <tr>\n      <th>nên</th>\n      <td>0</td>\n      <td>0</td>\n      <td>1</td>\n      <td>0</td>\n      <td>0</td>\n    </tr>\n    <tr>\n      <th>phim</th>\n      <td>0</td>\n      <td>0</td>\n      <td>0</td>\n      <td>1</td>\n      <td>0</td>\n    </tr>\n    <tr>\n      <th>phải</th>\n      <td>0</td>\n      <td>1</td>\n      <td>1</td>\n      <td>0</td>\n      <td>0</td>\n    </tr>\n    <tr>\n      <th>sân</th>\n      <td>0</td>\n      <td>0</td>\n      <td>1</td>\n      <td>0</td>\n      <td>0</td>\n    </tr>\n    <tr>\n      <th>sắc</th>\n      <td>0</td>\n      <td>0</td>\n      <td>0</td>\n      <td>1</td>\n      <td>0</td>\n    </tr>\n    <tr>\n      <th>tham</th>\n      <td>0</td>\n      <td>0</td>\n      <td>0</td>\n      <td>0</td>\n      <td>1</td>\n    </tr>\n    <tr>\n      <th>theo</th>\n      <td>1</td>\n      <td>0</td>\n      <td>0</td>\n      <td>0</td>\n      <td>0</td>\n    </tr>\n    <tr>\n      <th>thật</th>\n      <td>0</td>\n      <td>0</td>\n      <td>0</td>\n      <td>1</td>\n      <td>0</td>\n    </tr>\n    <tr>\n      <th>trời</th>\n      <td>1</td>\n      <td>0</td>\n      <td>0</td>\n      <td>0</td>\n      <td>0</td>\n    </tr>\n    <tr>\n      <th>từ</th>\n      <td>0</td>\n      <td>0</td>\n      <td>1</td>\n      <td>0</td>\n      <td>0</td>\n    </tr>\n    <tr>\n      <th>vinh</th>\n      <td>0</td>\n      <td>0</td>\n      <td>0</td>\n      <td>0</td>\n      <td>1</td>\n    </tr>\n    <tr>\n      <th>vì</th>\n      <td>0</td>\n      <td>0</td>\n      <td>1</td>\n      <td>0</td>\n      <td>0</td>\n    </tr>\n    <tr>\n      <th>vô</th>\n      <td>0</td>\n      <td>0</td>\n      <td>0</td>\n      <td>0</td>\n      <td>1</td>\n    </tr>\n    <tr>\n      <th>xuất</th>\n      <td>0</td>\n      <td>0</td>\n      <td>0</td>\n      <td>1</td>\n      <td>0</td>\n    </tr>\n    <tr>\n      <th>đau</th>\n      <td>0</td>\n      <td>0</td>\n      <td>1</td>\n      <td>0</td>\n      <td>0</td>\n    </tr>\n    <tr>\n      <th>đóng</th>\n      <td>0</td>\n      <td>1</td>\n      <td>0</td>\n      <td>0</td>\n      <td>0</td>\n    </tr>\n    <tr>\n      <th>được</th>\n      <td>0</td>\n      <td>0</td>\n      <td>0</td>\n      <td>0</td>\n      <td>1</td>\n    </tr>\n  </tbody>\n</table>\n</div>"
     },
     "metadata": {},
     "execution_count": 73
    }
   ],
   "source": [
    "def convert_tf_to_dataframe(vocabularies, tf):\n",
    "    rows = []\n",
    "    for doc in tf:\n",
    "        rows.append(tf[doc])\n",
    "    return pd.DataFrame(rows, columns = vocabularies, index=list(tf.keys())).transpose()\n",
    "\n",
    "tf_dataframe = convert_tf_to_dataframe(vocabularies, tf)\n",
    "tf_dataframe"
   ]
  },
  {
   "source": [
    "### 3.3. Normalize tf"
   ],
   "cell_type": "markdown",
   "metadata": {}
  },
  {
   "cell_type": "code",
   "execution_count": 74,
   "metadata": {},
   "outputs": [],
   "source": [
    "def normalize(tf, norm=None):\n",
    "    for doc in tf:\n",
    "        if norm == 'l1':\n",
    "            m = sum(tf[doc])\n",
    "        elif norm == 'l2':\n",
    "            m = np.power(np.dot(tf[doc], tf[doc]), 0.5)\n",
    "        else:\n",
    "            m = max(tf[doc])\n",
    "        for idx, item in enumerate(tf[doc]):\n",
    "            tf[doc][idx] = item / m\n",
    "    return tf\n",
    "\n",
    "tf = normalize(tf, norm='l2')"
   ]
  },
  {
   "cell_type": "code",
   "execution_count": 75,
   "metadata": {},
   "outputs": [
    {
     "output_type": "execute_result",
     "data": {
      "text/plain": [
       "            doc1      doc2      doc3      doc4      doc5\n",
       "buồn    0.377964  0.000000  0.000000  0.000000  0.000000\n",
       "bệnh    0.000000  0.258199  0.000000  0.000000  0.000000\n",
       "bỏ      0.000000  0.000000  0.316228  0.000000  0.000000\n",
       "bộ      0.000000  0.000000  0.000000  0.377964  0.000000\n",
       "chân    0.000000  0.000000  0.316228  0.000000  0.000000\n",
       "cùng    0.000000  0.000000  0.000000  0.000000  0.301511\n",
       "cỏ      0.000000  0.000000  0.316228  0.000000  0.000000\n",
       "cửa     0.000000  0.516398  0.000000  0.000000  0.000000\n",
       "dịch    0.000000  0.258199  0.000000  0.000000  0.000000\n",
       "dự      0.000000  0.000000  0.000000  0.000000  0.301511\n",
       "hoành   0.000000  0.258199  0.000000  0.000000  0.000000\n",
       "hàng    0.000000  0.258199  0.000000  0.000000  0.000000\n",
       "hành    0.000000  0.258199  0.000000  0.000000  0.000000\n",
       "hạnh    0.000000  0.000000  0.000000  0.000000  0.301511\n",
       "học     0.000000  0.000000  0.000000  0.000000  0.301511\n",
       "khi     0.000000  0.000000  0.000000  0.000000  0.301511\n",
       "khiến   0.377964  0.258199  0.000000  0.000000  0.000000\n",
       "là      0.000000  0.258199  0.000000  0.377964  0.000000\n",
       "lòng    0.377964  0.000000  0.000000  0.000000  0.000000\n",
       "lớp     0.000000  0.000000  0.000000  0.000000  0.301511\n",
       "mình    0.377964  0.000000  0.316228  0.000000  0.000000\n",
       "mưa     0.377964  0.000000  0.000000  0.000000  0.000000\n",
       "một     0.000000  0.000000  0.000000  0.377964  0.000000\n",
       "nguyên  0.000000  0.258199  0.000000  0.000000  0.000000\n",
       "nhân    0.000000  0.258199  0.000000  0.000000  0.000000\n",
       "này     0.000000  0.000000  0.000000  0.000000  0.301511\n",
       "nên     0.000000  0.000000  0.316228  0.000000  0.000000\n",
       "phim    0.000000  0.000000  0.000000  0.377964  0.000000\n",
       "phải    0.000000  0.258199  0.316228  0.000000  0.000000\n",
       "sân     0.000000  0.000000  0.316228  0.000000  0.000000\n",
       "sắc     0.000000  0.000000  0.000000  0.377964  0.000000\n",
       "tham    0.000000  0.000000  0.000000  0.000000  0.301511\n",
       "theo    0.377964  0.000000  0.000000  0.000000  0.000000\n",
       "thật    0.000000  0.000000  0.000000  0.377964  0.000000\n",
       "trời    0.377964  0.000000  0.000000  0.000000  0.000000\n",
       "từ      0.000000  0.000000  0.316228  0.000000  0.000000\n",
       "vinh    0.000000  0.000000  0.000000  0.000000  0.301511\n",
       "vì      0.000000  0.000000  0.316228  0.000000  0.000000\n",
       "vô      0.000000  0.000000  0.000000  0.000000  0.301511\n",
       "xuất    0.000000  0.000000  0.000000  0.377964  0.000000\n",
       "đau     0.000000  0.000000  0.316228  0.000000  0.000000\n",
       "đóng    0.000000  0.258199  0.000000  0.000000  0.000000\n",
       "được    0.000000  0.000000  0.000000  0.000000  0.301511"
      ],
      "text/html": "<div>\n<style scoped>\n    .dataframe tbody tr th:only-of-type {\n        vertical-align: middle;\n    }\n\n    .dataframe tbody tr th {\n        vertical-align: top;\n    }\n\n    .dataframe thead th {\n        text-align: right;\n    }\n</style>\n<table border=\"1\" class=\"dataframe\">\n  <thead>\n    <tr style=\"text-align: right;\">\n      <th></th>\n      <th>doc1</th>\n      <th>doc2</th>\n      <th>doc3</th>\n      <th>doc4</th>\n      <th>doc5</th>\n    </tr>\n  </thead>\n  <tbody>\n    <tr>\n      <th>buồn</th>\n      <td>0.377964</td>\n      <td>0.000000</td>\n      <td>0.000000</td>\n      <td>0.000000</td>\n      <td>0.000000</td>\n    </tr>\n    <tr>\n      <th>bệnh</th>\n      <td>0.000000</td>\n      <td>0.258199</td>\n      <td>0.000000</td>\n      <td>0.000000</td>\n      <td>0.000000</td>\n    </tr>\n    <tr>\n      <th>bỏ</th>\n      <td>0.000000</td>\n      <td>0.000000</td>\n      <td>0.316228</td>\n      <td>0.000000</td>\n      <td>0.000000</td>\n    </tr>\n    <tr>\n      <th>bộ</th>\n      <td>0.000000</td>\n      <td>0.000000</td>\n      <td>0.000000</td>\n      <td>0.377964</td>\n      <td>0.000000</td>\n    </tr>\n    <tr>\n      <th>chân</th>\n      <td>0.000000</td>\n      <td>0.000000</td>\n      <td>0.316228</td>\n      <td>0.000000</td>\n      <td>0.000000</td>\n    </tr>\n    <tr>\n      <th>cùng</th>\n      <td>0.000000</td>\n      <td>0.000000</td>\n      <td>0.000000</td>\n      <td>0.000000</td>\n      <td>0.301511</td>\n    </tr>\n    <tr>\n      <th>cỏ</th>\n      <td>0.000000</td>\n      <td>0.000000</td>\n      <td>0.316228</td>\n      <td>0.000000</td>\n      <td>0.000000</td>\n    </tr>\n    <tr>\n      <th>cửa</th>\n      <td>0.000000</td>\n      <td>0.516398</td>\n      <td>0.000000</td>\n      <td>0.000000</td>\n      <td>0.000000</td>\n    </tr>\n    <tr>\n      <th>dịch</th>\n      <td>0.000000</td>\n      <td>0.258199</td>\n      <td>0.000000</td>\n      <td>0.000000</td>\n      <td>0.000000</td>\n    </tr>\n    <tr>\n      <th>dự</th>\n      <td>0.000000</td>\n      <td>0.000000</td>\n      <td>0.000000</td>\n      <td>0.000000</td>\n      <td>0.301511</td>\n    </tr>\n    <tr>\n      <th>hoành</th>\n      <td>0.000000</td>\n      <td>0.258199</td>\n      <td>0.000000</td>\n      <td>0.000000</td>\n      <td>0.000000</td>\n    </tr>\n    <tr>\n      <th>hàng</th>\n      <td>0.000000</td>\n      <td>0.258199</td>\n      <td>0.000000</td>\n      <td>0.000000</td>\n      <td>0.000000</td>\n    </tr>\n    <tr>\n      <th>hành</th>\n      <td>0.000000</td>\n      <td>0.258199</td>\n      <td>0.000000</td>\n      <td>0.000000</td>\n      <td>0.000000</td>\n    </tr>\n    <tr>\n      <th>hạnh</th>\n      <td>0.000000</td>\n      <td>0.000000</td>\n      <td>0.000000</td>\n      <td>0.000000</td>\n      <td>0.301511</td>\n    </tr>\n    <tr>\n      <th>học</th>\n      <td>0.000000</td>\n      <td>0.000000</td>\n      <td>0.000000</td>\n      <td>0.000000</td>\n      <td>0.301511</td>\n    </tr>\n    <tr>\n      <th>khi</th>\n      <td>0.000000</td>\n      <td>0.000000</td>\n      <td>0.000000</td>\n      <td>0.000000</td>\n      <td>0.301511</td>\n    </tr>\n    <tr>\n      <th>khiến</th>\n      <td>0.377964</td>\n      <td>0.258199</td>\n      <td>0.000000</td>\n      <td>0.000000</td>\n      <td>0.000000</td>\n    </tr>\n    <tr>\n      <th>là</th>\n      <td>0.000000</td>\n      <td>0.258199</td>\n      <td>0.000000</td>\n      <td>0.377964</td>\n      <td>0.000000</td>\n    </tr>\n    <tr>\n      <th>lòng</th>\n      <td>0.377964</td>\n      <td>0.000000</td>\n      <td>0.000000</td>\n      <td>0.000000</td>\n      <td>0.000000</td>\n    </tr>\n    <tr>\n      <th>lớp</th>\n      <td>0.000000</td>\n      <td>0.000000</td>\n      <td>0.000000</td>\n      <td>0.000000</td>\n      <td>0.301511</td>\n    </tr>\n    <tr>\n      <th>mình</th>\n      <td>0.377964</td>\n      <td>0.000000</td>\n      <td>0.316228</td>\n      <td>0.000000</td>\n      <td>0.000000</td>\n    </tr>\n    <tr>\n      <th>mưa</th>\n      <td>0.377964</td>\n      <td>0.000000</td>\n      <td>0.000000</td>\n      <td>0.000000</td>\n      <td>0.000000</td>\n    </tr>\n    <tr>\n      <th>một</th>\n      <td>0.000000</td>\n      <td>0.000000</td>\n      <td>0.000000</td>\n      <td>0.377964</td>\n      <td>0.000000</td>\n    </tr>\n    <tr>\n      <th>nguyên</th>\n      <td>0.000000</td>\n      <td>0.258199</td>\n      <td>0.000000</td>\n      <td>0.000000</td>\n      <td>0.000000</td>\n    </tr>\n    <tr>\n      <th>nhân</th>\n      <td>0.000000</td>\n      <td>0.258199</td>\n      <td>0.000000</td>\n      <td>0.000000</td>\n      <td>0.000000</td>\n    </tr>\n    <tr>\n      <th>này</th>\n      <td>0.000000</td>\n      <td>0.000000</td>\n      <td>0.000000</td>\n      <td>0.000000</td>\n      <td>0.301511</td>\n    </tr>\n    <tr>\n      <th>nên</th>\n      <td>0.000000</td>\n      <td>0.000000</td>\n      <td>0.316228</td>\n      <td>0.000000</td>\n      <td>0.000000</td>\n    </tr>\n    <tr>\n      <th>phim</th>\n      <td>0.000000</td>\n      <td>0.000000</td>\n      <td>0.000000</td>\n      <td>0.377964</td>\n      <td>0.000000</td>\n    </tr>\n    <tr>\n      <th>phải</th>\n      <td>0.000000</td>\n      <td>0.258199</td>\n      <td>0.316228</td>\n      <td>0.000000</td>\n      <td>0.000000</td>\n    </tr>\n    <tr>\n      <th>sân</th>\n      <td>0.000000</td>\n      <td>0.000000</td>\n      <td>0.316228</td>\n      <td>0.000000</td>\n      <td>0.000000</td>\n    </tr>\n    <tr>\n      <th>sắc</th>\n      <td>0.000000</td>\n      <td>0.000000</td>\n      <td>0.000000</td>\n      <td>0.377964</td>\n      <td>0.000000</td>\n    </tr>\n    <tr>\n      <th>tham</th>\n      <td>0.000000</td>\n      <td>0.000000</td>\n      <td>0.000000</td>\n      <td>0.000000</td>\n      <td>0.301511</td>\n    </tr>\n    <tr>\n      <th>theo</th>\n      <td>0.377964</td>\n      <td>0.000000</td>\n      <td>0.000000</td>\n      <td>0.000000</td>\n      <td>0.000000</td>\n    </tr>\n    <tr>\n      <th>thật</th>\n      <td>0.000000</td>\n      <td>0.000000</td>\n      <td>0.000000</td>\n      <td>0.377964</td>\n      <td>0.000000</td>\n    </tr>\n    <tr>\n      <th>trời</th>\n      <td>0.377964</td>\n      <td>0.000000</td>\n      <td>0.000000</td>\n      <td>0.000000</td>\n      <td>0.000000</td>\n    </tr>\n    <tr>\n      <th>từ</th>\n      <td>0.000000</td>\n      <td>0.000000</td>\n      <td>0.316228</td>\n      <td>0.000000</td>\n      <td>0.000000</td>\n    </tr>\n    <tr>\n      <th>vinh</th>\n      <td>0.000000</td>\n      <td>0.000000</td>\n      <td>0.000000</td>\n      <td>0.000000</td>\n      <td>0.301511</td>\n    </tr>\n    <tr>\n      <th>vì</th>\n      <td>0.000000</td>\n      <td>0.000000</td>\n      <td>0.316228</td>\n      <td>0.000000</td>\n      <td>0.000000</td>\n    </tr>\n    <tr>\n      <th>vô</th>\n      <td>0.000000</td>\n      <td>0.000000</td>\n      <td>0.000000</td>\n      <td>0.000000</td>\n      <td>0.301511</td>\n    </tr>\n    <tr>\n      <th>xuất</th>\n      <td>0.000000</td>\n      <td>0.000000</td>\n      <td>0.000000</td>\n      <td>0.377964</td>\n      <td>0.000000</td>\n    </tr>\n    <tr>\n      <th>đau</th>\n      <td>0.000000</td>\n      <td>0.000000</td>\n      <td>0.316228</td>\n      <td>0.000000</td>\n      <td>0.000000</td>\n    </tr>\n    <tr>\n      <th>đóng</th>\n      <td>0.000000</td>\n      <td>0.258199</td>\n      <td>0.000000</td>\n      <td>0.000000</td>\n      <td>0.000000</td>\n    </tr>\n    <tr>\n      <th>được</th>\n      <td>0.000000</td>\n      <td>0.000000</td>\n      <td>0.000000</td>\n      <td>0.000000</td>\n      <td>0.301511</td>\n    </tr>\n  </tbody>\n</table>\n</div>"
     },
     "metadata": {},
     "execution_count": 75
    }
   ],
   "source": [
    "tf_dataframe = convert_tf_to_dataframe(vocabularies, tf)\n",
    "tf_dataframe"
   ]
  },
  {
   "source": [
    "### 3.3. Calculate df"
   ],
   "cell_type": "markdown",
   "metadata": {}
  },
  {
   "cell_type": "code",
   "execution_count": 76,
   "metadata": {},
   "outputs": [],
   "source": [
    "df = []\n",
    "idx = 0\n",
    "for word in vocabularies:\n",
    "    df.append(0)\n",
    "    for doc in docs:\n",
    "        if docs[doc].find(word) >= 0:\n",
    "            df[idx] += 1\n",
    "    idx += 1"
   ]
  },
  {
   "cell_type": "code",
   "execution_count": 77,
   "metadata": {},
   "outputs": [
    {
     "output_type": "execute_result",
     "data": {
      "text/plain": [
       "    buồn  bệnh  bỏ  bộ  chân  cùng  cỏ  cửa  dịch  dự  ...  thật  trời  từ  \\\n",
       "df     1     1   1   1     1     1   1    1     1   1  ...     1     1   1   \n",
       "\n",
       "    vinh  vì  vô  xuất  đau  đóng  được  \n",
       "df     1   1   1     1    1     1     1  \n",
       "\n",
       "[1 rows x 43 columns]"
      ],
      "text/html": "<div>\n<style scoped>\n    .dataframe tbody tr th:only-of-type {\n        vertical-align: middle;\n    }\n\n    .dataframe tbody tr th {\n        vertical-align: top;\n    }\n\n    .dataframe thead th {\n        text-align: right;\n    }\n</style>\n<table border=\"1\" class=\"dataframe\">\n  <thead>\n    <tr style=\"text-align: right;\">\n      <th></th>\n      <th>buồn</th>\n      <th>bệnh</th>\n      <th>bỏ</th>\n      <th>bộ</th>\n      <th>chân</th>\n      <th>cùng</th>\n      <th>cỏ</th>\n      <th>cửa</th>\n      <th>dịch</th>\n      <th>dự</th>\n      <th>...</th>\n      <th>thật</th>\n      <th>trời</th>\n      <th>từ</th>\n      <th>vinh</th>\n      <th>vì</th>\n      <th>vô</th>\n      <th>xuất</th>\n      <th>đau</th>\n      <th>đóng</th>\n      <th>được</th>\n    </tr>\n  </thead>\n  <tbody>\n    <tr>\n      <th>df</th>\n      <td>1</td>\n      <td>1</td>\n      <td>1</td>\n      <td>1</td>\n      <td>1</td>\n      <td>1</td>\n      <td>1</td>\n      <td>1</td>\n      <td>1</td>\n      <td>1</td>\n      <td>...</td>\n      <td>1</td>\n      <td>1</td>\n      <td>1</td>\n      <td>1</td>\n      <td>1</td>\n      <td>1</td>\n      <td>1</td>\n      <td>1</td>\n      <td>1</td>\n      <td>1</td>\n    </tr>\n  </tbody>\n</table>\n<p>1 rows × 43 columns</p>\n</div>"
     },
     "metadata": {},
     "execution_count": 77
    }
   ],
   "source": [
    "# print(df)\n",
    "df_dataframe = pd.DataFrame([df], columns=vocabularies, index=['df'])\n",
    "df_dataframe"
   ]
  },
  {
   "source": [
    "### 3.4. Calculate idf"
   ],
   "cell_type": "markdown",
   "metadata": {}
  },
  {
   "cell_type": "code",
   "execution_count": 78,
   "metadata": {},
   "outputs": [],
   "source": [
    "idf = []\n",
    "num_of_docs = len(docs.keys())\n",
    "for i, item in enumerate(df):\n",
    "  idf.append(math.log(num_of_docs / item, 2))"
   ]
  },
  {
   "cell_type": "code",
   "execution_count": 79,
   "metadata": {},
   "outputs": [
    {
     "output_type": "execute_result",
     "data": {
      "text/plain": [
       "         buồn      bệnh        bỏ        bộ      chân      cùng        cỏ  \\\n",
       "idf  2.321928  2.321928  2.321928  2.321928  2.321928  2.321928  2.321928   \n",
       "\n",
       "          cửa      dịch        dự  ...      thật      trời        từ  \\\n",
       "idf  2.321928  2.321928  2.321928  ...  2.321928  2.321928  2.321928   \n",
       "\n",
       "         vinh        vì        vô      xuất       đau      đóng      được  \n",
       "idf  2.321928  2.321928  2.321928  2.321928  2.321928  2.321928  2.321928  \n",
       "\n",
       "[1 rows x 43 columns]"
      ],
      "text/html": "<div>\n<style scoped>\n    .dataframe tbody tr th:only-of-type {\n        vertical-align: middle;\n    }\n\n    .dataframe tbody tr th {\n        vertical-align: top;\n    }\n\n    .dataframe thead th {\n        text-align: right;\n    }\n</style>\n<table border=\"1\" class=\"dataframe\">\n  <thead>\n    <tr style=\"text-align: right;\">\n      <th></th>\n      <th>buồn</th>\n      <th>bệnh</th>\n      <th>bỏ</th>\n      <th>bộ</th>\n      <th>chân</th>\n      <th>cùng</th>\n      <th>cỏ</th>\n      <th>cửa</th>\n      <th>dịch</th>\n      <th>dự</th>\n      <th>...</th>\n      <th>thật</th>\n      <th>trời</th>\n      <th>từ</th>\n      <th>vinh</th>\n      <th>vì</th>\n      <th>vô</th>\n      <th>xuất</th>\n      <th>đau</th>\n      <th>đóng</th>\n      <th>được</th>\n    </tr>\n  </thead>\n  <tbody>\n    <tr>\n      <th>idf</th>\n      <td>2.321928</td>\n      <td>2.321928</td>\n      <td>2.321928</td>\n      <td>2.321928</td>\n      <td>2.321928</td>\n      <td>2.321928</td>\n      <td>2.321928</td>\n      <td>2.321928</td>\n      <td>2.321928</td>\n      <td>2.321928</td>\n      <td>...</td>\n      <td>2.321928</td>\n      <td>2.321928</td>\n      <td>2.321928</td>\n      <td>2.321928</td>\n      <td>2.321928</td>\n      <td>2.321928</td>\n      <td>2.321928</td>\n      <td>2.321928</td>\n      <td>2.321928</td>\n      <td>2.321928</td>\n    </tr>\n  </tbody>\n</table>\n<p>1 rows × 43 columns</p>\n</div>"
     },
     "metadata": {},
     "execution_count": 79
    }
   ],
   "source": [
    "idf_dataframe = pd.DataFrame([idf], columns=vocabularies, index=['idf'])\n",
    "idf_dataframe"
   ]
  },
  {
   "source": [
    "### 3.5. Calculate tfidf"
   ],
   "cell_type": "markdown",
   "metadata": {}
  },
  {
   "cell_type": "code",
   "execution_count": 82,
   "metadata": {},
   "outputs": [],
   "source": [
    "def calculate_tfidf(tf, idf):\n",
    "  tfidf = dict()\n",
    "  for doc in tf:\n",
    "    tfidf[doc] = []\n",
    "    for idx, item in enumerate(tf[doc]):\n",
    "        tfidf[doc].append(idf[idx] * item)\n",
    "  return tfidf\n",
    "\n",
    "tfidf = calculate_tfidf(tf, idf)"
   ]
  },
  {
   "cell_type": "code",
   "execution_count": 83,
   "metadata": {},
   "outputs": [
    {
     "output_type": "execute_result",
     "data": {
      "text/plain": [
       "          doc1      doc2      doc3      doc4      doc5\n",
       "buồn  0.877606  0.000000  0.000000  0.000000  0.000000\n",
       "bệnh  0.000000  0.599519  0.000000  0.000000  0.000000\n",
       "bỏ    0.000000  0.000000  0.734258  0.000000  0.000000\n",
       "bộ    0.000000  0.000000  0.000000  0.877606  0.000000\n",
       "chân  0.000000  0.000000  0.734258  0.000000  0.000000\n",
       "cùng  0.000000  0.000000  0.000000  0.000000  0.700088\n",
       "cỏ    0.000000  0.000000  0.734258  0.000000  0.000000\n",
       "cửa   0.000000  1.199039  0.000000  0.000000  0.000000\n",
       "dịch  0.000000  0.599519  0.000000  0.000000  0.000000\n",
       "dự    0.000000  0.000000  0.000000  0.000000  0.700088"
      ],
      "text/html": "<div>\n<style scoped>\n    .dataframe tbody tr th:only-of-type {\n        vertical-align: middle;\n    }\n\n    .dataframe tbody tr th {\n        vertical-align: top;\n    }\n\n    .dataframe thead th {\n        text-align: right;\n    }\n</style>\n<table border=\"1\" class=\"dataframe\">\n  <thead>\n    <tr style=\"text-align: right;\">\n      <th></th>\n      <th>doc1</th>\n      <th>doc2</th>\n      <th>doc3</th>\n      <th>doc4</th>\n      <th>doc5</th>\n    </tr>\n  </thead>\n  <tbody>\n    <tr>\n      <th>buồn</th>\n      <td>0.877606</td>\n      <td>0.000000</td>\n      <td>0.000000</td>\n      <td>0.000000</td>\n      <td>0.000000</td>\n    </tr>\n    <tr>\n      <th>bệnh</th>\n      <td>0.000000</td>\n      <td>0.599519</td>\n      <td>0.000000</td>\n      <td>0.000000</td>\n      <td>0.000000</td>\n    </tr>\n    <tr>\n      <th>bỏ</th>\n      <td>0.000000</td>\n      <td>0.000000</td>\n      <td>0.734258</td>\n      <td>0.000000</td>\n      <td>0.000000</td>\n    </tr>\n    <tr>\n      <th>bộ</th>\n      <td>0.000000</td>\n      <td>0.000000</td>\n      <td>0.000000</td>\n      <td>0.877606</td>\n      <td>0.000000</td>\n    </tr>\n    <tr>\n      <th>chân</th>\n      <td>0.000000</td>\n      <td>0.000000</td>\n      <td>0.734258</td>\n      <td>0.000000</td>\n      <td>0.000000</td>\n    </tr>\n    <tr>\n      <th>cùng</th>\n      <td>0.000000</td>\n      <td>0.000000</td>\n      <td>0.000000</td>\n      <td>0.000000</td>\n      <td>0.700088</td>\n    </tr>\n    <tr>\n      <th>cỏ</th>\n      <td>0.000000</td>\n      <td>0.000000</td>\n      <td>0.734258</td>\n      <td>0.000000</td>\n      <td>0.000000</td>\n    </tr>\n    <tr>\n      <th>cửa</th>\n      <td>0.000000</td>\n      <td>1.199039</td>\n      <td>0.000000</td>\n      <td>0.000000</td>\n      <td>0.000000</td>\n    </tr>\n    <tr>\n      <th>dịch</th>\n      <td>0.000000</td>\n      <td>0.599519</td>\n      <td>0.000000</td>\n      <td>0.000000</td>\n      <td>0.000000</td>\n    </tr>\n    <tr>\n      <th>dự</th>\n      <td>0.000000</td>\n      <td>0.000000</td>\n      <td>0.000000</td>\n      <td>0.000000</td>\n      <td>0.700088</td>\n    </tr>\n  </tbody>\n</table>\n</div>"
     },
     "metadata": {},
     "execution_count": 83
    }
   ],
   "source": [
    "tfidf_dataframe = convert_tf_to_dataframe(vocabularies, tfidf)\n",
    "tfidf_dataframe.head(10)"
   ]
  },
  {
   "source": [
    "## 4. Use sklearn package"
   ],
   "cell_type": "markdown",
   "metadata": {}
  },
  {
   "cell_type": "code",
   "execution_count": 84,
   "metadata": {},
   "outputs": [],
   "source": [
    "# import tfidf package\n",
    "from sklearn.feature_extraction.text import TfidfVectorizer"
   ]
  },
  {
   "cell_type": "code",
   "execution_count": 85,
   "metadata": {},
   "outputs": [],
   "source": [
    "vectorizer = TfidfVectorizer(norm='l2')\n",
    "# print(list(docs.values())\n",
    "X = vectorizer.fit_transform(list(docs.values())).toarray()\n",
    "vocab = vectorizer.get_feature_names()\n",
    "params = vectorizer.get_params()"
   ]
  },
  {
   "cell_type": "code",
   "execution_count": 86,
   "metadata": {},
   "outputs": [
    {
     "output_type": "stream",
     "name": "stdout",
     "text": [
      "['buồn', 'bệnh', 'bỏ', 'bộ', 'chân', 'cùng', 'cỏ', 'cửa', 'dịch', 'dự', 'hoành', 'hàng', 'hành', 'hạnh', 'học', 'khi', 'khiến', 'là', 'lòng', 'lớp', 'mình', 'mưa', 'một', 'nguyên', 'nhân', 'này', 'nên', 'phim', 'phải', 'sân', 'sắc', 'tham', 'theo', 'thật', 'trời', 'từ', 'vinh', 'vì', 'vô', 'xuất', 'đau', 'đóng', 'được']\n"
     ]
    }
   ],
   "source": [
    "# print(params)\n",
    "print(vocab)"
   ]
  },
  {
   "cell_type": "code",
   "execution_count": 88,
   "metadata": {},
   "outputs": [
    {
     "output_type": "execute_result",
     "data": {
      "text/plain": [
       "          doc1      doc2      doc3      doc4      doc5\n",
       "buồn  0.398352  0.000000  0.000000  0.000000  0.000000\n",
       "bệnh  0.000000  0.267713  0.000000  0.000000  0.000000\n",
       "bỏ    0.000000  0.000000  0.327881  0.000000  0.000000\n",
       "bộ    0.000000  0.000000  0.000000  0.387757  0.000000\n",
       "chân  0.000000  0.000000  0.327881  0.000000  0.000000\n",
       "cùng  0.000000  0.000000  0.000000  0.000000  0.301511\n",
       "cỏ    0.000000  0.000000  0.327881  0.000000  0.000000\n",
       "cửa   0.000000  0.535427  0.000000  0.000000  0.000000\n",
       "dịch  0.000000  0.267713  0.000000  0.000000  0.000000\n",
       "dự    0.000000  0.000000  0.000000  0.000000  0.301511"
      ],
      "text/html": "<div>\n<style scoped>\n    .dataframe tbody tr th:only-of-type {\n        vertical-align: middle;\n    }\n\n    .dataframe tbody tr th {\n        vertical-align: top;\n    }\n\n    .dataframe thead th {\n        text-align: right;\n    }\n</style>\n<table border=\"1\" class=\"dataframe\">\n  <thead>\n    <tr style=\"text-align: right;\">\n      <th></th>\n      <th>doc1</th>\n      <th>doc2</th>\n      <th>doc3</th>\n      <th>doc4</th>\n      <th>doc5</th>\n    </tr>\n  </thead>\n  <tbody>\n    <tr>\n      <th>buồn</th>\n      <td>0.398352</td>\n      <td>0.000000</td>\n      <td>0.000000</td>\n      <td>0.000000</td>\n      <td>0.000000</td>\n    </tr>\n    <tr>\n      <th>bệnh</th>\n      <td>0.000000</td>\n      <td>0.267713</td>\n      <td>0.000000</td>\n      <td>0.000000</td>\n      <td>0.000000</td>\n    </tr>\n    <tr>\n      <th>bỏ</th>\n      <td>0.000000</td>\n      <td>0.000000</td>\n      <td>0.327881</td>\n      <td>0.000000</td>\n      <td>0.000000</td>\n    </tr>\n    <tr>\n      <th>bộ</th>\n      <td>0.000000</td>\n      <td>0.000000</td>\n      <td>0.000000</td>\n      <td>0.387757</td>\n      <td>0.000000</td>\n    </tr>\n    <tr>\n      <th>chân</th>\n      <td>0.000000</td>\n      <td>0.000000</td>\n      <td>0.327881</td>\n      <td>0.000000</td>\n      <td>0.000000</td>\n    </tr>\n    <tr>\n      <th>cùng</th>\n      <td>0.000000</td>\n      <td>0.000000</td>\n      <td>0.000000</td>\n      <td>0.000000</td>\n      <td>0.301511</td>\n    </tr>\n    <tr>\n      <th>cỏ</th>\n      <td>0.000000</td>\n      <td>0.000000</td>\n      <td>0.327881</td>\n      <td>0.000000</td>\n      <td>0.000000</td>\n    </tr>\n    <tr>\n      <th>cửa</th>\n      <td>0.000000</td>\n      <td>0.535427</td>\n      <td>0.000000</td>\n      <td>0.000000</td>\n      <td>0.000000</td>\n    </tr>\n    <tr>\n      <th>dịch</th>\n      <td>0.000000</td>\n      <td>0.267713</td>\n      <td>0.000000</td>\n      <td>0.000000</td>\n      <td>0.000000</td>\n    </tr>\n    <tr>\n      <th>dự</th>\n      <td>0.000000</td>\n      <td>0.000000</td>\n      <td>0.000000</td>\n      <td>0.000000</td>\n      <td>0.301511</td>\n    </tr>\n  </tbody>\n</table>\n</div>"
     },
     "metadata": {},
     "execution_count": 88
    }
   ],
   "source": [
    "# X\n",
    "# vocab\n",
    "tfidf_result = pd.DataFrame(X, columns=vocab, index=list(docs.keys())).transpose()\n",
    "tfidf_result.head(10)"
   ]
  }
 ]
}