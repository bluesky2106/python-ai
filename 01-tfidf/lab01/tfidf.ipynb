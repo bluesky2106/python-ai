{
 "metadata": {
  "language_info": {
   "codemirror_mode": {
    "name": "ipython",
    "version": 3
   },
   "file_extension": ".py",
   "mimetype": "text/x-python",
   "name": "python",
   "nbconvert_exporter": "python",
   "pygments_lexer": "ipython3",
   "version": "3.9.5"
  },
  "orig_nbformat": 2,
  "kernelspec": {
   "name": "python395jvsc74a57bd0aee8b7b246df8f9039afb4144a1f6fd8d2ca17a180786b69acc140d282b71a49",
   "display_name": "Python 3.9.5 64-bit"
  },
  "metadata": {
   "interpreter": {
    "hash": "aee8b7b246df8f9039afb4144a1f6fd8d2ca17a180786b69acc140d282b71a49"
   }
  }
 },
 "nbformat": 4,
 "nbformat_minor": 2,
 "cells": [
  {
   "source": [
    "# tfidf"
   ],
   "cell_type": "markdown",
   "metadata": {}
  },
  {
   "source": [
    "## 1. Problem description\n",
    "\n",
    "There are 10 documents. Calculate tfidf for each document."
   ],
   "cell_type": "markdown",
   "metadata": {}
  },
  {
   "source": [
    "## 2. Input"
   ],
   "cell_type": "markdown",
   "metadata": {}
  },
  {
   "cell_type": "code",
   "execution_count": 88,
   "metadata": {},
   "outputs": [],
   "source": [
    "docs = dict()\n",
    "\n",
    "docs['doc1'] = 'A A B A A A B B B A A C D'\n",
    "docs['doc2'] = 'A C D A A A B B B C C C D D D'\n",
    "docs['doc3'] = 'C C D D D C D D D D D C C C'\n",
    "docs['doc4'] = 'A B C D E A B C D E A B C D E'\n",
    "docs['doc5'] = 'A B C C C C C C C C C C B C'\n",
    "docs['doc6'] = 'D E A D E A D D D D D E'\n",
    "docs['doc7'] = 'B E B B B B E E E C B B B C'\n",
    "docs['doc8'] = 'A B C A A A A B B E'\n",
    "docs['doc9'] = 'A E E E E A B C E E A'\n",
    "docs['doc10'] = 'A B C B C B C B C D D D'"
   ]
  },
  {
   "source": [
    "## 3. Manual calculation"
   ],
   "cell_type": "markdown",
   "metadata": {}
  },
  {
   "source": [
    "First of all, we need to import important packages"
   ],
   "cell_type": "markdown",
   "metadata": {}
  },
  {
   "cell_type": "code",
   "execution_count": 89,
   "metadata": {},
   "outputs": [],
   "source": [
    "import math\n",
    "import numpy as np\n",
    "import pandas as pd"
   ]
  },
  {
   "source": [
    "### 3.1. Get all vocabularies"
   ],
   "cell_type": "markdown",
   "metadata": {}
  },
  {
   "cell_type": "code",
   "execution_count": 90,
   "metadata": {},
   "outputs": [],
   "source": [
    "def get_all_vocabularies(docs):\n",
    "    vocabularies = dict()\n",
    "    for k in docs:\n",
    "        doc = docs[k]\n",
    "        words = doc.split(' ')\n",
    "        for w in words:\n",
    "            vocabularies[w] = True\n",
    "    return list(vocabularies.keys())\n",
    "\n",
    "vocabularies = get_all_vocabularies(docs)"
   ]
  },
  {
   "cell_type": "code",
   "execution_count": 91,
   "metadata": {},
   "outputs": [
    {
     "output_type": "stream",
     "name": "stdout",
     "text": [
      "['A', 'B', 'C', 'D', 'E']\n"
     ]
    }
   ],
   "source": [
    "print(vocabularies)"
   ]
  },
  {
   "source": [
    "### 3.2. Calculate tf"
   ],
   "cell_type": "markdown",
   "metadata": {}
  },
  {
   "cell_type": "code",
   "execution_count": 104,
   "metadata": {},
   "outputs": [],
   "source": [
    "def count_word(doc, word):\n",
    "  count = 0\n",
    "  for w in doc:\n",
    "    if w == word:\n",
    "      count += 1\n",
    "  return count"
   ]
  },
  {
   "cell_type": "code",
   "execution_count": 105,
   "metadata": {},
   "outputs": [],
   "source": [
    "tf = dict()\n",
    "for doc in docs:\n",
    "    tf[doc] = []\n",
    "    for word in vocabularies:\n",
    "        tf[doc].append(count_word(docs[doc], word))"
   ]
  },
  {
   "cell_type": "code",
   "execution_count": 106,
   "metadata": {},
   "outputs": [
    {
     "output_type": "execute_result",
     "data": {
      "text/plain": [
       "       A  B   C  D  E\n",
       "doc1   7  4   1  1  0\n",
       "doc2   4  3   4  4  0\n",
       "doc3   0  0   6  8  0\n",
       "doc4   3  3   3  3  3\n",
       "doc5   1  2  11  0  0\n",
       "doc6   2  0   0  7  3\n",
       "doc7   0  8   2  0  4\n",
       "doc8   5  3   1  0  1\n",
       "doc9   3  1   1  0  6\n",
       "doc10  1  4   4  3  0"
      ],
      "text/html": "<div>\n<style scoped>\n    .dataframe tbody tr th:only-of-type {\n        vertical-align: middle;\n    }\n\n    .dataframe tbody tr th {\n        vertical-align: top;\n    }\n\n    .dataframe thead th {\n        text-align: right;\n    }\n</style>\n<table border=\"1\" class=\"dataframe\">\n  <thead>\n    <tr style=\"text-align: right;\">\n      <th></th>\n      <th>A</th>\n      <th>B</th>\n      <th>C</th>\n      <th>D</th>\n      <th>E</th>\n    </tr>\n  </thead>\n  <tbody>\n    <tr>\n      <th>doc1</th>\n      <td>7</td>\n      <td>4</td>\n      <td>1</td>\n      <td>1</td>\n      <td>0</td>\n    </tr>\n    <tr>\n      <th>doc2</th>\n      <td>4</td>\n      <td>3</td>\n      <td>4</td>\n      <td>4</td>\n      <td>0</td>\n    </tr>\n    <tr>\n      <th>doc3</th>\n      <td>0</td>\n      <td>0</td>\n      <td>6</td>\n      <td>8</td>\n      <td>0</td>\n    </tr>\n    <tr>\n      <th>doc4</th>\n      <td>3</td>\n      <td>3</td>\n      <td>3</td>\n      <td>3</td>\n      <td>3</td>\n    </tr>\n    <tr>\n      <th>doc5</th>\n      <td>1</td>\n      <td>2</td>\n      <td>11</td>\n      <td>0</td>\n      <td>0</td>\n    </tr>\n    <tr>\n      <th>doc6</th>\n      <td>2</td>\n      <td>0</td>\n      <td>0</td>\n      <td>7</td>\n      <td>3</td>\n    </tr>\n    <tr>\n      <th>doc7</th>\n      <td>0</td>\n      <td>8</td>\n      <td>2</td>\n      <td>0</td>\n      <td>4</td>\n    </tr>\n    <tr>\n      <th>doc8</th>\n      <td>5</td>\n      <td>3</td>\n      <td>1</td>\n      <td>0</td>\n      <td>1</td>\n    </tr>\n    <tr>\n      <th>doc9</th>\n      <td>3</td>\n      <td>1</td>\n      <td>1</td>\n      <td>0</td>\n      <td>6</td>\n    </tr>\n    <tr>\n      <th>doc10</th>\n      <td>1</td>\n      <td>4</td>\n      <td>4</td>\n      <td>3</td>\n      <td>0</td>\n    </tr>\n  </tbody>\n</table>\n</div>"
     },
     "metadata": {},
     "execution_count": 106
    }
   ],
   "source": [
    "def convert_tf_to_dataframe(vocabularies, tf):\n",
    "    rows = []\n",
    "    for doc in tf:\n",
    "        rows.append(tf[doc])\n",
    "    return pd.DataFrame(rows, columns = vocabularies, index=list(tf.keys()))\n",
    "\n",
    "tf_dataframe = convert_tf_to_dataframe(vocabularies, tf)\n",
    "tf_dataframe"
   ]
  },
  {
   "source": [
    "### 3.3. Normalize tf"
   ],
   "cell_type": "markdown",
   "metadata": {}
  },
  {
   "cell_type": "code",
   "execution_count": 107,
   "metadata": {},
   "outputs": [],
   "source": [
    "def normalize(tf, norm=None):\n",
    "    for doc in tf:\n",
    "        if norm == 'l1':\n",
    "            m = sum(tf[doc])\n",
    "        elif norm == 'l2':\n",
    "            m = np.power(np.dot(tf[doc], tf[doc]), 0.5)\n",
    "        else:\n",
    "            m = max(tf[doc])\n",
    "        for idx, item in enumerate(tf[doc]):\n",
    "            tf[doc][idx] = item / m\n",
    "    return tf\n",
    "\n",
    "tf = normalize(tf, norm='')"
   ]
  },
  {
   "cell_type": "code",
   "execution_count": 108,
   "metadata": {},
   "outputs": [
    {
     "output_type": "execute_result",
     "data": {
      "text/plain": [
       "              A         B         C         D         E\n",
       "doc1   1.000000  0.571429  0.142857  0.142857  0.000000\n",
       "doc2   1.000000  0.750000  1.000000  1.000000  0.000000\n",
       "doc3   0.000000  0.000000  0.750000  1.000000  0.000000\n",
       "doc4   1.000000  1.000000  1.000000  1.000000  1.000000\n",
       "doc5   0.090909  0.181818  1.000000  0.000000  0.000000\n",
       "doc6   0.285714  0.000000  0.000000  1.000000  0.428571\n",
       "doc7   0.000000  1.000000  0.250000  0.000000  0.500000\n",
       "doc8   1.000000  0.600000  0.200000  0.000000  0.200000\n",
       "doc9   0.500000  0.166667  0.166667  0.000000  1.000000\n",
       "doc10  0.250000  1.000000  1.000000  0.750000  0.000000"
      ],
      "text/html": "<div>\n<style scoped>\n    .dataframe tbody tr th:only-of-type {\n        vertical-align: middle;\n    }\n\n    .dataframe tbody tr th {\n        vertical-align: top;\n    }\n\n    .dataframe thead th {\n        text-align: right;\n    }\n</style>\n<table border=\"1\" class=\"dataframe\">\n  <thead>\n    <tr style=\"text-align: right;\">\n      <th></th>\n      <th>A</th>\n      <th>B</th>\n      <th>C</th>\n      <th>D</th>\n      <th>E</th>\n    </tr>\n  </thead>\n  <tbody>\n    <tr>\n      <th>doc1</th>\n      <td>1.000000</td>\n      <td>0.571429</td>\n      <td>0.142857</td>\n      <td>0.142857</td>\n      <td>0.000000</td>\n    </tr>\n    <tr>\n      <th>doc2</th>\n      <td>1.000000</td>\n      <td>0.750000</td>\n      <td>1.000000</td>\n      <td>1.000000</td>\n      <td>0.000000</td>\n    </tr>\n    <tr>\n      <th>doc3</th>\n      <td>0.000000</td>\n      <td>0.000000</td>\n      <td>0.750000</td>\n      <td>1.000000</td>\n      <td>0.000000</td>\n    </tr>\n    <tr>\n      <th>doc4</th>\n      <td>1.000000</td>\n      <td>1.000000</td>\n      <td>1.000000</td>\n      <td>1.000000</td>\n      <td>1.000000</td>\n    </tr>\n    <tr>\n      <th>doc5</th>\n      <td>0.090909</td>\n      <td>0.181818</td>\n      <td>1.000000</td>\n      <td>0.000000</td>\n      <td>0.000000</td>\n    </tr>\n    <tr>\n      <th>doc6</th>\n      <td>0.285714</td>\n      <td>0.000000</td>\n      <td>0.000000</td>\n      <td>1.000000</td>\n      <td>0.428571</td>\n    </tr>\n    <tr>\n      <th>doc7</th>\n      <td>0.000000</td>\n      <td>1.000000</td>\n      <td>0.250000</td>\n      <td>0.000000</td>\n      <td>0.500000</td>\n    </tr>\n    <tr>\n      <th>doc8</th>\n      <td>1.000000</td>\n      <td>0.600000</td>\n      <td>0.200000</td>\n      <td>0.000000</td>\n      <td>0.200000</td>\n    </tr>\n    <tr>\n      <th>doc9</th>\n      <td>0.500000</td>\n      <td>0.166667</td>\n      <td>0.166667</td>\n      <td>0.000000</td>\n      <td>1.000000</td>\n    </tr>\n    <tr>\n      <th>doc10</th>\n      <td>0.250000</td>\n      <td>1.000000</td>\n      <td>1.000000</td>\n      <td>0.750000</td>\n      <td>0.000000</td>\n    </tr>\n  </tbody>\n</table>\n</div>"
     },
     "metadata": {},
     "execution_count": 108
    }
   ],
   "source": [
    "tf_dataframe = convert_tf_to_dataframe(vocabularies, tf)\n",
    "tf_dataframe"
   ]
  },
  {
   "source": [
    "### 3.3. Calculate df"
   ],
   "cell_type": "markdown",
   "metadata": {}
  },
  {
   "cell_type": "code",
   "execution_count": 109,
   "metadata": {},
   "outputs": [],
   "source": [
    "df = []\n",
    "idx = 0\n",
    "for word in vocabularies:\n",
    "    df.append(0)\n",
    "    for doc in docs:\n",
    "        if docs[doc].find(word) >= 0:\n",
    "            df[idx] += 1\n",
    "    idx += 1"
   ]
  },
  {
   "cell_type": "code",
   "execution_count": 110,
   "metadata": {},
   "outputs": [
    {
     "output_type": "execute_result",
     "data": {
      "text/plain": [
       "    A  B  C  D  E\n",
       "df  8  8  9  6  5"
      ],
      "text/html": "<div>\n<style scoped>\n    .dataframe tbody tr th:only-of-type {\n        vertical-align: middle;\n    }\n\n    .dataframe tbody tr th {\n        vertical-align: top;\n    }\n\n    .dataframe thead th {\n        text-align: right;\n    }\n</style>\n<table border=\"1\" class=\"dataframe\">\n  <thead>\n    <tr style=\"text-align: right;\">\n      <th></th>\n      <th>A</th>\n      <th>B</th>\n      <th>C</th>\n      <th>D</th>\n      <th>E</th>\n    </tr>\n  </thead>\n  <tbody>\n    <tr>\n      <th>df</th>\n      <td>8</td>\n      <td>8</td>\n      <td>9</td>\n      <td>6</td>\n      <td>5</td>\n    </tr>\n  </tbody>\n</table>\n</div>"
     },
     "metadata": {},
     "execution_count": 110
    }
   ],
   "source": [
    "# print(df)\n",
    "df_dataframe = pd.DataFrame([df], columns=vocabularies, index=['df'])\n",
    "df_dataframe"
   ]
  },
  {
   "source": [
    "### 3.4. Calculate idf"
   ],
   "cell_type": "markdown",
   "metadata": {}
  },
  {
   "cell_type": "code",
   "execution_count": 111,
   "metadata": {},
   "outputs": [],
   "source": [
    "idf = []\n",
    "num_of_docs = len(docs.keys())\n",
    "for i, item in enumerate(df):\n",
    "  idf.append(math.log(num_of_docs / item, 2))"
   ]
  },
  {
   "cell_type": "code",
   "execution_count": 112,
   "metadata": {},
   "outputs": [
    {
     "output_type": "execute_result",
     "data": {
      "text/plain": [
       "            A         B         C         D    E\n",
       "idf  0.321928  0.321928  0.152003  0.736966  1.0"
      ],
      "text/html": "<div>\n<style scoped>\n    .dataframe tbody tr th:only-of-type {\n        vertical-align: middle;\n    }\n\n    .dataframe tbody tr th {\n        vertical-align: top;\n    }\n\n    .dataframe thead th {\n        text-align: right;\n    }\n</style>\n<table border=\"1\" class=\"dataframe\">\n  <thead>\n    <tr style=\"text-align: right;\">\n      <th></th>\n      <th>A</th>\n      <th>B</th>\n      <th>C</th>\n      <th>D</th>\n      <th>E</th>\n    </tr>\n  </thead>\n  <tbody>\n    <tr>\n      <th>idf</th>\n      <td>0.321928</td>\n      <td>0.321928</td>\n      <td>0.152003</td>\n      <td>0.736966</td>\n      <td>1.0</td>\n    </tr>\n  </tbody>\n</table>\n</div>"
     },
     "metadata": {},
     "execution_count": 112
    }
   ],
   "source": [
    "idf_dataframe = pd.DataFrame([idf], columns=vocabularies, index=['idf'])\n",
    "idf_dataframe"
   ]
  },
  {
   "source": [
    "### 3.5. Calculate tfidf"
   ],
   "cell_type": "markdown",
   "metadata": {}
  },
  {
   "cell_type": "code",
   "execution_count": 113,
   "metadata": {},
   "outputs": [],
   "source": [
    "def calculate_tfidf(tf, idf):\n",
    "  tfidf = dict()\n",
    "  for doc in tf:\n",
    "    tfidf[doc] = []\n",
    "    for idx, item in enumerate(tf[doc]):\n",
    "        tfidf[doc].append(idf[idx] * item)\n",
    "  return tfidf\n",
    "\n",
    "tfidf = calculate_tfidf(tf, idf)"
   ]
  },
  {
   "cell_type": "code",
   "execution_count": 114,
   "metadata": {},
   "outputs": [
    {
     "output_type": "execute_result",
     "data": {
      "text/plain": [
       "              A         B         C         D         E\n",
       "doc1   0.321928  0.183959  0.021715  0.105281  0.000000\n",
       "doc2   0.321928  0.241446  0.152003  0.736966  0.000000\n",
       "doc3   0.000000  0.000000  0.114002  0.736966  0.000000\n",
       "doc4   0.321928  0.321928  0.152003  0.736966  1.000000\n",
       "doc5   0.029266  0.058532  0.152003  0.000000  0.000000\n",
       "doc6   0.091979  0.000000  0.000000  0.736966  0.428571\n",
       "doc7   0.000000  0.321928  0.038001  0.000000  0.500000\n",
       "doc8   0.321928  0.193157  0.030401  0.000000  0.200000\n",
       "doc9   0.160964  0.053655  0.025334  0.000000  1.000000\n",
       "doc10  0.080482  0.321928  0.152003  0.552724  0.000000"
      ],
      "text/html": "<div>\n<style scoped>\n    .dataframe tbody tr th:only-of-type {\n        vertical-align: middle;\n    }\n\n    .dataframe tbody tr th {\n        vertical-align: top;\n    }\n\n    .dataframe thead th {\n        text-align: right;\n    }\n</style>\n<table border=\"1\" class=\"dataframe\">\n  <thead>\n    <tr style=\"text-align: right;\">\n      <th></th>\n      <th>A</th>\n      <th>B</th>\n      <th>C</th>\n      <th>D</th>\n      <th>E</th>\n    </tr>\n  </thead>\n  <tbody>\n    <tr>\n      <th>doc1</th>\n      <td>0.321928</td>\n      <td>0.183959</td>\n      <td>0.021715</td>\n      <td>0.105281</td>\n      <td>0.000000</td>\n    </tr>\n    <tr>\n      <th>doc2</th>\n      <td>0.321928</td>\n      <td>0.241446</td>\n      <td>0.152003</td>\n      <td>0.736966</td>\n      <td>0.000000</td>\n    </tr>\n    <tr>\n      <th>doc3</th>\n      <td>0.000000</td>\n      <td>0.000000</td>\n      <td>0.114002</td>\n      <td>0.736966</td>\n      <td>0.000000</td>\n    </tr>\n    <tr>\n      <th>doc4</th>\n      <td>0.321928</td>\n      <td>0.321928</td>\n      <td>0.152003</td>\n      <td>0.736966</td>\n      <td>1.000000</td>\n    </tr>\n    <tr>\n      <th>doc5</th>\n      <td>0.029266</td>\n      <td>0.058532</td>\n      <td>0.152003</td>\n      <td>0.000000</td>\n      <td>0.000000</td>\n    </tr>\n    <tr>\n      <th>doc6</th>\n      <td>0.091979</td>\n      <td>0.000000</td>\n      <td>0.000000</td>\n      <td>0.736966</td>\n      <td>0.428571</td>\n    </tr>\n    <tr>\n      <th>doc7</th>\n      <td>0.000000</td>\n      <td>0.321928</td>\n      <td>0.038001</td>\n      <td>0.000000</td>\n      <td>0.500000</td>\n    </tr>\n    <tr>\n      <th>doc8</th>\n      <td>0.321928</td>\n      <td>0.193157</td>\n      <td>0.030401</td>\n      <td>0.000000</td>\n      <td>0.200000</td>\n    </tr>\n    <tr>\n      <th>doc9</th>\n      <td>0.160964</td>\n      <td>0.053655</td>\n      <td>0.025334</td>\n      <td>0.000000</td>\n      <td>1.000000</td>\n    </tr>\n    <tr>\n      <th>doc10</th>\n      <td>0.080482</td>\n      <td>0.321928</td>\n      <td>0.152003</td>\n      <td>0.552724</td>\n      <td>0.000000</td>\n    </tr>\n  </tbody>\n</table>\n</div>"
     },
     "metadata": {},
     "execution_count": 114
    }
   ],
   "source": [
    "tfidf_dataframe = convert_tf_to_dataframe(vocabularies, tfidf)\n",
    "tfidf_dataframe"
   ]
  },
  {
   "source": [
    "## 4. Use sklearn package"
   ],
   "cell_type": "markdown",
   "metadata": {}
  },
  {
   "cell_type": "code",
   "execution_count": 115,
   "metadata": {},
   "outputs": [],
   "source": [
    "# import tfidf package\n",
    "from sklearn.feature_extraction.text import TfidfVectorizer"
   ]
  },
  {
   "cell_type": "code",
   "execution_count": 116,
   "metadata": {},
   "outputs": [],
   "source": [
    "vectorizer = TfidfVectorizer(analyzer='char', binary=True, lowercase=False, norm='l1', use_idf=True, smooth_idf=False)\n",
    "# print(list(docs.values())\n",
    "X = vectorizer.fit_transform(list(docs.values())).toarray()\n",
    "vocab = vectorizer.get_feature_names()"
   ]
  },
  {
   "cell_type": "code",
   "execution_count": 117,
   "metadata": {},
   "outputs": [
    {
     "output_type": "stream",
     "name": "stdout",
     "text": [
      "{'analyzer': 'char', 'binary': True, 'decode_error': 'strict', 'dtype': <class 'numpy.float64'>, 'encoding': 'utf-8', 'input': 'content', 'lowercase': False, 'max_df': 1.0, 'max_features': None, 'min_df': 1, 'ngram_range': (1, 1), 'norm': 'l1', 'preprocessor': None, 'smooth_idf': False, 'stop_words': None, 'strip_accents': None, 'sublinear_tf': False, 'token_pattern': '(?u)\\\\b\\\\w\\\\w+\\\\b', 'tokenizer': None, 'use_idf': True, 'vocabulary': None}\n"
     ]
    }
   ],
   "source": [
    "params = vectorizer.get_params()\n",
    "print(params)"
   ]
  },
  {
   "cell_type": "code",
   "execution_count": 54,
   "metadata": {},
   "outputs": [
    {
     "output_type": "execute_result",
     "data": {
      "text/plain": [
       "                        A         B         C         D         E\n",
       "doc1   0.365232  0.446731  0.446731  0.403713  0.551801  0.000000\n",
       "doc2   0.365232  0.446731  0.446731  0.403713  0.551801  0.000000\n",
       "doc3   0.471173  0.000000  0.000000  0.520816  0.711861  0.000000\n",
       "doc4   0.310635  0.379951  0.379951  0.343364  0.469315  0.525951\n",
       "doc5   0.437941  0.535664  0.535664  0.484082  0.000000  0.000000\n",
       "doc6   0.361659  0.442361  0.000000  0.000000  0.546404  0.612342\n",
       "doc7   0.389703  0.000000  0.476663  0.430762  0.000000  0.659824\n",
       "doc8   0.351783  0.430281  0.430281  0.388847  0.000000  0.595620\n",
       "doc9   0.351783  0.430281  0.430281  0.388847  0.000000  0.595620\n",
       "doc10  0.365232  0.446731  0.446731  0.403713  0.551801  0.000000"
      ],
      "text/html": "<div>\n<style scoped>\n    .dataframe tbody tr th:only-of-type {\n        vertical-align: middle;\n    }\n\n    .dataframe tbody tr th {\n        vertical-align: top;\n    }\n\n    .dataframe thead th {\n        text-align: right;\n    }\n</style>\n<table border=\"1\" class=\"dataframe\">\n  <thead>\n    <tr style=\"text-align: right;\">\n      <th></th>\n      <th></th>\n      <th>A</th>\n      <th>B</th>\n      <th>C</th>\n      <th>D</th>\n      <th>E</th>\n    </tr>\n  </thead>\n  <tbody>\n    <tr>\n      <th>doc1</th>\n      <td>0.365232</td>\n      <td>0.446731</td>\n      <td>0.446731</td>\n      <td>0.403713</td>\n      <td>0.551801</td>\n      <td>0.000000</td>\n    </tr>\n    <tr>\n      <th>doc2</th>\n      <td>0.365232</td>\n      <td>0.446731</td>\n      <td>0.446731</td>\n      <td>0.403713</td>\n      <td>0.551801</td>\n      <td>0.000000</td>\n    </tr>\n    <tr>\n      <th>doc3</th>\n      <td>0.471173</td>\n      <td>0.000000</td>\n      <td>0.000000</td>\n      <td>0.520816</td>\n      <td>0.711861</td>\n      <td>0.000000</td>\n    </tr>\n    <tr>\n      <th>doc4</th>\n      <td>0.310635</td>\n      <td>0.379951</td>\n      <td>0.379951</td>\n      <td>0.343364</td>\n      <td>0.469315</td>\n      <td>0.525951</td>\n    </tr>\n    <tr>\n      <th>doc5</th>\n      <td>0.437941</td>\n      <td>0.535664</td>\n      <td>0.535664</td>\n      <td>0.484082</td>\n      <td>0.000000</td>\n      <td>0.000000</td>\n    </tr>\n    <tr>\n      <th>doc6</th>\n      <td>0.361659</td>\n      <td>0.442361</td>\n      <td>0.000000</td>\n      <td>0.000000</td>\n      <td>0.546404</td>\n      <td>0.612342</td>\n    </tr>\n    <tr>\n      <th>doc7</th>\n      <td>0.389703</td>\n      <td>0.000000</td>\n      <td>0.476663</td>\n      <td>0.430762</td>\n      <td>0.000000</td>\n      <td>0.659824</td>\n    </tr>\n    <tr>\n      <th>doc8</th>\n      <td>0.351783</td>\n      <td>0.430281</td>\n      <td>0.430281</td>\n      <td>0.388847</td>\n      <td>0.000000</td>\n      <td>0.595620</td>\n    </tr>\n    <tr>\n      <th>doc9</th>\n      <td>0.351783</td>\n      <td>0.430281</td>\n      <td>0.430281</td>\n      <td>0.388847</td>\n      <td>0.000000</td>\n      <td>0.595620</td>\n    </tr>\n    <tr>\n      <th>doc10</th>\n      <td>0.365232</td>\n      <td>0.446731</td>\n      <td>0.446731</td>\n      <td>0.403713</td>\n      <td>0.551801</td>\n      <td>0.000000</td>\n    </tr>\n  </tbody>\n</table>\n</div>"
     },
     "metadata": {},
     "execution_count": 54
    }
   ],
   "source": [
    "# X\n",
    "# vocab\n",
    "tfidf_result = pd.DataFrame(X, columns=vocab, index=list(docs.keys()))\n",
    "tfidf_result"
   ]
  },
  {
   "cell_type": "code",
   "execution_count": null,
   "metadata": {},
   "outputs": [],
   "source": []
  }
 ]
}